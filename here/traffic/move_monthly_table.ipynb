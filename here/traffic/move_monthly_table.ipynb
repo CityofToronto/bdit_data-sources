{
 "cells": [
  {
   "cell_type": "code",
   "execution_count": 1,
   "id": "55ab6cee-8ea2-499b-bb9e-95b68ae947a3",
   "metadata": {},
   "outputs": [],
   "source": [
    "from pathlib import Path\n",
    "import configparser\n",
    "from psycopg2 import connect\n",
    "from psycopg2.extras import execute_values\n",
    "import logging\n",
    "CONFIG = configparser.ConfigParser()\n",
    "CONFIG.read(str(Path.home().joinpath('db.cfg')))\n",
    "dbset = CONFIG['DBSETTINGS']\n",
    "con = connect(**dbset)\n",
    "#Configure logging\n",
    "FORMAT = '%(asctime)-15s %(message)s'\n",
    "logging.basicConfig(level=logging.INFO, format=FORMAT)\n",
    "LOGGER = logging.getLogger(__name__)"
   ]
  },
  {
   "cell_type": "code",
   "execution_count": null,
   "id": "3509f773-eeaa-45fc-9221-e0fda607af21",
   "metadata": {},
   "outputs": [],
   "source": [
    "yyyy_list = ['2012', '2013', '2014', '2015', '2016', '2017', '2018']\n",
    "mm_list = ['01', '02', '03', '04', '05', '06', '07', '08', '09', '10', '11', '12']\n",
    "\n",
    "for y in yyyy_list:\n",
    "    LOGGER.info('Begin processing year %s', y)\n",
    "    for m in mm_list:\n",
    "        LOGGER.info('Processing month %s of year %s', m, y)\n",
    "        with con:\n",
    "            with con.cursor() as cur:\n",
    "                cur.execute(\"SELECT here.move_data(%s, %s);\", (y,m))\n",
    "        LOGGER.info('%s-%s Processed', y, m)\n",
    "    LOGGER.info('Year %s processed', y)"
   ]
  }
 ],
 "metadata": {
  "kernelspec": {
   "display_name": "jupyterhub",
   "language": "python",
   "name": "jupyterhub"
  },
  "language_info": {
   "codemirror_mode": {
    "name": "ipython",
    "version": 3
   },
   "file_extension": ".py",
   "mimetype": "text/x-python",
   "name": "python",
   "nbconvert_exporter": "python",
   "pygments_lexer": "ipython3",
   "version": "3.6.9"
  }
 },
 "nbformat": 4,
 "nbformat_minor": 5
}
