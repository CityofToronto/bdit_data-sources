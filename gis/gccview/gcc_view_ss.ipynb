{
 "cells": [
  {
   "cell_type": "code",
   "execution_count": 715,
   "metadata": {},
   "outputs": [],
   "source": [
    "from pathlib import Path\n",
    "import configparser\n",
    "from psycopg2 import connect\n",
    "from psycopg2.extras import execute_values\n",
    "from psycopg2.extras import RealDictCursor\n",
    "import json\n",
    "import os\n",
    "import subprocess\n",
    "import shlex\n",
    "from subprocess import Popen, PIPE\n",
    "CONFIG = configparser.ConfigParser()\n",
    "CONFIG.read(str(Path.home().joinpath('db.cfg')))\n",
    "dbset = CONFIG['DBSETTINGS']\n",
    "con = connect(**dbset)"
   ]
  },
  {
   "cell_type": "code",
   "execution_count": 709,
   "metadata": {},
   "outputs": [],
   "source": [
    "def get_json(id, input, filename):\n",
    "    '''Prepare json file'''   \n",
    "    CONFIG.read('db.cfg')\n",
    "    password = CONFIG.get('DBSETTINGS', 'password')\n",
    "    sql_json = \"\"\"\\COPY (SELECT jsonb_build_object('type', 'FeatureCollection', 'features', jsonb_agg(feature))FROM (SELECT jsonb_build_object('type', 'Feature', 'id', {}, 'geometry', ST_AsGeoJSON(geom)::jsonb, 'properties', to_jsonb(row) - 'id' - 'geom')AS feature FROM (select {}, geom from {} ) row) features )  TO {}\"\"\".format(id, id, input, filename)\n",
    "    base = \"psql -h 10.160.12.47 -d bigdata -U natalie -W -c\"\n",
    "    psqlcomm = subprocess.run(shlex.split(base) + [sql_json, ], stdout=subprocess.PIPE, stderr=subprocess.PIPE, env={'PGPASSWORD':password})"
   ]
  },
  {
   "cell_type": "code",
   "execution_count": 710,
   "metadata": {},
   "outputs": [],
   "source": [
    "def match(id, input, filename, flags):\n",
    "    '''Send input json to sharedstreets for matching'''\n",
    "    get_json(id, input, filename)\n",
    "    command = \"node bin/run match \"\n",
    "    subprocess.run(shlex.split(command)+ [filename, ]  + shlex.split(flags), stdout=subprocess.PIPE, stderr=subprocess.PIPE)\n",
    "    "
   ]
  },
  {
   "cell_type": "code",
   "execution_count": 759,
   "metadata": {},
   "outputs": [],
   "source": [
    "def get_command(id, input, filename, output, flags):\n",
    "    \n",
    "    \"\"\"\n",
    "    This function takes street networks from postgres database, send to matching in sharedstreets API then send referenced streets back to postgres database\n",
    "    \n",
    "    Parameters\n",
    "    ----------       \n",
    "    id :  string\n",
    "        Unique id column name for the input network. E.g. 'analysis_id' for bluetooth segments\n",
    "        \n",
    "    input : string\n",
    "        Input table name in postgres     \n",
    "        \n",
    "    output : string\n",
    "        Output table name in postgres for the matched and unmatched result\n",
    "    \n",
    "    flags : string\n",
    "        Additional flags for matching (e.g. --follow-line-direction)\n",
    "    \"\"\"\n",
    "    match(id, input, filename, flags)\n",
    "    match_exists = os.path.isfile(filename+'.matched.geojson')\n",
    "    if match_exists:\n",
    "        command=['ogr2ogr -f \"PostgreSQL\"  PG:\"dbname=bigdata host=10.160.12.47 user=natalie password='+password+'\" \"{}.matched.geojson\"'.format(filename) +' '+'-nln \"{}_matched\"'.format(output)]\n",
    "        subprocess.call(command, shell=True)\n",
    "        print('Finished importing matched geojson in {}_matched'.format(output))\n",
    "    else:\n",
    "        print('No match')\n",
    "        \n",
    "    unmatch_exists = os.path.isfile(filename+'.unmatched.geojson')\n",
    "    if unmatch_exists:\n",
    "        command=['ogr2ogr -f \"PostgreSQL\"  PG:\"dbname=bigdata host=10.160.12.47 user=natalie password='+password+'\" \"{}.unmatched.geojson\"'.format(filename) +' '+'-nln \"{}_unmatched\"'.format(output)]\n",
    "        subprocess.call(command, shell=True)\n",
    "        matched_rate = get_matching_score(input, output)\n",
    "        sql = '''COMMENT ON  TABLE {}_matched IS 'Matched rate = {}%' '''.format(output, matched_rate)\n",
    "        with con:\n",
    "            with con.cursor() as cur:\n",
    "                cur.execute(sql)\n",
    "    else: \n",
    "        print('All matched')\n",
    "        sql = '''COMMENT ON  TABLE {}_matched IS 'Matched rate = 100%' '''.format(output)\n",
    "        with con:\n",
    "            with con.cursor() as cur:\n",
    "                cur.execute(sql)"
   ]
  },
  {
   "cell_type": "code",
   "execution_count": 760,
   "metadata": {},
   "outputs": [],
   "source": [
    "def get_matchig_score(input, output):\n",
    "    \n",
    "    sql = '''select count(1) from {}'''.format(input)\n",
    "    with con:\n",
    "        with con.cursor() as cur:\n",
    "            cur.execute(sql)\n",
    "            rows = cur.fetchall()\n",
    "            for row in rows:\n",
    "                og = row[0]\n",
    "    sql = '''select count(1) from {}_unmatched'''.format(output)\n",
    "    with con:\n",
    "        with con.cursor() as cur:\n",
    "            cur.execute(sql)\n",
    "            rows = cur.fetchall()\n",
    "            for row in rows:\n",
    "                unmatched = row[0]\n",
    "    matched_rate = round(((og-unmatched)/og)*100, 2)\n",
    "    return matched_rate"
   ]
  },
  {
   "cell_type": "code",
   "execution_count": 757,
   "metadata": {},
   "outputs": [
    {
     "name": "stdout",
     "output_type": "stream",
     "text": [
      "Finished importing matched geojson in bluetooth_test_test_testtt_matched\n"
     ]
    }
   ],
   "source": [
    "get_command('analysis_id', 'bluetooth.segments', 'bluetooth_segments.json', 'bluetooth_test_test_testtt', '--snap-intersections --search-radius=10')"
   ]
  }
 ],
 "metadata": {
  "kernelspec": {
   "display_name": "Python 3",
   "language": "python",
   "name": "python3"
  },
  "language_info": {
   "codemirror_mode": {
    "name": "ipython",
    "version": 3
   },
   "file_extension": ".py",
   "mimetype": "text/x-python",
   "name": "python",
   "nbconvert_exporter": "python",
   "pygments_lexer": "ipython3",
   "version": "3.5.2"
  }
 },
 "nbformat": 4,
 "nbformat_minor": 2
}
