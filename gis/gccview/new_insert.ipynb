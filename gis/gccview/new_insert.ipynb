{
 "cells": [
  {
   "cell_type": "code",
   "execution_count": 2,
   "id": "4b81dce7-5261-414d-bab3-de188ac69eb5",
   "metadata": {},
   "outputs": [],
   "source": [
    "import configparser\n",
    "import requests\n",
    "import datetime\n",
    "from psycopg2 import connect\n",
    "from psycopg2 import sql\n",
    "from psycopg2.extras import execute_values\n",
    "import logging\n",
    "from time import sleep\n",
    "import click\n",
    "CONFIG = configparser.ConfigParser()\n",
    "CONFIG.read('/home/bqu/db_morbius.cfg')\n",
    "dbset = CONFIG['DBSETTINGS']\n",
    "con = connect(**dbset)"
   ]
  },
  {
   "cell_type": "markdown",
   "id": "b8df7af6-ebdb-4fbc-8de1-fa0806b3756a",
   "metadata": {
    "tags": []
   },
   "source": [
    "## Logger"
   ]
  },
  {
   "cell_type": "code",
   "execution_count": null,
   "id": "ae07788e-24fd-4aa4-9c36-c90c627c7046",
   "metadata": {},
   "outputs": [],
   "source": [
    "\"\"\"The following provides information about the code when it is running and prints out the log messages \n",
    "if they are of logging level equal to or greater than INFO\"\"\"\n",
    "LOGGER = logging.getLogger(__name__)\n",
    "logging.basicConfig(level=logging.INFO)"
   ]
  },
  {
   "cell_type": "markdown",
   "id": "ede82259-0284-438f-9a0c-12b479d2198a",
   "metadata": {},
   "source": [
    "## Get mapserver name and generate table name"
   ]
  },
  {
   "cell_type": "code",
   "execution_count": 3,
   "id": "f4905567-4aac-4bd8-aa73-138a485bc2d9",
   "metadata": {},
   "outputs": [],
   "source": [
    "def mapserver_name(mapserver_n):\n",
    "    \"\"\"\n",
    "    Function to return cot_geospatial mapserver from integer\n",
    "\n",
    "    Parameters\n",
    "    -----------\n",
    "    mapserver_n \n",
    "        the mapserver number\n",
    "\n",
    "    Return\n",
    "    -------\n",
    "    map\n",
    "    \"\"\"\n",
    "    \n",
    "    switcher ={\n",
    "        0 : 'cot_geospatial',\n",
    "        2 : 'cot_geospatial2',\n",
    "        3 : 'cot_geospatial3',\n",
    "        5 : 'cot_geospatial5',\n",
    "        6 : 'cot_geospatial6', \n",
    "        7 : 'cot_geospatial7',\n",
    "        8 : 'cot_geospatial8',\n",
    "        10 : 'cot_geospatial10',\n",
    "        11 : 'cot_geospatial11',\n",
    "        12 : 'cot_geospatial12',\n",
    "        13 : 'cot_geospatial13',\n",
    "        14 : 'cot_geospatial14',\n",
    "        15 : 'cot_geospatial15',\n",
    "        16 : 'cot_geospatial16',\n",
    "        17 : 'cot_geospatial17',\n",
    "        18 : 'cot_geospatial18',\n",
    "        19 : 'cot_geospatial19',\n",
    "        20 : 'cot_geospatial20',\n",
    "        21 : 'cot_geospatial21',\n",
    "        22 : 'cot_geospatial22',\n",
    "        23 : 'cot_geospatial23',\n",
    "        24 : 'cot_geospatial24',\n",
    "        25 : 'cot_geospatial25',\n",
    "        26 : 'cot_geospatial26',\n",
    "        27 : 'cot_geospatial27',\n",
    "        28 : 'cot_geospatial28'\n",
    "        }\n",
    "    func = switcher.get(mapserver_n)\n",
    "    return(func)\n"
   ]
  },
  {
   "cell_type": "code",
   "execution_count": 8,
   "id": "0dfc252b-b45c-4e86-909b-4a5ca4078eba",
   "metadata": {},
   "outputs": [
    {
     "name": "stdout",
     "output_type": "stream",
     "text": [
      "cot_geospatial\n"
     ]
    }
   ],
   "source": [
    "mapserver = mapserver_name(0)\n",
    "print(mapserver)"
   ]
  },
  {
   "cell_type": "code",
   "execution_count": 5,
   "id": "c82fe4d8-1d42-48ff-9134-b20cf0d059f2",
   "metadata": {},
   "outputs": [],
   "source": [
    "def get_tablename(mapserver, layer_id):\n",
    "    \"\"\"\n",
    "    Function to retrieve the name of the layer\n",
    "\n",
    "    Parameters\n",
    "    -----------\n",
    "    mapserver\n",
    "        The mapserver that host the layer\n",
    "    layer_id\n",
    "        The id of the layer\n",
    "\n",
    "    Returns\n",
    "    --------\n",
    "    output_name\n",
    "        The table name of the layer\n",
    "    \"\"\"\n",
    "    url = 'https://insideto-gis.toronto.ca/arcgis/rest/services/'+mapserver+'/MapServer/layers?f=json'\n",
    "    r = requests.get(url, verify = False)\n",
    "    ajson = r.json()\n",
    "    layers = ajson['layers']\n",
    "    for layer in layers:\n",
    "        if layer['id'] == layer_id:\n",
    "            output_name = (layer['name'].lower()).replace(' ', '_')\n",
    "        else:\n",
    "            continue\n",
    "    return output_name"
   ]
  },
  {
   "cell_type": "code",
   "execution_count": 6,
   "id": "83929708-ced1-4a83-a70b-41e5da09b3bb",
   "metadata": {},
   "outputs": [
    {
     "name": "stderr",
     "output_type": "stream",
     "text": [
      "/opt/jupyterhub/lib64/python3.9/site-packages/urllib3/connectionpool.py:1043: InsecureRequestWarning: Unverified HTTPS request is being made to host 'insideto-gis.toronto.ca'. Adding certificate verification is strongly advised. See: https://urllib3.readthedocs.io/en/1.26.x/advanced-usage.html#ssl-warnings\n",
      "  warnings.warn(\n"
     ]
    },
    {
     "data": {
      "text/plain": [
       "'centreline'"
      ]
     },
     "execution_count": 6,
     "metadata": {},
     "output_type": "execute_result"
    }
   ],
   "source": [
    "layer_id = 2\n",
    "get_tablename(mapserver, layer_id)"
   ]
  },
  {
   "cell_type": "markdown",
   "id": "621441e0-033c-4cde-8c69-94fc22b70c5e",
   "metadata": {
    "tags": []
   },
   "source": [
    "## Create table in DB"
   ]
  },
  {
   "cell_type": "code",
   "execution_count": null,
   "id": "e30548ec-a710-4d85-9bf7-1a96f9c7b208",
   "metadata": {},
   "outputs": [],
   "source": [
    "def create_table(output_table, return_json):\n",
    "    '''Create a new table in postgresql for the layer'''\n",
    "    new_column = '('\n",
    "    insert_column= '('\n",
    "    fields = return_json['fields']\n",
    "    for field in fields:\n",
    "        if field['type'] == 'esriFieldTypeInteger' or field['type'] == 'esriFieldTypeSingle' or field['type'] == 'esriFieldTypeInteger' or field['type'] =='esriFieldTypeOID' or field['type'] == 'esriFieldTypeSmallInteger' or field['type'] =='esriFieldGlobalID':\n",
    "                column_type = 'integer'\n",
    "        elif field['type'] == 'esriFieldTypeString':\n",
    "                column_type = 'text'\n",
    "        elif field['type'] == 'esriFieldTypeDouble':\n",
    "                column_type = 'numeric'\n",
    "        elif field['type'] == 'esriFieldTypeDate':\n",
    "                column_type = 'timestamp without time zone'\n",
    "                \n",
    "        column_name = (field['name'].lower()).replace('.', '_') \n",
    "        new_column = new_column + column_name +' '+column_type+', '\n",
    "        insert_column = insert_column + column_name +','\n",
    "    \n",
    "    new_column = new_column +'geom geometry)' \n",
    "    insert_column = insert_column + 'geom)'\n",
    "    \n",
    "    with con:\n",
    "        with con.cursor() as cur:\n",
    "            cur.execute(\"create table _{} {}\".format(output_table, new_column))  #Where exactly is this going to? Which schema?\n",
    "    return insert_column"
   ]
  },
  {
   "cell_type": "code",
   "execution_count": null,
   "id": "eeaa7d40-92c0-4a6e-8528-36f37ac26d42",
   "metadata": {},
   "outputs": [],
   "source": [
    "# Geometry Switcher \n",
    "def line(geom):\n",
    "    return 'SRID=4326;LineString('+','.join(' '.join(str(x) for x in tup) for tup in geom['paths'][0]) +')'\n",
    "def polygon(geom):\n",
    "    return 'SRID=4326;MultiPolygon((('+','.join(' '.join(str(x) for x in tup) for tup in geom['rings'][0]) +')))'\n",
    "def point(geom):\n",
    "    return 'SRID=4326;Point('+(str(geom['x']))+' '+ (str(geom['y']))+')'  \n",
    "def get_geometry(geometry_type, geom):\n",
    "    switcher = {\n",
    "        'esriGeometryLine':line,\n",
    "        'esriGeometryPolyline': line, \n",
    "        'esriGeometryPoint': point, \n",
    "        'esriGeometryMultiPolygon': polygon,\n",
    "        'esriGeometryPolygon': polygon\n",
    "    }\n",
    "    func = switcher.get(geometry_type)\n",
    "    geometry = (func(geom)) \n",
    "    return geometry"
   ]
  },
  {
   "cell_type": "code",
   "execution_count": null,
   "id": "81928a3a-5710-4e06-a995-32db05be8dbc",
   "metadata": {},
   "outputs": [],
   "source": [
    "def to_time(input):\n",
    "    '''Convert epoch time to postgresql timestamp without time zone'''    \n",
    "    time = datetime.datetime.fromtimestamp(abs(input)/1000).strftime('%Y-%m-%d %H:%M:%S')\n",
    "    return time"
   ]
  },
  {
   "cell_type": "markdown",
   "id": "131af05a-bace-4c10-81a7-bbf03d08bbf6",
   "metadata": {},
   "source": [
    "## Insert data from ArcGIS to DB"
   ]
  },
  {
   "cell_type": "code",
   "execution_count": null,
   "id": "89b12d17-fea1-422b-91e8-02f399cbdc90",
   "metadata": {},
   "outputs": [],
   "source": [
    "def get_data(mapserver, layer_id, max_number = None, record_max = None):\n",
    "    '''Get data from gcc view rest api'''        \n",
    "    base_url = \"https://insideto-gis.toronto.ca/arcgis/rest/services/{}/MapServer/{}/query\".format(mapserver, layer_id)\n",
    "    \n",
    "    \"\"\" Added stuff \"\"\"\n",
    "    '''If the data we want to get is centreline'''\n",
    "    if layer_id == 2:\n",
    "        query = {\n",
    "            \n",
    "            \n",
    "    \n",
    "    query = {\"where\":\"1=1\",\n",
    "             \"outFields\": \"*\",\n",
    "             \"outSR\": '4326',         \n",
    "             \"returnGeometry\": \"true\",\n",
    "             \"returnTrueCurves\": \"false\",\n",
    "             \"returnIdsOnly\": \"false\",\n",
    "             \"returnCountOnly\": \"false\",\n",
    "             \"returnZ\": \"false\",\n",
    "             \"returnM\": \"false\",\n",
    "             \"orderByFields\": \"OBJECTID\", \n",
    "             \"returnDistinctValues\": \"false\",\n",
    "             \"returnExtentsOnly\": \"false\",\n",
    "             \"resultOffset\": \"{}\".format(max_number),\n",
    "             \"resultRecordCount\": \"{}\".format(record_max),\n",
    "             \"f\":\"json\"}\n",
    "    while True:\n",
    "        try :\n",
    "            r = requests.get(base_url, params = query, verify = False)\n",
    "        except requests.exceptions.ConnectionErrors:\n",
    "            sleep(10)\n",
    "            continue\n",
    "        else:\n",
    "            return_json = r.json() \n",
    "            break\n",
    "    return return_json"
   ]
  },
  {
   "cell_type": "code",
   "execution_count": null,
   "id": "c7e39cac-10a9-4d42-bbcd-53dda7643374",
   "metadata": {},
   "outputs": [],
   "source": [
    "def find_limit(return_json):\n",
    "    '''Check if last query return all rows'''   \n",
    "    if return_json.get('exceededTransferLimit', False) == True:\n",
    "        keep_adding = True\n",
    "    else:\n",
    "        keep_adding = False\n",
    "    return keep_adding   "
   ]
  },
  {
   "cell_type": "code",
   "execution_count": null,
   "id": "ae775756-c82e-4320-b822-13001c4f5fbb",
   "metadata": {},
   "outputs": [],
   "source": [
    "def insert_data(output_table, insert_column, return_json):\n",
    "    '''Send data to postgresql'''   \n",
    "    rows = []\n",
    "    features = return_json['features']\n",
    "    fields = return_json['fields']\n",
    "    trials = [[field['name'], field['type']] for field in fields]\n",
    "    for feature in features:\n",
    "        geom = feature['geometry']\n",
    "        geometry_type = return_json['geometryType']\n",
    "        geometry = get_geometry(geometry_type, geom)\n",
    "        row = [feature['attributes'][trial[0]] if trial[1] != 'esriFieldTypeDate' or feature['attributes'][trial[0]] == None else to_time(feature['attributes'][trial[0]]) for trial in trials]\n",
    "        row.append(geometry)\n",
    "        rows.append(row)\n",
    "    sql='INSERT INTO _{} {} VALUES %s'.format(output_table, insert_column)\n",
    "    with con:\n",
    "        with con.cursor() as cur:\n",
    "               execute_values(cur,sql, rows)\n",
    "    LOGGER.info('Successfully inserted %d entries into %s', len(rows), output_table)"
   ]
  },
  {
   "cell_type": "markdown",
   "id": "5334fbd3-241c-4630-a707-6c0314a99f2f",
   "metadata": {
    "tags": []
   },
   "source": [
    "## Main function that the Task calls"
   ]
  },
  {
   "cell_type": "code",
   "execution_count": null,
   "id": "5146472b-1a30-4599-b510-5900ba22fea9",
   "metadata": {},
   "outputs": [],
   "source": [
    "def get_layer(mapserver_n, layer_id):\n",
    "    \n",
    "    \"\"\"\n",
    "    This function calls to the GCCview rest API and inserts the outputs to the output table in the postgres database.\n",
    "\n",
    "    Parameters\n",
    "    ----------\n",
    "    mapserver : int\n",
    "        The name of the mapserver that host the desire layer\n",
    "\n",
    "    layer_id : int\n",
    "        The id of desire layer\n",
    "        \n",
    "    \"\"\"  \n",
    "    mapserver = mapserver_name(mapserver_n)\n",
    "    output_table = get_tablename(mapserver, layer_id)\n",
    "    keep_adding = True\n",
    "    counter = 0\n",
    "\n",
    "    while keep_adding == True:\n",
    "        \n",
    "        if counter == 0:\n",
    "            return_json = get_data(mapserver, layer_id)\n",
    "            insert_column = create_table(output_table, return_json) #Why create a new table every time you run the DAG? How did it work before?\n",
    "            features = return_json['features']\n",
    "            record_max=(len(features))\n",
    "            max_number = record_max\n",
    "            insert_data(output_table, insert_column, return_json)\n",
    "            counter += 1\n",
    "            keep_adding = find_limit(return_json)\n",
    "            if keep_adding == False:\n",
    "                LOGGER.info('All entries from [mapserver: %s, layerID: %d] have been inserted into %s', mapserver, layer_id, output_table)\n",
    "        else:\n",
    "            return_json = get_data(mapserver, layer_id, max_number = max_number, record_max = record_max)\n",
    "            insert_data(output_table, insert_column, return_json)\n",
    "            counter += 1\n",
    "            keep_adding = find_limit(return_json)\n",
    "            if keep_adding == True:\n",
    "                max_number = max_number + record_max\n",
    "            else:\n",
    "                LOGGER.info('All entries from [mapserver: %s, layerID: %d] have been inserted into %s', mapserver, layer_id, output_table)"
   ]
  },
  {
   "cell_type": "markdown",
   "id": "1544566c-997d-4057-b3fa-eca2d2dd35ef",
   "metadata": {},
   "source": [
    "## Testing out input values"
   ]
  },
  {
   "cell_type": "code",
   "execution_count": null,
   "id": "34529902-fe6b-44bb-a592-3e4f099a2f54",
   "metadata": {},
   "outputs": [],
   "source": [
    "mapserver_n = \n",
    "layer_id = \n",
    "get_layer(mapserver_n, layer_id)"
   ]
  },
  {
   "cell_type": "code",
   "execution_count": null,
   "id": "54f24af9-e188-4125-8a65-52a2958aca54",
   "metadata": {},
   "outputs": [],
   "source": []
  }
 ],
 "metadata": {
  "kernelspec": {
   "display_name": "Python 3 (ipykernel)",
   "language": "python",
   "name": "python3"
  },
  "language_info": {
   "codemirror_mode": {
    "name": "ipython",
    "version": 3
   },
   "file_extension": ".py",
   "mimetype": "text/x-python",
   "name": "python",
   "nbconvert_exporter": "python",
   "pygments_lexer": "ipython3",
   "version": "3.9.6"
  }
 },
 "nbformat": 4,
 "nbformat_minor": 5
}
