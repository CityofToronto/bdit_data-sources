{
 "cells": [
  {
   "cell_type": "code",
   "execution_count": 1,
   "id": "4b81dce7-5261-414d-bab3-de188ac69eb5",
   "metadata": {},
   "outputs": [
    {
     "name": "stdout",
     "output_type": "stream",
     "text": [
      "/opt/jupyterhub/lib64/python3.9/site-packages/IPython/core/interactiveshell.py\n"
     ]
    }
   ],
   "source": [
    "import configparser\n",
    "import requests\n",
    "import datetime\n",
    "from psycopg2 import connect\n",
    "from psycopg2 import sql\n",
    "from psycopg2.extras import execute_values\n",
    "import logging\n",
    "from time import sleep\n",
    "import click\n",
    "CONFIG = configparser.ConfigParser()\n",
    "CONFIG.read('/home/bqu/db_ec2.cfg')\n",
    "#CONFIG.read('/home/bqu/db_morbius.cfg')\n",
    "dbset = CONFIG['DBSETTINGS']\n",
    "con = connect(**dbset)"
   ]
  },
  {
   "cell_type": "markdown",
   "id": "b8df7af6-ebdb-4fbc-8de1-fa0806b3756a",
   "metadata": {
    "tags": []
   },
   "source": [
    "## Logger"
   ]
  },
  {
   "cell_type": "code",
   "execution_count": 2,
   "id": "ae07788e-24fd-4aa4-9c36-c90c627c7046",
   "metadata": {},
   "outputs": [],
   "source": [
    "\"\"\"The following provides information about the code when it is running and prints out the log messages \n",
    "if they are of logging level equal to or greater than INFO\"\"\"\n",
    "LOGGER = logging.getLogger(__name__)\n",
    "logging.basicConfig(level=logging.INFO)"
   ]
  },
  {
   "cell_type": "markdown",
   "id": "ede82259-0284-438f-9a0c-12b479d2198a",
   "metadata": {},
   "source": [
    "## Get mapserver name and generate table name"
   ]
  },
  {
   "cell_type": "code",
   "execution_count": 3,
   "id": "f4905567-4aac-4bd8-aa73-138a485bc2d9",
   "metadata": {},
   "outputs": [],
   "source": [
    "def mapserver_name(mapserver_n):\n",
    "    \"\"\"\n",
    "    Function to return cot_geospatial mapserver from integer\n",
    "\n",
    "    Parameters\n",
    "    -----------\n",
    "    mapserver_n \n",
    "        the mapserver number\n",
    "\n",
    "    Return\n",
    "    -------\n",
    "    map\n",
    "    \"\"\"\n",
    "    \n",
    "    switcher ={\n",
    "        0 : 'cot_geospatial',\n",
    "        2 : 'cot_geospatial2',\n",
    "        3 : 'cot_geospatial3',\n",
    "        5 : 'cot_geospatial5',\n",
    "        6 : 'cot_geospatial6', \n",
    "        7 : 'cot_geospatial7',\n",
    "        8 : 'cot_geospatial8',\n",
    "        10 : 'cot_geospatial10',\n",
    "        11 : 'cot_geospatial11',\n",
    "        12 : 'cot_geospatial12',\n",
    "        13 : 'cot_geospatial13',\n",
    "        14 : 'cot_geospatial14',\n",
    "        15 : 'cot_geospatial15',\n",
    "        16 : 'cot_geospatial16',\n",
    "        17 : 'cot_geospatial17',\n",
    "        18 : 'cot_geospatial18',\n",
    "        19 : 'cot_geospatial19',\n",
    "        20 : 'cot_geospatial20',\n",
    "        21 : 'cot_geospatial21',\n",
    "        22 : 'cot_geospatial22',\n",
    "        23 : 'cot_geospatial23',\n",
    "        24 : 'cot_geospatial24',\n",
    "        25 : 'cot_geospatial25',\n",
    "        26 : 'cot_geospatial26',\n",
    "        27 : 'cot_geospatial27',\n",
    "        28 : 'cot_geospatial28'\n",
    "        }\n",
    "    func = switcher.get(mapserver_n)\n",
    "    return(func)\n"
   ]
  },
  {
   "cell_type": "code",
   "execution_count": 17,
   "id": "0dfc252b-b45c-4e86-909b-4a5ca4078eba",
   "metadata": {},
   "outputs": [
    {
     "name": "stdout",
     "output_type": "stream",
     "text": [
      "cot_geospatial\n"
     ]
    }
   ],
   "source": [
    "mapserver = mapserver_name(0)\n",
    "print(mapserver)"
   ]
  },
  {
   "cell_type": "code",
   "execution_count": 4,
   "id": "c82fe4d8-1d42-48ff-9134-b20cf0d059f2",
   "metadata": {},
   "outputs": [],
   "source": [
    "def get_tablename(mapserver, layer_id, include_date = False):\n",
    "    \"\"\"\n",
    "    Function to retrieve the name of the layer\n",
    "\n",
    "    Parameters\n",
    "    -----------\n",
    "    mapserver\n",
    "        The mapserver that host the layer\n",
    "    layer_id\n",
    "        The id of the layer\n",
    "\n",
    "    Returns\n",
    "    --------\n",
    "    output_name\n",
    "        The table name of the layer in database\n",
    "    \"\"\"\n",
    "    url = 'https://insideto-gis.toronto.ca/arcgis/rest/services/'+mapserver+'/MapServer/layers?f=json'\n",
    "    r = requests.get(url, verify = False)\n",
    "    ajson = r.json()\n",
    "    layers = ajson['layers']\n",
    "    for layer in layers:\n",
    "        if layer['id'] == layer_id:\n",
    "            output_name = (layer['name'].lower()).replace(' ', '_')\n",
    "        else:\n",
    "            continue\n",
    "    \n",
    "    # For the layers that will be pulled into a partitioned table, add the current pull's date to table name\n",
    "    if include_date:\n",
    "        today = datetime.date.today().strftime('_%Y%m%d')\n",
    "        output_name = output_name + today\n",
    "    return output_name"
   ]
  },
  {
   "cell_type": "code",
   "execution_count": 6,
   "id": "83929708-ced1-4a83-a70b-41e5da09b3bb",
   "metadata": {},
   "outputs": [
    {
     "name": "stderr",
     "output_type": "stream",
     "text": [
      "/opt/jupyterhub/lib64/python3.9/site-packages/urllib3/connectionpool.py:1043: InsecureRequestWarning: Unverified HTTPS request is being made to host 'insideto-gis.toronto.ca'. Adding certificate verification is strongly advised. See: https://urllib3.readthedocs.io/en/1.26.x/advanced-usage.html#ssl-warnings\n",
      "  warnings.warn(\n"
     ]
    },
    {
     "data": {
      "text/plain": [
       "'centreline'"
      ]
     },
     "execution_count": 6,
     "metadata": {},
     "output_type": "execute_result"
    }
   ],
   "source": [
    "layer_id = 2\n",
    "get_tablename(mapserver, layer_id)"
   ]
  },
  {
   "cell_type": "markdown",
   "id": "621441e0-033c-4cde-8c69-94fc22b70c5e",
   "metadata": {
    "tags": []
   },
   "source": [
    "## Create table in DB"
   ]
  },
  {
   "cell_type": "code",
   "execution_count": 5,
   "id": "469f189b-0d9e-418d-9826-3ea795aa14cd",
   "metadata": {},
   "outputs": [],
   "source": [
    "def get_fieldtype(field):\n",
    "    if field == 'esriFieldTypeInteger' or field == 'esriFieldTypeSingle' or field == 'esriFieldTypeInteger' or field=='esriFieldTypeOID' or field == 'esriFieldTypeSmallInteger' or field =='esriFieldGlobalID':\n",
    "        fieldtype = 'integer'\n",
    "    elif field == 'esriFieldTypeString':\n",
    "        fieldtype = 'text'\n",
    "    elif field == 'esriFieldTypeDouble':\n",
    "        fieldtype = 'numeric'\n",
    "    elif field == 'esriFieldTypeDate':\n",
    "        fieldtype = 'timestamp without time zone'\n",
    "    return fieldtype"
   ]
  },
  {
   "cell_type": "code",
   "execution_count": 6,
   "id": "e30548ec-a710-4d85-9bf7-1a96f9c7b208",
   "metadata": {},
   "outputs": [],
   "source": [
    "def create_table(output_table, return_json, schema_name):\n",
    "    '''Create a new table in postgresql for the layer'''\n",
    "    \n",
    "    fields = return_json['fields']\n",
    "    \n",
    "    insert_column= '('\n",
    "    for field in fields:\n",
    "        column_name = (field['name'].lower()).replace('.', '_')\n",
    "        insert_column = insert_column + column_name +','\n",
    "    insert_column = insert_column + 'geom)'\n",
    "    \n",
    "    print(insert_column)\n",
    "    with con:\n",
    "        with con.cursor() as cur:\n",
    "            col_list = sql.SQL(',').join([sql.Identifier((field['name'].lower()).replace('.', '_')) + sql.SQL(' ') + sql.SQL(get_fieldtype(field[\"type\"])) for field in fields])\n",
    "            create_sql = sql.SQL(\"CREATE TABLE IF NOT EXISTS {schema}.{table} ({columns})\").format(schema = sql.Identifier(schema_name),\n",
    "                                                                      table = sql.Identifier(output_table),\n",
    "                                                                      columns = col_list)\n",
    "            print(create_sql.as_string(con))\n",
    "            cur.execute(create_sql)\n",
    "    return insert_column"
   ]
  },
  {
   "cell_type": "code",
   "execution_count": 7,
   "id": "eeaa7d40-92c0-4a6e-8528-36f37ac26d42",
   "metadata": {},
   "outputs": [],
   "source": [
    "# Geometry Switcher \n",
    "def line(geom):\n",
    "    return 'SRID=4326;LineString('+','.join(' '.join(str(x) for x in tup) for tup in geom['paths'][0]) +')'\n",
    "def polygon(geom):\n",
    "    return 'SRID=4326;MultiPolygon((('+','.join(' '.join(str(x) for x in tup) for tup in geom['rings'][0]) +')))'\n",
    "def point(geom):\n",
    "    return 'SRID=4326;Point('+(str(geom['x']))+' '+ (str(geom['y']))+')'  \n",
    "def get_geometry(geometry_type, geom):\n",
    "    switcher = {\n",
    "        'esriGeometryLine':line,\n",
    "        'esriGeometryPolyline': line, \n",
    "        'esriGeometryPoint': point, \n",
    "        'esriGeometryMultiPolygon': polygon,\n",
    "        'esriGeometryPolygon': polygon\n",
    "    }\n",
    "    func = switcher.get(geometry_type)\n",
    "    geometry = (func(geom)) \n",
    "    return geometry"
   ]
  },
  {
   "cell_type": "code",
   "execution_count": 8,
   "id": "81928a3a-5710-4e06-a995-32db05be8dbc",
   "metadata": {},
   "outputs": [],
   "source": [
    "def to_time(input):\n",
    "    '''Convert epoch time to postgresql timestamp without time zone'''    \n",
    "    time = datetime.datetime.fromtimestamp(abs(input)/1000).strftime('%Y-%m-%d %H:%M:%S')\n",
    "    return time"
   ]
  },
  {
   "cell_type": "markdown",
   "id": "131af05a-bace-4c10-81a7-bbf03d08bbf6",
   "metadata": {},
   "source": [
    "## Insert data from ArcGIS to DB"
   ]
  },
  {
   "cell_type": "code",
   "execution_count": 9,
   "id": "89b12d17-fea1-422b-91e8-02f399cbdc90",
   "metadata": {},
   "outputs": [],
   "source": [
    "def get_data(mapserver, layer_id, max_number = None, record_max = None):\n",
    "    '''Get data from gcc view rest api'''        \n",
    "    base_url = \"https://insideto-gis.toronto.ca/arcgis/rest/services/{}/MapServer/{}/query\".format(mapserver, layer_id)\n",
    "    \n",
    "    \"\"\" Added stuff \"\"\"\n",
    "    '''If the data we want to get is centreline'''\n",
    "    \"\"\"\n",
    "    if layer_id == 2:\n",
    "        query = {\n",
    "    \"\"\"\n",
    "            \n",
    "    \n",
    "    query = {\"where\":\"1=1\",\n",
    "             \"outFields\": \"*\",\n",
    "             \"outSR\": '4326',         \n",
    "             \"returnGeometry\": \"true\",\n",
    "             \"returnTrueCurves\": \"false\",\n",
    "             \"returnIdsOnly\": \"false\",\n",
    "             \"returnCountOnly\": \"false\",\n",
    "             \"returnZ\": \"false\",\n",
    "             \"returnM\": \"false\",\n",
    "             \"orderByFields\": \"OBJECTID\", \n",
    "             \"returnDistinctValues\": \"false\",\n",
    "             \"returnExtentsOnly\": \"false\",\n",
    "             \"resultOffset\": \"{}\".format(max_number),\n",
    "             \"resultRecordCount\": \"{}\".format(record_max),\n",
    "             \"f\":\"json\"}\n",
    "    while True:\n",
    "        try :\n",
    "            r = requests.get(base_url, params = query, verify = False)\n",
    "        except requests.exceptions.ConnectionErrors:\n",
    "            sleep(10)\n",
    "            continue\n",
    "        else:\n",
    "            return_json = r.json() \n",
    "            break\n",
    "    return return_json"
   ]
  },
  {
   "cell_type": "code",
   "execution_count": 10,
   "id": "c7e39cac-10a9-4d42-bbcd-53dda7643374",
   "metadata": {},
   "outputs": [],
   "source": [
    "def find_limit(return_json):\n",
    "    '''Check if last query return all rows'''   \n",
    "    if return_json.get('exceededTransferLimit', False) == True:\n",
    "        keep_adding = True\n",
    "    else:\n",
    "        keep_adding = False\n",
    "    return keep_adding   "
   ]
  },
  {
   "cell_type": "code",
   "execution_count": 11,
   "id": "ae775756-c82e-4320-b822-13001c4f5fbb",
   "metadata": {},
   "outputs": [],
   "source": [
    "def insert_data(output_table, insert_column, return_json, schema_name):\n",
    "    '''Send data to postgresql'''   \n",
    "    rows = []\n",
    "    features = return_json['features']\n",
    "    fields = return_json['fields']\n",
    "    trials = [[field['name'], field['type']] for field in fields]\n",
    "    for feature in features:\n",
    "        geom = feature['geometry']\n",
    "        geometry_type = return_json['geometryType']\n",
    "        geometry = get_geometry(geometry_type, geom)\n",
    "        row = [feature['attributes'][trial[0]] if trial[1] != 'esriFieldTypeDate' or feature['attributes'][trial[0]] == None else to_time(feature['attributes'][trial[0]]) for trial in trials]\n",
    "        row.append(geometry)\n",
    "        \n",
    "        rows.append(row)\n",
    "    \n",
    "    insert=sql.SQL(\"INSERT INTO {schema}.{table} {columns} VALUES %s\").format(\n",
    "        schema = sql.Identifier(schema_name), \n",
    "        table = sql.Identifier(output_table), \n",
    "        columns = sql.Identifier(insert_column)\n",
    "    )\n",
    "    with con:\n",
    "        with con.cursor() as cur:\n",
    "               execute_values(cur, insert, rows)\n",
    "    LOGGER.info('Successfully inserted %d records into %s', len(rows), output_table)"
   ]
  },
  {
   "cell_type": "markdown",
   "id": "5334fbd3-241c-4630-a707-6c0314a99f2f",
   "metadata": {
    "tags": []
   },
   "source": [
    "## Main function that the Task calls"
   ]
  },
  {
   "cell_type": "code",
   "execution_count": 12,
   "id": "5146472b-1a30-4599-b510-5900ba22fea9",
   "metadata": {},
   "outputs": [],
   "source": [
    "# Added 'schema_name' to the function\n",
    "def get_layer(mapserver_n, layer_id, schema_name, include_date = False):\n",
    "    \n",
    "    \"\"\"\n",
    "    This function calls to the GCCview rest API and inserts the outputs to the output table in the postgres database.\n",
    "\n",
    "    Parameters\n",
    "    ----------\n",
    "    mapserver : int\n",
    "        The name of the mapserver that host the desire layer\n",
    "\n",
    "    layer_id : int\n",
    "        The id of desire layer\n",
    "        \n",
    "    \"\"\"  \n",
    "    mapserver = mapserver_name(mapserver_n)\n",
    "    output_table = get_tablename(mapserver, layer_id, include_date)\n",
    "    keep_adding = True\n",
    "    counter = 0\n",
    "\n",
    "    while keep_adding == True:\n",
    "        \n",
    "        if counter == 0:\n",
    "            return_json = get_data(mapserver, layer_id)\n",
    "            # Added 'schema_name'\n",
    "            insert_column = create_table(output_table, return_json, schema_name)\n",
    "            features = return_json['features']\n",
    "            record_max=(len(features))\n",
    "            max_number = record_max\n",
    "            # Added 'schema_name'\n",
    "            insert_data(output_table, insert_column, return_json, schema_name)\n",
    "            counter += 1\n",
    "            keep_adding = find_limit(return_json)\n",
    "            if keep_adding == False:\n",
    "                LOGGER.info('All records from [mapserver: %s, layerID: %d] have been inserted into %s', mapserver, layer_id, output_table)\n",
    "        else:\n",
    "            return_json = get_data(mapserver, layer_id, max_number = max_number, record_max = record_max)\n",
    "            insert_data(output_table, insert_column, return_json, schema_name)\n",
    "            counter += 1\n",
    "            keep_adding = find_limit(return_json)\n",
    "            if keep_adding == True:\n",
    "                max_number = max_number + record_max\n",
    "            else:\n",
    "                LOGGER.info('All records from [mapserver: %s, layerID: %d] have been inserted into %s', mapserver, layer_id, output_table)"
   ]
  },
  {
   "cell_type": "markdown",
   "id": "1544566c-997d-4057-b3fa-eca2d2dd35ef",
   "metadata": {},
   "source": [
    "## Testing out input values"
   ]
  },
  {
   "cell_type": "code",
   "execution_count": 13,
   "id": "a609f9f7-9fa0-467f-8adf-70dbf427781d",
   "metadata": {},
   "outputs": [],
   "source": [
    "mapserver_n = 2\n",
    "layer_id = 2\n",
    "schema_name = 'bqu'"
   ]
  },
  {
   "cell_type": "code",
   "execution_count": 14,
   "id": "d2729588-fc01-4aea-b619-3ee92654e38d",
   "metadata": {
    "tags": []
   },
   "outputs": [
    {
     "name": "stderr",
     "output_type": "stream",
     "text": [
      "/opt/jupyterhub/lib64/python3.9/site-packages/urllib3/connectionpool.py:1043: InsecureRequestWarning: Unverified HTTPS request is being made to host 'insideto-gis.toronto.ca'. Adding certificate verification is strongly advised. See: https://urllib3.readthedocs.io/en/1.26.x/advanced-usage.html#ssl-warnings\n",
      "  warnings.warn(\n",
      "/opt/jupyterhub/lib64/python3.9/site-packages/urllib3/connectionpool.py:1043: InsecureRequestWarning: Unverified HTTPS request is being made to host 'insideto-gis.toronto.ca'. Adding certificate verification is strongly advised. See: https://urllib3.readthedocs.io/en/1.26.x/advanced-usage.html#ssl-warnings\n",
      "  warnings.warn(\n"
     ]
    },
    {
     "name": "stdout",
     "output_type": "stream",
     "text": [
      "(centreline_id,address_l,address_r,linear_name_full,linear_name_label,parity_l,parity_r,feature_code_desc,feature_code,from_intersection_id,to_intersection_id,lo_num_l,hi_num_l,lo_num_r,hi_num_r,linear_name_id,jurisdiction,trans_id_create,objectid,mi_prinx,rec_id,geo_id,root_id,routenum,type_code,type_desc,status_code,status_desc,shape_len,geom)\n",
      "CREATE TABLE IF NOT EXISTS \"bqu\".\"bikeway\" (\"centreline_id\" integer,\"address_l\" text,\"address_r\" text,\"linear_name_full\" text,\"linear_name_label\" text,\"parity_l\" text,\"parity_r\" text,\"feature_code_desc\" text,\"feature_code\" integer,\"from_intersection_id\" integer,\"to_intersection_id\" integer,\"lo_num_l\" integer,\"hi_num_l\" integer,\"lo_num_r\" integer,\"hi_num_r\" integer,\"linear_name_id\" integer,\"jurisdiction\" text,\"trans_id_create\" numeric,\"objectid\" integer,\"mi_prinx\" integer,\"rec_id\" integer,\"geo_id\" numeric,\"root_id\" text,\"routenum\" integer,\"type_code\" integer,\"type_desc\" text,\"status_code\" integer,\"status_desc\" text,\"shape_len\" numeric)\n"
     ]
    },
    {
     "ename": "SyntaxError",
     "evalue": "syntax error at or near \"\"(centreline_id,address_l,address_r,linear_name_full,linear_name_label,parity_l,parity_r,feature_code_desc,feature_code,from_intersection_id,to_intersection_id,lo_num_l,hi_num_l,lo_num_r,hi_num_r,linear_name_id,jurisdiction,trans_id_create,objectid,mi_prinx,rec_id,geo_id,root_id,routenum,type_code,type_desc,status_code,status_desc,shape_len,geom)\"\"\nLINE 1: INSERT INTO \"bqu\".\"bikeway\" \"(centreline_id,address_l,addres...\n                                    ^\n",
     "output_type": "error",
     "traceback": [
      "\u001b[0;31m---------------------------------------------------------------------------\u001b[0m",
      "\u001b[0;31mSyntaxError\u001b[0m                               Traceback (most recent call last)",
      "Input \u001b[0;32mIn [14]\u001b[0m, in \u001b[0;36m<cell line: 1>\u001b[0;34m()\u001b[0m\n\u001b[0;32m----> 1\u001b[0m \u001b[43mget_layer\u001b[49m\u001b[43m(\u001b[49m\u001b[43mmapserver_n\u001b[49m\u001b[43m,\u001b[49m\u001b[43m \u001b[49m\u001b[43mlayer_id\u001b[49m\u001b[43m,\u001b[49m\u001b[43m \u001b[49m\u001b[43mschema_name\u001b[49m\u001b[43m)\u001b[49m\n",
      "Input \u001b[0;32mIn [12]\u001b[0m, in \u001b[0;36mget_layer\u001b[0;34m(mapserver_n, layer_id, schema_name, include_date)\u001b[0m\n\u001b[1;32m     29\u001b[0m max_number \u001b[38;5;241m=\u001b[39m record_max\n\u001b[1;32m     30\u001b[0m \u001b[38;5;66;03m# Added 'schema_name'\u001b[39;00m\n\u001b[0;32m---> 31\u001b[0m \u001b[43minsert_data\u001b[49m\u001b[43m(\u001b[49m\u001b[43moutput_table\u001b[49m\u001b[43m,\u001b[49m\u001b[43m \u001b[49m\u001b[43minsert_column\u001b[49m\u001b[43m,\u001b[49m\u001b[43m \u001b[49m\u001b[43mreturn_json\u001b[49m\u001b[43m,\u001b[49m\u001b[43m \u001b[49m\u001b[43mschema_name\u001b[49m\u001b[43m)\u001b[49m\n\u001b[1;32m     32\u001b[0m counter \u001b[38;5;241m+\u001b[39m\u001b[38;5;241m=\u001b[39m \u001b[38;5;241m1\u001b[39m\n\u001b[1;32m     33\u001b[0m keep_adding \u001b[38;5;241m=\u001b[39m find_limit(return_json)\n",
      "Input \u001b[0;32mIn [11]\u001b[0m, in \u001b[0;36minsert_data\u001b[0;34m(output_table, insert_column, return_json, schema_name)\u001b[0m\n\u001b[1;32m     21\u001b[0m \u001b[38;5;28;01mwith\u001b[39;00m con:\n\u001b[1;32m     22\u001b[0m     \u001b[38;5;28;01mwith\u001b[39;00m con\u001b[38;5;241m.\u001b[39mcursor() \u001b[38;5;28;01mas\u001b[39;00m cur:\n\u001b[0;32m---> 23\u001b[0m            \u001b[43mexecute_values\u001b[49m\u001b[43m(\u001b[49m\u001b[43mcur\u001b[49m\u001b[43m,\u001b[49m\u001b[43m \u001b[49m\u001b[43minsert\u001b[49m\u001b[43m,\u001b[49m\u001b[43m \u001b[49m\u001b[43mrows\u001b[49m\u001b[43m)\u001b[49m\n\u001b[1;32m     24\u001b[0m LOGGER\u001b[38;5;241m.\u001b[39minfo(\u001b[38;5;124m'\u001b[39m\u001b[38;5;124mSuccessfully inserted \u001b[39m\u001b[38;5;132;01m%d\u001b[39;00m\u001b[38;5;124m records into \u001b[39m\u001b[38;5;132;01m%s\u001b[39;00m\u001b[38;5;124m'\u001b[39m, \u001b[38;5;28mlen\u001b[39m(rows), output_table)\n",
      "File \u001b[0;32m/opt/jupyterhub/lib64/python3.9/site-packages/psycopg2/extras.py:1270\u001b[0m, in \u001b[0;36mexecute_values\u001b[0;34m(cur, sql, argslist, template, page_size, fetch)\u001b[0m\n\u001b[1;32m   1268\u001b[0m     parts\u001b[38;5;241m.\u001b[39mappend(\u001b[38;5;124mb\u001b[39m\u001b[38;5;124m'\u001b[39m\u001b[38;5;124m,\u001b[39m\u001b[38;5;124m'\u001b[39m)\n\u001b[1;32m   1269\u001b[0m parts[\u001b[38;5;241m-\u001b[39m\u001b[38;5;241m1\u001b[39m:] \u001b[38;5;241m=\u001b[39m post\n\u001b[0;32m-> 1270\u001b[0m \u001b[43mcur\u001b[49m\u001b[38;5;241;43m.\u001b[39;49m\u001b[43mexecute\u001b[49m\u001b[43m(\u001b[49m\u001b[38;5;124;43mb\u001b[39;49m\u001b[38;5;124;43m'\u001b[39;49m\u001b[38;5;124;43m'\u001b[39;49m\u001b[38;5;241;43m.\u001b[39;49m\u001b[43mjoin\u001b[49m\u001b[43m(\u001b[49m\u001b[43mparts\u001b[49m\u001b[43m)\u001b[49m\u001b[43m)\u001b[49m\n\u001b[1;32m   1271\u001b[0m \u001b[38;5;28;01mif\u001b[39;00m fetch:\n\u001b[1;32m   1272\u001b[0m     result\u001b[38;5;241m.\u001b[39mextend(cur\u001b[38;5;241m.\u001b[39mfetchall())\n",
      "\u001b[0;31mSyntaxError\u001b[0m: syntax error at or near \"\"(centreline_id,address_l,address_r,linear_name_full,linear_name_label,parity_l,parity_r,feature_code_desc,feature_code,from_intersection_id,to_intersection_id,lo_num_l,hi_num_l,lo_num_r,hi_num_r,linear_name_id,jurisdiction,trans_id_create,objectid,mi_prinx,rec_id,geo_id,root_id,routenum,type_code,type_desc,status_code,status_desc,shape_len,geom)\"\"\nLINE 1: INSERT INTO \"bqu\".\"bikeway\" \"(centreline_id,address_l,addres...\n                                    ^\n"
     ]
    }
   ],
   "source": [
    "get_layer(mapserver_n, layer_id, schema_name)"
   ]
  },
  {
   "cell_type": "code",
   "execution_count": null,
   "id": "3a098763-aad6-49d1-90ac-9eca242e8a61",
   "metadata": {},
   "outputs": [],
   "source": []
  }
 ],
 "metadata": {
  "kernelspec": {
   "display_name": "Python 3 (ipykernel)",
   "language": "python",
   "name": "python3"
  },
  "language_info": {
   "codemirror_mode": {
    "name": "ipython",
    "version": 3
   },
   "file_extension": ".py",
   "mimetype": "text/x-python",
   "name": "python",
   "nbconvert_exporter": "python",
   "pygments_lexer": "ipython3",
   "version": "3.9.6"
  }
 },
 "nbformat": 4,
 "nbformat_minor": 5
}
