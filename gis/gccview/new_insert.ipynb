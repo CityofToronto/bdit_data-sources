{
 "cells": [
  {
   "cell_type": "code",
   "execution_count": 3,
   "id": "4b81dce7-5261-414d-bab3-de188ac69eb5",
   "metadata": {},
   "outputs": [],
   "source": [
    "import configparser\n",
    "import requests\n",
    "import datetime\n",
    "from psycopg2 import connect\n",
    "from psycopg2 import sql\n",
    "from psycopg2.extras import execute_values\n",
    "import logging\n",
    "from time import sleep\n",
    "import click\n",
    "CONFIG = configparser.ConfigParser()\n",
    "CONFIG.read('/home/bqu/db_ec2.cfg')\n",
    "#CONFIG.read('/home/bqu/db_morbius.cfg')\n",
    "dbset = CONFIG['DBSETTINGS']\n",
    "con = connect(**dbset)"
   ]
  },
  {
   "cell_type": "markdown",
   "id": "b8df7af6-ebdb-4fbc-8de1-fa0806b3756a",
   "metadata": {
    "tags": []
   },
   "source": [
    "## Logger"
   ]
  },
  {
   "cell_type": "code",
   "execution_count": 4,
   "id": "ae07788e-24fd-4aa4-9c36-c90c627c7046",
   "metadata": {},
   "outputs": [],
   "source": [
    "\"\"\"The following provides information about the code when it is running and prints out the log messages \n",
    "if they are of logging level equal to or greater than INFO\"\"\"\n",
    "LOGGER = logging.getLogger(__name__)\n",
    "logging.basicConfig(level=logging.INFO)"
   ]
  },
  {
   "cell_type": "markdown",
   "id": "ede82259-0284-438f-9a0c-12b479d2198a",
   "metadata": {
    "tags": []
   },
   "source": [
    "## Get mapserver name and generate table name"
   ]
  },
  {
   "cell_type": "code",
   "execution_count": 5,
   "id": "f4905567-4aac-4bd8-aa73-138a485bc2d9",
   "metadata": {},
   "outputs": [],
   "source": [
    "def mapserver_name(mapserver_n):\n",
    "    \"\"\"\n",
    "    Function to return cot_geospatial mapserver from integer\n",
    "\n",
    "    Parameters\n",
    "    -----------\n",
    "    mapserver_n \n",
    "        the mapserver number\n",
    "\n",
    "    Return\n",
    "    -------\n",
    "    map\n",
    "    \"\"\"\n",
    "    \n",
    "    switcher ={\n",
    "        0 : 'cot_geospatial',\n",
    "        2 : 'cot_geospatial2',\n",
    "        3 : 'cot_geospatial3',\n",
    "        5 : 'cot_geospatial5',\n",
    "        6 : 'cot_geospatial6', \n",
    "        7 : 'cot_geospatial7',\n",
    "        8 : 'cot_geospatial8',\n",
    "        10 : 'cot_geospatial10',\n",
    "        11 : 'cot_geospatial11',\n",
    "        12 : 'cot_geospatial12',\n",
    "        13 : 'cot_geospatial13',\n",
    "        14 : 'cot_geospatial14',\n",
    "        15 : 'cot_geospatial15',\n",
    "        16 : 'cot_geospatial16',\n",
    "        17 : 'cot_geospatial17',\n",
    "        18 : 'cot_geospatial18',\n",
    "        19 : 'cot_geospatial19',\n",
    "        20 : 'cot_geospatial20',\n",
    "        21 : 'cot_geospatial21',\n",
    "        22 : 'cot_geospatial22',\n",
    "        23 : 'cot_geospatial23',\n",
    "        24 : 'cot_geospatial24',\n",
    "        25 : 'cot_geospatial25',\n",
    "        26 : 'cot_geospatial26',\n",
    "        27 : 'cot_geospatial27',\n",
    "        28 : 'cot_geospatial28'\n",
    "        }\n",
    "    func = switcher.get(mapserver_n)\n",
    "    return(func)\n"
   ]
  },
  {
   "cell_type": "code",
   "execution_count": 6,
   "id": "c82fe4d8-1d42-48ff-9134-b20cf0d059f2",
   "metadata": {},
   "outputs": [],
   "source": [
    "def get_tablename(mapserver, layer_id, include_date = False):\n",
    "    \"\"\"\n",
    "    Function to retrieve the name of the layer\n",
    "\n",
    "    Parameters\n",
    "    -----------\n",
    "    mapserver\n",
    "        The mapserver that host the layer\n",
    "    layer_id\n",
    "        The id of the layer\n",
    "\n",
    "    Returns\n",
    "    --------\n",
    "    output_name\n",
    "        The table name of the layer in database\n",
    "    \"\"\"\n",
    "    url = 'https://insideto-gis.toronto.ca/arcgis/rest/services/'+mapserver+'/MapServer/layers?f=json'\n",
    "    r = requests.get(url, verify = False)\n",
    "    ajson = r.json()\n",
    "    layers = ajson['layers']\n",
    "    for layer in layers:\n",
    "        if layer['id'] == layer_id:\n",
    "            output_name = (layer['name'].lower()).replace(' ', '_')\n",
    "        else:\n",
    "            continue\n",
    "    \n",
    "    # For the layers that will be pulled into a partitioned table, add the current pull's date to table name\n",
    "    if include_date:\n",
    "        today = datetime.date.today().strftime('_%Y%m%d')\n",
    "        output_name = output_name + today\n",
    "    return output_name"
   ]
  },
  {
   "cell_type": "markdown",
   "id": "621441e0-033c-4cde-8c69-94fc22b70c5e",
   "metadata": {
    "tags": []
   },
   "source": [
    "## Create table in DB"
   ]
  },
  {
   "cell_type": "code",
   "execution_count": 7,
   "id": "469f189b-0d9e-418d-9826-3ea795aa14cd",
   "metadata": {},
   "outputs": [],
   "source": [
    "def get_fieldtype(field):\n",
    "    if field == 'esriFieldTypeInteger' or field == 'esriFieldTypeSingle' or field == 'esriFieldTypeInteger' or field=='esriFieldTypeOID' or field == 'esriFieldTypeSmallInteger' or field =='esriFieldGlobalID':\n",
    "        fieldtype = 'integer'\n",
    "    elif field == 'esriFieldTypeString':\n",
    "        fieldtype = 'text'\n",
    "    elif field == 'esriFieldTypeDouble':\n",
    "        fieldtype = 'numeric'\n",
    "    elif field == 'esriFieldTypeDate':\n",
    "        fieldtype = 'timestamp without time zone'\n",
    "    return fieldtype"
   ]
  },
  {
   "cell_type": "code",
   "execution_count": 8,
   "id": "e30548ec-a710-4d85-9bf7-1a96f9c7b208",
   "metadata": {},
   "outputs": [],
   "source": [
    "def create_table(output_table, return_json, schema_name):\n",
    "    '''Create a new table in postgresql for the layer'''\n",
    "    \n",
    "    fields = return_json['fields']\n",
    "    insert_column_list = [sql.Identifier((field['name'].lower()).replace('.', '_')) + sql.SQL(' ') for field in fields]\n",
    "    insert_column_list.append(sql.Identifier('geom'))\n",
    "    insert_column = sql.SQL(',').join(insert_column_list)\n",
    "    print(insert_column.as_string(con))\n",
    "    \n",
    "    with con:\n",
    "        with con.cursor() as cur:\n",
    "            \n",
    "            col_list = [sql.Identifier((field['name'].lower()).replace('.', '_')) + sql.SQL(' ') + sql.SQL(get_fieldtype(field[\"type\"])) for field in fields]\n",
    "            col_list.append(sql.Identifier('geom') + sql.SQL(' ') + sql.SQL('geometry'))\n",
    "            col_list_string = sql.SQL(',').join(col_list)\n",
    "            \n",
    "            create_sql = sql.SQL(\"CREATE TABLE IF NOT EXISTS {schema}.{table} ({columns})\").format(schema = sql.Identifier(schema_name),\n",
    "                                                                      table = sql.Identifier(output_table),\n",
    "                                                                      columns = col_list_string)\n",
    "            print(create_sql.as_string(con))\n",
    "            cur.execute(create_sql)\n",
    "    return insert_column"
   ]
  },
  {
   "cell_type": "code",
   "execution_count": 9,
   "id": "eeaa7d40-92c0-4a6e-8528-36f37ac26d42",
   "metadata": {},
   "outputs": [],
   "source": [
    "# Geometry Switcher \n",
    "def line(geom):\n",
    "    return 'SRID=4326;LineString('+','.join(' '.join(str(x) for x in tup) for tup in geom['paths'][0]) +')'\n",
    "def polygon(geom):\n",
    "    return 'SRID=4326;MultiPolygon((('+','.join(' '.join(str(x) for x in tup) for tup in geom['rings'][0]) +')))'\n",
    "def point(geom):\n",
    "    return 'SRID=4326;Point('+(str(geom['x']))+' '+ (str(geom['y']))+')'  \n",
    "def get_geometry(geometry_type, geom):\n",
    "    switcher = {\n",
    "        'esriGeometryLine':line,\n",
    "        'esriGeometryPolyline': line, \n",
    "        'esriGeometryPoint': point, \n",
    "        'esriGeometryMultiPolygon': polygon,\n",
    "        'esriGeometryPolygon': polygon\n",
    "    }\n",
    "    func = switcher.get(geometry_type)\n",
    "    geometry = (func(geom)) \n",
    "    return geometry"
   ]
  },
  {
   "cell_type": "code",
   "execution_count": 10,
   "id": "81928a3a-5710-4e06-a995-32db05be8dbc",
   "metadata": {},
   "outputs": [],
   "source": [
    "def to_time(input):\n",
    "    '''Convert epoch time to postgresql timestamp without time zone'''    \n",
    "    time = datetime.datetime.fromtimestamp(abs(input)/1000).strftime('%Y-%m-%d %H:%M:%S')\n",
    "    return time"
   ]
  },
  {
   "cell_type": "markdown",
   "id": "131af05a-bace-4c10-81a7-bbf03d08bbf6",
   "metadata": {},
   "source": [
    "## Insert data from ArcGIS to DB"
   ]
  },
  {
   "cell_type": "code",
   "execution_count": 11,
   "id": "89b12d17-fea1-422b-91e8-02f399cbdc90",
   "metadata": {},
   "outputs": [],
   "source": [
    "def get_data(mapserver, layer_id, max_number = None, record_max = None):\n",
    "    '''Get data from gcc view rest api'''        \n",
    "    base_url = \"https://insideto-gis.toronto.ca/arcgis/rest/services/{}/MapServer/{}/query\".format(mapserver, layer_id)\n",
    "    \n",
    "    \"\"\" Added stuff \"\"\"\n",
    "    '''If the data we want to get is centreline'''\n",
    "    \"\"\"\n",
    "    if layer_id == 2:\n",
    "        query = {\n",
    "    \"\"\"\n",
    "    \n",
    "    query = {\"where\":\"1=1\",\n",
    "             \"outFields\": \"*\",\n",
    "             \"outSR\": '4326',         \n",
    "             \"returnGeometry\": \"true\",\n",
    "             \"returnTrueCurves\": \"false\",\n",
    "             \"returnIdsOnly\": \"false\",\n",
    "             \"returnCountOnly\": \"false\",\n",
    "             \"returnZ\": \"false\",\n",
    "             \"returnM\": \"false\",\n",
    "             \"orderByFields\": \"OBJECTID\", \n",
    "             \"returnDistinctValues\": \"false\",\n",
    "             \"returnExtentsOnly\": \"false\",\n",
    "             \"resultOffset\": \"{}\".format(max_number),\n",
    "             \"resultRecordCount\": \"{}\".format(record_max),\n",
    "             \"f\":\"json\"}\n",
    "    while True:\n",
    "        try :\n",
    "            r = requests.get(base_url, params = query, verify = False)\n",
    "        except requests.exceptions.ConnectionErrors:\n",
    "            sleep(10)\n",
    "            continue\n",
    "        else:\n",
    "            return_json = r.json() \n",
    "            break\n",
    "    return return_json"
   ]
  },
  {
   "cell_type": "code",
   "execution_count": 12,
   "id": "c7e39cac-10a9-4d42-bbcd-53dda7643374",
   "metadata": {},
   "outputs": [],
   "source": [
    "def find_limit(return_json):\n",
    "    '''Check if last query return all rows'''   \n",
    "    if return_json.get('exceededTransferLimit', False) == True:\n",
    "        keep_adding = True\n",
    "    else:\n",
    "        keep_adding = False\n",
    "    return keep_adding   "
   ]
  },
  {
   "cell_type": "code",
   "execution_count": 13,
   "id": "ae775756-c82e-4320-b822-13001c4f5fbb",
   "metadata": {},
   "outputs": [],
   "source": [
    "def insert_data(output_table, insert_column, return_json, schema_name):\n",
    "    '''Send data to postgresql'''   \n",
    "    rows = []\n",
    "    features = return_json['features']\n",
    "    fields = return_json['fields']\n",
    "    trials = [[field['name'], field['type']] for field in fields]\n",
    "    for feature in features:\n",
    "        geom = feature['geometry']\n",
    "        geometry_type = return_json['geometryType']\n",
    "        geometry = get_geometry(geometry_type, geom)\n",
    "        row = [feature['attributes'][trial[0]] if trial[1] != 'esriFieldTypeDate' or feature['attributes'][trial[0]] == None else to_time(feature['attributes'][trial[0]]) for trial in trials]\n",
    "        row.append(geometry)\n",
    "        \n",
    "        rows.append(row)\n",
    "    \n",
    "    insert=sql.SQL(\"INSERT INTO {schema}.{table} ({columns}) VALUES %s\").format(\n",
    "        schema = sql.Identifier(schema_name), \n",
    "        table = sql.Identifier(output_table), \n",
    "        columns = insert_column\n",
    "    )\n",
    "    with con:\n",
    "        with con.cursor() as cur:\n",
    "               execute_values(cur, insert, rows)\n",
    "    LOGGER.info('Successfully inserted %d records into %s', len(rows), output_table)"
   ]
  },
  {
   "cell_type": "markdown",
   "id": "4241c229-ee15-4a89-840c-5f346e1a0dde",
   "metadata": {},
   "source": [
    "## Enter mapserver_id and layer_id, get their PK"
   ]
  },
  {
   "cell_type": "code",
   "execution_count": 2,
   "id": "39e23a28-5854-4070-8191-e403b40cfbf9",
   "metadata": {},
   "outputs": [],
   "source": [
    "pk_dict = {\n",
    "\t\"city_ward\": \"area_id\",\n",
    "    \"census_tract\": \"area_id\",\n",
    "    \"neighbourhood_improvement_area\": \"area_id\",\n",
    "    \"priority_neighbourhood_for_investment\": \"area_id\",\n",
    "    \"ibms_district\": \"area_id\",\n",
    "    \"ibms_grid\": \"area_id\",\n",
    "    \"bikeway\": \"centreline_id\",\n",
    "    \"traffic_camera\": \"objectid\",\n",
    "    \"permit_parking_area\": \"objectid\",\n",
    "    \"prai_transit_shelter\": \"objectid\",\n",
    "    \"traffic_bylaw_point\": \"objectid\",\n",
    "    \"traffic_bylaw_line\": \"objectid\",\n",
    "    \"loop_detector\": \"objectid\",\n",
    "    \"electrical_vehicle_charging_station\": \"objectid\",\n",
    "    \"day_care_centre\": \"objectid\",\n",
    "    \"middle_childcare_centre\": \"objectid\",\n",
    "    \"business_improvement_area\": \"objectid\",\n",
    "    \"proposed_business_improvement_area\": \"objectid\",\n",
    "    \"film_permit_all\": \"objectid\",\n",
    "    \"film_permit_parking_all\": \"objectid\",\n",
    "    \"hotel\": \"objectid\",\n",
    "    \"convenience_store\": \"objectid\",\n",
    "    \"supermarket\": \"objectid\",\n",
    "    \"place_of_worship\": \"objectid\",\n",
    "    \"ymca\": \"objectid\",\n",
    "    \"aboriginal_organization\": \"objectid\",\n",
    "    \"attraction\": \"objectid\",\n",
    "    \"dropin\": \"objectid\",\n",
    "    \"early_years_centre\": \"objectid\",\n",
    "    \"family_resource_centre\": \"objectid\",\n",
    "    \"food_bank\": \"objectid\",\n",
    "    \"longterm_care\": \"objectid\",\n",
    "    \"parenting_family_literacy\": \"objectid\",\n",
    "    \"retirement_home\": \"objectid\",\n",
    "    \"senior_housing\": \"objectid\",\n",
    "    \"shelter\": \"objectid\",\n",
    "    \"social_housing\": \"objectid\",\n",
    "    \"private_road\": \"objectid\",\n",
    "    \"school\": \"objectid\",\n",
    "    \"library\": \"objectid\",\n",
    "\t}"
   ]
  },
  {
   "cell_type": "code",
   "execution_count": null,
   "id": "8d239476-9f45-4e0c-8672-08159731d601",
   "metadata": {},
   "outputs": [],
   "source": [
    "def concatenate_mapserver_layer(mapserver_n, layer_id):\n",
    "    num_pair = str(mapserver_n)+'_'+str(layer_id)\n",
    "    return num_pair\n",
    "\n",
    "\n",
    "# NEEDS TO BE UPDATED\n",
    "def retrieve_layer_name(num_pair):\n",
    "    switcher = {\n",
    "            '0_0': ward,\n",
    "            '0_2': centreline,\n",
    "            '2_2': bike,\n",
    "            '2_3': traffic_camera,\n",
    "            '2_9': traffic_signal,\n",
    "            '2_11': permit_parking,\n",
    "            '2_35': prai_transit_shelter, \n",
    "            '2_37': tmms_service_request,\n",
    "            '2_38': bylaw_pt,\n",
    "            '2_39': bylaw_line,\n",
    "            '20_1': ev_charging_station,\n",
    "            '22_1': day_care,\n",
    "            '22_2': middle_child,\n",
    "            '23_1': bia,\n",
    "            '23_13': proposed_bia,\n",
    "            '23_9': film_permit,\n",
    "            '23_10': film_parking,\n",
    "            '23_12': hotel,\n",
    "            '26_1': convenience_store,\n",
    "            '26_4': supermarket,\n",
    "            '26_3': worship,\n",
    "            '26_6': ymca,\n",
    "            '26_7': census_tract,\n",
    "            '26_11': neighbourhood_impro,\n",
    "            '26_13': priority_neigh,\n",
    "            '26_16': neigh_demo,\n",
    "            '26_45': aborginal,\n",
    "            '26_46': attraction,\n",
    "            '26_47': dropin, \n",
    "            '26_48': early_year,\n",
    "            '26_49': family_resource,\n",
    "            '26_50': food_bank,\n",
    "            '26_53': long_term_care,\n",
    "            '26_54': parenting_family_lit,\n",
    "            '26_58': retirement,\n",
    "            '26_59': senior_housing, \n",
    "            '26_61': shelter,\n",
    "            '26_62': social_housing,\n",
    "            '27_13': private_road,\n",
    "            '28_17': school,\n",
    "            '28_28': library\n",
    "        \n",
    "    }\n",
    "    layer_name = switcher.get(num_pair)\n",
    "    return layer_name"
   ]
  },
  {
   "cell_type": "markdown",
   "id": "5334fbd3-241c-4630-a707-6c0314a99f2f",
   "metadata": {
    "tags": []
   },
   "source": [
    "## Main function that the Task calls"
   ]
  },
  {
   "cell_type": "code",
   "execution_count": 14,
   "id": "5146472b-1a30-4599-b510-5900ba22fea9",
   "metadata": {},
   "outputs": [],
   "source": [
    "# Added 'schema_name' to the function\n",
    "def get_layer(mapserver_n, layer_id, schema_name, include_date = False):\n",
    "    \n",
    "    \"\"\"\n",
    "    This function calls to the GCCview rest API and inserts the outputs to the output table in the postgres database.\n",
    "\n",
    "    Parameters\n",
    "    ----------\n",
    "    mapserver : int\n",
    "        The name of the mapserver that host the desire layer\n",
    "\n",
    "    layer_id : int\n",
    "        The id of desire layer\n",
    "        \n",
    "    \"\"\"  \n",
    "    mapserver = mapserver_name(mapserver_n)\n",
    "    output_table = get_tablename(mapserver, layer_id, include_date)\n",
    "    #--------------------------------\n",
    "    # retrieve_layer_name(concatenate_mapserver_layer(mapserver_n, layer_id))\n",
    "    primary_key = pk_dict.get(output_table)\n",
    "    \n",
    "    #--------------------------------\n",
    "    keep_adding = True\n",
    "    counter = 0\n",
    "\n",
    "    while keep_adding == True:\n",
    "        \n",
    "        if counter == 0:\n",
    "            return_json = get_data(mapserver, layer_id)\n",
    "            # Added 'schema_name'\n",
    "            insert_column = create_table(output_table, return_json, schema_name)\n",
    "            features = return_json['features']\n",
    "            record_max=(len(features))\n",
    "            max_number = record_max\n",
    "            # Added 'schema_name'\n",
    "            insert_data(output_table, insert_column, return_json, schema_name)\n",
    "            counter += 1\n",
    "            keep_adding = find_limit(return_json)\n",
    "            if keep_adding == False:\n",
    "                LOGGER.info('All records from [mapserver: %s, layerID: %d] have been inserted into %s', mapserver, layer_id, output_table)\n",
    "        else:\n",
    "            return_json = get_data(mapserver, layer_id, max_number = max_number, record_max = record_max)\n",
    "            insert_data(output_table, insert_column, return_json, schema_name)\n",
    "            counter += 1\n",
    "            keep_adding = find_limit(return_json)\n",
    "            if keep_adding == True:\n",
    "                max_number = max_number + record_max\n",
    "            else:\n",
    "                LOGGER.info('All records from [mapserver: %s, layerID: %d] have been inserted into %s', mapserver, layer_id, output_table)"
   ]
  },
  {
   "cell_type": "markdown",
   "id": "1544566c-997d-4057-b3fa-eca2d2dd35ef",
   "metadata": {},
   "source": [
    "## Testing out input values"
   ]
  },
  {
   "cell_type": "code",
   "execution_count": 17,
   "id": "a609f9f7-9fa0-467f-8adf-70dbf427781d",
   "metadata": {},
   "outputs": [],
   "source": [
    "mapserver_n = \n",
    "layer_id = \n",
    "schema_name = 'bqu'"
   ]
  },
  {
   "cell_type": "code",
   "execution_count": 18,
   "id": "d2729588-fc01-4aea-b619-3ee92654e38d",
   "metadata": {
    "tags": []
   },
   "outputs": [
    {
     "name": "stderr",
     "output_type": "stream",
     "text": [
      "/opt/jupyterhub/lib64/python3.9/site-packages/urllib3/connectionpool.py:1043: InsecureRequestWarning: Unverified HTTPS request is being made to host 'insideto-gis.toronto.ca'. Adding certificate verification is strongly advised. See: https://urllib3.readthedocs.io/en/1.26.x/advanced-usage.html#ssl-warnings\n",
      "  warnings.warn(\n",
      "/opt/jupyterhub/lib64/python3.9/site-packages/urllib3/connectionpool.py:1043: InsecureRequestWarning: Unverified HTTPS request is being made to host 'insideto-gis.toronto.ca'. Adding certificate verification is strongly advised. See: https://urllib3.readthedocs.io/en/1.26.x/advanced-usage.html#ssl-warnings\n",
      "  warnings.warn(\n"
     ]
    },
    {
     "name": "stdout",
     "output_type": "stream",
     "text": [
      "\"geo_id\" ,\"name\" ,\"school_level\" ,\"school_type\" ,\"board_name\" ,\"school_type_desc\" ,\"address_point_id\" ,\"address_number\" ,\"linear_name_full\" ,\"address_full\" ,\"postal_code\" ,\"municipality\" ,\"city\" ,\"place_name\" ,\"general_use_code\" ,\"centreline_id\" ,\"lo_num\" ,\"lo_num_suf\" ,\"hi_num\" ,\"hi_num_suf\" ,\"linear_name_id\" ,\"x\" ,\"y\" ,\"latitude\" ,\"longitude\" ,\"objectid\" ,\"source_address\" ,\"geom\"\n",
      "CREATE TABLE IF NOT EXISTS \"bqu\".\"school\" (\"geo_id\" numeric,\"name\" text,\"school_level\" text,\"school_type\" text,\"board_name\" text,\"school_type_desc\" text,\"address_point_id\" integer,\"address_number\" text,\"linear_name_full\" text,\"address_full\" text,\"postal_code\" text,\"municipality\" text,\"city\" text,\"place_name\" text,\"general_use_code\" integer,\"centreline_id\" integer,\"lo_num\" integer,\"lo_num_suf\" text,\"hi_num\" integer,\"hi_num_suf\" text,\"linear_name_id\" numeric,\"x\" numeric,\"y\" numeric,\"latitude\" numeric,\"longitude\" numeric,\"objectid\" integer,\"source_address\" text,\"geom\" geometry)\n"
     ]
    },
    {
     "name": "stderr",
     "output_type": "stream",
     "text": [
      "INFO:__main__:Successfully inserted 1000 records into school\n",
      "/opt/jupyterhub/lib64/python3.9/site-packages/urllib3/connectionpool.py:1043: InsecureRequestWarning: Unverified HTTPS request is being made to host 'insideto-gis.toronto.ca'. Adding certificate verification is strongly advised. See: https://urllib3.readthedocs.io/en/1.26.x/advanced-usage.html#ssl-warnings\n",
      "  warnings.warn(\n",
      "INFO:__main__:Successfully inserted 194 records into school\n",
      "INFO:__main__:All records from [mapserver: cot_geospatial28, layerID: 17] have been inserted into school\n"
     ]
    }
   ],
   "source": [
    "get_layer(mapserver_n, layer_id, schema_name)"
   ]
  },
  {
   "cell_type": "code",
   "execution_count": null,
   "id": "3a098763-aad6-49d1-90ac-9eca242e8a61",
   "metadata": {},
   "outputs": [],
   "source": []
  }
 ],
 "metadata": {
  "kernelspec": {
   "display_name": "Python 3 (ipykernel)",
   "language": "python",
   "name": "python3"
  },
  "language_info": {
   "codemirror_mode": {
    "name": "ipython",
    "version": 3
   },
   "file_extension": ".py",
   "mimetype": "text/x-python",
   "name": "python",
   "nbconvert_exporter": "python",
   "pygments_lexer": "ipython3",
   "version": "3.9.7"
  }
 },
 "nbformat": 4,
 "nbformat_minor": 5
}
