{
 "cells": [
  {
   "cell_type": "code",
   "execution_count": 743,
   "metadata": {},
   "outputs": [],
   "source": [
    "import configparser\n",
    "import requests\n",
    "import datetime\n",
    "from requests import Session\n",
    "from psycopg2 import connect\n",
    "from psycopg2.extras import execute_values\n",
    "from time import sleep\n",
    "CONFIG = configparser.ConfigParser()\n",
    "CONFIG.read(r'C:\\Users\\nchan6\\Documents\\db.cfg')\n",
    "dbset = CONFIG['DBSETTINGS']\n",
    "con = connect(**dbset)"
   ]
  },
  {
   "cell_type": "code",
   "execution_count": 785,
   "metadata": {},
   "outputs": [],
   "source": [
    "def get_tablename(mapserver, id):\n",
    "    '''\n",
    "    This function retrieve the name of the layer.\n",
    "    '''\n",
    "    url = 'https://insideto-gis.toronto.ca/arcgis/rest/services/{}/MapServer/layers?f=json'.format(mapserver)\n",
    "    r = requests.get(url, verify = False)\n",
    "    ajson = r.json()\n",
    "    layers = ajson['layers']\n",
    "    for layer in layers:\n",
    "        if layer['id'] == id:\n",
    "            output_name = (layer['name'].lower()).replace(' ', '_')\n",
    "        else:\n",
    "            continue\n",
    "    return output_name       "
   ]
  },
  {
   "cell_type": "code",
   "execution_count": 786,
   "metadata": {},
   "outputs": [],
   "source": [
    "def create_table(output_table, return_json):\n",
    "    new_column = '('\n",
    "    insert_column= '('\n",
    "    fields = return_json['fields']\n",
    "    for field in fields:\n",
    "        if field['type'] == 'esriFieldTypeInteger' or field['type'] == 'esriFieldTypeInteger' or field['type'] =='esriFieldTypeOID' or field['type'] == 'esriFieldTypeSmallInteger' or field['type'] =='esriFieldGlobalID':\n",
    "                column_type = 'integer'\n",
    "        elif field['type'] == 'esriFieldTypeString':\n",
    "                column_type = 'text'\n",
    "        elif field['type'] == 'esriFieldTypeDouble':\n",
    "                column_type = 'numeric'\n",
    "        elif field['type'] == 'esriFieldTypeDate':\n",
    "                column_type = 'timestamp without time zone'\n",
    "                \n",
    "        column_name = (field['name'].lower()).replace('.', '_') \n",
    "        new_column = new_column + column_name +' '+column_type+', '\n",
    "        insert_column = insert_column + column_name +','\n",
    "\n",
    "    new_column = new_column +'geom geometry)' \n",
    "    insert_column = insert_column + 'geom)'\n",
    "    sql= '''create table {} {}'''.format(output_table, new_column)\n",
    "    \n",
    "    with con:\n",
    "        with con.cursor() as cur:\n",
    "            cur.execute(sql) \n",
    "            \n",
    "    return insert_column        "
   ]
  },
  {
   "cell_type": "code",
   "execution_count": 799,
   "metadata": {},
   "outputs": [],
   "source": [
    "def geom_type(geometry_type, geom):\n",
    "    if geometry_type == 'esriGeometryPolyline' or geometry_type == 'esriGeometryLine':\n",
    "        geometry = 'SRID=4326;LineString('+','.join(' '.join(str(x) for x in tup) for tup in geom['paths'][0]) +')'\n",
    "        \n",
    "    elif geometry_type =='esriGeometryPoint':\n",
    "        geometry = 'SRID=4326;Point('+(str(geom['x']))+' '+ (str(geom['y']))+')'                       \n",
    "        \n",
    "    elif geometry_type =='esriGeometryPolygon' or geometry_type =='esriGeometryMultiPolygon':\n",
    "        geometry = 'SRID=4326;MultiPolygon((('+','.join(' '.join(str(x) for x in tup) for tup in geom['rings'][0]) +')))'    \n",
    "   \n",
    "    return geometry                 "
   ]
  },
  {
   "cell_type": "code",
   "execution_count": 683,
   "metadata": {},
   "outputs": [],
   "source": [
    "def to_time(input):\n",
    "    '''\n",
    "    This function converts epoch unix datetime to timestamp without time zone for postgresql input.\n",
    "\n",
    "    '''\n",
    "    time = datetime.datetime.fromtimestamp(input/1000).strftime('%Y-%m-%d %H:%M:%S')\n",
    "    return time"
   ]
  },
  {
   "cell_type": "code",
   "execution_count": 810,
   "metadata": {},
   "outputs": [],
   "source": [
    "def get_data(mapserver, id, max_number = None, record_max = None):\n",
    "    base_url = \"https://insideto-gis.toronto.ca/arcgis/rest/services/{}/MapServer/{}/query\".format(mapserver, id)\n",
    "    query = {\"where\":\"1=1\",\n",
    "             \"outFields\": \"*\",\n",
    "             \"outSR\": '4326',         \n",
    "             \"returnGeometry\": \"true\",\n",
    "             \"returnTrueCurves\": \"false\",\n",
    "             \"returnIdsOnly\": \"false\",\n",
    "             \"returnCountOnly\": \"false\",\n",
    "             \"returnZ\": \"false\",\n",
    "             \"returnM\": \"false\",\n",
    "             \"orderByFields\": \"OBJECTID\", \n",
    "             \"returnDistinctValues\": \"false\",\n",
    "             \"returnExtentsOnly\": \"false\",\n",
    "             \"resultOffset\": \"{}\".format(max_number),\n",
    "             \"resultRecordCount\": \"{}\".format(record_max),\n",
    "             \"f\":\"json\"}\n",
    "    while True:\n",
    "        try :\n",
    "            r = requests.get(base_url, params = query, verify = False)\n",
    "        except requests.exceptions.SSLErros:\n",
    "            sleep(10)\n",
    "            continue\n",
    "        else:\n",
    "            return_json = r.json() \n",
    "            break\n",
    "    return return_json"
   ]
  },
  {
   "cell_type": "code",
   "execution_count": 681,
   "metadata": {},
   "outputs": [],
   "source": [
    "def find_limit(return_json):\n",
    "    if return_json.get('exceededTransferLimit', False) == True:\n",
    "        rule = 'add'\n",
    "    else:\n",
    "        rule = 'dont add'  \n",
    "    \n",
    "    return rule   "
   ]
  },
  {
   "cell_type": "code",
   "execution_count": 800,
   "metadata": {},
   "outputs": [],
   "source": [
    "def send_data(output_table, insert_column, return_json):\n",
    "    \n",
    "    rows = []\n",
    "    features = return_json['features'] \n",
    "    fields = return_json['fields']\n",
    "    trials = [[field['name'], field['type']] for field in fields]\n",
    "    for feature in features:\n",
    "        geom = feature['geometry']\n",
    "        geometry = geom_type(return_json['geometryType'], geom)\n",
    "        row = [feature['attributes'][trial[0]] if trial[1] != 'esriFieldTypeDate' or feature['attributes'][trial[0]] == None else to_time(feature['attributes'][trial[0]]) for trial in trials]\n",
    "        row.append(geometry)\n",
    "        rows.append(row)\n",
    "    \n",
    "    sql='INSERT INTO {} {} VALUES %s'.format(output_table, insert_column)\n",
    "    with con:\n",
    "        with con.cursor() as cur:\n",
    "            execute_values(cur, sql, rows)    \n",
    "    print('sent')"
   ]
  },
  {
   "cell_type": "code",
   "execution_count": 808,
   "metadata": {},
   "outputs": [],
   "source": [
    "def get_layer(mapserver, id):\n",
    "    \n",
    "    \"\"\"\n",
    "    This function calls to the GCCview rest API and inserts the outputs to the output table in the postgres database.\n",
    "\n",
    "    Parameters\n",
    "    ----------\n",
    "    mapserver : string\n",
    "        The name of the mapserver that host the desire layer\n",
    "\n",
    "    id : int\n",
    "        The id of desire layer\n",
    "        \n",
    "    \"\"\"  \n",
    "    output_table = get_tablename(mapserver, id)\n",
    "    \n",
    "    rule = \"add\"\n",
    "    counter = 0\n",
    "    \n",
    "    while rule == \"add\":\n",
    "           \n",
    "        if counter == 0:\n",
    "            return_json = get_data(mapserver, id, max_number = '', record_max = '')\n",
    "            insert_column = create_table(output_table, return_json)\n",
    "            features = return_json['features']\n",
    "            record_max=(len(features))\n",
    "            max_number = record_max\n",
    "            send_data(output_table, insert_column, return_json)\n",
    "            counter += 1\n",
    "            rule = find_limit(return_json)\n",
    "            if rule != 'add':\n",
    "                print('all rows inserted in ', output_table)\n",
    "        else:\n",
    "            return_json = get_data(mapserver, id, max_number = max_number, record_max = record_max)\n",
    "            send_data(output_table, insert_column, return_json)\n",
    "            counter += 1\n",
    "            rule = find_limit(return_json)\n",
    "            if rule == 'add':\n",
    "                max_number = max_number + record_max\n",
    "            else:\n",
    "                print('all rows inserted in ', output_table)\n"
   ]
  },
  {
   "cell_type": "code",
   "execution_count": 807,
   "metadata": {},
   "outputs": [
    {
     "name": "stderr",
     "output_type": "stream",
     "text": [
      "C:\\ProgramData\\Anaconda3\\lib\\site-packages\\urllib3\\connectionpool.py:847: InsecureRequestWarning: Unverified HTTPS request is being made. Adding certificate verification is strongly advised. See: https://urllib3.readthedocs.io/en/latest/advanced-usage.html#ssl-warnings\n",
      "  InsecureRequestWarning)\n",
      "C:\\ProgramData\\Anaconda3\\lib\\site-packages\\urllib3\\connectionpool.py:847: InsecureRequestWarning: Unverified HTTPS request is being made. Adding certificate verification is strongly advised. See: https://urllib3.readthedocs.io/en/latest/advanced-usage.html#ssl-warnings\n",
      "  InsecureRequestWarning)\n"
     ]
    },
    {
     "name": "stdout",
     "output_type": "stream",
     "text": [
      "https://insideto-gis.toronto.ca/arcgis/rest/services/cot_geospatial2/MapServer/5/query\n",
      "{'where': '1=1', 'outFields': '*', 'outSR': '4326', 'returnGeometry': 'true', 'returnTrueCurves': 'false', 'returnIdsOnly': 'false', 'returnCountOnly': 'false', 'returnZ': 'false', 'returnM': 'false', 'orderByFields': 'OBJECTID', 'returnDistinctValues': 'false', 'returnExtentsOnly': 'false', 'resultOffset': '', 'resultRecordCount': '', 'f': 'json'}\n",
      "sent\n",
      "all rows inserted in  current_road_restriction\n"
     ]
    }
   ],
   "source": [
    "get_layer('cot_geospatial2', 5)"
   ]
  }
 ],
 "metadata": {
  "kernelspec": {
   "display_name": "Python 3",
   "language": "python",
   "name": "python3"
  },
  "language_info": {
   "codemirror_mode": {
    "name": "ipython",
    "version": 3
   },
   "file_extension": ".py",
   "mimetype": "text/x-python",
   "name": "python",
   "nbconvert_exporter": "python",
   "pygments_lexer": "ipython3",
   "version": "3.7.1"
  }
 },
 "nbformat": 4,
 "nbformat_minor": 2
}
