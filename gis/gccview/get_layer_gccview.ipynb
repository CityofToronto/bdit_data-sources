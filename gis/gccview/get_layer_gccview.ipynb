{
 "cells": [
  {
   "cell_type": "code",
   "execution_count": 743,
   "metadata": {},
   "outputs": [],
   "source": [
    "import configparser\n",
    "import requests\n",
    "import datetime\n",
    "from requests import Session\n",
    "from psycopg2 import connect\n",
    "from psycopg2.extras import execute_values\n",
    "from time import sleep\n",
    "CONFIG = configparser.ConfigParser()\n",
    "CONFIG.read(r'C:\\Users\\nchan6\\Documents\\db.cfg')\n",
    "dbset = CONFIG['DBSETTINGS']\n",
    "con = connect(**dbset)"
   ]
  },
  {
   "cell_type": "code",
   "execution_count": 923,
   "metadata": {},
   "outputs": [],
   "source": [
    "def get_tablename(mapserver, id):\n",
    "    '''Retrieve the name of the layer'''\n",
    "    url = 'https://insideto-gis.toronto.ca/arcgis/rest/services/{}/MapServer/layers?f=json'.format(mapserver)\n",
    "    r = requests.get(url, verify = False)\n",
    "    ajson = r.json()\n",
    "    layers = ajson['layers']\n",
    "    for layer in layers:\n",
    "        if layer['id'] == id:\n",
    "            output_name = (layer['name'].lower()).replace(' ', '_')\n",
    "        else:\n",
    "            continue\n",
    "    return output_name       "
   ]
  },
  {
   "cell_type": "code",
   "execution_count": 941,
   "metadata": {},
   "outputs": [],
   "source": [
    "def create_table(output_table, return_json):\n",
    "    '''Create a new table in postgresql for the layer'''\n",
    "    new_column = '('\n",
    "    insert_column= '('\n",
    "    fields = return_json['fields']\n",
    "    for field in fields:\n",
    "        if field['type'] == 'esriFieldTypeInteger' or field['type'] == 'esriFieldTypeInteger' or field['type'] =='esriFieldTypeOID' or field['type'] == 'esriFieldTypeSmallInteger' or field['type'] =='esriFieldGlobalID':\n",
    "                column_type = 'integer'\n",
    "        elif field['type'] == 'esriFieldTypeString':\n",
    "                column_type = 'text'\n",
    "        elif field['type'] == 'esriFieldTypeDouble':\n",
    "                column_type = 'numeric'\n",
    "        elif field['type'] == 'esriFieldTypeDate':\n",
    "                column_type = 'timestamp without time zone'\n",
    "                \n",
    "        column_name = (field['name'].lower()).replace('.', '_') \n",
    "        new_column = new_column + column_name +' '+column_type+', '\n",
    "        insert_column = insert_column + column_name +','\n",
    "\n",
    "    new_column = new_column +'geom geometry)' \n",
    "    insert_column = insert_column + 'geom)'\n",
    "    sql= '''create table _{} {}'''.format(output_table, new_column)\n",
    "    \n",
    "    with con:\n",
    "        with con.cursor() as cur:\n",
    "            cur.execute(sql) \n",
    "            \n",
    "    return insert_column        "
   ]
  },
  {
   "cell_type": "code",
   "execution_count": 911,
   "metadata": {},
   "outputs": [],
   "source": [
    "# Geometry Switcher \n",
    "def line(geom):\n",
    "    return 'SRID=4326;LineString('+','.join(' '.join(str(x) for x in tup) for tup in geom['paths'][0]) +')'\n",
    "def polygon(geom):\n",
    "    return 'SRID=4326;MultiPolygon((('+','.join(' '.join(str(x) for x in tup) for tup in geom['rings'][0]) +')))'\n",
    "def point(geom):\n",
    "    return 'SRID=4326;Point('+(str(geom['x']))+' '+ (str(geom['y']))+')'  \n",
    "def get_geometry(geometry_type, geom):\n",
    "    switcher = {\n",
    "        'esriGeometryLine':line,\n",
    "        'esriGeometryPolyline': line, \n",
    "        'esriGeometryPoint': point, \n",
    "        'esriGeometryMultiPolygon': polygon,\n",
    "        'esriGeometryPolygon': polygon\n",
    "    }\n",
    "    func = switcher.get(geometry_type)\n",
    "    geometry = (func(geom)) \n",
    "    return geometry"
   ]
  },
  {
   "cell_type": "code",
   "execution_count": 925,
   "metadata": {},
   "outputs": [],
   "source": [
    "def to_time(input):\n",
    "    '''Convert epoch time to postgresql timestamp without time zone'''    \n",
    "    time = datetime.datetime.fromtimestamp(input/1000).strftime('%Y-%m-%d %H:%M:%S')\n",
    "    return time"
   ]
  },
  {
   "cell_type": "code",
   "execution_count": 926,
   "metadata": {},
   "outputs": [],
   "source": [
    "def get_data(mapserver, id, max_number = None, record_max = None):\n",
    "    '''Get data from gcc view rest api'''        \n",
    "    base_url = \"https://insideto-gis.toronto.ca/arcgis/rest/services/{}/MapServer/{}/query\".format(mapserver, id)\n",
    "    query = {\"where\":\"1=1\",\n",
    "             \"outFields\": \"*\",\n",
    "             \"outSR\": '4326',         \n",
    "             \"returnGeometry\": \"true\",\n",
    "             \"returnTrueCurves\": \"false\",\n",
    "             \"returnIdsOnly\": \"false\",\n",
    "             \"returnCountOnly\": \"false\",\n",
    "             \"returnZ\": \"false\",\n",
    "             \"returnM\": \"false\",\n",
    "             \"orderByFields\": \"OBJECTID\", \n",
    "             \"returnDistinctValues\": \"false\",\n",
    "             \"returnExtentsOnly\": \"false\",\n",
    "             \"resultOffset\": \"{}\".format(max_number),\n",
    "             \"resultRecordCount\": \"{}\".format(record_max),\n",
    "             \"f\":\"json\"}\n",
    "    while True:\n",
    "        try :\n",
    "            r = requests.get(base_url, params = query, verify = False)\n",
    "        except requests.exceptions.SSLErrors:\n",
    "            sleep(10)\n",
    "            continue\n",
    "        else:\n",
    "            return_json = r.json() \n",
    "            break\n",
    "    return return_json"
   ]
  },
  {
   "cell_type": "code",
   "execution_count": 928,
   "metadata": {},
   "outputs": [],
   "source": [
    "def find_limit(return_json):\n",
    "    '''Check if last query return all rows'''   \n",
    "    if return_json.get('exceededTransferLimit', False) == True:\n",
    "        rule = 'add'\n",
    "    else:\n",
    "        rule = 'dont add'  \n",
    "    return rule   "
   ]
  },
  {
   "cell_type": "code",
   "execution_count": 938,
   "metadata": {},
   "outputs": [],
   "source": [
    "def send_tempdata(output_table, insert_column, return_json):\n",
    "    '''Send data to postgresql'''   \n",
    "    rows = []\n",
    "    features = return_json['features'] \n",
    "    fields = return_json['fields']\n",
    "    trials = [[field['name'], field['type']] for field in fields]\n",
    "    for feature in features:\n",
    "        geom = feature['geometry']\n",
    "        geometry_type = return_json['geometryType']\n",
    "        geometry = get_geometry(geometry_type, geom)\n",
    "        row = [feature['attributes'][trial[0]] if trial[1] != 'esriFieldTypeDate' or feature['attributes'][trial[0]] == None else to_time(feature['attributes'][trial[0]]) for trial in trials]\n",
    "        row.append(geometry)\n",
    "        rows.append(row)\n",
    "    \n",
    "    sql='INSERT INTO _{} {} VALUES %s'.format(output_table, insert_column)\n",
    "    with con:\n",
    "        with con.cursor() as cur:\n",
    "            execute_values(cur, sql, rows)    \n",
    "    print('sent')"
   ]
  },
  {
   "cell_type": "code",
   "execution_count": 1020,
   "metadata": {},
   "outputs": [],
   "source": [
    "def get_layer(mapserver, id):\n",
    "    \n",
    "    \"\"\"\n",
    "    This function calls to the GCCview rest API and inserts the outputs to the output table in the postgres database.\n",
    "\n",
    "    Parameters\n",
    "    ----------\n",
    "    mapserver : string\n",
    "        The name of the mapserver that host the desire layer\n",
    "\n",
    "    id : int\n",
    "        The id of desire layer\n",
    "        \n",
    "    \"\"\"  \n",
    "    output_table = get_tablename(mapserver, id)\n",
    "    \n",
    "    rule = \"add\"\n",
    "    counter = 0\n",
    "    \n",
    "    while rule == \"add\":\n",
    "           \n",
    "        if counter == 0:\n",
    "            return_json = get_data(mapserver, id)\n",
    "            insert_column = create_table(output_table, return_json)\n",
    "            features = return_json['features']\n",
    "            record_max=(len(features))\n",
    "            max_number = record_max\n",
    "            send_tempdata(output_table, insert_column, return_json)\n",
    "            counter += 1\n",
    "            rule = find_limit(return_json)\n",
    "            if rule != 'add':\n",
    "                print('all rows inserted in _', output_table)\n",
    "        else:\n",
    "            return_json = get_data(mapserver, id, max_number = max_number, record_max = record_max)\n",
    "            send_tempdata(output_table, insert_column, return_json)\n",
    "            counter += 1\n",
    "            rule = find_limit(return_json)\n",
    "            if rule == 'add':\n",
    "                max_number = max_number + record_max\n",
    "            else:\n",
    "                print('all rows inserted in _', output_table)\n",
    "    \n",
    "    print(find_diff(output_table))"
   ]
  },
  {
   "cell_type": "code",
   "execution_count": 1022,
   "metadata": {},
   "outputs": [],
   "source": [
    "# compare tables and delete or add\n",
    "def find_diff(output_table):\n",
    "    now = datetime.datetime.now()\n",
    "    date = (str(now.year)+str(now.month)+str(now.day))\n",
    "    # Find changes in tables\n",
    "    sql= '''select * from {} except select * from _{}'''.format(output_table, output_table)\n",
    "    with con:\n",
    "        with con.cursor() as cur:\n",
    "            cur.execute(sql)\n",
    "            # If there are no changes, delete the new table\n",
    "            if cur.statusmessage == 'SELECT 0':\n",
    "                sql = '''drop table _{}'''.format(output_table)\n",
    "                with con:\n",
    "                    with con.cursor() as cur:\n",
    "                        cur.execute(sql)\n",
    "                changes = 'no changes'\n",
    "            # If there are changes, update the new table, and rename the old table with today's date\n",
    "            else:\n",
    "                sql = '''alter table {} rename to {}_{}; alter table _{} rename to {} '''.format(output_table, output_table, date, output_table, output_table)\n",
    "                with con:\n",
    "                    with con.cursor() as cur:\n",
    "                        cur.execute(sql)\n",
    "                changes = 'updated table, new table in {}, old table in {}_{}'.format(output_table, output_table, date)\n",
    "            return changes"
   ]
  },
  {
   "cell_type": "code",
   "execution_count": 1021,
   "metadata": {},
   "outputs": [
    {
     "name": "stderr",
     "output_type": "stream",
     "text": [
      "C:\\ProgramData\\Anaconda3\\lib\\site-packages\\urllib3\\connectionpool.py:847: InsecureRequestWarning: Unverified HTTPS request is being made. Adding certificate verification is strongly advised. See: https://urllib3.readthedocs.io/en/latest/advanced-usage.html#ssl-warnings\n",
      "  InsecureRequestWarning)\n",
      "C:\\ProgramData\\Anaconda3\\lib\\site-packages\\urllib3\\connectionpool.py:847: InsecureRequestWarning: Unverified HTTPS request is being made. Adding certificate verification is strongly advised. See: https://urllib3.readthedocs.io/en/latest/advanced-usage.html#ssl-warnings\n",
      "  InsecureRequestWarning)\n"
     ]
    },
    {
     "name": "stdout",
     "output_type": "stream",
     "text": [
      "sent\n"
     ]
    },
    {
     "name": "stderr",
     "output_type": "stream",
     "text": [
      "C:\\ProgramData\\Anaconda3\\lib\\site-packages\\urllib3\\connectionpool.py:847: InsecureRequestWarning: Unverified HTTPS request is being made. Adding certificate verification is strongly advised. See: https://urllib3.readthedocs.io/en/latest/advanced-usage.html#ssl-warnings\n",
      "  InsecureRequestWarning)\n"
     ]
    },
    {
     "name": "stdout",
     "output_type": "stream",
     "text": [
      "sent\n"
     ]
    },
    {
     "name": "stderr",
     "output_type": "stream",
     "text": [
      "C:\\ProgramData\\Anaconda3\\lib\\site-packages\\urllib3\\connectionpool.py:847: InsecureRequestWarning: Unverified HTTPS request is being made. Adding certificate verification is strongly advised. See: https://urllib3.readthedocs.io/en/latest/advanced-usage.html#ssl-warnings\n",
      "  InsecureRequestWarning)\n"
     ]
    },
    {
     "name": "stdout",
     "output_type": "stream",
     "text": [
      "sent\n"
     ]
    },
    {
     "name": "stderr",
     "output_type": "stream",
     "text": [
      "C:\\ProgramData\\Anaconda3\\lib\\site-packages\\urllib3\\connectionpool.py:847: InsecureRequestWarning: Unverified HTTPS request is being made. Adding certificate verification is strongly advised. See: https://urllib3.readthedocs.io/en/latest/advanced-usage.html#ssl-warnings\n",
      "  InsecureRequestWarning)\n"
     ]
    },
    {
     "name": "stdout",
     "output_type": "stream",
     "text": [
      "sent\n"
     ]
    },
    {
     "name": "stderr",
     "output_type": "stream",
     "text": [
      "C:\\ProgramData\\Anaconda3\\lib\\site-packages\\urllib3\\connectionpool.py:847: InsecureRequestWarning: Unverified HTTPS request is being made. Adding certificate verification is strongly advised. See: https://urllib3.readthedocs.io/en/latest/advanced-usage.html#ssl-warnings\n",
      "  InsecureRequestWarning)\n"
     ]
    },
    {
     "name": "stdout",
     "output_type": "stream",
     "text": [
      "sent\n"
     ]
    },
    {
     "name": "stderr",
     "output_type": "stream",
     "text": [
      "C:\\ProgramData\\Anaconda3\\lib\\site-packages\\urllib3\\connectionpool.py:847: InsecureRequestWarning: Unverified HTTPS request is being made. Adding certificate verification is strongly advised. See: https://urllib3.readthedocs.io/en/latest/advanced-usage.html#ssl-warnings\n",
      "  InsecureRequestWarning)\n"
     ]
    },
    {
     "name": "stdout",
     "output_type": "stream",
     "text": [
      "sent\n"
     ]
    },
    {
     "name": "stderr",
     "output_type": "stream",
     "text": [
      "C:\\ProgramData\\Anaconda3\\lib\\site-packages\\urllib3\\connectionpool.py:847: InsecureRequestWarning: Unverified HTTPS request is being made. Adding certificate verification is strongly advised. See: https://urllib3.readthedocs.io/en/latest/advanced-usage.html#ssl-warnings\n",
      "  InsecureRequestWarning)\n"
     ]
    },
    {
     "name": "stdout",
     "output_type": "stream",
     "text": [
      "sent\n"
     ]
    },
    {
     "name": "stderr",
     "output_type": "stream",
     "text": [
      "C:\\ProgramData\\Anaconda3\\lib\\site-packages\\urllib3\\connectionpool.py:847: InsecureRequestWarning: Unverified HTTPS request is being made. Adding certificate verification is strongly advised. See: https://urllib3.readthedocs.io/en/latest/advanced-usage.html#ssl-warnings\n",
      "  InsecureRequestWarning)\n"
     ]
    },
    {
     "name": "stdout",
     "output_type": "stream",
     "text": [
      "sent\n",
      "all rows inserted in _ bikeway\n",
      "updated table, new table in bikeway, old table in bikeway_2019627\n"
     ]
    }
   ],
   "source": [
    "get_layer('cot_geospatial2', 2)"
   ]
  }
 ],
 "metadata": {
  "kernelspec": {
   "display_name": "Python 3",
   "language": "python",
   "name": "python3"
  },
  "language_info": {
   "codemirror_mode": {
    "name": "ipython",
    "version": 3
   },
   "file_extension": ".py",
   "mimetype": "text/x-python",
   "name": "python",
   "nbconvert_exporter": "python",
   "pygments_lexer": "ipython3",
   "version": "3.7.1"
  }
 },
 "nbformat": 4,
 "nbformat_minor": 2
}
