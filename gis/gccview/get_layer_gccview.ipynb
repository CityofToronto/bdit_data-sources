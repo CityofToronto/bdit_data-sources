{
 "cells": [
  {
   "cell_type": "code",
   "execution_count": 123,
   "metadata": {},
   "outputs": [],
   "source": [
    "import configparser\n",
    "import requests\n",
    "from requests import Session\n",
    "from psycopg2 import connect\n",
    "from psycopg2.extras import execute_values\n",
    "from time import sleep\n",
    "CONFIG = configparser.ConfigParser()\n",
    "CONFIG.read(r'C:\\Users\\nchan6\\Documents\\db.cfg')\n",
    "dbset = CONFIG['DBSETTINGS']\n",
    "con = connect(**dbset)"
   ]
  },
  {
   "cell_type": "code",
   "execution_count": 214,
   "metadata": {},
   "outputs": [],
   "source": [
    "def get_url(mapserver, id):\n",
    "    \"This prints the base_url for the request\"\n",
    "    url = \"https://insideto-gis.toronto.ca/arcgis/rest/services/{}/MapServer/{}/query\".format(mapserver, id)\n",
    "    return(url)"
   ]
  },
  {
   "cell_type": "code",
   "execution_count": 299,
   "metadata": {},
   "outputs": [],
   "source": [
    "def check_status(max_number, record_max):\n",
    "    \"This gets the request status\"\n",
    "    try:\n",
    "        r = requests.get(base_url, params = query, verify = False)\n",
    "    except requests.exceptions.SSLError:\n",
    "        sleep(30)\n",
    "        status = 'error_raised'\n",
    "    else:\n",
    "        status = 'successful'\n",
    "    return status"
   ]
  },
  {
   "cell_type": "code",
   "execution_count": 300,
   "metadata": {},
   "outputs": [],
   "source": [
    "def get_layer(mapserver, id, output_table):\n",
    "    \n",
    "    \"\"\"\n",
    "    This function calls to the GCCview rest API and inserts the outputs to the output table in the postgres database.\n",
    "\n",
    "    Parameters\n",
    "    ----------\n",
    "    mapserver : string\n",
    "        The name of the mapserver that host the desire layer\n",
    "\n",
    "    id : int\n",
    "        The id of desire layer\n",
    "\n",
    "    output_table: string\n",
    "        Name of table that returned row will be inserted into\n",
    "    \"\"\"  \n",
    "    base_url = get_url({}, {}).format(mapserver, id)\n",
    "    query = {\"where\":\"1=1\",\n",
    "             \"outFields\": \"*\",\n",
    "             \"outSR\": '4326',         \n",
    "             \"returnGeometry\": \"true\",\n",
    "             \"returnTrueCurves\": \"false\",\n",
    "             \"returnIdsOnly\": \"false\",\n",
    "             \"returnCountOnly\": \"false\",\n",
    "             \"returnZ\": \"false\",\n",
    "             \"returnM\": \"false\",\n",
    "             \"orderByFields\": \"OBJECTID\", \n",
    "             \"returnDistinctValues\": \"false\",\n",
    "             \"returnExtentsOnly\": \"false\",\n",
    "             \"f\":\"json\"}\n",
    "    # First get request to get maxnumber and append first request\n",
    "    r = requests.get(base_url, params = query, verify = False)\n",
    "    return_json = r.json()\n",
    "    features = return_json['features']\n",
    "    record_max=(len(features))\n",
    "    max_number = record_max\n",
    "    rows = []\n",
    "    # We first append the first set of features\n",
    "    for feature in features:\n",
    "        row = (feature['attributes']['CENTRELINE_ID'], \n",
    "                feature['attributes']['TRANS_ID_CREATE'],\n",
    "                feature['attributes']['OBJECTID'],\n",
    "                feature['attributes']['MI_PRINX'],\n",
    "                feature['attributes']['REC_ID'],\n",
    "                feature['attributes']['TYPE_CODE'],\n",
    "                feature['attributes']['TYPE_DESC'],\n",
    "                feature['attributes']['STATUS_CODE'],\n",
    "                feature['attributes']['STATUS_DESC'],\n",
    "                'SRID=4326;LineString('+','.join(' '.join(str(x) for x in tup) for tup in feature['geometry']['paths'][0]) +')')\n",
    "            \n",
    "        rows.append(row)\n",
    "            \n",
    "        # send to database    \n",
    "    sql='INSERT INTO {} (geo_id, trans_id_create, object_id, mi_prinx, rec_id, type_code, type_desc, status_code, status_desc, geometry) VALUES %s'.format(output_table)\n",
    "        \n",
    "    with con:\n",
    "        with con.cursor() as cur:\n",
    "            execute_values(cur, sql, rows) \n",
    "            \n",
    "    if return_json.get('exceededTransferLimit', False) == True:\n",
    "        # Then loop the rest of the features\n",
    "        while return_json.get('exceededTransferLimit', False) == True or check_status == 'error_raised':\n",
    "                print('Current loop:', max_number, record_max)\n",
    "                query = {\"where\": \"1=1\", \n",
    "                         \"outFields\": \"*\",\n",
    "                         \"outSR\": '4326',         \n",
    "                         \"returnGeometry\": \"true\",\n",
    "                         \"returnTrueCurves\": \"false\",\n",
    "                         \"returnIdsOnly\": \"false\",\n",
    "                         \"returnCountOnly\": \"false\",\n",
    "                         \"returnZ\": \"false\",\n",
    "                         \"returnM\": \"false\",\n",
    "                         \"returnDistinctValues\": \"false\",\n",
    "                         \"resultOffset\": \"{}\".format(max_number),\n",
    "                         \"resultRecordCount\": \"{}\".format(record_max),\n",
    "                         \"orderByFields\": \"OBJECTID\", \n",
    "                         \"returnExtentsOnly\": \"false\",\n",
    "                         \"f\":\"json\"}\n",
    "\n",
    "                check_status1 = check_status(max_number, record_max)\n",
    "                \n",
    "                if check_status1 == 'successful':\n",
    "                    r = requests.get(base_url, params = query, verify = False)\n",
    "                    return_json = r.json()\n",
    "                    features = return_json['features']\n",
    "                    \n",
    "                    print('length:', len(features))\n",
    "                    rows = []\n",
    "                    # We first append the first set of features\n",
    "                    for feature in features:\n",
    "                        row = (feature['attributes']['CENTRELINE_ID'], \n",
    "                               feature['attributes']['TRANS_ID_CREATE'],\n",
    "                               feature['attributes']['OBJECTID'],\n",
    "                               feature['attributes']['MI_PRINX'],\n",
    "                               feature['attributes']['REC_ID'],\n",
    "                               feature['attributes']['TYPE_CODE'],\n",
    "                               feature['attributes']['TYPE_DESC'],\n",
    "                               feature['attributes']['STATUS_CODE'],\n",
    "                               feature['attributes']['STATUS_DESC'],\n",
    "                               'SRID=4326;LineString('+','.join(' '.join(str(x) for x in tup) for tup in feature['geometry']['paths'][0]) +')')\n",
    "                        rows.append(row)\n",
    "                    # send to database    \n",
    "                    sql='INSERT INTO {} (geo_id, trans_id_create, object_id, mi_prinx, rec_id, type_code, type_desc, status_code, status_desc, geometry) VALUES %s'.format(output_table)\n",
    "\n",
    "                    with con:\n",
    "                        with con.cursor() as cur:\n",
    "                            execute_values(cur, sql, rows)       \n",
    "                    print('inserted')\n",
    "                    max_number = max_number + record_max\n",
    "                    print('Next max_number: ', max_number)\n",
    "                    \n",
    "                else:\n",
    "                    print('retrying')\n",
    "                    continue\n",
    "    else:\n",
    "        print('all rows inserted')"
   ]
  },
  {
   "cell_type": "code",
   "execution_count": 301,
   "metadata": {},
   "outputs": [
    {
     "name": "stderr",
     "output_type": "stream",
     "text": [
      "C:\\ProgramData\\Anaconda3\\lib\\site-packages\\urllib3\\connectionpool.py:847: InsecureRequestWarning: Unverified HTTPS request is being made. Adding certificate verification is strongly advised. See: https://urllib3.readthedocs.io/en/latest/advanced-usage.html#ssl-warnings\n",
      "  InsecureRequestWarning)\n"
     ]
    },
    {
     "name": "stdout",
     "output_type": "stream",
     "text": [
      "Current loop: 1000 1000\n"
     ]
    },
    {
     "name": "stderr",
     "output_type": "stream",
     "text": [
      "C:\\ProgramData\\Anaconda3\\lib\\site-packages\\urllib3\\connectionpool.py:847: InsecureRequestWarning: Unverified HTTPS request is being made. Adding certificate verification is strongly advised. See: https://urllib3.readthedocs.io/en/latest/advanced-usage.html#ssl-warnings\n",
      "  InsecureRequestWarning)\n",
      "C:\\ProgramData\\Anaconda3\\lib\\site-packages\\urllib3\\connectionpool.py:847: InsecureRequestWarning: Unverified HTTPS request is being made. Adding certificate verification is strongly advised. See: https://urllib3.readthedocs.io/en/latest/advanced-usage.html#ssl-warnings\n",
      "  InsecureRequestWarning)\n"
     ]
    },
    {
     "name": "stdout",
     "output_type": "stream",
     "text": [
      "length: 1000\n",
      "inserted\n",
      "Next max_number:  2000\n",
      "Current loop: 2000 1000\n"
     ]
    },
    {
     "name": "stderr",
     "output_type": "stream",
     "text": [
      "C:\\ProgramData\\Anaconda3\\lib\\site-packages\\urllib3\\connectionpool.py:847: InsecureRequestWarning: Unverified HTTPS request is being made. Adding certificate verification is strongly advised. See: https://urllib3.readthedocs.io/en/latest/advanced-usage.html#ssl-warnings\n",
      "  InsecureRequestWarning)\n",
      "C:\\ProgramData\\Anaconda3\\lib\\site-packages\\urllib3\\connectionpool.py:847: InsecureRequestWarning: Unverified HTTPS request is being made. Adding certificate verification is strongly advised. See: https://urllib3.readthedocs.io/en/latest/advanced-usage.html#ssl-warnings\n",
      "  InsecureRequestWarning)\n"
     ]
    },
    {
     "name": "stdout",
     "output_type": "stream",
     "text": [
      "length: 1000\n",
      "inserted\n",
      "Next max_number:  3000\n",
      "Current loop: 3000 1000\n"
     ]
    },
    {
     "name": "stderr",
     "output_type": "stream",
     "text": [
      "C:\\ProgramData\\Anaconda3\\lib\\site-packages\\urllib3\\connectionpool.py:847: InsecureRequestWarning: Unverified HTTPS request is being made. Adding certificate verification is strongly advised. See: https://urllib3.readthedocs.io/en/latest/advanced-usage.html#ssl-warnings\n",
      "  InsecureRequestWarning)\n",
      "C:\\ProgramData\\Anaconda3\\lib\\site-packages\\urllib3\\connectionpool.py:847: InsecureRequestWarning: Unverified HTTPS request is being made. Adding certificate verification is strongly advised. See: https://urllib3.readthedocs.io/en/latest/advanced-usage.html#ssl-warnings\n",
      "  InsecureRequestWarning)\n"
     ]
    },
    {
     "name": "stdout",
     "output_type": "stream",
     "text": [
      "length: 1000\n",
      "inserted\n",
      "Next max_number:  4000\n",
      "Current loop: 4000 1000\n"
     ]
    },
    {
     "name": "stderr",
     "output_type": "stream",
     "text": [
      "C:\\ProgramData\\Anaconda3\\lib\\site-packages\\urllib3\\connectionpool.py:847: InsecureRequestWarning: Unverified HTTPS request is being made. Adding certificate verification is strongly advised. See: https://urllib3.readthedocs.io/en/latest/advanced-usage.html#ssl-warnings\n",
      "  InsecureRequestWarning)\n",
      "C:\\ProgramData\\Anaconda3\\lib\\site-packages\\urllib3\\connectionpool.py:847: InsecureRequestWarning: Unverified HTTPS request is being made. Adding certificate verification is strongly advised. See: https://urllib3.readthedocs.io/en/latest/advanced-usage.html#ssl-warnings\n",
      "  InsecureRequestWarning)\n"
     ]
    },
    {
     "name": "stdout",
     "output_type": "stream",
     "text": [
      "length: 1000\n",
      "inserted\n",
      "Next max_number:  5000\n",
      "Current loop: 5000 1000\n"
     ]
    },
    {
     "name": "stderr",
     "output_type": "stream",
     "text": [
      "C:\\ProgramData\\Anaconda3\\lib\\site-packages\\urllib3\\connectionpool.py:847: InsecureRequestWarning: Unverified HTTPS request is being made. Adding certificate verification is strongly advised. See: https://urllib3.readthedocs.io/en/latest/advanced-usage.html#ssl-warnings\n",
      "  InsecureRequestWarning)\n",
      "C:\\ProgramData\\Anaconda3\\lib\\site-packages\\urllib3\\connectionpool.py:847: InsecureRequestWarning: Unverified HTTPS request is being made. Adding certificate verification is strongly advised. See: https://urllib3.readthedocs.io/en/latest/advanced-usage.html#ssl-warnings\n",
      "  InsecureRequestWarning)\n"
     ]
    },
    {
     "name": "stdout",
     "output_type": "stream",
     "text": [
      "length: 1000\n",
      "inserted\n",
      "Next max_number:  6000\n",
      "Current loop: 6000 1000\n"
     ]
    },
    {
     "name": "stderr",
     "output_type": "stream",
     "text": [
      "C:\\ProgramData\\Anaconda3\\lib\\site-packages\\urllib3\\connectionpool.py:847: InsecureRequestWarning: Unverified HTTPS request is being made. Adding certificate verification is strongly advised. See: https://urllib3.readthedocs.io/en/latest/advanced-usage.html#ssl-warnings\n",
      "  InsecureRequestWarning)\n",
      "C:\\ProgramData\\Anaconda3\\lib\\site-packages\\urllib3\\connectionpool.py:847: InsecureRequestWarning: Unverified HTTPS request is being made. Adding certificate verification is strongly advised. See: https://urllib3.readthedocs.io/en/latest/advanced-usage.html#ssl-warnings\n",
      "  InsecureRequestWarning)\n"
     ]
    },
    {
     "name": "stdout",
     "output_type": "stream",
     "text": [
      "length: 1000\n",
      "inserted\n",
      "Next max_number:  7000\n",
      "Current loop: 7000 1000\n"
     ]
    },
    {
     "name": "stderr",
     "output_type": "stream",
     "text": [
      "C:\\ProgramData\\Anaconda3\\lib\\site-packages\\urllib3\\connectionpool.py:847: InsecureRequestWarning: Unverified HTTPS request is being made. Adding certificate verification is strongly advised. See: https://urllib3.readthedocs.io/en/latest/advanced-usage.html#ssl-warnings\n",
      "  InsecureRequestWarning)\n",
      "C:\\ProgramData\\Anaconda3\\lib\\site-packages\\urllib3\\connectionpool.py:847: InsecureRequestWarning: Unverified HTTPS request is being made. Adding certificate verification is strongly advised. See: https://urllib3.readthedocs.io/en/latest/advanced-usage.html#ssl-warnings\n",
      "  InsecureRequestWarning)\n"
     ]
    },
    {
     "name": "stdout",
     "output_type": "stream",
     "text": [
      "length: 49\n",
      "inserted\n",
      "Next max_number:  8000\n"
     ]
    }
   ],
   "source": [
    "get_layer('cot_geospatial2', 2, 'gcc_table')"
   ]
  }
 ],
 "metadata": {
  "kernelspec": {
   "display_name": "Python 3",
   "language": "python",
   "name": "python3"
  },
  "language_info": {
   "codemirror_mode": {
    "name": "ipython",
    "version": 3
   },
   "file_extension": ".py",
   "mimetype": "text/x-python",
   "name": "python",
   "nbconvert_exporter": "python",
   "pygments_lexer": "ipython3",
   "version": "3.7.1"
  }
 },
 "nbformat": 4,
 "nbformat_minor": 2
}
