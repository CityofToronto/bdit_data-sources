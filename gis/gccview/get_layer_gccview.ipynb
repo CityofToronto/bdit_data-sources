{
 "cells": [
  {
   "cell_type": "code",
   "execution_count": 599,
   "metadata": {},
   "outputs": [],
   "source": [
    "import configparser\n",
    "import requests\n",
    "import datetime\n",
    "from requests import Session\n",
    "from psycopg2 import connect\n",
    "from psycopg2.extras import execute_values\n",
    "from time import sleep\n",
    "CONFIG = configparser.ConfigParser()\n",
    "CONFIG.read(r'C:\\Users\\nchan6\\Documents\\db.cfg')\n",
    "dbset = CONFIG['DBSETTINGS']\n",
    "con = connect(**dbset)"
   ]
  },
  {
   "cell_type": "code",
   "execution_count": 214,
   "metadata": {},
   "outputs": [],
   "source": [
    "def get_url(mapserver, id):\n",
    "    \"This prints the base_url for the request\"\n",
    "    url = \"https://insideto-gis.toronto.ca/arcgis/rest/services/{}/MapServer/{}/query\".format(mapserver, id)\n",
    "    return(url)"
   ]
  },
  {
   "cell_type": "code",
   "execution_count": 637,
   "metadata": {},
   "outputs": [],
   "source": [
    "def get_tablename(mapserver, id):\n",
    "\n",
    "    url = 'https://insideto-gis.toronto.ca/arcgis/rest/services/{}/MapServer/layers?f=json'.format(mapserver)\n",
    "    r = requests.get(url, verify = False)\n",
    "    ajson = r.json()\n",
    "    layers = ajson['layers']\n",
    "    for layer in layers:\n",
    "        if layer['id'] == id:\n",
    "            output_name = (layer['name'].lower()).replace(' ', '_')\n",
    "        else:\n",
    "            continue\n",
    "    return output_name       "
   ]
  },
  {
   "cell_type": "code",
   "execution_count": 608,
   "metadata": {},
   "outputs": [],
   "source": [
    "def to_time(input):\n",
    "    time = datetime.datetime.fromtimestamp(input/1000).strftime('%Y-%m-%d %H:%M:%S')\n",
    "    return time"
   ]
  },
  {
   "cell_type": "code",
   "execution_count": 603,
   "metadata": {},
   "outputs": [],
   "source": [
    "def check_status(max_number, record_max, output_table, insert_column):\n",
    "    \"This gets the request status\"\n",
    "    try:\n",
    "        query = {\"where\": \"1=1\", \n",
    "                \"outFields\": \"*\",\n",
    "                \"outSR\": '4326',         \n",
    "                \"returnGeometry\": \"true\",\n",
    "                \"returnTrueCurves\": \"false\",\n",
    "                \"returnIdsOnly\": \"false\",\n",
    "                \"returnCountOnly\": \"false\",\n",
    "                \"returnZ\": \"false\",\n",
    "                \"returnM\": \"false\",\n",
    "                \"returnDistinctValues\": \"false\",\n",
    "                \"resultOffset\": \"{}\".format(max_number),\n",
    "                \"resultRecordCount\": \"{}\".format(record_max),\n",
    "                \"orderByFields\": \"OBJECTID\", \n",
    "                \"returnExtentsOnly\": \"false\",\n",
    "                \"f\":\"json\"}  \n",
    "\n",
    "        print(query)\n",
    "        print(max_number, record_max)\n",
    "        r = requests.get(base_url, params = query, verify = False)\n",
    "    except requests.exceptions.SSLError:\n",
    "        sleep(5)\n",
    "        error_status = 'somethings up'\n",
    "        rule = 'dont add'\n",
    "        status = (error_status, rule)\n",
    "    else:\n",
    "        return_json = r.json()\n",
    "        features = return_json['features']\n",
    "        fields = return_json['fields']\n",
    "        trials = [[field['name'], field['type']] for field in fields]\n",
    "        rows = []\n",
    "        for feature in features:\n",
    "            geometry = 'SRID=4326;LineString('+','.join(' '.join(str(x) for x in tup) for tup in feature['geometry']['paths'][0]) +')'\n",
    "            row = [feature['attributes'][trial[0]] if trial[1] != 'esriFieldTypeDate' else datetime.datetime.fromtimestamp((feature['attributes'][trial[0]])/1000).strftime('%Y-%m-%d %H:%M:%S') for trial in trials]\n",
    "            row.append(geometry)\n",
    "            rows.append(row)          \n",
    "\n",
    "        sql='INSERT INTO {} {} VALUES %s'.format(output_table, insert_column)\n",
    "\n",
    "        with con:\n",
    "            with con.cursor() as cur:\n",
    "                execute_values(cur, sql, rows)   \n",
    "                \n",
    "        if return_json.get('exceededTransferLimit', False) == True:\n",
    "            rule = 'add'\n",
    "        else:\n",
    "            rule = 'dont add'  \n",
    "            \n",
    "        error_status = 'success'\n",
    "        status = (error_status, rule)    \n",
    "    return status"
   ]
  },
  {
   "cell_type": "code",
   "execution_count": 639,
   "metadata": {},
   "outputs": [],
   "source": [
    "def get_layer(mapserver, id):\n",
    "    \n",
    "    \"\"\"\n",
    "    This function calls to the GCCview rest API and inserts the outputs to the output table in the postgres database.\n",
    "\n",
    "    Parameters\n",
    "    ----------\n",
    "    mapserver : string\n",
    "        The name of the mapserver that host the desire layer\n",
    "\n",
    "    id : int\n",
    "        The id of desire layer\n",
    "\n",
    "    output_table: string\n",
    "        Name of table that returned row will be inserted into\n",
    "        \n",
    "    \"\"\"  \n",
    "    output_table = get_tablename(mapserver, id)\n",
    "    base_url = get_url({}, {}).format(mapserver, id)\n",
    "    query = {\"where\":\"1=1\",\n",
    "             \"outFields\": \"*\",\n",
    "             \"outSR\": '4326',         \n",
    "             \"returnGeometry\": \"true\",\n",
    "             \"returnTrueCurves\": \"false\",\n",
    "             \"returnIdsOnly\": \"false\",\n",
    "             \"returnCountOnly\": \"false\",\n",
    "             \"returnZ\": \"false\",\n",
    "             \"returnM\": \"false\",\n",
    "             \"orderByFields\": \"OBJECTID\", \n",
    "             \"returnDistinctValues\": \"false\",\n",
    "             \"returnExtentsOnly\": \"false\",\n",
    "             \"f\":\"json\"}\n",
    "    \n",
    "    # First get request to get maxnumber and append first request\n",
    "    r = requests.get(base_url, params = query, verify = False)\n",
    "    return_json = r.json()\n",
    "    features = return_json['features']\n",
    "    record_max=(len(features))\n",
    "    max_number = record_max\n",
    "    rows = []\n",
    "    \n",
    "    # Create a table in postgres based on returned fields\n",
    "    fields = return_json['fields']\n",
    "    new_column = '('\n",
    "    insert_column= '('\n",
    "    for field in fields:\n",
    "        column_name = (field['name'].lower()).replace('.', '_')\n",
    "        if field['type'] == 'esriFieldTypeInteger' or field['type'] == 'esriFieldTypeInteger' or field['type'] =='esriFieldTypeOID' or field['type'] == 'esriFieldTypeSmallInteger' or field['type'] =='esriFieldGlobalID':\n",
    "                column_type = 'integer'\n",
    "        elif field['type'] == 'esriFieldTypeString':\n",
    "                column_type = 'text'\n",
    "        elif field['type'] == 'esriFieldTypeDouble':\n",
    "                column_type = 'numeric'\n",
    "        elif field['type'] == 'esriFieldTypeDate':\n",
    "                column_type = 'timestamp without time zone'\n",
    "                               \n",
    "        new_column = new_column + column_name +' '+column_type+', '\n",
    "        insert_column = insert_column + column_name +','\n",
    "        \n",
    "    new_column = new_column +'geom geometry)' \n",
    "    insert_column = insert_column + 'geom)'\n",
    "    \n",
    "    sql= '''create table {} {}'''.format(output_table, new_column)\n",
    "    \n",
    "    with con:\n",
    "        with con.cursor() as cur:\n",
    "            cur.execute(sql)  \n",
    "    \n",
    "    # We first append the first set of features    \n",
    "    trials = [[field['name'], field['type']] for field in fields]\n",
    "    rows = []\n",
    "         \n",
    "    # Set up geometry for point, line, and polygon  \n",
    "    for feature in features:\n",
    "        if return_json['geometryType'] == 'esriGeometryPolyline' or return_json['geometryType'] == 'esriGeometryLine':\n",
    "            geometry = 'SRID=4326;LineString('+','.join(' '.join(str(x) for x in tup) for tup in feature['geometry']['paths'][0]) +')'\n",
    "        \n",
    "        elif return_json['geometryType'] =='esriGeometryPoint':\n",
    "            geometry = 'SRID=4326;Point('+(str(feature['geometry']['x']))+' '+ (str(feature['geometry']['y']))+')'                       \n",
    "        \n",
    "        elif return_json['geometryType'] =='esriGeometryPolygon' or return_json['geometryType'] =='esriGeometryMultiPolygon':\n",
    "            geometry = 'SRID=4326;MultiPolygon((('+','.join(' '.join(str(x) for x in tup) for tup in feature['geometry']['rings'][0]) +')))'    \n",
    "        \n",
    "        row = [feature['attributes'][trial[0]] if trial[1] != 'esriFieldTypeDate' or feature['attributes'][trial[0]] == None else to_time(feature['attributes'][trial[0]]) for trial in trials]\n",
    "        row.append(geometry)\n",
    "        rows.append(row)          \n",
    "    \n",
    "    sql='INSERT INTO {} {} VALUES %s'.format(output_table, insert_column)\n",
    "        \n",
    "    with con:\n",
    "        with con.cursor() as cur:\n",
    "            execute_values(cur, sql, rows)        \n",
    "    \n",
    "    if return_json.get('exceededTransferLimit', False) == True:\n",
    "        error_status = 'successful'\n",
    "        rule = 'add'\n",
    "    else:\n",
    "        error_status = 'successful'\n",
    "        rule = 'dont add'\n",
    "    status = (error_status, rule)\n",
    "    \n",
    "    print(status)\n",
    "    print(max_number, record_max)\n",
    "    if status[1] == 'add':\n",
    "        while status[0] =='successful' or status[0] == 'somethings up' or status[1] == 'add':\n",
    "\n",
    "            status = check_status(max_number, record_max, output_table, insert_column)\n",
    "\n",
    "            if status[0] == 'successful' or status[1] == 'add':\n",
    "                max_number = max_number + record_max\n",
    "            elif status[0] == 'somethings up' or status[1] == 'dont add':\n",
    "                continue \n",
    "                \n",
    "            print(max_number)\n",
    "    else:\n",
    "        print('all rows inserted')"
   ]
  },
  {
   "cell_type": "code",
   "execution_count": 640,
   "metadata": {},
   "outputs": [
    {
     "name": "stderr",
     "output_type": "stream",
     "text": [
      "C:\\ProgramData\\Anaconda3\\lib\\site-packages\\urllib3\\connectionpool.py:847: InsecureRequestWarning: Unverified HTTPS request is being made. Adding certificate verification is strongly advised. See: https://urllib3.readthedocs.io/en/latest/advanced-usage.html#ssl-warnings\n",
      "  InsecureRequestWarning)\n",
      "C:\\ProgramData\\Anaconda3\\lib\\site-packages\\urllib3\\connectionpool.py:847: InsecureRequestWarning: Unverified HTTPS request is being made. Adding certificate verification is strongly advised. See: https://urllib3.readthedocs.io/en/latest/advanced-usage.html#ssl-warnings\n",
      "  InsecureRequestWarning)\n"
     ]
    },
    {
     "name": "stdout",
     "output_type": "stream",
     "text": [
      "('successful', 'dont add')\n",
      "479 479\n",
      "all rows inserted\n"
     ]
    }
   ],
   "source": [
    "get_layer('cot_geospatial2', 7)"
   ]
  },
  {
   "cell_type": "code",
   "execution_count": 641,
   "metadata": {},
   "outputs": [
    {
     "name": "stderr",
     "output_type": "stream",
     "text": [
      "C:\\ProgramData\\Anaconda3\\lib\\site-packages\\urllib3\\connectionpool.py:847: InsecureRequestWarning: Unverified HTTPS request is being made. Adding certificate verification is strongly advised. See: https://urllib3.readthedocs.io/en/latest/advanced-usage.html#ssl-warnings\n",
      "  InsecureRequestWarning)\n"
     ]
    },
    {
     "data": {
      "text/plain": [
       "'pedestrian_crossover'"
      ]
     },
     "execution_count": 641,
     "metadata": {},
     "output_type": "execute_result"
    }
   ],
   "source": [
    "get_tablename('cot_geospatial2', 7)"
   ]
  }
 ],
 "metadata": {
  "kernelspec": {
   "display_name": "Python 3",
   "language": "python",
   "name": "python3"
  },
  "language_info": {
   "codemirror_mode": {
    "name": "ipython",
    "version": 3
   },
   "file_extension": ".py",
   "mimetype": "text/x-python",
   "name": "python",
   "nbconvert_exporter": "python",
   "pygments_lexer": "ipython3",
   "version": "3.7.1"
  }
 },
 "nbformat": 4,
 "nbformat_minor": 2
}
