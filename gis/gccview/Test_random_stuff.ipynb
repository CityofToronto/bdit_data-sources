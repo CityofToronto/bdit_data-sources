{
 "cells": [
  {
   "cell_type": "code",
   "execution_count": 12,
   "id": "63a0149b-e42b-476e-a28c-96040ed52068",
   "metadata": {},
   "outputs": [],
   "source": [
    "import logging"
   ]
  },
  {
   "cell_type": "code",
   "execution_count": 9,
   "id": "a1f8d792-2e8d-45bb-8052-7733ef86740e",
   "metadata": {},
   "outputs": [],
   "source": [
    "a = \"\\\"FEATURE_CODE_DESC\\\" IN ('Collector','Collector Ramp','Expressway','Expressway Ramp','Local','Major Arterial','Major Arterial Ramp','Minor Arterial','Minor Arterial Ramp','Pending')\""
   ]
  },
  {
   "cell_type": "code",
   "execution_count": 10,
   "id": "8b9877ca-75a3-418a-9e5e-309c64f8d63c",
   "metadata": {},
   "outputs": [
    {
     "name": "stdout",
     "output_type": "stream",
     "text": [
      "\"FEATURE_CODE_DESC\" IN ('Collector','Collector Ramp','Expressway','Expressway Ramp','Local','Major Arterial','Major Arterial Ramp','Minor Arterial','Minor Arterial Ramp','Pending')\n"
     ]
    }
   ],
   "source": [
    "print(a)"
   ]
  },
  {
   "cell_type": "code",
   "execution_count": 13,
   "id": "098ca2bb-6fb7-47e4-932d-e8205b56c885",
   "metadata": {},
   "outputs": [],
   "source": [
    "LOGGER = logging.getLogger(__name__)\n",
    "logging.basicConfig(level=logging.DEBUG)"
   ]
  },
  {
   "cell_type": "code",
   "execution_count": 21,
   "id": "c4d4219e-19bd-4418-a057-7d6707514adb",
   "metadata": {},
   "outputs": [],
   "source": [
    "length = 500\n",
    "output_table = 'centreline'\n",
    "mapserver = 'cot_geospatial'\n",
    "layer_id =19"
   ]
  },
  {
   "cell_type": "code",
   "execution_count": 5,
   "id": "c38a32db-8dd1-4aa6-acd4-4c6093d753c5",
   "metadata": {},
   "outputs": [
    {
     "name": "stdout",
     "output_type": "stream",
     "text": [
      "Successfully inserted 500 entries into centreline\n"
     ]
    }
   ],
   "source": [
    "print('Successfully inserted %d entries into %s' % (length, output_table))"
   ]
  },
  {
   "cell_type": "code",
   "execution_count": 11,
   "id": "1dba8276-e23e-44b2-a28d-1630e64d1932",
   "metadata": {},
   "outputs": [
    {
     "name": "stderr",
     "output_type": "stream",
     "text": [
      "DEBUG:__main__:Successfully inserted 500 entries into centreline\n"
     ]
    }
   ],
   "source": [
    "LOGGER.debug('Successfully inserted %d entries into %s', length, output_table)"
   ]
  },
  {
   "cell_type": "code",
   "execution_count": 22,
   "id": "ccdb9d81-31b3-4ed9-9779-76e81afbd8fb",
   "metadata": {},
   "outputs": [
    {
     "name": "stderr",
     "output_type": "stream",
     "text": [
      "INFO:__main__:All entries from [mapserver: cot_geospatial, layerID: 19] have been inserted into centreline\n"
     ]
    }
   ],
   "source": [
    "LOGGER.info('All entries from [mapserver: %s, layerID: %d] have been inserted into %s', mapserver, layer_id, output_table)"
   ]
  },
  {
   "cell_type": "code",
   "execution_count": 2,
   "id": "bbea70ec-a9dd-408e-842a-ff652b96887d",
   "metadata": {},
   "outputs": [],
   "source": [
    "import datetime\n"
   ]
  },
  {
   "cell_type": "code",
   "execution_count": 2,
   "id": "b01c2021-2578-4150-93b0-913e076aae24",
   "metadata": {},
   "outputs": [],
   "source": [
    "now = datetime.datetime.now()\n",
    "date = (str(now.year)+str(now.month)+str(now.day))"
   ]
  },
  {
   "cell_type": "code",
   "execution_count": 3,
   "id": "0ba2bb39-3f82-4b35-9bcc-8e7bb91385a8",
   "metadata": {},
   "outputs": [
    {
     "name": "stdout",
     "output_type": "stream",
     "text": [
      "2022922\n"
     ]
    }
   ],
   "source": [
    "print(date)"
   ]
  },
  {
   "cell_type": "code",
   "execution_count": null,
   "id": "884f7caf-8641-4b31-9cab-46d5f3e2c4c8",
   "metadata": {},
   "outputs": [],
   "source": [
    "pull_vfh_layers = PythonOperator(\n",
    "    task_id='pull_vfh_layers',\n",
    "    python_callable=get_layer,\n",
    "    op_args = [xxx,xxx,yyy]\n",
    ")\n"
   ]
  },
  {
   "cell_type": "code",
   "execution_count": 6,
   "id": "6aaf677f-b5bd-44dc-8283-b4cc5abee7c3",
   "metadata": {},
   "outputs": [
    {
     "name": "stdout",
     "output_type": "stream",
     "text": [
      "2022-09-28\n"
     ]
    }
   ],
   "source": [
    "today_string = datetime.date.today().strftime('%Y-%m-%d')\n",
    "print(today)"
   ]
  },
  {
   "cell_type": "code",
   "execution_count": 13,
   "id": "3e2b1b8c-a1ac-48ac-af59-1cf5d56530c7",
   "metadata": {},
   "outputs": [
    {
     "name": "stdout",
     "output_type": "stream",
     "text": [
      "bruce_parent\n"
     ]
    }
   ],
   "source": [
    "import re\n",
    "url = 'bruce_48683545'\n",
    "parent_name = re.sub('_\\d+$', '', url) + '_parent'\n",
    "print(parent_name)"
   ]
  },
  {
   "cell_type": "code",
   "execution_count": 16,
   "id": "5dd3d997-601b-4e35-999b-22d5c1267e99",
   "metadata": {},
   "outputs": [],
   "source": [
    "def two_returns():\n",
    "    return 3, 5"
   ]
  },
  {
   "cell_type": "code",
   "execution_count": 22,
   "id": "b799f755-3f05-4ece-b44c-05ef684f8fb3",
   "metadata": {},
   "outputs": [
    {
     "name": "stdout",
     "output_type": "stream",
     "text": [
      "5\n"
     ]
    }
   ],
   "source": [
    "(fir, sec) = two_returns()\n",
    "print(sec)"
   ]
  },
  {
   "cell_type": "code",
   "execution_count": null,
   "id": "8e962de2-f257-4f13-831b-a8f7eba0bf32",
   "metadata": {},
   "outputs": [],
   "source": []
  }
 ],
 "metadata": {
  "kernelspec": {
   "display_name": "Python 3 (ipykernel)",
   "language": "python",
   "name": "python3"
  },
  "language_info": {
   "codemirror_mode": {
    "name": "ipython",
    "version": 3
   },
   "file_extension": ".py",
   "mimetype": "text/x-python",
   "name": "python",
   "nbconvert_exporter": "python",
   "pygments_lexer": "ipython3",
   "version": "3.9.7"
  }
 },
 "nbformat": 4,
 "nbformat_minor": 5
}
