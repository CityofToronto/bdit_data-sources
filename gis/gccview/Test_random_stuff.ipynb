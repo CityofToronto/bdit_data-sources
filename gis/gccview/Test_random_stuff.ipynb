{
 "cells": [
  {
   "cell_type": "code",
   "execution_count": 12,
   "id": "63a0149b-e42b-476e-a28c-96040ed52068",
   "metadata": {},
   "outputs": [],
   "source": [
    "import logging"
   ]
  },
  {
   "cell_type": "code",
   "execution_count": 13,
   "id": "098ca2bb-6fb7-47e4-932d-e8205b56c885",
   "metadata": {},
   "outputs": [],
   "source": [
    "LOGGER = logging.getLogger(__name__)\n",
    "logging.basicConfig(level=logging.DEBUG)"
   ]
  },
  {
   "cell_type": "code",
   "execution_count": 21,
   "id": "c4d4219e-19bd-4418-a057-7d6707514adb",
   "metadata": {},
   "outputs": [],
   "source": [
    "length = 500\n",
    "output_table = 'centreline'\n",
    "mapserver = 'cot_geospatial'\n",
    "layer_id =19"
   ]
  },
  {
   "cell_type": "code",
   "execution_count": 5,
   "id": "c38a32db-8dd1-4aa6-acd4-4c6093d753c5",
   "metadata": {},
   "outputs": [
    {
     "name": "stdout",
     "output_type": "stream",
     "text": [
      "Successfully inserted 500 entries into centreline\n"
     ]
    }
   ],
   "source": [
    "print('Successfully inserted %d entries into %s' % (length, output_table))"
   ]
  },
  {
   "cell_type": "code",
   "execution_count": 11,
   "id": "1dba8276-e23e-44b2-a28d-1630e64d1932",
   "metadata": {},
   "outputs": [
    {
     "name": "stderr",
     "output_type": "stream",
     "text": [
      "DEBUG:__main__:Successfully inserted 500 entries into centreline\n"
     ]
    }
   ],
   "source": [
    "LOGGER.debug('Successfully inserted %d entries into %s', length, output_table)"
   ]
  },
  {
   "cell_type": "code",
   "execution_count": 22,
   "id": "ccdb9d81-31b3-4ed9-9779-76e81afbd8fb",
   "metadata": {},
   "outputs": [
    {
     "name": "stderr",
     "output_type": "stream",
     "text": [
      "INFO:__main__:All entries from [mapserver: cot_geospatial, layerID: 19] have been inserted into centreline\n"
     ]
    }
   ],
   "source": [
    "LOGGER.info('All entries from [mapserver: %s, layerID: %d] have been inserted into %s', mapserver, layer_id, output_table)"
   ]
  },
  {
   "cell_type": "code",
   "execution_count": null,
   "id": "b01c2021-2578-4150-93b0-913e076aae24",
   "metadata": {},
   "outputs": [],
   "source": []
  }
 ],
 "metadata": {
  "kernelspec": {
   "display_name": "Python 3 (ipykernel)",
   "language": "python",
   "name": "python3"
  },
  "language_info": {
   "codemirror_mode": {
    "name": "ipython",
    "version": 3
   },
   "file_extension": ".py",
   "mimetype": "text/x-python",
   "name": "python",
   "nbconvert_exporter": "python",
   "pygments_lexer": "ipython3",
   "version": "3.9.6"
  }
 },
 "nbformat": 4,
 "nbformat_minor": 5
}
