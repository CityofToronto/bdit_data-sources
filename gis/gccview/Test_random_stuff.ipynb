{
 "cells": [
  {
   "cell_type": "code",
   "execution_count": null,
   "id": "c4d4219e-19bd-4418-a057-7d6707514adb",
   "metadata": {},
   "outputs": [],
   "source": [
    "length = 500\n",
    "output_table = 'centreline'\n"
   ]
  },
  {
   "cell_type": "code",
   "execution_count": null,
   "id": "c38a32db-8dd1-4aa6-acd4-4c6093d753c5",
   "metadata": {},
   "outputs": [],
   "source": [
    "print(\"Successfully inserted %d entries into %s\", length, output_table)"
   ]
  }
 ],
 "metadata": {
  "kernelspec": {
   "display_name": "Python 3 (ipykernel)",
   "language": "python",
   "name": "python3"
  },
  "language_info": {
   "codemirror_mode": {
    "name": "ipython",
    "version": 3
   },
   "file_extension": ".py",
   "mimetype": "text/x-python",
   "name": "python",
   "nbconvert_exporter": "python",
   "pygments_lexer": "ipython3",
   "version": "3.9.6"
  }
 },
 "nbformat": 4,
 "nbformat_minor": 5
}
