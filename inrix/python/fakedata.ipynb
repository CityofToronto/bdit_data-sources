{
 "cells": [
  {
   "cell_type": "markdown",
   "metadata": {},
   "source": [
    "Creating fake inrix data to test local PostgreSQL performance vs. our current server."
   ]
  },
  {
   "cell_type": "code",
   "execution_count": 4,
   "metadata": {
    "collapsed": true
   },
   "outputs": [],
   "source": [
    "import datetime\n",
    "from os import chdir\n",
    "import csv\n"
   ]
  },
  {
   "cell_type": "code",
   "execution_count": 3,
   "metadata": {
    "collapsed": true
   },
   "outputs": [],
   "source": [
    "def daterange(start, stop, step):\n",
    "    while start < stop:\n",
    "        yield start\n",
    "        start += step"
   ]
  },
  {
   "cell_type": "code",
   "execution_count": 13,
   "metadata": {
    "collapsed": false
   },
   "outputs": [],
   "source": [
    "#Generate fake TMCs\n",
    "import string\n",
    "import random\n",
    "def id_generator(size=6, chars=string.ascii_uppercase + string.digits):\n",
    "    return ''.join(random.choice(chars) for _ in range(size))\n",
    "\n",
    "tmcs = []\n",
    "for i in range (3100):\n",
    "    tmcs.append(id_generator(9))"
   ]
  },
  {
   "cell_type": "code",
   "execution_count": null,
   "metadata": {
    "collapsed": true
   },
   "outputs": [],
   "source": []
  },
  {
   "cell_type": "code",
   "execution_count": 17,
   "metadata": {
    "collapsed": false
   },
   "outputs": [],
   "source": [
    "#WARNING, TREAD LIGHTLY THIS WILL GENERATE 12 GIGS of DATA\n",
    "with open('fakedata.csv', 'w',newline='') as fp:\n",
    "    a = csv.writer(fp, delimiter=',')\n",
    "    step = datetime.timedelta(seconds=60)\n",
    "    starttime = datetime.datetime(2012,7,1,0,0,0)\n",
    "    stoptime = datetime.datetime(2012,8,1,0,0)\n",
    "    for tx in daterange(starttime,stoptime,step):\n",
    "        for tmc in tmcs:\n",
    "            speed = random.randint(1,120)\n",
    "            score = random.randint(0,30)\n",
    "            a.writerow([tx,tmc,speed,score])\n",
    "        "
   ]
  },
  {
   "cell_type": "code",
   "execution_count": null,
   "metadata": {
    "collapsed": true
   },
   "outputs": [],
   "source": []
  }
 ],
 "metadata": {
  "kernelspec": {
   "display_name": "Python [Root]",
   "language": "python",
   "name": "Python [Root]"
  },
  "language_info": {
   "codemirror_mode": {
    "name": "ipython",
    "version": 3
   },
   "file_extension": ".py",
   "mimetype": "text/x-python",
   "name": "python",
   "nbconvert_exporter": "python",
   "pygments_lexer": "ipython3",
   "version": "3.5.2"
  }
 },
 "nbformat": 4,
 "nbformat_minor": 0
}
