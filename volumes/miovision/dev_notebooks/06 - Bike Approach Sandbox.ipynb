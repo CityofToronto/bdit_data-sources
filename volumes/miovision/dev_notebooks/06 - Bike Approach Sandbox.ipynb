{
 "cells": [
  {
   "cell_type": "markdown",
   "id": "bd2bc84e",
   "metadata": {},
   "source": [
    "# Bike Approach Sandbox\n",
    "\n",
    "This notebook documents development of a pipeline for reading bicycle approach-based counts and uploading results to Postgres."
   ]
  },
  {
   "cell_type": "code",
   "execution_count": 1,
   "id": "ac3f6939",
   "metadata": {},
   "outputs": [],
   "source": [
    "import psycopg2\n",
    "import math\n",
    "import pytz\n",
    "import datetime\n",
    "import dateutil\n",
    "import requests\n",
    "import json\n",
    "import pandas as pd\n",
    "import pathlib\n",
    "import configparser\n",
    "import matplotlib.pyplot as plt\n",
    "\n",
    "import sys\n",
    "import intersection_tmc_notebook06test as itmc"
   ]
  },
  {
   "cell_type": "code",
   "execution_count": 2,
   "id": "3a516048",
   "metadata": {},
   "outputs": [],
   "source": [
    "# Grab Postgres and Miovision credentials.\n",
    "config = configparser.ConfigParser()\n",
    "config.read(pathlib.Path.home().joinpath('.charlesconfig').as_posix())\n",
    "postgres_settings = config['POSTGRES']\n",
    "miov_token = config['MIOVISION']['key']"
   ]
  },
  {
   "cell_type": "code",
   "execution_count": 3,
   "id": "0540e4c6",
   "metadata": {},
   "outputs": [],
   "source": [
    "start_time = dateutil.parser.parse('2021-05-04 12:00:00')\n",
    "end_time = dateutil.parser.parse('2021-05-04 15:00:00')"
   ]
  },
  {
   "cell_type": "markdown",
   "id": "405a537a",
   "metadata": {},
   "source": [
    "## Get Intersection IDs"
   ]
  },
  {
   "cell_type": "code",
   "execution_count": 4,
   "id": "8168e27f",
   "metadata": {},
   "outputs": [],
   "source": [
    "# Retrieve data from the Postgres raw data.\n",
    "sql_query = \"\"\"SELECT *\n",
    "FROM miovision_api.intersections\n",
    "\"\"\"\n",
    "\n",
    "with psycopg2.connect(**postgres_settings) as db_con:\n",
    "    df_int = pd.read_sql(sql_query, db_con)\n",
    "    \n",
    "intersection_id_lookup = dict(zip(df_int['intersection_name'], df_int['id']))\n",
    "intersection_uid_lookup = dict(zip(df_int['intersection_name'], df_int['intersection_uid']))"
   ]
  },
  {
   "cell_type": "markdown",
   "id": "83477b0e",
   "metadata": {},
   "source": [
    "## Examine API Response For Bike Approach Volumes"
   ]
  },
  {
   "cell_type": "code",
   "execution_count": 5,
   "id": "ee0d8e5a",
   "metadata": {},
   "outputs": [],
   "source": [
    "def get_intersection_tmc_raw(start_time, end_time, intersection_id1,\n",
    "                             intersection_uid, key=miov_token):\n",
    "\n",
    "    headers={'Content-Type': 'application/json',\n",
    "             'Authorization':key}\n",
    "\n",
    "    # Subtract 1 ms from endTime to handle hallucinated rows that occur at\n",
    "    # exactly endTime (See bdit_data-sources/#374).\n",
    "    params = {'endTime': (end_time\n",
    "                          - datetime.timedelta(milliseconds=1)),\n",
    "              'startTime': start_time}\n",
    "\n",
    "    response = itmc.session.get(\n",
    "        itmc.url + intersection_id1 + itmc.tmc_endpoint,\n",
    "        params=params, headers=headers, proxies=itmc.session.proxies)\n",
    "    \n",
    "    return response\n",
    "\n",
    "response = get_intersection_tmc_raw(start_time, end_time, intersection_id_lookup['Richmond / Bay'],\n",
    "                                    intersection_uid_lookup['Richmond / Bay'])"
   ]
  },
  {
   "cell_type": "code",
   "execution_count": 6,
   "id": "1f285650",
   "metadata": {},
   "outputs": [],
   "source": [
    "tmc_data = json.loads(response.content.decode('utf-8'))\n",
    "df_tmc_data = pd.DataFrame(tmc_data)"
   ]
  },
  {
   "cell_type": "code",
   "execution_count": 7,
   "id": "bd55de46",
   "metadata": {},
   "outputs": [
    {
     "data": {
      "text/html": [
       "<div>\n",
       "<style scoped>\n",
       "    .dataframe tbody tr th:only-of-type {\n",
       "        vertical-align: middle;\n",
       "    }\n",
       "\n",
       "    .dataframe tbody tr th {\n",
       "        vertical-align: top;\n",
       "    }\n",
       "\n",
       "    .dataframe thead th {\n",
       "        text-align: right;\n",
       "    }\n",
       "</style>\n",
       "<table border=\"1\" class=\"dataframe\">\n",
       "  <thead>\n",
       "    <tr style=\"text-align: right;\">\n",
       "      <th></th>\n",
       "      <th>timestamp</th>\n",
       "      <th>class</th>\n",
       "      <th>entrance</th>\n",
       "      <th>exit</th>\n",
       "      <th>qty</th>\n",
       "    </tr>\n",
       "  </thead>\n",
       "  <tbody>\n",
       "    <tr>\n",
       "      <th>9</th>\n",
       "      <td>2021-05-04T12:01:00.000-04:00</td>\n",
       "      <td>Bicycle</td>\n",
       "      <td>E</td>\n",
       "      <td>UNDEFINED</td>\n",
       "      <td>1</td>\n",
       "    </tr>\n",
       "    <tr>\n",
       "      <th>10</th>\n",
       "      <td>2021-05-04T12:01:00.000-04:00</td>\n",
       "      <td>Bicycle</td>\n",
       "      <td>E</td>\n",
       "      <td>W</td>\n",
       "      <td>1</td>\n",
       "    </tr>\n",
       "    <tr>\n",
       "      <th>26</th>\n",
       "      <td>2021-05-04T12:04:00.000-04:00</td>\n",
       "      <td>Bicycle</td>\n",
       "      <td>E</td>\n",
       "      <td>UNDEFINED</td>\n",
       "      <td>2</td>\n",
       "    </tr>\n",
       "    <tr>\n",
       "      <th>27</th>\n",
       "      <td>2021-05-04T12:04:00.000-04:00</td>\n",
       "      <td>Bicycle</td>\n",
       "      <td>E</td>\n",
       "      <td>W</td>\n",
       "      <td>1</td>\n",
       "    </tr>\n",
       "    <tr>\n",
       "      <th>36</th>\n",
       "      <td>2021-05-04T12:06:00.000-04:00</td>\n",
       "      <td>Bicycle</td>\n",
       "      <td>N</td>\n",
       "      <td>S</td>\n",
       "      <td>1</td>\n",
       "    </tr>\n",
       "    <tr>\n",
       "      <th>...</th>\n",
       "      <td>...</td>\n",
       "      <td>...</td>\n",
       "      <td>...</td>\n",
       "      <td>...</td>\n",
       "      <td>...</td>\n",
       "    </tr>\n",
       "    <tr>\n",
       "      <th>1115</th>\n",
       "      <td>2021-05-04T14:57:00.000-04:00</td>\n",
       "      <td>Bicycle</td>\n",
       "      <td>E</td>\n",
       "      <td>UNDEFINED</td>\n",
       "      <td>1</td>\n",
       "    </tr>\n",
       "    <tr>\n",
       "      <th>1116</th>\n",
       "      <td>2021-05-04T14:57:00.000-04:00</td>\n",
       "      <td>Bicycle</td>\n",
       "      <td>E</td>\n",
       "      <td>W</td>\n",
       "      <td>1</td>\n",
       "    </tr>\n",
       "    <tr>\n",
       "      <th>1125</th>\n",
       "      <td>2021-05-04T14:59:00.000-04:00</td>\n",
       "      <td>Bicycle</td>\n",
       "      <td>E</td>\n",
       "      <td>UNDEFINED</td>\n",
       "      <td>1</td>\n",
       "    </tr>\n",
       "    <tr>\n",
       "      <th>1126</th>\n",
       "      <td>2021-05-04T14:59:00.000-04:00</td>\n",
       "      <td>Bicycle</td>\n",
       "      <td>S</td>\n",
       "      <td>N</td>\n",
       "      <td>1</td>\n",
       "    </tr>\n",
       "    <tr>\n",
       "      <th>1127</th>\n",
       "      <td>2021-05-04T14:59:00.000-04:00</td>\n",
       "      <td>Bicycle</td>\n",
       "      <td>S</td>\n",
       "      <td>UNDEFINED</td>\n",
       "      <td>1</td>\n",
       "    </tr>\n",
       "  </tbody>\n",
       "</table>\n",
       "<p>283 rows × 5 columns</p>\n",
       "</div>"
      ],
      "text/plain": [
       "                          timestamp    class entrance       exit  qty\n",
       "9     2021-05-04T12:01:00.000-04:00  Bicycle        E  UNDEFINED    1\n",
       "10    2021-05-04T12:01:00.000-04:00  Bicycle        E          W    1\n",
       "26    2021-05-04T12:04:00.000-04:00  Bicycle        E  UNDEFINED    2\n",
       "27    2021-05-04T12:04:00.000-04:00  Bicycle        E          W    1\n",
       "36    2021-05-04T12:06:00.000-04:00  Bicycle        N          S    1\n",
       "...                             ...      ...      ...        ...  ...\n",
       "1115  2021-05-04T14:57:00.000-04:00  Bicycle        E  UNDEFINED    1\n",
       "1116  2021-05-04T14:57:00.000-04:00  Bicycle        E          W    1\n",
       "1125  2021-05-04T14:59:00.000-04:00  Bicycle        E  UNDEFINED    1\n",
       "1126  2021-05-04T14:59:00.000-04:00  Bicycle        S          N    1\n",
       "1127  2021-05-04T14:59:00.000-04:00  Bicycle        S  UNDEFINED    1\n",
       "\n",
       "[283 rows x 5 columns]"
      ]
     },
     "execution_count": 7,
     "metadata": {},
     "output_type": "execute_result"
    }
   ],
   "source": [
    "df_tmc_data.loc[df_tmc_data['class'] == 'Bicycle', :]"
   ]
  },
  {
   "cell_type": "code",
   "execution_count": 8,
   "id": "af994632",
   "metadata": {},
   "outputs": [
    {
     "data": {
      "text/html": [
       "<div>\n",
       "<style scoped>\n",
       "    .dataframe tbody tr th:only-of-type {\n",
       "        vertical-align: middle;\n",
       "    }\n",
       "\n",
       "    .dataframe tbody tr th {\n",
       "        vertical-align: top;\n",
       "    }\n",
       "\n",
       "    .dataframe thead th {\n",
       "        text-align: right;\n",
       "    }\n",
       "</style>\n",
       "<table border=\"1\" class=\"dataframe\">\n",
       "  <thead>\n",
       "    <tr style=\"text-align: right;\">\n",
       "      <th></th>\n",
       "      <th>timestamp</th>\n",
       "      <th>class</th>\n",
       "      <th>entrance</th>\n",
       "      <th>exit</th>\n",
       "      <th>qty</th>\n",
       "    </tr>\n",
       "  </thead>\n",
       "  <tbody>\n",
       "    <tr>\n",
       "      <th>38</th>\n",
       "      <td>2021-05-04T12:06:00.000-04:00</td>\n",
       "      <td>Bicycle</td>\n",
       "      <td>UNDEFINED</td>\n",
       "      <td>N</td>\n",
       "      <td>1</td>\n",
       "    </tr>\n",
       "    <tr>\n",
       "      <th>39</th>\n",
       "      <td>2021-05-04T12:06:00.000-04:00</td>\n",
       "      <td>Bicycle</td>\n",
       "      <td>UNDEFINED</td>\n",
       "      <td>S</td>\n",
       "      <td>1</td>\n",
       "    </tr>\n",
       "    <tr>\n",
       "      <th>52</th>\n",
       "      <td>2021-05-04T12:08:00.000-04:00</td>\n",
       "      <td>Bicycle</td>\n",
       "      <td>UNDEFINED</td>\n",
       "      <td>N</td>\n",
       "      <td>3</td>\n",
       "    </tr>\n",
       "    <tr>\n",
       "      <th>59</th>\n",
       "      <td>2021-05-04T12:09:00.000-04:00</td>\n",
       "      <td>Bicycle</td>\n",
       "      <td>UNDEFINED</td>\n",
       "      <td>S</td>\n",
       "      <td>1</td>\n",
       "    </tr>\n",
       "    <tr>\n",
       "      <th>78</th>\n",
       "      <td>2021-05-04T12:15:00.000-04:00</td>\n",
       "      <td>Bicycle</td>\n",
       "      <td>UNDEFINED</td>\n",
       "      <td>N</td>\n",
       "      <td>1</td>\n",
       "    </tr>\n",
       "  </tbody>\n",
       "</table>\n",
       "</div>"
      ],
      "text/plain": [
       "                        timestamp    class   entrance exit  qty\n",
       "38  2021-05-04T12:06:00.000-04:00  Bicycle  UNDEFINED    N    1\n",
       "39  2021-05-04T12:06:00.000-04:00  Bicycle  UNDEFINED    S    1\n",
       "52  2021-05-04T12:08:00.000-04:00  Bicycle  UNDEFINED    N    3\n",
       "59  2021-05-04T12:09:00.000-04:00  Bicycle  UNDEFINED    S    1\n",
       "78  2021-05-04T12:15:00.000-04:00  Bicycle  UNDEFINED    N    1"
      ]
     },
     "execution_count": 8,
     "metadata": {},
     "output_type": "execute_result"
    }
   ],
   "source": [
    "df_tmc_data.loc[(df_tmc_data['class'] == 'Bicycle')\n",
    "                & (df_tmc_data['entrance'] == 'UNDEFINED'), :].head()"
   ]
  },
  {
   "cell_type": "code",
   "execution_count": 9,
   "id": "bea722e3",
   "metadata": {},
   "outputs": [
    {
     "data": {
      "text/plain": [
       "{'timestamp': '2021-05-04T12:01:00.000-04:00',\n",
       " 'class': 'Bicycle',\n",
       " 'entrance': 'E',\n",
       " 'exit': 'UNDEFINED',\n",
       " 'qty': 1}"
      ]
     },
     "execution_count": 9,
     "metadata": {},
     "output_type": "execute_result"
    }
   ],
   "source": [
    "tmc_data[9]"
   ]
  },
  {
   "cell_type": "code",
   "execution_count": 10,
   "id": "2b5df299",
   "metadata": {},
   "outputs": [
    {
     "data": {
      "text/plain": [
       "{'timestamp': '2021-05-04T12:06:00.000-04:00',\n",
       " 'class': 'Bicycle',\n",
       " 'entrance': 'UNDEFINED',\n",
       " 'exit': 'N',\n",
       " 'qty': 1}"
      ]
     },
     "execution_count": 10,
     "metadata": {},
     "output_type": "execute_result"
    }
   ],
   "source": [
    "tmc_data[38]"
   ]
  },
  {
   "cell_type": "markdown",
   "id": "dbdf8374",
   "metadata": {},
   "source": [
    "Miovision returns bike approach volumes as:\n",
    "\n",
    "```\n",
    "{'timestamp': '2021-05-04T12:01:00.000-04:00',\n",
    " 'class': 'Bicycle',\n",
    " 'entrance': 'E',\n",
    " 'exit': 'UNDEFINED',\n",
    " 'qty': 1}\n",
    "```\n",
    "\n",
    "and departure volumes as:\n",
    "\n",
    "```\n",
    "{'timestamp': '2021-05-04T12:06:00.000-04:00',\n",
    " 'class': 'Bicycle',\n",
    " 'entrance': 'UNDEFINED',\n",
    " 'exit': 'N',\n",
    " 'qty': 1}\n",
    "```\n",
    "\n",
    "Currently in the API, the `leg` is defined solely by `item['entrance']`, so we at least need to generalize extracting leg and movement so that `item['exit']` is used if `item['entrance']` is undefined. This suggests to me a more general function that returns both leg and movement."
   ]
  },
  {
   "cell_type": "markdown",
   "id": "3d95a44f",
   "metadata": {},
   "source": [
    "## New Miovision API Puller Class"
   ]
  },
  {
   "cell_type": "code",
   "execution_count": 33,
   "id": "492d3a89",
   "metadata": {},
   "outputs": [],
   "source": [
    "from collections import namedtuple\n",
    "import datetime\n",
    "import sys\n",
    "\n",
    "# Entrance-exit pairs.\n",
    "EEPair = namedtuple('EEPair', ['entrance', 'exit'])\n",
    "\n",
    "class MiovPuller:\n",
    "    \"\"\"Miovision API puller.\n",
    "    \n",
    "    Basic workflow is to initialize the class, then use `get_intersection` to\n",
    "    pull TMC and crosswalk data for an intersection over one period of time.\n",
    "    \n",
    "    Parameters\n",
    "    ----------\n",
    "    int_id1 : str\n",
    "        Intersection hex-ID (`id` in `miovision_api.intersections`).\n",
    "    int_uid : str\n",
    "        Intersection UID (`intersection_uid` in `miovision_api.intersections`)\n",
    "    key : str\n",
    "        Miovision API access key.\n",
    "    \"\"\"\n",
    "    \n",
    "    headers = {'Content-Type': 'application/json',\n",
    "              'Authorization': ''}\n",
    "    \n",
    "    tmc_template = itmc.url + \"{int_id1}\" + itmc.tmc_endpoint\n",
    "    ped_template = itmc.url + \"{int_id1}\" + itmc.ped_endpoint\n",
    "    \n",
    "    roaduser_class = {\n",
    "        'Light': '1',\n",
    "        'BicycleTMC': '2',\n",
    "        'Bus': '3',\n",
    "        'SingleUnitTruck': '4',\n",
    "        'ArticulatedTruck': '5',\n",
    "        'WorkVan': '8',\n",
    "        'MotorizedVehicle': '9',\n",
    "        'Bicycle': '10'\n",
    "    }\n",
    "\n",
    "    # Lookup table for all TMC movements that are not u-turns.\n",
    "    tmc_movements_no_uturn = {\n",
    "        EEPair(entrance='N', exit='S'): '1',\n",
    "        EEPair(entrance='S', exit='N'): '1',\n",
    "        EEPair(entrance='W', exit='E'): '1',\n",
    "        EEPair(entrance='E', exit='W'): '1',\n",
    "        EEPair(entrance='S', exit='W'): '2',\n",
    "        EEPair(entrance='N', exit='E'): '2',\n",
    "        EEPair(entrance='W', exit='N'): '2',\n",
    "        EEPair(entrance='E', exit='S'): '2',\n",
    "        EEPair(entrance='S', exit='E'): '3',\n",
    "        EEPair(entrance='E', exit='N'): '3',\n",
    "        EEPair(entrance='N', exit='W'): '3',\n",
    "        EEPair(entrance='W', exit='S'): '3',    \n",
    "    }\n",
    "    \n",
    "    crosswalkuser_class = {\n",
    "        'Pedestrian': '6',\n",
    "        'Bicycle': '7'\n",
    "    }\n",
    "\n",
    "    crosswalk_mvmts = {\n",
    "        'CW': '5',\n",
    "        'CCW': '6'\n",
    "    }\n",
    "\n",
    "    def __init__(self, int_id1, int_uid, key):\n",
    "        self.headers['Authorization'] = key\n",
    "        self.int_id1 = int_id1\n",
    "        self.intersection_uid = int_uid\n",
    "\n",
    "    def get_response(self, apitype, start_time, end_iteration_time):\n",
    "        \"\"\"Requests data from API.\"\"\"\n",
    "\n",
    "        params = {'endTime': (end_iteration_time\n",
    "                              - datetime.timedelta(milliseconds=1)),\n",
    "                  'startTime': start_time}\n",
    "\n",
    "        # Select the appropriate request URL depending on which API we're\n",
    "        # pulling from.\n",
    "        if apitype == 'crosswalk':\n",
    "            request_url = self.ped_template.format(int_id1=self.int_id1)\n",
    "        elif apitype == 'tmc':\n",
    "            request_url = self.tmc_template.format(int_id1=self.int_id1)    \n",
    "        else:\n",
    "            raise ValueError(\"apitype must be either 'tmc' or 'crosswalk'!\")\n",
    "\n",
    "        response = itmc.session.get(\n",
    "            request_url, params=params, headers=self.headers,\n",
    "            proxies=itmc.session.proxies)\n",
    "\n",
    "        # Return if we get a success response code, or raise an error if not.\n",
    "        if response.status_code == 200:\n",
    "            return response\n",
    "        elif response.status_code == 404:\n",
    "            error = json.loads(response.content.decode('utf-8'))\n",
    "            itmc.logger.error(\"Problem with ped call for intersection %s\",\n",
    "                               self.int_id1)\n",
    "            itmc.logger.error(error['error'])\n",
    "            raise NotFoundError\n",
    "        elif response.status_code == 400:\n",
    "            itmc.logger.critical((\"Bad request error when pulling ped data for \"\n",
    "                                   \"intersection {0} from {1} until {2}\")\n",
    "                                  .format(self.int_id1, start_time,\n",
    "                                          end_iteration_time))\n",
    "            error = json.loads(response.content.decode('utf-8'))\n",
    "            itmc.logger.critical(error['error'])\n",
    "            sys.exit(5)\n",
    "        elif response.status_code == 504:\n",
    "            raise itmc.TimeoutException('Error' + str(response.status_code))\n",
    "        elif response.status_code == 500:\n",
    "            raise itmc.ServerException('Error' + str(response.status_code))\n",
    "\n",
    "        # If code isn't handled in the block above, throw a general error.\n",
    "        itmc.logger.critical('Unknown error pulling ped data for intersection %s',\n",
    "                             self.int_id1)\n",
    "        raise itmc.MiovisionAPIException('Error' + str(response.status_code))\n",
    "\n",
    "    def get_road_class(self, row):\n",
    "        \"\"\"Get road user class.\"\"\"\n",
    "\n",
    "        is_approach = ((row['entrance'] == 'UNDEFINED')\n",
    "                       or (row['exit'] == 'UNDEFINED'))\n",
    "        # Second check isn't strictly necessary but better safe than sorry.\n",
    "        if not is_approach and (row['class'] == 'Bicycle'):\n",
    "            ru_class = 'BicycleTMC'\n",
    "        else:\n",
    "            ru_class = row['class']\n",
    "\n",
    "        try:\n",
    "            return self.roaduser_class[ru_class]\n",
    "        except KeyError:\n",
    "            raise ValueError(\"vehicle class {0} not recognized!\"\n",
    "                             .format(row['class']))\n",
    "\n",
    "    def get_road_leg_and_movement(self, row):\n",
    "        \"\"\"Get intersection leg and movement UID.\n",
    "\n",
    "        Due to bike approach counts, these two data are\n",
    "        coupled.\n",
    "        \"\"\"\n",
    "        # Classes 7 and 8 are for bike approach volumes.\n",
    "        if row['exit'] == 'UNDEFINED':\n",
    "            return (row['entrance'], '7')\n",
    "        elif row['entrance'] == 'UNDEFINED':\n",
    "            return (row['exit'], '8')\n",
    "        elif row['entrance'] == row['exit']:\n",
    "            return (row['entrance'], '4')\n",
    "        movement = self.tmc_movements_no_uturn[\n",
    "            EEPair(entrance=row['entrance'], exit=row['exit'])]\n",
    "        return (row['entrance'], movement)\n",
    "\n",
    "    def get_crosswalk_class(self, row):\n",
    "        \"\"\"Get crosswalk road user class.\"\"\"\n",
    "        try:\n",
    "            return self.crosswalkuser_class[row['class']]\n",
    "        except KeyError:\n",
    "            raise ValueError(\"crosswalk class {0} not recognized!\"\n",
    "                             .format(row['class']))\n",
    "\n",
    "    def get_crosswalk_movement(self, row):\n",
    "        \"\"\"Get crosswalk movement.\"\"\"\n",
    "        try:\n",
    "            return self.crosswalk_mvmts[row['direction']]\n",
    "        except KeyError:\n",
    "            raise ValueError(\"crosswalk movement {0} not recognized!\"\n",
    "                             .format(row['direction']))\n",
    "\n",
    "    def process_tmc_row(self, row):\n",
    "        \"\"\"Process one row of TMC API output.\"\"\"\n",
    "\n",
    "        classification = self.get_road_class(row)\n",
    "        (leg, movement) = self.get_road_leg_and_movement(row)\n",
    "\n",
    "        # Return time, classification_uid, leg, movement, volume.\n",
    "        return (row['timestamp'], classification, leg, movement, row['qty'])\n",
    "    \n",
    "    def process_crosswalk_row(self, row):\n",
    "        \"\"\"Process one row of crosswalk API output.\"\"\"\n",
    "        classification = self.get_crosswalk_class(row)\n",
    "        movement = self.get_crosswalk_movement(row)\n",
    "\n",
    "        # Return time, classification_uid, leg, movement, volume.\n",
    "        return (row['timestamp'], classification, row['crosswalkSide'], movement, row['qty'])\n",
    "\n",
    "    def process_response(self, apitype, response):\n",
    "        \"\"\"Process the output of self.get_response.\"\"\"\n",
    "        data = json.loads(response.content.decode('utf-8'))\n",
    "        if apitype == 'crosswalk':\n",
    "            return [(self.intersection_uid, ) + self.process_crosswalk_row(row) for row in data]\n",
    "        return [(self.intersection_uid, ) + self.process_tmc_row(row) for row in data]\n",
    "\n",
    "    def get_intersection(self, start_time, end_iteration_time):\n",
    "        \"\"\"Get all data for one intersection between start and end time.\"\"\"\n",
    "        response_tmc = self.get_response('tmc', start_time, end_iteration_time)\n",
    "        table_veh = self.process_response('tmc', response_tmc)\n",
    "        response_crosswalk = self.get_response('crosswalk', start_time, end_iteration_time)\n",
    "        table_ped = self.process_response('crosswalk', response_crosswalk)\n",
    "\n",
    "        return table_veh, table_ped"
   ]
  },
  {
   "cell_type": "code",
   "execution_count": 12,
   "id": "ba58c5db",
   "metadata": {},
   "outputs": [],
   "source": [
    "miovpull = MiovPuller(intersection_id_lookup['Richmond / Bay'],\n",
    "                      intersection_uid_lookup['Richmond / Bay'], miov_token)"
   ]
  },
  {
   "cell_type": "code",
   "execution_count": 13,
   "id": "88af35f9",
   "metadata": {},
   "outputs": [
    {
     "name": "stdout",
     "output_type": "stream",
     "text": [
      "CPU times: user 0 ns, sys: 15.6 ms, total: 15.6 ms\n",
      "Wall time: 1.79 s\n"
     ]
    }
   ],
   "source": [
    "%%time\n",
    "_, _ = miovpull.get_intersection(start_time, end_time)"
   ]
  },
  {
   "cell_type": "code",
   "execution_count": 14,
   "id": "4acd7ecd",
   "metadata": {},
   "outputs": [],
   "source": [
    "def pull_using_old_interface(start_time, end_time, intersection_id,\n",
    "                             intersection_uid, miov_token):\n",
    "    veh = itmc.get_intersection_tmc(start_time, end_time, intersection_id,\n",
    "                                    intersection_uid, miov_token)\n",
    "    ped = itmc.get_crosswalk_tmc(start_time, end_time, intersection_id,\n",
    "                                 intersection_uid, miov_token)\n",
    "    return veh, ped"
   ]
  },
  {
   "cell_type": "code",
   "execution_count": 15,
   "id": "811735b7",
   "metadata": {},
   "outputs": [
    {
     "name": "stdout",
     "output_type": "stream",
     "text": [
      "CPU times: user 15.6 ms, sys: 0 ns, total: 15.6 ms\n",
      "Wall time: 1.67 s\n"
     ]
    }
   ],
   "source": [
    "%%time\n",
    "_, _ = pull_using_old_interface(start_time, end_time, intersection_id_lookup['Richmond / Bay'],\n",
    "                                intersection_uid_lookup['Richmond / Bay'], miov_token)"
   ]
  },
  {
   "cell_type": "markdown",
   "id": "1b021467",
   "metadata": {},
   "source": [
    "I've tried this timing test a few times, and get 1.5 - 3 seconds for both, so whatever code performance difference that exists between the old and new code is being completely drowned out by the API response time."
   ]
  },
  {
   "cell_type": "markdown",
   "id": "12a678c7",
   "metadata": {},
   "source": [
    "### Smoke Testing\n",
    "This is a pretty big refactoring, so we need to test that the outputs are the same (except for the introduction of class 10). Let's do this for a random sampling of dates, times and locations."
   ]
  },
  {
   "cell_type": "code",
   "execution_count": 16,
   "id": "f50028d7",
   "metadata": {},
   "outputs": [],
   "source": [
    "def check_miovpull(start_time, end_time, intersection_id, intersection_uid, miov_token):\n",
    "\n",
    "    miovpull = MiovPuller(intersection_id, intersection_uid, miov_token)\n",
    "    df_v, df_c = miovpull.get_intersection(start_time, end_time)\n",
    "    df = pd.DataFrame(df_v + df_c,\n",
    "                      columns=('intersection_uid', 'timestamp',\n",
    "                               'classification_uid', 'leg', 'movement_uid', 'volume'))\n",
    "    df_nobikeapproach = df.loc[df['classification_uid'] != '10', :].reset_index(drop=True)\n",
    "\n",
    "    df_r_v, df_r_c = pull_using_old_interface(\n",
    "        start_time, end_time, intersection_id, intersection_uid, miov_token)\n",
    "    df_ref = pd.DataFrame(\n",
    "        df_r_v + df_r_c,\n",
    "        columns=('intersection_uid', 'timestamp',\n",
    "                 'classification_uid', 'leg', 'movement_uid', 'volume'))\n",
    "    \n",
    "    assert df_ref.equals(df_nobikeapproach), \"reference and candidate data frames don't match!\"\n",
    "    \n",
    "    return df"
   ]
  },
  {
   "cell_type": "code",
   "execution_count": 17,
   "id": "08fa8f78",
   "metadata": {},
   "outputs": [],
   "source": [
    "df = check_miovpull(dateutil.parser.parse('2021-05-04 12:00:00'),\n",
    "                    dateutil.parser.parse('2021-05-04 15:00:00'),\n",
    "                    intersection_id_lookup['Richmond / Bay'],\n",
    "                    intersection_uid_lookup['Richmond / Bay'],\n",
    "                    miov_token)"
   ]
  },
  {
   "cell_type": "code",
   "execution_count": 18,
   "id": "a4f90762",
   "metadata": {},
   "outputs": [],
   "source": [
    "df = check_miovpull(dateutil.parser.parse('2021-04-01 12:00:00'),\n",
    "                    dateutil.parser.parse('2021-04-02 15:00:00'),\n",
    "                    intersection_id_lookup['Bloor / Avenue'],\n",
    "                    intersection_uid_lookup['Bloor / Avenue'],\n",
    "                    miov_token)"
   ]
  },
  {
   "cell_type": "code",
   "execution_count": 19,
   "id": "e97d3cf3",
   "metadata": {},
   "outputs": [],
   "source": [
    "df = check_miovpull(dateutil.parser.parse('2021-02-20 09:00:00'),\n",
    "                    dateutil.parser.parse('2021-02-20 11:00:00'),\n",
    "                    intersection_id_lookup['Dundas / River'],\n",
    "                    intersection_uid_lookup['Dundas / River'],\n",
    "                    miov_token)"
   ]
  },
  {
   "cell_type": "code",
   "execution_count": 20,
   "id": "8fed60ee",
   "metadata": {},
   "outputs": [],
   "source": [
    "df = check_miovpull(dateutil.parser.parse('2021-01-30 19:00:00'),\n",
    "                    dateutil.parser.parse('2021-01-30 23:00:00'),\n",
    "                    intersection_id_lookup['Queen / Spadina'],\n",
    "                    intersection_uid_lookup['Queen / Spadina'],\n",
    "                    miov_token)"
   ]
  },
  {
   "cell_type": "code",
   "execution_count": 21,
   "id": "807baae0",
   "metadata": {},
   "outputs": [],
   "source": [
    "df = check_miovpull(dateutil.parser.parse('2021-03-11 16:00:00'),\n",
    "                    dateutil.parser.parse('2021-03-11 18:00:00'),\n",
    "                    intersection_id_lookup['Sheppard / Wilmington'],\n",
    "                    intersection_uid_lookup['Sheppard / Wilmington'],\n",
    "                    miov_token)"
   ]
  },
  {
   "cell_type": "markdown",
   "id": "7b88e383",
   "metadata": {},
   "source": [
    "## Inspecting Bike Approach Volumes"
   ]
  },
  {
   "cell_type": "code",
   "execution_count": 22,
   "id": "b9b7c4b7",
   "metadata": {},
   "outputs": [],
   "source": [
    "start_time = dateutil.parser.parse('2021-05-14 00:00:00')\n",
    "end_time = dateutil.parser.parse('2021-05-15 00:00:00')\n",
    "int_id1 = intersection_id_lookup['Adelaide / Jarvis']\n",
    "int_uid = intersection_id_lookup['Adelaide / Jarvis']\n",
    "\n",
    "miovpull = MiovPuller(int_id1, int_uid, miov_token)\n",
    "df_v, df_c = miovpull.get_intersection(start_time, end_time)\n",
    "df = pd.DataFrame(df_v + df_c,\n",
    "                  columns=('intersection_uid', 'timestamp',\n",
    "                           'classification_uid', 'leg', 'movement_uid', 'volume'))"
   ]
  },
  {
   "cell_type": "code",
   "execution_count": 23,
   "id": "14d9eebb",
   "metadata": {},
   "outputs": [
    {
     "data": {
      "text/html": [
       "<div>\n",
       "<style scoped>\n",
       "    .dataframe tbody tr th:only-of-type {\n",
       "        vertical-align: middle;\n",
       "    }\n",
       "\n",
       "    .dataframe tbody tr th {\n",
       "        vertical-align: top;\n",
       "    }\n",
       "\n",
       "    .dataframe thead th {\n",
       "        text-align: right;\n",
       "    }\n",
       "</style>\n",
       "<table border=\"1\" class=\"dataframe\">\n",
       "  <thead>\n",
       "    <tr style=\"text-align: right;\">\n",
       "      <th></th>\n",
       "      <th>intersection_uid</th>\n",
       "      <th>timestamp</th>\n",
       "      <th>classification_uid</th>\n",
       "      <th>leg</th>\n",
       "      <th>movement_uid</th>\n",
       "      <th>volume</th>\n",
       "    </tr>\n",
       "  </thead>\n",
       "  <tbody>\n",
       "  </tbody>\n",
       "</table>\n",
       "</div>"
      ],
      "text/plain": [
       "Empty DataFrame\n",
       "Columns: [intersection_uid, timestamp, classification_uid, leg, movement_uid, volume]\n",
       "Index: []"
      ]
     },
     "execution_count": 23,
     "metadata": {},
     "output_type": "execute_result"
    }
   ],
   "source": [
    "df.loc[df['classification_uid'] == '10', :]"
   ]
  },
  {
   "cell_type": "markdown",
   "id": "f76373cc",
   "metadata": {},
   "source": [
    "That's not good. As of today, which locations have class 10 data?"
   ]
  },
  {
   "cell_type": "code",
   "execution_count": 41,
   "id": "734398ba",
   "metadata": {},
   "outputs": [
    {
     "name": "stdout",
     "output_type": "stream",
     "text": [
      "Intersection 1 (Adelaide / Bathurst) has 276 class 2 and 0 class 10 counts\n",
      "Intersection 2 (Adelaide / Spadina) has 265 class 2 and 761 class 10 counts\n",
      "Intersection 3 (Adelaide / Bay) has 388 class 2 and 433 class 10 counts\n",
      "Intersection 4 (Adelaide / Jarvis) has 394 class 2 and 0 class 10 counts\n",
      "Intersection 5 (Front / Bathurst) has 333 class 2 and 0 class 10 counts\n",
      "Intersection 6 (Front / Spadina) has 316 class 2 and 75 class 10 counts\n",
      "Intersection 7 (Front / Bay) has 405 class 2 and 210 class 10 counts\n",
      "Intersection 8 (Front / Jarvis) has 317 class 2 and 275 class 10 counts\n",
      "Intersection 9 (King / Strachan) has 0 class 2 and 0 class 10 counts\n",
      "Intersection 10 (King / Bathurst) has 825 class 2 and 278 class 10 counts\n",
      "Intersection 11 (King / Portland) has 0 class 2 and 0 class 10 counts\n",
      "Intersection 12 (King / Spadina) has 905 class 2 and 356 class 10 counts\n",
      "Intersection 13 (King / Peter) has 0 class 2 and 0 class 10 counts\n",
      "Intersection 14 (King / Simcoe) has 0 class 2 and 0 class 10 counts\n",
      "Intersection 15 (King / University) has 495 class 2 and 218 class 10 counts\n",
      "Intersection 16 (King / York) has 0 class 2 and 0 class 10 counts\n",
      "Intersection 17 (King / Bay) has 474 class 2 and 525 class 10 counts\n",
      "Intersection 18 (King / Yonge) has 554 class 2 and 703 class 10 counts\n",
      "Intersection 19 (King / Church) has 0 class 2 and 0 class 10 counts\n",
      "Intersection 20 (King / Jarvis) has 410 class 2 and 198 class 10 counts\n",
      "Intersection 21 (King / Sherbourne) has 744 class 2 and 819 class 10 counts\n",
      "Intersection 22 (Queen / Bathurst) has 811 class 2 and 697 class 10 counts\n",
      "Intersection 23 (Queen / Spadina) has 964 class 2 and 509 class 10 counts\n",
      "Intersection 24 (Queen / Bay) has 626 class 2 and 305 class 10 counts\n",
      "Intersection 25 (Queen / Jarvis) has 419 class 2 and 265 class 10 counts\n",
      "Intersection 26 (Richmond / Bathurst) has 432 class 2 and 967 class 10 counts\n",
      "Intersection 27 (Richmond / Spadina) has 1110 class 2 and 900 class 10 counts\n",
      "Intersection 28 (Richmond / Bay) has 680 class 2 and 1019 class 10 counts\n",
      "Intersection 29 (Richmond / Jarvis) has 321 class 2 and 255 class 10 counts\n",
      "Intersection 30 (Wellington / Blue Jays) has 0 class 2 and 0 class 10 counts\n",
      "Intersection 31 (Wellington / Bay) has 0 class 2 and 0 class 10 counts\n",
      "Intersection 32 (King / John) has 0 class 2 and 0 class 10 counts\n",
      "Intersection 33 (Bloor / Avenue) has 1109 class 2 and 382 class 10 counts\n",
      "Intersection 34 (Bloor / Sherbourne) has 1094 class 2 and 212 class 10 counts\n",
      "Intersection 35 (Bloor / Shaw) has 1674 class 2 and 357 class 10 counts\n",
      "Intersection 36 (Brimley / Eglinton) has 0 class 2 and 0 class 10 counts\n",
      "Intersection 37 (Danforth / Jones) has 835 class 2 and 667 class 10 counts\n",
      "Intersection 38 (Danforth / Woodbine) has 696 class 2 and 905 class 10 counts\n",
      "Intersection 39 (Danforth / Dawes) has 329 class 2 and 249 class 10 counts\n",
      "Intersection 40 (Dundas / River) has 558 class 2 and 205 class 10 counts\n",
      "Intersection 41 (Bloor / Bay) has 960 class 2 and 636 class 10 counts\n",
      "Intersection 42 (College / University) has 1444 class 2 and 771 class 10 counts\n",
      "Intersection 43 (Danforth / Logan) has 832 class 2 and 0 class 10 counts\n",
      "Intersection 44 (Dundas / Bloor) has 667 class 2 and 462 class 10 counts\n",
      "Intersection 45 (Eglinton / Kingston) has 12 class 2 and 9 class 10 counts\n",
      "Intersection 46 (Ellesmere / Morningside) has 0 class 2 and 2 class 10 counts\n",
      "Intersection 47 (Greenwood / Danforth) has 872 class 2 and 647 class 10 counts\n",
      "Intersection 48 (Huntingwood / Warden) has 59 class 2 and 16 class 10 counts\n",
      "Intersection 49 (Lawrence / Brimley) has 3 class 2 and 16 class 10 counts\n",
      "Intersection 50 (Morningside / Kingston) has 19 class 2 and 3 class 10 counts\n",
      "Intersection 51 (Runnymede / Bloor) has 457 class 2 and 295 class 10 counts\n",
      "Intersection 52 (Sheppard / Wilmington) has 0 class 2 and 34 class 10 counts\n",
      "Intersection 53 (St. Clair / Brimley) has 19 class 2 and 10 class 10 counts\n",
      "Intersection 54 (Thorncliffe Park / Overlea) has 75 class 2 and 17 class 10 counts\n",
      "Intersection 55 (Danforth / Broadview) has 997 class 2 and 984 class 10 counts\n",
      "Intersection 56 (Don Mills / Overlea) has 145 class 2 and 17 class 10 counts\n",
      "Intersection 57 (Queen / University) has 754 class 2 and 390 class 10 counts\n"
     ]
    }
   ],
   "source": [
    "start_time = dateutil.parser.parse('2021-05-25 16:00:00')\n",
    "end_time = dateutil.parser.parse('2021-05-25 19:00:00')\n",
    "\n",
    "for key in intersection_id_lookup.keys():\n",
    "    miovpull = MiovPuller(intersection_id_lookup[key],\n",
    "                          intersection_uid_lookup[key],\n",
    "                          miov_token)\n",
    "    df_v, df_c = miovpull.get_intersection(start_time, end_time)\n",
    "    cdf = pd.DataFrame(df_v + df_c,\n",
    "                       columns=('intersection_uid', 'timestamp',\n",
    "                                'classification_uid', 'leg', 'movement_uid', 'volume'))\n",
    "    \n",
    "    print(\"Intersection {0} ({1}) has {2} class 2 and {3} class 10 counts\"\n",
    "          .format(intersection_uid_lookup[key], key,\n",
    "                  cdf.loc[cdf['classification_uid'] == '2', 'volume'].sum(),\n",
    "                  cdf.loc[cdf['classification_uid'] == '10', 'volume'].sum()))"
   ]
  },
  {
   "cell_type": "markdown",
   "id": "e959280a",
   "metadata": {},
   "source": [
    "So intersections 1, 4, 5 and 43 may not yet have been setup for approach counts. We'll ask Miovision about that.\n",
    "\n",
    "Another issue - why are all the approach volumes lower than the TMCs? Is this consistent behaviour?"
   ]
  },
  {
   "cell_type": "code",
   "execution_count": 25,
   "id": "93556b0a",
   "metadata": {},
   "outputs": [],
   "source": [
    "def plot_volumes(start_time, end_time, int_id1, int_uid):\n",
    "\n",
    "    miovpull = MiovPuller(int_id1, int_uid, miov_token)\n",
    "    df_v, df_c = miovpull.get_intersection(start_time, end_time)\n",
    "    df = pd.DataFrame(df_v + df_c,\n",
    "                      columns=('intersection_uid', 'timestamp',\n",
    "                               'classification_uid', 'leg', 'movement_uid', 'volume'))\n",
    "\n",
    "    df_biketmcs = df.loc[df['classification_uid'] == '2', ['timestamp', 'volume']].copy()\n",
    "    df_biketmcs['timestamp'] = pd.to_datetime(\n",
    "        df_biketmcs['timestamp']).apply(lambda dt: datetime.datetime(dt.year, dt.month, dt.day, dt.hour))\n",
    "\n",
    "    df_bikeapproach = df.loc[df['classification_uid'] == '10', ['timestamp', 'volume']].copy()\n",
    "    df_bikeapproach['timestamp'] = pd.to_datetime(\n",
    "        df_bikeapproach['timestamp']).apply(lambda dt: datetime.datetime(dt.year, dt.month, dt.day, dt.hour))\n",
    "    \n",
    "    fig, ax = plt.subplots(figsize=(14, 7))\n",
    "\n",
    "    (df_biketmcs.groupby('timestamp')['volume'].sum()).plot(ax=ax, label='TMC Volume')\n",
    "    (df_bikeapproach.groupby('timestamp')['volume'].sum() / 2.).plot(ax=ax, label='Approach Volume')\n",
    "\n",
    "    ax.set_xlabel('Time', fontsize=16)\n",
    "    ax.set_ylabel('Volume', fontsize=16)\n",
    "    ax.tick_params(axis='both', which='major', labelsize=14)\n",
    "    ax.tick_params(axis='both', which='minor', labelsize=13)\n",
    "    ax.legend(loc=2, fontsize=14)\n",
    "    ax.set_title('Intersection UID {0} - TMC vol {1} - ATR vol {2}'\n",
    "                 .format(int_uid, df_biketmcs['volume'].sum(), df_bikeapproach['volume'].sum() / 2.));"
   ]
  },
  {
   "cell_type": "code",
   "execution_count": 26,
   "id": "644af4e5",
   "metadata": {},
   "outputs": [
    {
     "data": {
      "image/png": "[encoded data removed]",
      "text/plain": [
       "<Figure size 1008x504 with 1 Axes>"
      ]
     },
     "metadata": {
      "needs_background": "light"
     },
     "output_type": "display_data"
    }
   ],
   "source": [
    "plot_volumes(dateutil.parser.parse('2021-05-14 00:00:00'),\n",
    "             dateutil.parser.parse('2021-05-15 00:00:00'),\n",
    "             intersection_id_lookup['Bloor / Bay'],\n",
    "             intersection_uid_lookup['Bloor / Bay'])"
   ]
  },
  {
   "cell_type": "code",
   "execution_count": 27,
   "id": "6a4c7f09",
   "metadata": {},
   "outputs": [
    {
     "data": {
      "image/png": "[encoded data removed]",
      "text/plain": [
       "<Figure size 1008x504 with 1 Axes>"
      ]
     },
     "metadata": {
      "needs_background": "light"
     },
     "output_type": "display_data"
    }
   ],
   "source": [
    "plot_volumes(dateutil.parser.parse('2021-05-14 00:00:00'),\n",
    "             dateutil.parser.parse('2021-05-15 00:00:00'),\n",
    "             intersection_id_lookup['Queen / Bathurst'],\n",
    "             intersection_uid_lookup['Queen / Bathurst'])"
   ]
  },
  {
   "cell_type": "markdown",
   "id": "36c339e5",
   "metadata": {},
   "source": [
    "(Here we account for bike approach/departure being double counted by dividing the sum by two.)\n",
    "\n",
    "Is this accurate? Did we accidentally flip TMC and approach volumes? This seems unrealistic since our smoke testing earlier showed no difference between API pulls from the old and new code so long as class 10 wasn't included. To double-check, we can directly pull from the API for Bloor / Bay."
   ]
  },
  {
   "cell_type": "code",
   "execution_count": 28,
   "id": "d306598a",
   "metadata": {},
   "outputs": [],
   "source": [
    "params = {'endTime': (dateutil.parser.parse('2021-05-15 00:00:00')\n",
    "                      - datetime.timedelta(milliseconds=1)),\n",
    "          'startTime': dateutil.parser.parse('2021-05-14 00:00:00')}\n",
    "response = itmc.session.get(\"https://api.miovision.com/intersections/0e574ac8-bb57-46f0-b2a1-49bd48e1a503/tmc\",\n",
    "                            params=params, headers=miovpull.headers, proxies=itmc.session.proxies)\n",
    "df_ref = pd.DataFrame(json.loads(response.content.decode('utf-8')))"
   ]
  },
  {
   "cell_type": "code",
   "execution_count": 29,
   "id": "881d67bf",
   "metadata": {},
   "outputs": [
    {
     "data": {
      "text/plain": [
       "1469.5"
      ]
     },
     "execution_count": 29,
     "metadata": {},
     "output_type": "execute_result"
    }
   ],
   "source": [
    "df_ref.loc[(df_ref['class'] == 'Bicycle')\n",
    "           & ((df_ref['entrance'] == 'UNDEFINED') | (df_ref['exit'] == 'UNDEFINED')), 'qty'].sum() / 2."
   ]
  },
  {
   "cell_type": "code",
   "execution_count": 30,
   "id": "0608cc80",
   "metadata": {},
   "outputs": [
    {
     "data": {
      "text/plain": [
       "4344"
      ]
     },
     "execution_count": 30,
     "metadata": {},
     "output_type": "execute_result"
    }
   ],
   "source": [
    "df_ref.loc[(df_ref['class'] == 'Bicycle')\n",
    "           & ((df_ref['entrance'] != 'UNDEFINED') & (df_ref['exit'] != 'UNDEFINED')), 'qty'].sum()"
   ]
  },
  {
   "cell_type": "markdown",
   "id": "ae7b47c2",
   "metadata": {},
   "source": [
    "which are exactly the same numbers obtained by the new API puller. Something fishy is going on. Let's generate a set of all-day totals to speak with Brent about."
   ]
  },
  {
   "cell_type": "code",
   "execution_count": 42,
   "id": "68659eee",
   "metadata": {},
   "outputs": [
    {
     "name": "stdout",
     "output_type": "stream",
     "text": [
      "Intersection 1 (Adelaide / Bathurst) has 1006 class 2 and 0 class 10 counts\n",
      "Intersection 2 (Adelaide / Spadina) has 1070 class 2 and 2979 class 10 counts\n",
      "Intersection 3 (Adelaide / Bay) has 1265 class 2 and 1451 class 10 counts\n",
      "Intersection 4 (Adelaide / Jarvis) has 1216 class 2 and 0 class 10 counts\n",
      "Intersection 5 (Front / Bathurst) has 1125 class 2 and 0 class 10 counts\n",
      "Intersection 6 (Front / Spadina) has 1214 class 2 and 386 class 10 counts\n",
      "Intersection 7 (Front / Bay) has 1430 class 2 and 729 class 10 counts\n",
      "Intersection 8 (Front / Jarvis) has 1163 class 2 and 924 class 10 counts\n",
      "Intersection 9 (King / Strachan) has 0 class 2 and 0 class 10 counts\n",
      "Intersection 10 (King / Bathurst) has 2924 class 2 and 1158 class 10 counts\n",
      "Intersection 11 (King / Portland) has 0 class 2 and 0 class 10 counts\n",
      "Intersection 12 (King / Spadina) has 3115 class 2 and 1142 class 10 counts\n",
      "Intersection 13 (King / Peter) has 0 class 2 and 0 class 10 counts\n",
      "Intersection 14 (King / Simcoe) has 0 class 2 and 0 class 10 counts\n",
      "Intersection 15 (King / University) has 1794 class 2 and 678 class 10 counts\n",
      "Intersection 16 (King / York) has 0 class 2 and 0 class 10 counts\n",
      "Intersection 17 (King / Bay) has 1926 class 2 and 1979 class 10 counts\n",
      "Intersection 18 (King / Yonge) has 1962 class 2 and 2285 class 10 counts\n",
      "Intersection 19 (King / Church) has 0 class 2 and 0 class 10 counts\n",
      "Intersection 20 (King / Jarvis) has 1601 class 2 and 744 class 10 counts\n",
      "Intersection 21 (King / Sherbourne) has 2546 class 2 and 2474 class 10 counts\n",
      "Intersection 22 (Queen / Bathurst) has 3262 class 2 and 2551 class 10 counts\n",
      "Intersection 23 (Queen / Spadina) has 3460 class 2 and 1810 class 10 counts\n",
      "Intersection 24 (Queen / Bay) has 2067 class 2 and 905 class 10 counts\n",
      "Intersection 25 (Queen / Jarvis) has 1542 class 2 and 869 class 10 counts\n",
      "Intersection 26 (Richmond / Bathurst) has 1732 class 2 and 2977 class 10 counts\n",
      "Intersection 27 (Richmond / Spadina) has 3981 class 2 and 2853 class 10 counts\n",
      "Intersection 28 (Richmond / Bay) has 2456 class 2 and 3205 class 10 counts\n",
      "Intersection 29 (Richmond / Jarvis) has 1098 class 2 and 809 class 10 counts\n",
      "Intersection 30 (Wellington / Blue Jays) has 0 class 2 and 0 class 10 counts\n",
      "Intersection 31 (Wellington / Bay) has 0 class 2 and 0 class 10 counts\n",
      "Intersection 32 (King / John) has 0 class 2 and 0 class 10 counts\n",
      "Intersection 33 (Bloor / Avenue) has 3904 class 2 and 1274 class 10 counts\n",
      "Intersection 34 (Bloor / Sherbourne) has 3999 class 2 and 688 class 10 counts\n",
      "Intersection 35 (Bloor / Shaw) has 5851 class 2 and 1268 class 10 counts\n",
      "Intersection 36 (Brimley / Eglinton) has 0 class 2 and 0 class 10 counts\n",
      "Intersection 37 (Danforth / Jones) has 2918 class 2 and 2315 class 10 counts\n",
      "Intersection 38 (Danforth / Woodbine) has 2404 class 2 and 3119 class 10 counts\n",
      "Intersection 39 (Danforth / Dawes) has 1184 class 2 and 801 class 10 counts\n",
      "Intersection 40 (Dundas / River) has 2107 class 2 and 858 class 10 counts\n",
      "Intersection 41 (Bloor / Bay) has 3648 class 2 and 2300 class 10 counts\n",
      "Intersection 42 (College / University) has 5288 class 2 and 2807 class 10 counts\n",
      "Intersection 43 (Danforth / Logan) has 2877 class 2 and 0 class 10 counts\n",
      "Intersection 44 (Dundas / Bloor) has 2260 class 2 and 1436 class 10 counts\n",
      "Intersection 45 (Eglinton / Kingston) has 99 class 2 and 57 class 10 counts\n",
      "Intersection 46 (Ellesmere / Morningside) has 0 class 2 and 16 class 10 counts\n",
      "Intersection 47 (Greenwood / Danforth) has 2828 class 2 and 2021 class 10 counts\n",
      "Intersection 48 (Huntingwood / Warden) has 262 class 2 and 92 class 10 counts\n",
      "Intersection 49 (Lawrence / Brimley) has 29 class 2 and 64 class 10 counts\n",
      "Intersection 50 (Morningside / Kingston) has 94 class 2 and 25 class 10 counts\n",
      "Intersection 51 (Runnymede / Bloor) has 1731 class 2 and 1042 class 10 counts\n",
      "Intersection 52 (Sheppard / Wilmington) has 0 class 2 and 104 class 10 counts\n",
      "Intersection 53 (St. Clair / Brimley) has 144 class 2 and 40 class 10 counts\n",
      "Intersection 54 (Thorncliffe Park / Overlea) has 301 class 2 and 113 class 10 counts\n",
      "Intersection 55 (Danforth / Broadview) has 3544 class 2 and 3316 class 10 counts\n",
      "Intersection 56 (Don Mills / Overlea) has 525 class 2 and 79 class 10 counts\n",
      "Intersection 57 (Queen / University) has 2961 class 2 and 1422 class 10 counts\n"
     ]
    }
   ],
   "source": [
    "start_time = dateutil.parser.parse('2021-05-25 00:00:00')\n",
    "end_time = dateutil.parser.parse('2021-05-26 00:00:00')\n",
    "\n",
    "for key in intersection_id_lookup.keys():\n",
    "    miovpull = MiovPuller(intersection_id_lookup[key],\n",
    "                          intersection_uid_lookup[key],\n",
    "                          miov_token)\n",
    "    df_v, df_c = miovpull.get_intersection(start_time, end_time)\n",
    "    cdf = pd.DataFrame(df_v + df_c,\n",
    "                       columns=('intersection_uid', 'timestamp',\n",
    "                                'classification_uid', 'leg', 'movement_uid', 'volume'))\n",
    "    \n",
    "    print(\"Intersection {0} ({1}) has {2} class 2 and {3} class 10 counts\"\n",
    "          .format(intersection_uid_lookup[key], key,\n",
    "                  cdf.loc[cdf['classification_uid'] == '2', 'volume'].sum(),\n",
    "                  cdf.loc[cdf['classification_uid'] == '10', 'volume'].sum()))"
   ]
  }
 ],
 "metadata": {
  "kernelspec": {
   "display_name": "Python 3.6.9 64-bit ('bditto': venv)",
   "language": "python",
   "name": "python36964bitbdittovenvd56842b7ca0c4929925d70f8c4c7f13a"
  },
  "language_info": {
   "codemirror_mode": {
    "name": "ipython",
    "version": 3
   },
   "file_extension": ".py",
   "mimetype": "text/x-python",
   "name": "python",
   "nbconvert_exporter": "python",
   "pygments_lexer": "ipython3",
   "version": "3.6.9"
  }
 },
 "nbformat": 4,
 "nbformat_minor": 5
}
