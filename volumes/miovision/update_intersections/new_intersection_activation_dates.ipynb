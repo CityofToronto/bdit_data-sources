{
 "cells": [
  {
   "cell_type": "markdown",
   "metadata": {},
   "source": [
    "# New Intersection Activation Dates\n",
    "\n",
    "In lieu of having the activation date in the Miovision API, we've traditionally manually pulled data from API until we honed in on the day when data was first available. This notebook partly automates this process. It first determines which intersections now available from the [Miovision API](https://docs.api.miovision.com/#!/Intersections/get_intersections) need to be added to `miovision_api.intersections`. Given a user-defined range of dates to analyze, it then sequentially pulls from the API until it obtains the first date when data was available.\n",
    "\n",
    "The user should manually validate the script's results using the Miovision API. The task of including the `px`, appending a geometry, and uploading to `miovision_api.intersections` remains manual, however."
   ]
  },
  {
   "cell_type": "code",
   "execution_count": 63,
   "metadata": {},
   "outputs": [],
   "source": [
    "import configparser\n",
    "import pathlib\n",
    "\n",
    "from requests import Session\n",
    "import pandas as pd\n",
    "import psycopg2\n",
    "import datetime\n",
    "import numpy as np"
   ]
  },
  {
   "cell_type": "code",
   "execution_count": 64,
   "metadata": {},
   "outputs": [],
   "source": [
    "# Either manually insert your keys here, or use your own configparser.\n",
    "#config = configparser.ConfigParser()\n",
    "#config.read(pathlib.Path.home().joinpath('.charlesconfig').as_posix())\n",
    "#postgres_settings = config['POSTGRES']\n",
    "#miov_token = config['MIOVISION']['key']"
   ]
  },
  {
   "cell_type": "code",
   "execution_count": 65,
   "metadata": {},
   "outputs": [],
   "source": [
    "# Either manually insert your keys here, or use your own configparser.\n",
    "config = configparser.ConfigParser()\n",
    "config.read('config.cfg')\n",
    "postgres_settings = config['DBSETTINGS']\n",
    "miov_token = config['API']['key']"
   ]
  },
  {
   "cell_type": "code",
   "execution_count": 66,
   "metadata": {},
   "outputs": [],
   "source": [
    "session = Session()\n",
    "session.proxies = {}\n",
    "\n",
    "headers = {'Content-Type': 'application/json',\n",
    "           'Authorization': miov_token}"
   ]
  },
  {
   "cell_type": "markdown",
   "metadata": {},
   "source": [
    "## New Intersections Table"
   ]
  },
  {
   "cell_type": "code",
   "execution_count": 67,
   "metadata": {},
   "outputs": [],
   "source": [
    "# Get intersections from Miovision API.\n",
    "response = session.get(\"https://api.miovision.com/intersections/\",\n",
    "                       params={}, headers=headers, proxies=session.proxies)\n",
    "df_api = pd.DataFrame(response.json())\n",
    "df_api = df_api[['id', 'name']].copy()\n",
    "df_api.columns = ['id', 'intersection_name']\n",
    "\n",
    "# Get intersections currently stored in `miovision_api` on Postgres.\n",
    "with psycopg2.connect(**postgres_settings) as conn:\n",
    "    df_pg = pd.read_sql(\"SELECT * FROM miovision_api.intersections\", con=conn)\n",
    "\n",
    "# Join the two tables, and select intersections in the API and not in Postgres.\n",
    "df_intersections = pd.merge(df_pg, df_api[['id', 'intersection_name']], how='outer',\n",
    "                            left_on='id', right_on='id', suffixes=('', '_api'))\n",
    "df_newints = df_intersections.loc[df_intersections['intersection_uid'].isna(), ['id', 'intersection_name_api']]\n",
    "df_newints.index += 1"
   ]
  },
  {
   "cell_type": "markdown",
   "metadata": {},
   "source": [
    "`df_newints` is a table of the new intersections to be added."
   ]
  },
  {
   "cell_type": "code",
   "execution_count": 68,
   "metadata": {
    "tags": []
   },
   "outputs": [
    {
     "data": {
      "text/html": [
       "<div>\n",
       "<style scoped>\n",
       "    .dataframe tbody tr th:only-of-type {\n",
       "        vertical-align: middle;\n",
       "    }\n",
       "\n",
       "    .dataframe tbody tr th {\n",
       "        vertical-align: top;\n",
       "    }\n",
       "\n",
       "    .dataframe thead th {\n",
       "        text-align: right;\n",
       "    }\n",
       "</style>\n",
       "<table border=\"1\" class=\"dataframe\">\n",
       "  <thead>\n",
       "    <tr style=\"text-align: right;\">\n",
       "      <th></th>\n",
       "      <th>id</th>\n",
       "      <th>intersection_name_api</th>\n",
       "    </tr>\n",
       "  </thead>\n",
       "  <tbody>\n",
       "    <tr>\n",
       "      <th>65</th>\n",
       "      <td>dbf09553-c593-4bb2-90e5-7eb3bc7ebe08</td>\n",
       "      <td>Bayview Avenue and River Street</td>\n",
       "    </tr>\n",
       "    <tr>\n",
       "      <th>66</th>\n",
       "      <td>35425467-0e8d-4fe7-b35d-6ccc9b71b0cf</td>\n",
       "      <td>Sheppard Avenue West and Jane Street</td>\n",
       "    </tr>\n",
       "    <tr>\n",
       "      <th>67</th>\n",
       "      <td>11dcfdc5-2b37-45c0-ac79-3d6926553582</td>\n",
       "      <td>Sheppard Avenue West and Keele Street</td>\n",
       "    </tr>\n",
       "    <tr>\n",
       "      <th>68</th>\n",
       "      <td>9ed9e7f3-9edc-4f58-ae5b-8c9add746886</td>\n",
       "      <td>Steeles Avenue West and Jane Street</td>\n",
       "    </tr>\n",
       "  </tbody>\n",
       "</table>\n",
       "</div>"
      ],
      "text/plain": [
       "                                      id  \\\n",
       "65  dbf09553-c593-4bb2-90e5-7eb3bc7ebe08   \n",
       "66  35425467-0e8d-4fe7-b35d-6ccc9b71b0cf   \n",
       "67  11dcfdc5-2b37-45c0-ac79-3d6926553582   \n",
       "68  9ed9e7f3-9edc-4f58-ae5b-8c9add746886   \n",
       "\n",
       "                    intersection_name_api  \n",
       "65        Bayview Avenue and River Street  \n",
       "66   Sheppard Avenue West and Jane Street  \n",
       "67  Sheppard Avenue West and Keele Street  \n",
       "68    Steeles Avenue West and Jane Street  "
      ]
     },
     "execution_count": 68,
     "metadata": {},
     "output_type": "execute_result"
    }
   ],
   "source": [
    "df_newints"
   ]
  },
  {
   "cell_type": "markdown",
   "metadata": {},
   "source": [
    "## Find First Full Day of Data\n",
    "\n",
    "The user must provide a `'test_daterange_start'` and a `'test_daterange_end'` column to `df_newints` as the start and inclusive end date, respectively, of the range of dates to search for the activation date. Different rows (i.e. intersections) can have different values.\n",
    "\n",
    "Brent provided us with a list of configuration dates for the new intersections, which correspond to the day that SmartSense configuration is complete and the location starts reporting data. Searching in the vicinity of these dates:"
   ]
  },
  {
   "cell_type": "code",
   "execution_count": 69,
   "metadata": {},
   "outputs": [],
   "source": [
    "df_newints['test_daterange_start'] = '2021-06-16'\n",
    "df_newints['test_daterange_end'] = '2021-06-17'\n",
    "\n",
    "df_newints.loc[59, 'test_daterange_start'] = '2020-12-20'\n",
    "df_newints.loc[59, 'test_daterange_end'] = '2020-12-23'\n",
    "df_newints.loc[60, 'test_daterange_start'] = '2021-05-31'\n",
    "df_newints.loc[60, 'test_daterange_end'] = '2021-06-03'\n",
    "df_newints.loc[61, 'test_daterange_start'] = '2021-05-12'\n",
    "df_newints.loc[61, 'test_daterange_end'] = '2021-05-15'\n",
    "df_newints.loc[62, 'test_daterange_start'] = '2021-06-06'\n",
    "df_newints.loc[62, 'test_daterange_end'] = '2021-06-09'\n",
    "df_newints.loc[63, 'test_daterange_start'] = '2021-06-07'\n",
    "df_newints.loc[63, 'test_daterange_end'] = '2021-06-10'\n",
    "df_newints.loc[66, 'test_daterange_start'] = '2021-05-12'\n",
    "df_newints.loc[66, 'test_daterange_end'] = '2021-05-15'\n",
    "df_newints.loc[68, 'test_daterange_start'] = '2021-05-12'\n",
    "df_newints.loc[68, 'test_daterange_end'] = '2021-05-15'"
   ]
  },
  {
   "cell_type": "code",
   "execution_count": 70,
   "metadata": {},
   "outputs": [],
   "source": [
    "def get_response_length(intersection_id, params):\n",
    "    response = session.get((\"https://api.miovision.com/intersections/{int_id}/tmc\"\n",
    "                            .format(int_id=intersection_id)),\n",
    "                           params=params, headers=headers, proxies=session.proxies)\n",
    "\n",
    "    if response.status_code != 200:\n",
    "        return -1\n",
    "    return len(response.json())\n",
    "\n",
    "\n",
    "def get_first_data_date(intersection_id, start_time, end_time, max_retries=3):\n",
    "\n",
    "    # Generate a sequence of dates.\n",
    "    for ctime in pd.date_range(\n",
    "            start_time, end=end_time, freq='D').to_pydatetime():\n",
    "\n",
    "        params = {'endTime': ctime + datetime.timedelta(minutes=15),\n",
    "                  'startTime': ctime}\n",
    "        \n",
    "        # The API throws an error when we query same day data.\n",
    "        if ctime.date() >= datetime.date.today():\n",
    "            return np.nan\n",
    "\n",
    "        # For each date, try downloading 00:00 - 00:15 data (maximum of max_retries\n",
    "        # times in case we hit HTTP errors).\n",
    "        for i in range(max_retries):\n",
    "            response_length = get_response_length(intersection_id, params)\n",
    "            if response_length >= 0:\n",
    "                break\n",
    "\n",
    "        # If we keep getting other HTTP codes, throw an error.\n",
    "        if response_length < 0:\n",
    "            raise ValueError('keep getting HTTP errors from session!')\n",
    "\n",
    "        # It's highly unlikely the first timestamp of available data is from midnight to 12:10 AM,\n",
    "        # so set the actual activation date to the day before ctime.\n",
    "        if response_length > 0:\n",
    "            return ctime - datetime.timedelta(days=1)\n",
    "    \n",
    "    return np.nan"
   ]
  },
  {
   "cell_type": "code",
   "execution_count": 73,
   "metadata": {},
   "outputs": [
    {
     "ename": "ValueError",
     "evalue": "keep getting HTTP errors from session!",
     "output_type": "error",
     "traceback": [
      "\u001b[0;31m---------------------------------------------------------------------------\u001b[0m",
      "\u001b[0;31mValueError\u001b[0m                                Traceback (most recent call last)",
      "\u001b[0;32m<ipython-input-73-3cb048f31e92>\u001b[0m in \u001b[0;36m<module>\u001b[0;34m\u001b[0m\n\u001b[1;32m      7\u001b[0m             \u001b[0mrow\u001b[0m\u001b[0;34m[\u001b[0m\u001b[0;34m'test_daterange_start'\u001b[0m\u001b[0;34m]\u001b[0m\u001b[0;34m,\u001b[0m\u001b[0;34m\u001b[0m\u001b[0;34m\u001b[0m\u001b[0m\n\u001b[1;32m      8\u001b[0m             \u001b[0mrow\u001b[0m\u001b[0;34m[\u001b[0m\u001b[0;34m'test_daterange_end'\u001b[0m\u001b[0;34m]\u001b[0m\u001b[0;34m,\u001b[0m\u001b[0;34m\u001b[0m\u001b[0;34m\u001b[0m\u001b[0m\n\u001b[0;32m----> 9\u001b[0;31m             max_retries=3))\n\u001b[0m\u001b[1;32m     10\u001b[0m \u001b[0;34m\u001b[0m\u001b[0m\n\u001b[1;32m     11\u001b[0m \u001b[0mdf_newints\u001b[0m\u001b[0;34m[\u001b[0m\u001b[0;34m'activation_date'\u001b[0m\u001b[0;34m]\u001b[0m \u001b[0;34m=\u001b[0m \u001b[0mfirst_date_of_data\u001b[0m\u001b[0;34m\u001b[0m\u001b[0;34m\u001b[0m\u001b[0m\n",
      "\u001b[0;32m<ipython-input-70-393f8c4f992d>\u001b[0m in \u001b[0;36mget_first_data_date\u001b[0;34m(intersection_id, start_time, end_time, max_retries)\u001b[0m\n\u001b[1;32m     31\u001b[0m         \u001b[0;31m# If we keep getting other HTTP codes, throw an error.\u001b[0m\u001b[0;34m\u001b[0m\u001b[0;34m\u001b[0m\u001b[0;34m\u001b[0m\u001b[0m\n\u001b[1;32m     32\u001b[0m         \u001b[0;32mif\u001b[0m \u001b[0mresponse_length\u001b[0m \u001b[0;34m<\u001b[0m \u001b[0;36m0\u001b[0m\u001b[0;34m:\u001b[0m\u001b[0;34m\u001b[0m\u001b[0;34m\u001b[0m\u001b[0m\n\u001b[0;32m---> 33\u001b[0;31m             \u001b[0;32mraise\u001b[0m \u001b[0mValueError\u001b[0m\u001b[0;34m(\u001b[0m\u001b[0;34m'keep getting HTTP errors from session!'\u001b[0m\u001b[0;34m)\u001b[0m\u001b[0;34m\u001b[0m\u001b[0;34m\u001b[0m\u001b[0m\n\u001b[0m\u001b[1;32m     34\u001b[0m \u001b[0;34m\u001b[0m\u001b[0m\n\u001b[1;32m     35\u001b[0m         \u001b[0;31m# It's highly unlikely the first timestamp of available data is from midnight to 12:10 AM,\u001b[0m\u001b[0;34m\u001b[0m\u001b[0;34m\u001b[0m\u001b[0;34m\u001b[0m\u001b[0m\n",
      "\u001b[0;31mValueError\u001b[0m: keep getting HTTP errors from session!"
     ]
    }
   ],
   "source": [
    "first_date_of_data = []\n",
    "\n",
    "for i, row in df_newints.iterrows():\n",
    "    first_date_of_data.append(\n",
    "        get_first_data_date(\n",
    "            row['id'],\n",
    "            row['test_daterange_start'],\n",
    "            row['test_daterange_end'],\n",
    "            max_retries=3))\n",
    "\n",
    "df_newints['activation_date'] = first_date_of_data"
   ]
  },
  {
   "cell_type": "markdown",
   "metadata": {},
   "source": [
    "`df_newints` now contains the activation dates of the intersections. A `NaT` indicates that no start date was found. If the start date occurred before `'test_daterange_start'`, `'activation_date'` will be set to `'test_daterange_start'`."
   ]
  },
  {
   "cell_type": "code",
   "execution_count": 74,
   "metadata": {
    "scrolled": true
   },
   "outputs": [
    {
     "data": {
      "text/html": [
       "<div>\n",
       "<style scoped>\n",
       "    .dataframe tbody tr th:only-of-type {\n",
       "        vertical-align: middle;\n",
       "    }\n",
       "\n",
       "    .dataframe tbody tr th {\n",
       "        vertical-align: top;\n",
       "    }\n",
       "\n",
       "    .dataframe thead th {\n",
       "        text-align: right;\n",
       "    }\n",
       "</style>\n",
       "<table border=\"1\" class=\"dataframe\">\n",
       "  <thead>\n",
       "    <tr style=\"text-align: right;\">\n",
       "      <th></th>\n",
       "      <th>id</th>\n",
       "      <th>intersection_name_api</th>\n",
       "      <th>test_daterange_start</th>\n",
       "      <th>test_daterange_end</th>\n",
       "    </tr>\n",
       "  </thead>\n",
       "  <tbody>\n",
       "    <tr>\n",
       "      <th>65</th>\n",
       "      <td>dbf09553-c593-4bb2-90e5-7eb3bc7ebe08</td>\n",
       "      <td>Bayview Avenue and River Street</td>\n",
       "      <td>2021-06-16</td>\n",
       "      <td>2021-06-17</td>\n",
       "    </tr>\n",
       "    <tr>\n",
       "      <th>66</th>\n",
       "      <td>35425467-0e8d-4fe7-b35d-6ccc9b71b0cf</td>\n",
       "      <td>Sheppard Avenue West and Jane Street</td>\n",
       "      <td>2021-05-12</td>\n",
       "      <td>2021-05-15</td>\n",
       "    </tr>\n",
       "    <tr>\n",
       "      <th>67</th>\n",
       "      <td>11dcfdc5-2b37-45c0-ac79-3d6926553582</td>\n",
       "      <td>Sheppard Avenue West and Keele Street</td>\n",
       "      <td>2021-06-16</td>\n",
       "      <td>2021-06-17</td>\n",
       "    </tr>\n",
       "    <tr>\n",
       "      <th>68</th>\n",
       "      <td>9ed9e7f3-9edc-4f58-ae5b-8c9add746886</td>\n",
       "      <td>Steeles Avenue West and Jane Street</td>\n",
       "      <td>2021-05-12</td>\n",
       "      <td>2021-05-15</td>\n",
       "    </tr>\n",
       "    <tr>\n",
       "      <th>59</th>\n",
       "      <td>NaN</td>\n",
       "      <td>NaN</td>\n",
       "      <td>2020-12-20</td>\n",
       "      <td>2020-12-23</td>\n",
       "    </tr>\n",
       "    <tr>\n",
       "      <th>60</th>\n",
       "      <td>NaN</td>\n",
       "      <td>NaN</td>\n",
       "      <td>2021-05-31</td>\n",
       "      <td>2021-06-03</td>\n",
       "    </tr>\n",
       "    <tr>\n",
       "      <th>61</th>\n",
       "      <td>NaN</td>\n",
       "      <td>NaN</td>\n",
       "      <td>2021-05-12</td>\n",
       "      <td>2021-05-15</td>\n",
       "    </tr>\n",
       "    <tr>\n",
       "      <th>62</th>\n",
       "      <td>NaN</td>\n",
       "      <td>NaN</td>\n",
       "      <td>2021-06-06</td>\n",
       "      <td>2021-06-09</td>\n",
       "    </tr>\n",
       "    <tr>\n",
       "      <th>63</th>\n",
       "      <td>NaN</td>\n",
       "      <td>NaN</td>\n",
       "      <td>2021-06-07</td>\n",
       "      <td>2021-06-10</td>\n",
       "    </tr>\n",
       "  </tbody>\n",
       "</table>\n",
       "</div>"
      ],
      "text/plain": [
       "                                      id  \\\n",
       "65  dbf09553-c593-4bb2-90e5-7eb3bc7ebe08   \n",
       "66  35425467-0e8d-4fe7-b35d-6ccc9b71b0cf   \n",
       "67  11dcfdc5-2b37-45c0-ac79-3d6926553582   \n",
       "68  9ed9e7f3-9edc-4f58-ae5b-8c9add746886   \n",
       "59                                   NaN   \n",
       "60                                   NaN   \n",
       "61                                   NaN   \n",
       "62                                   NaN   \n",
       "63                                   NaN   \n",
       "\n",
       "                    intersection_name_api test_daterange_start  \\\n",
       "65        Bayview Avenue and River Street           2021-06-16   \n",
       "66   Sheppard Avenue West and Jane Street           2021-05-12   \n",
       "67  Sheppard Avenue West and Keele Street           2021-06-16   \n",
       "68    Steeles Avenue West and Jane Street           2021-05-12   \n",
       "59                                    NaN           2020-12-20   \n",
       "60                                    NaN           2021-05-31   \n",
       "61                                    NaN           2021-05-12   \n",
       "62                                    NaN           2021-06-06   \n",
       "63                                    NaN           2021-06-07   \n",
       "\n",
       "   test_daterange_end  \n",
       "65         2021-06-17  \n",
       "66         2021-05-15  \n",
       "67         2021-06-17  \n",
       "68         2021-05-15  \n",
       "59         2020-12-23  \n",
       "60         2021-06-03  \n",
       "61         2021-05-15  \n",
       "62         2021-06-09  \n",
       "63         2021-06-10  "
      ]
     },
     "execution_count": 74,
     "metadata": {},
     "output_type": "execute_result"
    }
   ],
   "source": [
    "df_newints"
   ]
  },
  {
   "cell_type": "code",
   "execution_count": null,
   "metadata": {},
   "outputs": [],
   "source": []
  }
 ],
 "metadata": {
  "kernelspec": {
   "display_name": "jupyterhub",
   "language": "python",
   "name": "jupyterhub"
  },
  "language_info": {
   "codemirror_mode": {
    "name": "ipython",
    "version": 3
   },
   "file_extension": ".py",
   "mimetype": "text/x-python",
   "name": "python",
   "nbconvert_exporter": "python",
   "pygments_lexer": "ipython3",
   "version": "3.6.9"
  }
 },
 "nbformat": 4,
 "nbformat_minor": 4
}
