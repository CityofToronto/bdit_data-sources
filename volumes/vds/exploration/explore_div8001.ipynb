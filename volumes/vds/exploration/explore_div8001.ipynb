{
 "cells": [
  {
   "cell_type": "code",
   "execution_count": null,
   "metadata": {},
   "outputs": [],
   "source": [
    "from pathlib import Path\n",
    "import configparser\n",
    "from psycopg2 import connect\n",
    "import pandas as pd\n",
    "from datetime import datetime\n",
    "\n",
    "CONFIG = configparser.ConfigParser()\n",
    "CONFIG.read(str(Path.home().joinpath('db.cfg'))) #Creates a path to your db.cfg file\n",
    "dbset = CONFIG['DBSETTINGS']\n",
    "con = connect(**dbset)"
   ]
  },
  {
   "cell_type": "code",
   "execution_count": null,
   "metadata": {},
   "outputs": [],
   "source": [
    "sql = '''\n",
    "SELECT\n",
    "    d.vds_id,\n",
    "    d.datetime_15min::date AS date,\n",
    "    SUM(d.volume_veh_per_hr) / 4 AS count\n",
    "FROM vds.raw_vdsdata AS d\n",
    "WHERE d.division_id = 8001\n",
    "    AND d.dt >= '2023-08-01 00:00:00'::timestamp\n",
    "GROUP BY date, vds_id;\n",
    "'''\n",
    "\n",
    "with con: \n",
    "    data = pd.read_sql(sql, con)"
   ]
  }
 ],
 "metadata": {
  "language_info": {
   "name": "python"
  },
  "orig_nbformat": 4
 },
 "nbformat": 4,
 "nbformat_minor": 2
}
