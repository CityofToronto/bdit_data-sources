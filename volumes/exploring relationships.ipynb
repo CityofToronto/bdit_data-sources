{
 "cells": [
  {
   "cell_type": "markdown",
   "metadata": {},
   "source": [
    "# Exploring Volume Relationships\n",
    "Author(s): Raphael Dumas\n",
    "*Attempting to decipher the relationships between the various tables in the FLOW database*"
   ]
  },
  {
   "cell_type": "code",
   "execution_count": 3,
   "metadata": {
    "collapsed": true
   },
   "outputs": [],
   "source": [
    "from tabulate import tabulate\n",
    "import pandas as pd\n",
    "import pandas.io.sql as pandasql\n",
    "import datetime\n",
    "import configparser\n",
    "from psycopg2 import connect"
   ]
  },
  {
   "cell_type": "code",
   "execution_count": 4,
   "metadata": {
    "collapsed": false
   },
   "outputs": [],
   "source": [
    "CONFIG = configparser.ConfigParser()\n",
    "CONFIG.read('db.cfg')\n",
    "dbset = CONFIG['DBSETTINGS']\n",
    "#Setting up postgresql connection\n",
    "con = connect(database=dbset['database'],\n",
    "              host=dbset['host'],\n",
    "              user=dbset['user'],\n",
    "              password=dbset['password'])"
   ]
  },
  {
   "cell_type": "markdown",
   "metadata": {},
   "source": [
    "## countinfo & countinfomics\n",
    "Both tables appear to be the center of count information. Confusingly they both have a primary key of `count_info_id` for which there is some overlap. "
   ]
  },
  {
   "cell_type": "code",
   "execution_count": 8,
   "metadata": {
    "collapsed": false,
    "scrolled": true
   },
   "outputs": [
    {
     "name": "stdout",
     "output_type": "stream",
     "text": [
      "|    |   countinfo count |   countinfomics count |   Both |\n",
      "|---:|------------------:|----------------------:|-------:|\n",
      "|  0 |            762388 |                 20455 |   4777 |\n"
     ]
    }
   ],
   "source": [
    "sql = ''' SELECT COUNT(DISTINCT c.count_info_id) AS \"countinfo count\",\n",
    " COUNT(DISTINCT cim.count_info_id) \"countinfomics count\",\n",
    " SUM(CASE WHEN c.count_info_id = cim.count_info_id THEN 1 ELSE 0 END) AS \"Both\"\n",
    " FROM traffic.countinfo c\n",
    " FULL OUTER JOIN traffic.countinfomics cim ON c.count_info_id = cim.count_info_id'''\n",
    "\n",
    "data = pandasql.read_sql(sql, con)\n",
    "print(tabulate(data, headers=\"keys\", tablefmt=\"pipe\"))"
   ]
  },
  {
   "cell_type": "markdown",
   "metadata": {},
   "source": [
    "### countinfomics and the `cal` and `det` tables\n",
    "From the query below and [`cal_dictionary.md`](cal_dictionary.md) and [`det_dictionary.md`](det_dictionary.md) the `count_info_id` column from `countinfomics` is a foreign key in both tables. Thus countinfomics contains exclusively turning movement counts. "
   ]
  },
  {
   "cell_type": "code",
   "execution_count": 9,
   "metadata": {
    "collapsed": false
   },
   "outputs": [
    {
     "name": "stdout",
     "output_type": "stream",
     "text": [
      "|    |   countinfomics count |   det count |   Both |\n",
      "|---:|----------------------:|------------:|-------:|\n",
      "|  0 |                 20455 |       20454 | 661937 |\n"
     ]
    }
   ],
   "source": [
    "sql = '''SELECT COUNT(DISTINCT c.count_info_id) AS \"countinfomics count\",\n",
    "COUNT(DISTINCT det.count_info_id) \"det count\",\n",
    "SUM(CASE WHEN c.count_info_id = det.count_info_id THEN 1 ELSE 0 END) AS \"Both\"\n",
    "FROM traffic.countinfomics c\n",
    "FULL OUTER JOIN traffic.det det ON c.count_info_id = det.count_info_id'''\n",
    "\n",
    "data = pandasql.read_sql(sql, con)\n",
    "print(tabulate(data, headers=\"keys\", tablefmt=\"pipe\"))"
   ]
  },
  {
   "cell_type": "markdown",
   "metadata": {},
   "source": [
    "This is further proven by joining to the `category` table"
   ]
  },
  {
   "cell_type": "code",
   "execution_count": 11,
   "metadata": {
    "collapsed": false
   },
   "outputs": [
    {
     "name": "stdout",
     "output_type": "stream",
     "text": [
      "|    | category_name   |   count |\n",
      "|---:|:----------------|--------:|\n",
      "|  0 | MANUAL          |   20455 |\n"
     ]
    }
   ],
   "source": [
    "sql = '''SELECT category_name, COUNT(*)\n",
    "FROM traffic.countinfomics\n",
    "NATURAL JOIN traffic.category\n",
    "GROUP BY category_name\n",
    "ORDER BY count DESC'''\n",
    "\n",
    "data = pandasql.read_sql(sql, con)\n",
    "print(tabulate(data, headers=\"keys\", tablefmt=\"pipe\"))"
   ]
  },
  {
   "cell_type": "markdown",
   "metadata": {},
   "source": [
    "### countinfo\n",
    "The counts in `countinfo` appear to be more automated, here is the breakdown of count sources."
   ]
  },
  {
   "cell_type": "code",
   "execution_count": 12,
   "metadata": {
    "collapsed": false
   },
   "outputs": [
    {
     "name": "stdout",
     "output_type": "stream",
     "text": [
      "|    | source1   |   count |\n",
      "|---:|:----------|--------:|\n",
      "|  0 | RESCU     |  298463 |\n",
      "|  1 |           |  264233 |\n",
      "|  2 | JAMAR     |   92935 |\n",
      "|  3 | PERMSTA   |   61114 |\n",
      "|  4 | TRANSCORE |   41555 |\n",
      "|  5 | 24HOUR    |    3163 |\n",
      "|  6 | SENSYS    |     645 |\n",
      "|  7 | TRANSUITE |     267 |\n",
      "|  8 | MTO       |       8 |\n",
      "|  9 | MTSS      |       5 |\n"
     ]
    }
   ],
   "source": [
    "sql = '''SELECT source1, COUNT(1)\n",
    "FROM traffic.countinfo \n",
    "GROUP BY source1\n",
    "ORDER BY count DESC'''\n",
    "\n",
    "data = pandasql.read_sql(sql, con)\n",
    "print(tabulate(data, headers=\"keys\", tablefmt=\"pipe\"))"
   ]
  },
  {
   "cell_type": "markdown",
   "metadata": {},
   "source": [
    "## Counts over time\n",
    "This shows the number of both types of counts over time"
   ]
  },
  {
   "cell_type": "code",
   "execution_count": 14,
   "metadata": {
    "collapsed": false
   },
   "outputs": [
    {
     "name": "stdout",
     "output_type": "stream",
     "text": [
      "|      |   countinfo count |   countinfomics count |\n",
      "|-----:|------------------:|----------------------:|\n",
      "| 1984 |                 0 |                   565 |\n",
      "| 1985 |                 0 |                   495 |\n",
      "| 1986 |                 0 |                   585 |\n",
      "| 1987 |                 0 |                   408 |\n",
      "| 1988 |                 0 |                   143 |\n",
      "| 1989 |                 0 |                   689 |\n",
      "| 1990 |                 0 |                   376 |\n",
      "| 1991 |                 0 |                   591 |\n",
      "| 1992 |                 0 |                   408 |\n",
      "| 1993 |              2627 |                   488 |\n",
      "| 1994 |              2162 |                   452 |\n",
      "| 1995 |             16524 |                   600 |\n",
      "| 1996 |             24063 |                   566 |\n",
      "| 1997 |             24117 |                   493 |\n",
      "| 1998 |             27771 |                   491 |\n",
      "| 1999 |             26263 |                   635 |\n",
      "| 2000 |             24676 |                   693 |\n",
      "| 2001 |             21618 |                   855 |\n",
      "| 2002 |             27620 |                   834 |\n",
      "| 2003 |             25450 |                   959 |\n",
      "| 2004 |             40776 |                   773 |\n",
      "| 2005 |             49834 |                   808 |\n",
      "| 2006 |             46889 |                   830 |\n",
      "| 2007 |             31926 |                   842 |\n",
      "| 2008 |             30212 |                   694 |\n",
      "| 2009 |             47374 |                   807 |\n",
      "| 2010 |             63300 |                   816 |\n",
      "| 2011 |             50494 |                   666 |\n",
      "| 2012 |             63751 |                   631 |\n",
      "| 2013 |             18041 |                   488 |\n",
      "| 2014 |             15370 |                   581 |\n",
      "| 2015 |             46071 |                   636 |\n",
      "| 2016 |             35459 |                   557 |\n"
     ]
    }
   ],
   "source": [
    "sql = '''SELECT extract('year' FROM COALESCE(c.count_date, cim.count_date)) AS \"Year\", COUNT(DISTINCT c.count_info_id) AS \"countinfo count\",\n",
    " COUNT(DISTINCT cim.count_info_id) \"countinfomics count\"\n",
    "FROM traffic.countinfo c\n",
    "FULL OUTER JOIN traffic.countinfomics cim ON c.count_date = cim.count_date::DATE\n",
    "GROUP BY \"Year\"'''\n",
    "\n",
    "data = pandasql.read_sql(sql, con, index_col='Year')\n",
    "print(tabulate(data, headers=\"keys\", tablefmt=\"pipe\"))"
   ]
  },
  {
   "cell_type": "markdown",
   "metadata": {},
   "source": [
    "## Geographic data\n",
    "[`gis_table_schema.sql`](sql/gis_table_schema.sql) contains the `sql` for the tables containing information appearing to be geographic thus far, excluding `arterydata`. Aakash's investigation shows that 1/3 of rows in `arterydata` have a `geo_id` which matches up with the `geo_id` in `gis.street_centreline`. Otherwise rows in `arterydata` seem to link up to nodes."
   ]
  },
  {
   "cell_type": "raw",
   "metadata": {},
   "source": [
    "## Geo"
   ]
  }
 ],
 "metadata": {
  "kernelspec": {
   "display_name": "Python [Root]",
   "language": "python",
   "name": "Python [Root]"
  },
  "language_info": {
   "codemirror_mode": {
    "name": "ipython",
    "version": 3
   },
   "file_extension": ".py",
   "mimetype": "text/x-python",
   "name": "python",
   "nbconvert_exporter": "python",
   "pygments_lexer": "ipython3",
   "version": "3.5.2"
  }
 },
 "nbformat": 4,
 "nbformat_minor": 0
}
