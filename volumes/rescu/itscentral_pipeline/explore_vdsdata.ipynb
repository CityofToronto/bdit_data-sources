{
 "cells": [
  {
   "cell_type": "code",
   "execution_count": 1,
   "metadata": {},
   "outputs": [],
   "source": [
    "from pathlib import Path\n",
    "import configparser\n",
    "from psycopg2 import connect\n",
    "import struct\n",
    "import pandas as pd\n",
    "from datetime import datetime\n",
    "\n",
    "CONFIG = configparser.ConfigParser()\n",
    "CONFIG.read(str(Path.home().joinpath('db.cfg'))) #Creates a path to your db.cfg file\n",
    "dbset = CONFIG['DBSETTINGS']\n",
    "con = connect(**dbset)\n"
   ]
  },
  {
   "cell_type": "code",
   "execution_count": 2,
   "metadata": {},
   "outputs": [
    {
     "name": "stderr",
     "output_type": "stream",
     "text": [
      "/opt/jupyterhub/lib64/python3.9/site-packages/pandas/io/sql.py:761: UserWarning: pandas only support SQLAlchemy connectable(engine/connection) ordatabase string URI or sqlite3 DBAPI2 connectionother DBAPI2 objects are not tested, please consider using SQLAlchemy\n",
      "  warnings.warn(\n"
     ]
    }
   ],
   "source": [
    "#find dates in database for backfilling:\n",
    "\n",
    "sql = '''SELECT DISTINCT to_timestamp(timestamputc)::DATE, COUNT(1)\n",
    "FROM vdsdata\n",
    "GROUP BY 1\n",
    "ORDER BY 1'''\n",
    "\n",
    "with con: \n",
    "    dates_df = pd.read_sql(sql, con)"
   ]
  },
  {
   "cell_type": "code",
   "execution_count": 3,
   "metadata": {},
   "outputs": [
    {
     "name": "stdout",
     "output_type": "stream",
     "text": [
      "  to_timestamp   count\n",
      "0   2021-08-14   15150\n",
      "1   2021-08-15  485043\n",
      "2   2021-08-16  485220\n",
      "3   2021-08-17  485243\n",
      "4   2021-08-18  486397\n",
      "    to_timestamp    count\n",
      "663   2023-06-08  1450215\n",
      "664   2023-06-09  1356076\n",
      "665   2023-06-10  1184917\n",
      "666   2023-06-11   738971\n",
      "667   2023-06-12    99356\n",
      "Total row count from vdsdata: 763309676\n"
     ]
    }
   ],
   "source": [
    "print(dates_df.head(5))\n",
    "print(dates_df.tail(5))\n",
    "print(\"Total row count from vdsdata: {}\".format(dates_df['count'].agg('sum')))"
   ]
  },
  {
   "cell_type": "code",
   "execution_count": 4,
   "metadata": {},
   "outputs": [
    {
     "data": {
      "text/plain": [
       "True"
      ]
     },
     "execution_count": 4,
     "metadata": {},
     "output_type": "execute_result"
    }
   ],
   "source": [
    "#find days between min and max\n",
    "min_date = min(dates_df['to_timestamp'])\n",
    "max_date = max(dates_df['to_timestamp'])\n",
    "\n",
    "(dates_df.shape[0] - 1) == (max_date - min_date).days"
   ]
  },
  {
   "cell_type": "code",
   "execution_count": 5,
   "metadata": {},
   "outputs": [
    {
     "name": "stdout",
     "output_type": "stream",
     "text": [
      "/opt/jupyterhub/lib64/python3.9/site-packages/IPython/core/interactiveshell.py\n"
     ]
    },
    {
     "data": {
      "text/plain": [
       "<AxesSubplot:>"
      ]
     },
     "execution_count": 5,
     "metadata": {},
     "output_type": "execute_result"
    },
    {
     "data": {
      "image/png": "[encoded data removed]",
      "text/plain": [
       "<Figure size 432x288 with 1 Axes>"
      ]
     },
     "metadata": {
      "needs_background": "light"
     },
     "output_type": "display_data"
    }
   ],
   "source": [
    "dates_df.plot()"
   ]
  },
  {
   "attachments": {},
   "cell_type": "markdown",
   "metadata": {},
   "source": [
    "Notes:\n",
    "-760M rows!  \n",
    "-Only back to 2021.  \n",
    "-Data is available for current day.  \n",
    "-It looks like the data is continuous with no days of zero data.\n",
    "-Around 1-1.5M records per day, some dips.\n",
    "\n"
   ]
  },
  {
   "cell_type": "code",
   "execution_count": null,
   "metadata": {},
   "outputs": [],
   "source": [
    "vdsconfig_sql = '''SELECT * FROM vdsconfig WHERE divisionid IN (2, 8001)'''\n",
    "entity_sql = '''SELECT * FROM entitylocation WHERE divisionid IN (2, 8001)'''\n",
    "\n",
    "with con: \n",
    "    vdsconfig = pd.read_sql(vdsconfig_sql, con)\n",
    "    entitylocations = pd.read_sql(entity_sql, con)\n"
   ]
  },
  {
   "cell_type": "code",
   "execution_count": 2,
   "metadata": {},
   "outputs": [
    {
     "name": "stderr",
     "output_type": "stream",
     "text": [
      "/opt/jupyterhub/lib64/python3.9/site-packages/pandas/io/sql.py:761: UserWarning: pandas only support SQLAlchemy connectable(engine/connection) ordatabase string URI or sqlite3 DBAPI2 connectionother DBAPI2 objects are not tested, please consider using SQLAlchemy\n",
      "  warnings.warn(\n",
      "/opt/jupyterhub/lib64/python3.9/site-packages/pandas/io/sql.py:761: UserWarning: pandas only support SQLAlchemy connectable(engine/connection) ordatabase string URI or sqlite3 DBAPI2 connectionother DBAPI2 objects are not tested, please consider using SQLAlchemy\n",
      "  warnings.warn(\n"
     ]
    },
    {
     "name": "stdout",
     "output_type": "stream",
     "text": [
      "Number of rows: 0\n"
     ]
    }
   ],
   "source": [
    "date_start = '2023-05-17 00:00:00'\n",
    "date_end = '2023-05-17 00:00:00'\n",
    "\n",
    "sql = f'''SELECT \n",
    "    d.divisionid,\n",
    "    d.vdsid,\n",
    "    d.timestamputc,\n",
    "    d.lanedata\n",
    "FROM vdsdata AS d\n",
    "WHERE \n",
    "    timestamputc >= extract(epoch from timestamptz '{date_start}')\n",
    "    AND timestamputc < extract(epoch from timestamptz '{date_end}'); '''\n",
    "\n",
    "#run queries\n",
    "with con: \n",
    "    df = pd.read_sql(sql, con)\n",
    "\n",
    "print(f\"Number of rows: {df.shape[0]}\")"
   ]
  },
  {
   "cell_type": "code",
   "execution_count": 3,
   "metadata": {},
   "outputs": [],
   "source": [
    "\n",
    "# Parse lane data\n",
    "def parse_lane_data(laneData):\n",
    "    result = []\n",
    "\n",
    "    with memoryview(laneData) as mv:\n",
    "        i = 0 #index within memoryview\n",
    "        while i < len(mv):\n",
    "            # Get lane\n",
    "            lane = mv[i][0]\n",
    "\n",
    "            # Get speed\n",
    "            #Stored in km/h * 100. 65535 for null value. Convert 0 to null to maintain backward compatibility\n",
    "            speed = struct.unpack('<H', mv[i + 1] + mv[i + 2])[0] #>H denotes stored in big-endian format (PostGreSQL uses big-endian)\n",
    "            speedKmh = None if speed == 65535 or speed == 0 else speed / 100.0\n",
    "\n",
    "            # Get volume\n",
    "            #Stored in vehicles per hour. 65535 for null value.\n",
    "            volume = struct.unpack('<H', mv[i + 3] + mv[i + 4])[0]\n",
    "            volumeVehiclesPerHour = None if volume == 65535 else volume\n",
    "\n",
    "            # Get occupancy\n",
    "            #Stored in percent * 100. 65535 for null value.\n",
    "            occupancy = struct.unpack('<H', mv[i + 5] + mv[i + 6])[0]\n",
    "            occupancyPercent = None if occupancy == 65535 else occupancy / 100.0\n",
    "\n",
    "            # Get volume by vehicle lengths - these columns are empty \n",
    "            #Each class stored in vehicles per hour. 65535 for null value.\n",
    "            passengerVolume = struct.unpack('<H', mv[i + 7] + mv[i + 8])[0]\n",
    "            volumePassengerVehiclesPerHour = None if passengerVolume == 65535 else passengerVolume\n",
    "            singleUnitTrucksVolume = struct.unpack('<H', mv[i + 9] + mv[i + 10])[0]\n",
    "            volumeSingleUnitTrucksPerHour = None if singleUnitTrucksVolume == 65535 else singleUnitTrucksVolume\n",
    "            comboTrucksVolume = struct.unpack('<H', mv[i + 11] + mv[i + 12])[0]\n",
    "            volumeComboTrucksPerHour = None if comboTrucksVolume == 65535 else comboTrucksVolume\n",
    "            multiTrailerTrucksVolume = struct.unpack('<H', mv[i + 13] + mv[i + 14])[0]\n",
    "            volumeMultiTrailerTrucksPerHour = None if multiTrailerTrucksVolume == 65535 else multiTrailerTrucksVolume\n",
    "\n",
    "            # Increment i by 15 to move to the next lane\n",
    "            i += 15\n",
    "\n",
    "            result.append([lane, speedKmh, volumeVehiclesPerHour, occupancyPercent, volumePassengerVehiclesPerHour, volumeSingleUnitTrucksPerHour, volumeComboTrucksPerHour, volumeMultiTrailerTrucksPerHour])\n",
    "            \n",
    "    return result"
   ]
  },
  {
   "cell_type": "code",
   "execution_count": 4,
   "metadata": {},
   "outputs": [
    {
     "name": "stdout",
     "output_type": "stream",
     "text": [
      "Empty DataFrame\n",
      "Columns: [divisionid, vdsid, timestamputc, lanedata]\n",
      "Index: []\n",
      "No empty rows discarded.\n"
     ]
    }
   ],
   "source": [
    "print(df.head(20))\n",
    "\n",
    "#get number of lanes in the binary data stream for each row\n",
    "#row_lengths = df['lanedata'].map(len)\n",
    "#empty_rows = df[row_lengths == 0]\n",
    "empty_rows = df[[len(x) == 0 for x in df['lanedata']]]\n",
    "\n",
    "if empty_rows.empty is False:\n",
    "    print(f'Rows with empty lanedata: {empty_rows.shape[0]}')\n",
    "else: \n",
    "    print(f'No empty rows discarded.')\n",
    "\n",
    "#drop empty rows\n",
    "df_clean = df #.drop(empty_rows.index) #remove empty rows\n",
    "\n",
    "df_clean['datetime'] = df_clean['timestamputc'].map(datetime.fromtimestamp)\n",
    "floor_15 = lambda a: 60 * 15 * (a // (60 * 15)) #very fast 15min binning using integer dtype\n",
    "df_clean['datetime_15min'] = df_clean['timestamputc'].map(floor_15).map(datetime.fromtimestamp) \n",
    "\n"
   ]
  },
  {
   "cell_type": "code",
   "execution_count": 5,
   "metadata": {},
   "outputs": [],
   "source": [
    "\n",
    "#parse each `lanedata` column entry \n",
    "lane_data = df_clean['lanedata'].map(parse_lane_data)\n",
    "n_rows = lane_data.map(len)\n",
    "\n",
    "#flatten the nested list structure\n",
    "lane_data = [item for sublist in lane_data for item in sublist]\n",
    "\n",
    "#convert list structure to df\n",
    "cols = ['lane', 'speedKmh', 'volumeVehiclesPerHour', 'occupancyPercent', 'volumePassengerVehiclesPerHour', 'volumeSingleUnitTrucksPerHour', 'volumeComboTrucksPerHour', 'volumeMultiTrailerTrucksPerHour']\n",
    "lane_data_df = pd.DataFrame(lane_data, columns = cols) \n",
    "\n",
    "#repeat original index based on number of rows in result as a join column\n",
    "lane_data_df.set_index(df_clean.index.repeat(n_rows), inplace=True)"
   ]
  },
  {
   "cell_type": "code",
   "execution_count": 6,
   "metadata": {},
   "outputs": [
    {
     "name": "stdout",
     "output_type": "stream",
     "text": [
      "0\n"
     ]
    }
   ],
   "source": [
    "#join with other columns on index \n",
    "raw_20sec = df_clean[['divisionid', 'vdsid', 'datetime', 'datetime_15min']].join(lane_data_df)\n",
    "\n",
    "print(raw_20sec.shape[0])"
   ]
  },
  {
   "cell_type": "code",
   "execution_count": 9,
   "metadata": {},
   "outputs": [],
   "source": [
    "#aggregate from 20s hourly rate to 15 minute volume\n",
    "#this method of aggregation assumes missing bins are zeros. \n",
    "def rate_to_volume(x): \n",
    "    return x.sum() / 4 / 45 \n",
    "\n",
    "# /4 is for hourly to 15 minute volume.\n",
    "# /45 is for 45 20sec bins per 15 minutes (assumes missing bins are zeros)."
   ]
  },
  {
   "attachments": {},
   "cell_type": "markdown",
   "metadata": {},
   "source": [
    "All volume columns besides 'volumeVehiclesPerHour' are blank. Rescu sensors do not separate by vehicle type."
   ]
  },
  {
   "cell_type": "code",
   "execution_count": 10,
   "metadata": {},
   "outputs": [
    {
     "data": {
      "text/plain": [
       "volumeVehiclesPerHour              2592986181\n",
       "volumePassengerVehiclesPerHour              0\n",
       "volumeSingleUnitTrucksPerHour               0\n",
       "volumeComboTrucksPerHour                    0\n",
       "volumeMultiTrailerTrucksPerHour             0\n",
       "dtype: object"
      ]
     },
     "execution_count": 10,
     "metadata": {},
     "output_type": "execute_result"
    }
   ],
   "source": [
    "\n",
    "raw_20sec[['volumeVehiclesPerHour',\n",
    "           'volumePassengerVehiclesPerHour',\n",
    "           'volumeSingleUnitTrucksPerHour',\n",
    "           'volumeComboTrucksPerHour',\n",
    "           'volumeMultiTrailerTrucksPerHour']].agg('sum')"
   ]
  },
  {
   "attachments": {},
   "cell_type": "markdown",
   "metadata": {},
   "source": [
    "Wednesday - Friday traffic pattern.  \n",
    "\\# of bins has sporadic drops by 50%, but no corresponding volume dip. Probably some of the non-highway sensors dropping out.  \n",
    "The peak highway volumes occur around 7am/6pm. Makes sense the highest throughput would not be at peak hours exactly but shoulder period.  \n"
   ]
  },
  {
   "cell_type": "code",
   "execution_count": null,
   "metadata": {},
   "outputs": [
    {
     "data": {
      "text/plain": [
       "<AxesSubplot:xlabel='datetime_15min'>"
      ]
     },
     "execution_count": 33,
     "metadata": {},
     "output_type": "execute_result"
    },
    {
     "data": {
      "image/png": "[encoded data removed]",
      "text/plain": [
       "<Figure size 432x288 with 1 Axes>"
      ]
     },
     "metadata": {
      "needs_background": "light"
     },
     "output_type": "display_data"
    },
    {
     "data": {
      "image/png": "[encoded data removed]",
      "text/plain": [
       "<Figure size 432x288 with 1 Axes>"
      ]
     },
     "metadata": {
      "needs_background": "light"
     },
     "output_type": "display_data"
    }
   ],
   "source": [
    "summary = raw_20sec.groupby('datetime_15min').agg(\n",
    "        volume_15min = ('volumeVehiclesPerHour', rate_to_volume),\n",
    "        bin_count = ('datetime_15min', 'count'))\n",
    "\n",
    "summary.plot()\n",
    "\n",
    "s1 = summary.index >= '2023-05-17 00:00:00'\n",
    "s2 = summary.index < '2023-05-18 00:00:00'\n",
    "summary[s1 & s2].plot()\n"
   ]
  },
  {
   "cell_type": "code",
   "execution_count": 13,
   "metadata": {},
   "outputs": [
    {
     "name": "stdout",
     "output_type": "stream",
     "text": [
      "Total daily volume: 14178425.00\n"
     ]
    }
   ],
   "source": [
    "\n",
    "volumes_15min = raw_20sec.groupby(['vdsid', 'divisionid', 'datetime_15min']).agg(\n",
    "        volume_15min = ('volumeVehiclesPerHour', rate_to_volume),\n",
    "        bin_count = ('datetime_15min', 'size')).reset_index()\n",
    "\n",
    "volumes_15min['volume_15min'] = [int(x) for x in volumes_15min['volume_15min']]\n",
    "\n",
    "print(f\"Total daily volume: {volumes_15min['volume_15min'].sum():.2f}\")"
   ]
  },
  {
   "cell_type": "code",
   "execution_count": 16,
   "metadata": {},
   "outputs": [],
   "source": [
    "volumes_15min[volumes_15min['divisionid'] == 2].to_csv('/home/gwolofs/rescu_itscentral/volumes_15min.csv')\n",
    "detector_inventory.to_csv('/home/gwolofs/rescu_itscentral/detector_inventory.csv')"
   ]
  },
  {
   "cell_type": "code",
   "execution_count": 15,
   "metadata": {},
   "outputs": [],
   "source": [
    "volumes_15min = pd.read_csv('/home/gwolofs/rescu_itscentral/volumes_15min.csv')\n",
    "detector_inventory = pd.read_csv('/home/gwolofs/rescu_itscentral/detector_inventory.csv')\n"
   ]
  },
  {
   "cell_type": "code",
   "execution_count": 17,
   "metadata": {},
   "outputs": [
    {
     "name": "stdout",
     "output_type": "stream",
     "text": [
      "         volume_15min\n",
      "vdsid                \n",
      "3              144511\n",
      "6               62948\n",
      "9              128689\n",
      "10             208762\n",
      "11             207985\n",
      "12             276422\n",
      "13             193150\n",
      "14             270518\n",
      "16              94446\n",
      "17             238701\n",
      "18             207920\n",
      "20                  0\n",
      "21             103720\n",
      "22             178518\n",
      "23             258740\n",
      "25             262395\n",
      "26             211945\n",
      "27             244676\n",
      "28             183017\n",
      "29             257166\n",
      "30             184230\n",
      "31             265407\n",
      "32             198007\n",
      "33             216458\n",
      "34             145885\n",
      "37             103243\n",
      "39              64697\n",
      "43                 79\n",
      "44                  0\n",
      "45             204143\n",
      "52             163969\n",
      "53             189508\n",
      "54             246418\n",
      "65               4944\n",
      "67              51344\n",
      "69              25725\n",
      "72                  3\n",
      "73              62433\n",
      "74              52752\n",
      "75              45982\n",
      "77              62016\n",
      "78              36326\n",
      "79              63410\n",
      "83              92438\n",
      "85              51742\n",
      "86              76125\n",
      "87                  0\n",
      "91              43334\n",
      "92              30561\n",
      "94                  0\n",
      "101             54578\n",
      "106             65119\n",
      "108             43996\n",
      "109             29596\n",
      "110             29351\n",
      "111             16519\n",
      "112             49852\n",
      "117             37078\n",
      "121             25674\n",
      "123             20546\n",
      "124             21791\n",
      "125                 0\n",
      "126             20669\n",
      "129             10531\n",
      "130             32532\n",
      "132              6922\n",
      "134             22044\n",
      "135             23356\n",
      "136             32526\n",
      "137             31449\n",
      "138             29638\n",
      "139             18767\n",
      "144             46672\n",
      "152             19188\n",
      "153             25832\n",
      "154                 0\n",
      "155              3169\n",
      "158             26778\n",
      "159              4795\n",
      "161             15032\n",
      "162                 0\n",
      "163                 0\n",
      "164                 0\n",
      "165             21606\n",
      "190            155005\n",
      "191            251662\n",
      "192            367897\n",
      "193            316325\n",
      "196            267467\n",
      "197            263628\n",
      "198            295398\n",
      "199            266220\n",
      "200            250637\n",
      "201            226593\n",
      "202            212397\n",
      "203            296747\n",
      "205             75023\n",
      "210            132944\n",
      "211            220507\n",
      "218            166982\n",
      "219            187029\n",
      "224            120930\n",
      "225            286418\n",
      "226             59282\n",
      "228             29596\n",
      "2000381        296554\n",
      "2000382        347265\n",
      "2000392        149996\n",
      "2000393        140971\n",
      "2000396        253602\n",
      "2000397        277840\n",
      "2000409        225336\n",
      "2000410        249174\n",
      "2000411        228258\n",
      "2000412        261660\n",
      "2000699           177\n",
      "2000708         72042\n",
      "5044817          1659\n",
      "5044820            19\n",
      "5044828            22\n",
      "5044831          1594\n",
      "5059333           660\n",
      "5059350            38\n",
      "5059360           109\n",
      "5059371            43\n",
      "5059375           924\n",
      "5059376           189\n",
      "5062220           115\n",
      "5062221          1103\n",
      "5062231           219\n",
      "5062239           183\n",
      "5062242           611\n",
      "5062243           631\n",
      "5062280             6\n",
      "5062281           603\n",
      "5062282          1244\n",
      "5062284           531\n",
      "5062287             3\n",
      "5062288             0\n",
      "5062289          1321\n",
      "5062291           166\n",
      "5062294           362\n",
      "5062295           637\n",
      "5062298           360\n",
      "5062299           497\n",
      "5062301             8\n",
      "5062302          1534\n",
      "5062305            33\n",
      "5062307           371\n",
      "5062308          1496\n",
      "5062309           199\n",
      "5461264             0\n",
      "5461265             7\n",
      "5461266             0\n",
      "5461267             1\n",
      "5461268             7\n",
      "5461269             0\n",
      "5461270             0\n",
      "5461271             4\n",
      "5461272             0\n",
      "5461273             0\n",
      "5461274             9\n",
      "5461275             0\n",
      "5461276             0\n",
      "5461277             0\n",
      "5461278             2\n",
      "5461279             3\n",
      "5461280             0\n",
      "5461281             0\n",
      "5461282             0\n",
      "5461283             2\n"
     ]
    }
   ],
   "source": [
    "\n",
    "#look at sensor daily totals: \n",
    "with pd.option_context(\"display.max_rows\", 1000): \n",
    "    print(volumes_15min.groupby(['vdsid']).agg(\n",
    "            volume_15min = ('volume_15min', sum)).head(1000))\n"
   ]
  },
  {
   "cell_type": "code",
   "execution_count": 8,
   "metadata": {},
   "outputs": [
    {
     "ename": "NameError",
     "evalue": "name 'volumes_15min' is not defined",
     "output_type": "error",
     "traceback": [
      "\u001b[0;31m---------------------------------------------------------------------------\u001b[0m",
      "\u001b[0;31mNameError\u001b[0m                                 Traceback (most recent call last)",
      "\u001b[1;32m/home/gwolofs/bdit_data-sources/volumes/rescu/itscentral_pipeline/explore_vdsdata.ipynb Cell 19\u001b[0m in \u001b[0;36m<cell line: 1>\u001b[0;34m()\u001b[0m\n\u001b[0;32m----> <a href='vscode-notebook-cell://ssh-remote%2Bmorbius.corp.toronto.ca/home/gwolofs/bdit_data-sources/volumes/rescu/itscentral_pipeline/explore_vdsdata.ipynb#X25sdnNjb2RlLXJlbW90ZQ%3D%3D?line=0'>1</a>\u001b[0m volumes_merged \u001b[39m=\u001b[39m volumes_15min\u001b[39m.\u001b[39mmerge(detector_inventory, right_on \u001b[39m=\u001b[39m \u001b[39m'\u001b[39m\u001b[39mvdsid\u001b[39m\u001b[39m'\u001b[39m, left_on \u001b[39m=\u001b[39m \u001b[39m'\u001b[39m\u001b[39mvdsid\u001b[39m\u001b[39m'\u001b[39m, how \u001b[39m=\u001b[39m \u001b[39m'\u001b[39m\u001b[39mleft\u001b[39m\u001b[39m'\u001b[39m)\n\u001b[1;32m      <a href='vscode-notebook-cell://ssh-remote%2Bmorbius.corp.toronto.ca/home/gwolofs/bdit_data-sources/volumes/rescu/itscentral_pipeline/explore_vdsdata.ipynb#X25sdnNjb2RlLXJlbW90ZQ%3D%3D?line=1'>2</a>\u001b[0m volumes_merged \u001b[39m=\u001b[39m volumes_merged[volumes_merged\u001b[39m.\u001b[39mstarttimestamputc\u001b[39m.\u001b[39misna() \u001b[39m|\u001b[39m \n\u001b[1;32m      <a href='vscode-notebook-cell://ssh-remote%2Bmorbius.corp.toronto.ca/home/gwolofs/bdit_data-sources/volumes/rescu/itscentral_pipeline/explore_vdsdata.ipynb#X25sdnNjb2RlLXJlbW90ZQ%3D%3D?line=2'>3</a>\u001b[0m                                 ((volumes_merged\u001b[39m.\u001b[39mdatetime_15min \u001b[39m>\u001b[39m\u001b[39m=\u001b[39m volumes_merged\u001b[39m.\u001b[39mstarttimestamputc) \u001b[39m&\u001b[39m \n\u001b[1;32m      <a href='vscode-notebook-cell://ssh-remote%2Bmorbius.corp.toronto.ca/home/gwolofs/bdit_data-sources/volumes/rescu/itscentral_pipeline/explore_vdsdata.ipynb#X25sdnNjb2RlLXJlbW90ZQ%3D%3D?line=3'>4</a>\u001b[0m                                 ((volumes_merged\u001b[39m.\u001b[39mdatetime_15min \u001b[39m<\u001b[39m\u001b[39m=\u001b[39m volumes_merged\u001b[39m.\u001b[39mendtimestamputc) \u001b[39m|\u001b[39m \n\u001b[1;32m      <a href='vscode-notebook-cell://ssh-remote%2Bmorbius.corp.toronto.ca/home/gwolofs/bdit_data-sources/volumes/rescu/itscentral_pipeline/explore_vdsdata.ipynb#X25sdnNjb2RlLXJlbW90ZQ%3D%3D?line=4'>5</a>\u001b[0m                                  (volumes_merged\u001b[39m.\u001b[39mendtimestamputc\u001b[39m.\u001b[39misna())))]\n\u001b[1;32m      <a href='vscode-notebook-cell://ssh-remote%2Bmorbius.corp.toronto.ca/home/gwolofs/bdit_data-sources/volumes/rescu/itscentral_pipeline/explore_vdsdata.ipynb#X25sdnNjb2RlLXJlbW90ZQ%3D%3D?line=6'>7</a>\u001b[0m \u001b[39mprint\u001b[39m(volumes_merged\u001b[39m.\u001b[39mhead(\u001b[39m10\u001b[39m))\n",
      "\u001b[0;31mNameError\u001b[0m: name 'volumes_15min' is not defined"
     ]
    }
   ],
   "source": [
    "volumes_merged = volumes_15min.merge(detector_inventory, right_on = 'vdsid', left_on = 'vdsid', how = 'left')\n",
    "volumes_merged = volumes_merged[volumes_merged.starttimestamputc.isna() | \n",
    "                                ((volumes_merged.datetime_15min >= volumes_merged.starttimestamputc) & \n",
    "                                ((volumes_merged.datetime_15min <= volumes_merged.endtimestamputc) | \n",
    "                                 (volumes_merged.endtimestamputc.isna())))]\n",
    "\n",
    "print(volumes_merged.head(10))\n"
   ]
  },
  {
   "cell_type": "code",
   "execution_count": null,
   "metadata": {},
   "outputs": [
    {
     "name": "stdout",
     "output_type": "stream",
     "text": [
      "14405461.383333333\n",
      "14405478.783333333\n"
     ]
    }
   ],
   "source": [
    "#only a few different rows?\n",
    "print(volumes_merged['volume_15min'].sum())\n",
    "print(volumes_15min['volume_15min'].sum())"
   ]
  },
  {
   "cell_type": "code",
   "execution_count": null,
   "metadata": {},
   "outputs": [
    {
     "name": "stdout",
     "output_type": "stream",
     "text": [
      "date     28992\n",
      "vdsid    28992\n",
      "dtype: int64\n",
      "date     28992\n",
      "vdsid    28992\n",
      "dtype: int64\n"
     ]
    }
   ],
   "source": [
    "volumes_15min['date'] = pd.to_datetime(volumes_15min['datetime_15min']).dt.date\n",
    "print(volumes_15min[['date', 'vdsid']].drop_duplicates().count())\n",
    "\n",
    "volumes_merged['date'] = pd.to_datetime(volumes_merged['datetime_15min']).dt.date\n",
    "print(volumes_merged[['date', 'vdsid']].drop_duplicates().count())"
   ]
  },
  {
   "cell_type": "code",
   "execution_count": null,
   "metadata": {},
   "outputs": [
    {
     "name": "stdout",
     "output_type": "stream",
     "text": [
      "Total daily volume: 14405461.38\n"
     ]
    }
   ],
   "source": [
    "\n",
    "print(f\"Total volume: {volumes_merged['volume_15min'].sum():.2f}\")"
   ]
  },
  {
   "cell_type": "code",
   "execution_count": null,
   "metadata": {},
   "outputs": [
    {
     "ename": "KeyError",
     "evalue": "'detector_id'",
     "output_type": "error",
     "traceback": [
      "\u001b[0;31m---------------------------------------------------------------------------\u001b[0m",
      "\u001b[0;31mKeyError\u001b[0m                                  Traceback (most recent call last)",
      "File \u001b[0;32m/opt/jupyterhub/lib64/python3.9/site-packages/pandas/core/indexes/base.py:3621\u001b[0m, in \u001b[0;36mIndex.get_loc\u001b[0;34m(self, key, method, tolerance)\u001b[0m\n\u001b[1;32m   3620\u001b[0m \u001b[39mtry\u001b[39;00m:\n\u001b[0;32m-> 3621\u001b[0m     \u001b[39mreturn\u001b[39;00m \u001b[39mself\u001b[39;49m\u001b[39m.\u001b[39;49m_engine\u001b[39m.\u001b[39;49mget_loc(casted_key)\n\u001b[1;32m   3622\u001b[0m \u001b[39mexcept\u001b[39;00m \u001b[39mKeyError\u001b[39;00m \u001b[39mas\u001b[39;00m err:\n",
      "File \u001b[0;32m/opt/jupyterhub/lib64/python3.9/site-packages/pandas/_libs/index.pyx:136\u001b[0m, in \u001b[0;36mpandas._libs.index.IndexEngine.get_loc\u001b[0;34m()\u001b[0m\n",
      "File \u001b[0;32m/opt/jupyterhub/lib64/python3.9/site-packages/pandas/_libs/index.pyx:163\u001b[0m, in \u001b[0;36mpandas._libs.index.IndexEngine.get_loc\u001b[0;34m()\u001b[0m\n",
      "File \u001b[0;32mpandas/_libs/hashtable_class_helper.pxi:5198\u001b[0m, in \u001b[0;36mpandas._libs.hashtable.PyObjectHashTable.get_item\u001b[0;34m()\u001b[0m\n",
      "File \u001b[0;32mpandas/_libs/hashtable_class_helper.pxi:5206\u001b[0m, in \u001b[0;36mpandas._libs.hashtable.PyObjectHashTable.get_item\u001b[0;34m()\u001b[0m\n",
      "\u001b[0;31mKeyError\u001b[0m: 'detector_id'",
      "\nThe above exception was the direct cause of the following exception:\n",
      "\u001b[0;31mKeyError\u001b[0m                                  Traceback (most recent call last)",
      "\u001b[1;32m/home/gwolofs/bdit_data-sources/volumes/rescu/itscentral_pipeline/explore_vdsdata.ipynb Cell 20\u001b[0m in \u001b[0;36m<cell line: 5>\u001b[0;34m()\u001b[0m\n\u001b[1;32m      <a href='vscode-notebook-cell://ssh-remote%2Bmorbius.corp.toronto.ca/home/gwolofs/bdit_data-sources/volumes/rescu/itscentral_pipeline/explore_vdsdata.ipynb#X34sdnNjb2RlLXJlbW90ZQ%3D%3D?line=0'>1</a>\u001b[0m \u001b[39m#by_detector.to_csv('/home/gwolofs/rescu_itscentral/sample_data.csv')\u001b[39;00m\n\u001b[1;32m      <a href='vscode-notebook-cell://ssh-remote%2Bmorbius.corp.toronto.ca/home/gwolofs/bdit_data-sources/volumes/rescu/itscentral_pipeline/explore_vdsdata.ipynb#X34sdnNjb2RlLXJlbW90ZQ%3D%3D?line=1'>2</a>\u001b[0m \n\u001b[1;32m      <a href='vscode-notebook-cell://ssh-remote%2Bmorbius.corp.toronto.ca/home/gwolofs/bdit_data-sources/volumes/rescu/itscentral_pipeline/explore_vdsdata.ipynb#X34sdnNjb2RlLXJlbW90ZQ%3D%3D?line=2'>3</a>\u001b[0m \u001b[39m#look at a single sensor (one which doesn't match total!)\u001b[39;00m\n\u001b[1;32m      <a href='vscode-notebook-cell://ssh-remote%2Bmorbius.corp.toronto.ca/home/gwolofs/bdit_data-sources/volumes/rescu/itscentral_pipeline/explore_vdsdata.ipynb#X34sdnNjb2RlLXJlbW90ZQ%3D%3D?line=3'>4</a>\u001b[0m \u001b[39m#rawest data:\u001b[39;00m\n\u001b[1;32m      <a href='vscode-notebook-cell://ssh-remote%2Bmorbius.corp.toronto.ca/home/gwolofs/bdit_data-sources/volumes/rescu/itscentral_pipeline/explore_vdsdata.ipynb#X34sdnNjb2RlLXJlbW90ZQ%3D%3D?line=4'>5</a>\u001b[0m \u001b[39mwith\u001b[39;00m pd\u001b[39m.\u001b[39moption_context(\u001b[39m\"\u001b[39m\u001b[39mdisplay.max_rows\u001b[39m\u001b[39m\"\u001b[39m, \u001b[39m1000\u001b[39m): \n\u001b[0;32m----> <a href='vscode-notebook-cell://ssh-remote%2Bmorbius.corp.toronto.ca/home/gwolofs/bdit_data-sources/volumes/rescu/itscentral_pipeline/explore_vdsdata.ipynb#X34sdnNjb2RlLXJlbW90ZQ%3D%3D?line=5'>6</a>\u001b[0m     \u001b[39mprint\u001b[39m(raw_20sec[raw_20sec[\u001b[39m'\u001b[39;49m\u001b[39mdetector_id\u001b[39;49m\u001b[39m'\u001b[39;49m] \u001b[39m==\u001b[39m \u001b[39m'\u001b[39m\u001b[39mde0041deg\u001b[39m\u001b[39m'\u001b[39m])\n\u001b[1;32m      <a href='vscode-notebook-cell://ssh-remote%2Bmorbius.corp.toronto.ca/home/gwolofs/bdit_data-sources/volumes/rescu/itscentral_pipeline/explore_vdsdata.ipynb#X34sdnNjb2RlLXJlbW90ZQ%3D%3D?line=7'>8</a>\u001b[0m \u001b[39m#15 minute data: \u001b[39;00m\n\u001b[1;32m      <a href='vscode-notebook-cell://ssh-remote%2Bmorbius.corp.toronto.ca/home/gwolofs/bdit_data-sources/volumes/rescu/itscentral_pipeline/explore_vdsdata.ipynb#X34sdnNjb2RlLXJlbW90ZQ%3D%3D?line=8'>9</a>\u001b[0m \u001b[39m#overall difference for the day is 14. \u001b[39;00m\n\u001b[1;32m     <a href='vscode-notebook-cell://ssh-remote%2Bmorbius.corp.toronto.ca/home/gwolofs/bdit_data-sources/volumes/rescu/itscentral_pipeline/explore_vdsdata.ipynb#X34sdnNjb2RlLXJlbW90ZQ%3D%3D?line=9'>10</a>\u001b[0m \u001b[39mwith\u001b[39;00m pd\u001b[39m.\u001b[39moption_context(\u001b[39m\"\u001b[39m\u001b[39mdisplay.max_rows\u001b[39m\u001b[39m\"\u001b[39m, \u001b[39m1000\u001b[39m): \n",
      "File \u001b[0;32m/opt/jupyterhub/lib64/python3.9/site-packages/pandas/core/frame.py:3505\u001b[0m, in \u001b[0;36mDataFrame.__getitem__\u001b[0;34m(self, key)\u001b[0m\n\u001b[1;32m   3503\u001b[0m \u001b[39mif\u001b[39;00m \u001b[39mself\u001b[39m\u001b[39m.\u001b[39mcolumns\u001b[39m.\u001b[39mnlevels \u001b[39m>\u001b[39m \u001b[39m1\u001b[39m:\n\u001b[1;32m   3504\u001b[0m     \u001b[39mreturn\u001b[39;00m \u001b[39mself\u001b[39m\u001b[39m.\u001b[39m_getitem_multilevel(key)\n\u001b[0;32m-> 3505\u001b[0m indexer \u001b[39m=\u001b[39m \u001b[39mself\u001b[39;49m\u001b[39m.\u001b[39;49mcolumns\u001b[39m.\u001b[39;49mget_loc(key)\n\u001b[1;32m   3506\u001b[0m \u001b[39mif\u001b[39;00m is_integer(indexer):\n\u001b[1;32m   3507\u001b[0m     indexer \u001b[39m=\u001b[39m [indexer]\n",
      "File \u001b[0;32m/opt/jupyterhub/lib64/python3.9/site-packages/pandas/core/indexes/base.py:3623\u001b[0m, in \u001b[0;36mIndex.get_loc\u001b[0;34m(self, key, method, tolerance)\u001b[0m\n\u001b[1;32m   3621\u001b[0m     \u001b[39mreturn\u001b[39;00m \u001b[39mself\u001b[39m\u001b[39m.\u001b[39m_engine\u001b[39m.\u001b[39mget_loc(casted_key)\n\u001b[1;32m   3622\u001b[0m \u001b[39mexcept\u001b[39;00m \u001b[39mKeyError\u001b[39;00m \u001b[39mas\u001b[39;00m err:\n\u001b[0;32m-> 3623\u001b[0m     \u001b[39mraise\u001b[39;00m \u001b[39mKeyError\u001b[39;00m(key) \u001b[39mfrom\u001b[39;00m \u001b[39merr\u001b[39;00m\n\u001b[1;32m   3624\u001b[0m \u001b[39mexcept\u001b[39;00m \u001b[39mTypeError\u001b[39;00m:\n\u001b[1;32m   3625\u001b[0m     \u001b[39m# If we have a listlike key, _check_indexing_error will raise\u001b[39;00m\n\u001b[1;32m   3626\u001b[0m     \u001b[39m#  InvalidIndexError. Otherwise we fall through and re-raise\u001b[39;00m\n\u001b[1;32m   3627\u001b[0m     \u001b[39m#  the TypeError.\u001b[39;00m\n\u001b[1;32m   3628\u001b[0m     \u001b[39mself\u001b[39m\u001b[39m.\u001b[39m_check_indexing_error(key)\n",
      "\u001b[0;31mKeyError\u001b[0m: 'detector_id'"
     ]
    }
   ],
   "source": [
    "\n",
    "#by_detector.to_csv('/home/gwolofs/rescu_itscentral/sample_data.csv')\n",
    "\n",
    "#look at a single sensor (one which doesn't match total!)\n",
    "#rawest data:\n",
    "with pd.option_context(\"display.max_rows\", 1000): \n",
    "    print(raw_20sec[raw_20sec['detector_id'] == 'de0041deg'])\n",
    "\n",
    "#15 minute data: \n",
    "#overall difference for the day is 14. \n",
    "with pd.option_context(\"display.max_rows\", 1000): \n",
    "    print(volumes_15min[volumes_15min['detector_id'] == 'de0041deg'].reset_index())\n",
    "\n",
    "\n",
    "#are there both zeros and nulls? should we treat them differently?\n",
    "total_raw_rows = empty_rows.shape[0] + lane_data.shape[0]\n",
    "print(f\"{100 * empty_rows.shape[0] / total_raw_rows:.3f}% rows have null lanedata.\")\n",
    "\n"
   ]
  },
  {
   "cell_type": "code",
   "execution_count": null,
   "metadata": {},
   "outputs": [
    {
     "name": "stdout",
     "output_type": "stream",
     "text": [
      "13.621% of expected bins present based on # detectors and lanes.\n"
     ]
    }
   ],
   "source": [
    "#distinct bins expected: \n",
    "bins_expected = raw_20sec[['vdsid', 'lane']].drop_duplicates().shape[0] * 24 * 60 * 3\n",
    "print(f\"{100 * raw_20sec.shape[0] / bins_expected:.3f}% of expected bins present based on # detectors and lanes.\")\n"
   ]
  },
  {
   "cell_type": "code",
   "execution_count": null,
   "metadata": {},
   "outputs": [
    {
     "ename": "KeyError",
     "evalue": "'detector_id'",
     "output_type": "error",
     "traceback": [
      "\u001b[0;31m---------------------------------------------------------------------------\u001b[0m",
      "\u001b[0;31mKeyError\u001b[0m                                  Traceback (most recent call last)",
      "File \u001b[0;32m/opt/jupyterhub/lib64/python3.9/site-packages/pandas/core/indexes/base.py:3621\u001b[0m, in \u001b[0;36mIndex.get_loc\u001b[0;34m(self, key, method, tolerance)\u001b[0m\n\u001b[1;32m   3620\u001b[0m \u001b[39mtry\u001b[39;00m:\n\u001b[0;32m-> 3621\u001b[0m     \u001b[39mreturn\u001b[39;00m \u001b[39mself\u001b[39;49m\u001b[39m.\u001b[39;49m_engine\u001b[39m.\u001b[39;49mget_loc(casted_key)\n\u001b[1;32m   3622\u001b[0m \u001b[39mexcept\u001b[39;00m \u001b[39mKeyError\u001b[39;00m \u001b[39mas\u001b[39;00m err:\n",
      "File \u001b[0;32m/opt/jupyterhub/lib64/python3.9/site-packages/pandas/_libs/index.pyx:136\u001b[0m, in \u001b[0;36mpandas._libs.index.IndexEngine.get_loc\u001b[0;34m()\u001b[0m\n",
      "File \u001b[0;32m/opt/jupyterhub/lib64/python3.9/site-packages/pandas/_libs/index.pyx:163\u001b[0m, in \u001b[0;36mpandas._libs.index.IndexEngine.get_loc\u001b[0;34m()\u001b[0m\n",
      "File \u001b[0;32mpandas/_libs/hashtable_class_helper.pxi:5198\u001b[0m, in \u001b[0;36mpandas._libs.hashtable.PyObjectHashTable.get_item\u001b[0;34m()\u001b[0m\n",
      "File \u001b[0;32mpandas/_libs/hashtable_class_helper.pxi:5206\u001b[0m, in \u001b[0;36mpandas._libs.hashtable.PyObjectHashTable.get_item\u001b[0;34m()\u001b[0m\n",
      "\u001b[0;31mKeyError\u001b[0m: 'detector_id'",
      "\nThe above exception was the direct cause of the following exception:\n",
      "\u001b[0;31mKeyError\u001b[0m                                  Traceback (most recent call last)",
      "\u001b[1;32m/home/gwolofs/bdit_data-sources/volumes/rescu/itscentral_pipeline/explore_vdsdata.ipynb Cell 26\u001b[0m in \u001b[0;36m<cell line: 2>\u001b[0;34m()\u001b[0m\n\u001b[1;32m      <a href='vscode-notebook-cell://ssh-remote%2Bmorbius.corp.toronto.ca/home/gwolofs/bdit_data-sources/volumes/rescu/itscentral_pipeline/explore_vdsdata.ipynb#X24sdnNjb2RlLXJlbW90ZQ%3D%3D?line=0'>1</a>\u001b[0m \u001b[39m#bins expected but only highways & not ramps\u001b[39;00m\n\u001b[0;32m----> <a href='vscode-notebook-cell://ssh-remote%2Bmorbius.corp.toronto.ca/home/gwolofs/bdit_data-sources/volumes/rescu/itscentral_pipeline/explore_vdsdata.ipynb#X24sdnNjb2RlLXJlbW90ZQ%3D%3D?line=1'>2</a>\u001b[0m only_highways \u001b[39m=\u001b[39m raw_20sec[[x[\u001b[39m0\u001b[39m] \u001b[39m==\u001b[39m \u001b[39m'\u001b[39m\u001b[39mD\u001b[39m\u001b[39m'\u001b[39m \u001b[39mand\u001b[39;00m x[\u001b[39m-\u001b[39m\u001b[39m1\u001b[39m] \u001b[39m!=\u001b[39m \u001b[39m'\u001b[39m\u001b[39mR\u001b[39m\u001b[39m'\u001b[39m \u001b[39mfor\u001b[39;00m x \u001b[39min\u001b[39;00m raw_20sec[\u001b[39m'\u001b[39;49m\u001b[39mdetector_id\u001b[39;49m\u001b[39m'\u001b[39;49m]]]\n\u001b[1;32m      <a href='vscode-notebook-cell://ssh-remote%2Bmorbius.corp.toronto.ca/home/gwolofs/bdit_data-sources/volumes/rescu/itscentral_pipeline/explore_vdsdata.ipynb#X24sdnNjb2RlLXJlbW90ZQ%3D%3D?line=2'>3</a>\u001b[0m bins_expected \u001b[39m=\u001b[39m only_highways[[\u001b[39m'\u001b[39m\u001b[39mdetector_id\u001b[39m\u001b[39m'\u001b[39m, \u001b[39m'\u001b[39m\u001b[39mlane\u001b[39m\u001b[39m'\u001b[39m]]\u001b[39m.\u001b[39mdrop_duplicates()\u001b[39m.\u001b[39mshape[\u001b[39m0\u001b[39m] \u001b[39m*\u001b[39m \u001b[39m24\u001b[39m \u001b[39m*\u001b[39m \u001b[39m60\u001b[39m \u001b[39m*\u001b[39m \u001b[39m3\u001b[39m\n\u001b[1;32m      <a href='vscode-notebook-cell://ssh-remote%2Bmorbius.corp.toronto.ca/home/gwolofs/bdit_data-sources/volumes/rescu/itscentral_pipeline/explore_vdsdata.ipynb#X24sdnNjb2RlLXJlbW90ZQ%3D%3D?line=3'>4</a>\u001b[0m \u001b[39mprint\u001b[39m(\u001b[39mf\u001b[39m\u001b[39m\"\u001b[39m\u001b[39m{\u001b[39;00m\u001b[39m100\u001b[39m \u001b[39m*\u001b[39m only_highways\u001b[39m.\u001b[39mshape[\u001b[39m0\u001b[39m] \u001b[39m/\u001b[39m bins_expected\u001b[39m:\u001b[39;00m\u001b[39m.3f\u001b[39m\u001b[39m}\u001b[39;00m\u001b[39m% of expected bins present based on # detectors and lanes for only highways (not including ramps).\u001b[39m\u001b[39m\"\u001b[39m)\n",
      "File \u001b[0;32m/opt/jupyterhub/lib64/python3.9/site-packages/pandas/core/frame.py:3505\u001b[0m, in \u001b[0;36mDataFrame.__getitem__\u001b[0;34m(self, key)\u001b[0m\n\u001b[1;32m   3503\u001b[0m \u001b[39mif\u001b[39;00m \u001b[39mself\u001b[39m\u001b[39m.\u001b[39mcolumns\u001b[39m.\u001b[39mnlevels \u001b[39m>\u001b[39m \u001b[39m1\u001b[39m:\n\u001b[1;32m   3504\u001b[0m     \u001b[39mreturn\u001b[39;00m \u001b[39mself\u001b[39m\u001b[39m.\u001b[39m_getitem_multilevel(key)\n\u001b[0;32m-> 3505\u001b[0m indexer \u001b[39m=\u001b[39m \u001b[39mself\u001b[39;49m\u001b[39m.\u001b[39;49mcolumns\u001b[39m.\u001b[39;49mget_loc(key)\n\u001b[1;32m   3506\u001b[0m \u001b[39mif\u001b[39;00m is_integer(indexer):\n\u001b[1;32m   3507\u001b[0m     indexer \u001b[39m=\u001b[39m [indexer]\n",
      "File \u001b[0;32m/opt/jupyterhub/lib64/python3.9/site-packages/pandas/core/indexes/base.py:3623\u001b[0m, in \u001b[0;36mIndex.get_loc\u001b[0;34m(self, key, method, tolerance)\u001b[0m\n\u001b[1;32m   3621\u001b[0m     \u001b[39mreturn\u001b[39;00m \u001b[39mself\u001b[39m\u001b[39m.\u001b[39m_engine\u001b[39m.\u001b[39mget_loc(casted_key)\n\u001b[1;32m   3622\u001b[0m \u001b[39mexcept\u001b[39;00m \u001b[39mKeyError\u001b[39;00m \u001b[39mas\u001b[39;00m err:\n\u001b[0;32m-> 3623\u001b[0m     \u001b[39mraise\u001b[39;00m \u001b[39mKeyError\u001b[39;00m(key) \u001b[39mfrom\u001b[39;00m \u001b[39merr\u001b[39;00m\n\u001b[1;32m   3624\u001b[0m \u001b[39mexcept\u001b[39;00m \u001b[39mTypeError\u001b[39;00m:\n\u001b[1;32m   3625\u001b[0m     \u001b[39m# If we have a listlike key, _check_indexing_error will raise\u001b[39;00m\n\u001b[1;32m   3626\u001b[0m     \u001b[39m#  InvalidIndexError. Otherwise we fall through and re-raise\u001b[39;00m\n\u001b[1;32m   3627\u001b[0m     \u001b[39m#  the TypeError.\u001b[39;00m\n\u001b[1;32m   3628\u001b[0m     \u001b[39mself\u001b[39m\u001b[39m.\u001b[39m_check_indexing_error(key)\n",
      "\u001b[0;31mKeyError\u001b[0m: 'detector_id'"
     ]
    }
   ],
   "source": [
    "detector_inventory"
   ]
  },
  {
   "cell_type": "code",
   "execution_count": null,
   "metadata": {},
   "outputs": [],
   "source": [
    "#bins expected but only highways & not ramps\n",
    "only_highways = raw_20sec[[x[0] == 'D' and x[-1] != 'R' for x in raw_20sec['detector_id']]]\n",
    "bins_expected = only_highways[['detector_id', 'lane']].drop_duplicates().shape[0] * 24 * 60 * 3\n",
    "print(f\"{100 * only_highways.shape[0] / bins_expected:.3f}% of expected bins present based on # detectors and lanes for only highways (not including ramps).\")\n",
    "\n"
   ]
  },
  {
   "cell_type": "code",
   "execution_count": null,
   "metadata": {},
   "outputs": [],
   "source": [
    "only_highways = raw_20sec[[x[0] == 'D' and x[-1] != 'R' for x in raw_20sec['detector_id']]]\n",
    "bins_expected = only_highways[['detector_id', 'lane']].drop_duplicates().shape[0] * 24 * 60 * 3\n",
    "print(f\"{100 * only_highways.shape[0] / bins_expected:.3f}% of expected bins present based on # detectors and lanes for only highways (not including ramps).\")\n",
    "\n"
   ]
  },
  {
   "cell_type": "code",
   "execution_count": null,
   "metadata": {},
   "outputs": [],
   "source": []
  },
  {
   "cell_type": "code",
   "execution_count": 11,
   "metadata": {},
   "outputs": [
    {
     "ename": "NameError",
     "evalue": "name 'volumes_15min' is not defined",
     "output_type": "error",
     "traceback": [
      "\u001b[0;31m---------------------------------------------------------------------------\u001b[0m",
      "\u001b[0;31mNameError\u001b[0m                                 Traceback (most recent call last)",
      "\u001b[1;32m/home/gwolofs/bdit_data-sources/volumes/rescu/itscentral_pipeline/explore_vdsdata.ipynb Cell 29\u001b[0m in \u001b[0;36m<cell line: 5>\u001b[0;34m()\u001b[0m\n\u001b[1;32m      <a href='vscode-notebook-cell://ssh-remote%2Bmorbius.corp.toronto.ca/home/gwolofs/bdit_data-sources/volumes/rescu/itscentral_pipeline/explore_vdsdata.ipynb#X41sdnNjb2RlLXJlbW90ZQ%3D%3D?line=0'>1</a>\u001b[0m \u001b[39m#divisionid==8001 are signal loop detectors and recorded an average volume of 8. Exclude. \u001b[39;00m\n\u001b[1;32m      <a href='vscode-notebook-cell://ssh-remote%2Bmorbius.corp.toronto.ca/home/gwolofs/bdit_data-sources/volumes/rescu/itscentral_pipeline/explore_vdsdata.ipynb#X41sdnNjb2RlLXJlbW90ZQ%3D%3D?line=1'>2</a>\u001b[0m \u001b[39m#almost half of all records are from these detectors.\u001b[39;00m\n\u001b[1;32m      <a href='vscode-notebook-cell://ssh-remote%2Bmorbius.corp.toronto.ca/home/gwolofs/bdit_data-sources/volumes/rescu/itscentral_pipeline/explore_vdsdata.ipynb#X41sdnNjb2RlLXJlbW90ZQ%3D%3D?line=2'>3</a>\u001b[0m detectors_8001 \u001b[39m=\u001b[39m detector_inventory[[\u001b[39m'\u001b[39m\u001b[39mdetector_id\u001b[39m\u001b[39m'\u001b[39m, \u001b[39m'\u001b[39m\u001b[39mdivisionid\u001b[39m\u001b[39m'\u001b[39m, ]][detector_inventory[\u001b[39m'\u001b[39m\u001b[39mdivisionid\u001b[39m\u001b[39m'\u001b[39m] \u001b[39m==\u001b[39m \u001b[39m8001\u001b[39m]\n\u001b[0;32m----> <a href='vscode-notebook-cell://ssh-remote%2Bmorbius.corp.toronto.ca/home/gwolofs/bdit_data-sources/volumes/rescu/itscentral_pipeline/explore_vdsdata.ipynb#X41sdnNjb2RlLXJlbW90ZQ%3D%3D?line=4'>5</a>\u001b[0m volumes_merged \u001b[39m=\u001b[39m volumes_15min\u001b[39m.\u001b[39mmerge(detectors_8001, right_on \u001b[39m=\u001b[39m \u001b[39m'\u001b[39m\u001b[39mvdsid\u001b[39m\u001b[39m'\u001b[39m, left_on \u001b[39m=\u001b[39m \u001b[39m'\u001b[39m\u001b[39mvdsid\u001b[39m\u001b[39m'\u001b[39m, how \u001b[39m=\u001b[39m \u001b[39m'\u001b[39m\u001b[39mleft\u001b[39m\u001b[39m'\u001b[39m)\n\u001b[1;32m      <a href='vscode-notebook-cell://ssh-remote%2Bmorbius.corp.toronto.ca/home/gwolofs/bdit_data-sources/volumes/rescu/itscentral_pipeline/explore_vdsdata.ipynb#X41sdnNjb2RlLXJlbW90ZQ%3D%3D?line=5'>6</a>\u001b[0m volumes_merged \u001b[39m=\u001b[39m volumes_merged[volumes_merged\u001b[39m.\u001b[39mstarttimestamputc\u001b[39m.\u001b[39misna() \u001b[39m|\u001b[39m \n\u001b[1;32m      <a href='vscode-notebook-cell://ssh-remote%2Bmorbius.corp.toronto.ca/home/gwolofs/bdit_data-sources/volumes/rescu/itscentral_pipeline/explore_vdsdata.ipynb#X41sdnNjb2RlLXJlbW90ZQ%3D%3D?line=6'>7</a>\u001b[0m                                 ((volumes_merged\u001b[39m.\u001b[39mdatetime_15min \u001b[39m>\u001b[39m\u001b[39m=\u001b[39m volumes_merged\u001b[39m.\u001b[39mstarttimestamputc) \u001b[39m&\u001b[39m \n\u001b[1;32m      <a href='vscode-notebook-cell://ssh-remote%2Bmorbius.corp.toronto.ca/home/gwolofs/bdit_data-sources/volumes/rescu/itscentral_pipeline/explore_vdsdata.ipynb#X41sdnNjb2RlLXJlbW90ZQ%3D%3D?line=7'>8</a>\u001b[0m                                 ((volumes_merged\u001b[39m.\u001b[39mdatetime_15min \u001b[39m<\u001b[39m\u001b[39m=\u001b[39m volumes_merged\u001b[39m.\u001b[39mendtimestamputc) \u001b[39m|\u001b[39m \n\u001b[1;32m      <a href='vscode-notebook-cell://ssh-remote%2Bmorbius.corp.toronto.ca/home/gwolofs/bdit_data-sources/volumes/rescu/itscentral_pipeline/explore_vdsdata.ipynb#X41sdnNjb2RlLXJlbW90ZQ%3D%3D?line=8'>9</a>\u001b[0m                                  (volumes_merged\u001b[39m.\u001b[39mendtimestamputc\u001b[39m.\u001b[39misna())))]\n\u001b[1;32m     <a href='vscode-notebook-cell://ssh-remote%2Bmorbius.corp.toronto.ca/home/gwolofs/bdit_data-sources/volumes/rescu/itscentral_pipeline/explore_vdsdata.ipynb#X41sdnNjb2RlLXJlbW90ZQ%3D%3D?line=11'>12</a>\u001b[0m volumes_merged\u001b[39m.\u001b[39magg({\u001b[39m'\u001b[39m\u001b[39msum\u001b[39m\u001b[39m'\u001b[39m, \u001b[39m'\u001b[39m\u001b[39mcount\u001b[39m\u001b[39m'\u001b[39m, \u001b[39m'\u001b[39m\u001b[39mmean\u001b[39m\u001b[39m'\u001b[39m})\n",
      "\u001b[0;31mNameError\u001b[0m: name 'volumes_15min' is not defined"
     ]
    }
   ],
   "source": [
    "#divisionid==8001 are signal loop detectors and recorded an average volume of 8. Exclude. \n",
    "#almost half of all records are from these detectors.\n",
    "detectors_8001 = detector_inventory[['detector_id', 'divisionid', ]][detector_inventory['divisionid'] == 8001]\n",
    "\n",
    "volumes_merged = volumes_15min.merge(detectors_8001, right_on = 'vdsid', left_on = 'vdsid', how = 'left')\n",
    "volumes_merged = volumes_merged[volumes_merged.starttimestamputc.isna() | \n",
    "                                ((volumes_merged.datetime_15min >= volumes_merged.starttimestamputc) & \n",
    "                                ((volumes_merged.datetime_15min <= volumes_merged.endtimestamputc) | \n",
    "                                 (volumes_merged.endtimestamputc.isna())))]\n",
    "\n",
    "\n",
    "volumes_merged.agg({'sum', 'count', 'mean'})\n",
    "#detectors_8001 = by_detector.merge(detectors_8001, left_index= True, right_on= 'detector_id')\n",
    "#detectors_8001['volume_15min'].agg({'sum', 'count', 'mean'})\n",
    "\n"
   ]
  },
  {
   "cell_type": "code",
   "execution_count": null,
   "metadata": {},
   "outputs": [],
   "source": [
    "detector_inventory['detector_id'] = str(detector_inventory['detector_id'])\n",
    "volumes_merged['detector_id'] = str(volumes_merged['detector_id'])"
   ]
  },
  {
   "cell_type": "code",
   "execution_count": null,
   "metadata": {},
   "outputs": [
    {
     "name": "stdout",
     "output_type": "stream",
     "text": [
      "Empty DataFrame\n",
      "Columns: [vdsid, datetime_15min, volume_15min, bin_count, divisionid, detector_id, starttimestamputc, endtimestamputc, lanes, hasgpsunit, managementurl, description, fssdivisionid, fssid, rtmsfromzone, rtmstozone, detectortype, createdby, createdbystaffid, signalid, signaldivisionid, movement, entitytype, locationtimestamputc, latitude, longitude, altitudemetersasl, headingdegrees, speedkmh, numsatellites, dilutionofprecision, mainroadid, crossroadid, secondcrossroadid, mainroadname, crossroadname, secondcrossroadname, streetnumber, offsetdistancemeters, offsetdirectiondegrees, locationsource, locationdescriptionoverwrite, typeof]\n",
      "Index: []\n",
      "\n",
      "[0 rows x 43 columns]\n"
     ]
    }
   ],
   "source": [
    "#28 BlueCity.ai (BCT) sensors installed at Yonge and Church. Avg volume of 2. Exclude.\n",
    "detectors_BCT = volumes_merged[[x[0:3] == 'BCT' for x in volumes_merged['detector_id']]]\n",
    "print(detectors_BCT.head(10))\n"
   ]
  },
  {
   "cell_type": "code",
   "execution_count": null,
   "metadata": {},
   "outputs": [],
   "source": [
    "\n",
    "detectors_BCT = volumes_merged.merge(detectors_BCT, left_index= True, right_on= 'detector_id')\n",
    "detectors_BCT['volume_15min'].agg({'sum', 'count', 'mean'})\n",
    "\n",
    "#by_detector.merge(detector_inventory[['divisionid', 'detector_id', 'starttimestamputc', 'endtimestamputc']], right_on = 'detector_id', left_on = 'detector_id')\n",
    "\n",
    "#    AND to_timestamp(d.timestamputc) >= c.starttimestamputc\n",
    "#    AND (\n",
    "#        to_timestamp(d.timestamputc) <= c.endtimestamputc\n",
    "#        OR c.endtimestamputc IS NULL) --no end date\n"
   ]
  },
  {
   "cell_type": "code",
   "execution_count": null,
   "metadata": {},
   "outputs": [],
   "source": [
    "\n",
    "#what about nulls?\n",
    "#remove_empt\n",
    "#should we stop using detector_id as unique id?\n"
   ]
  }
 ],
 "metadata": {
  "kernelspec": {
   "display_name": "Python 3 (ipykernel)",
   "language": "python",
   "name": "python3"
  },
  "language_info": {
   "codemirror_mode": {
    "name": "ipython",
    "version": 3
   },
   "file_extension": ".py",
   "mimetype": "text/x-python",
   "name": "python",
   "nbconvert_exporter": "python",
   "pygments_lexer": "ipython3",
   "version": "3.9.13"
  },
  "orig_nbformat": 4
 },
 "nbformat": 4,
 "nbformat_minor": 2
}
