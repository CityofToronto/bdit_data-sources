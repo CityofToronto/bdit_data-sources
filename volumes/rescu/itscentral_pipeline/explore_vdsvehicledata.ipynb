{
 "cells": [
  {
   "cell_type": "code",
   "execution_count": null,
   "metadata": {},
   "outputs": [],
   "source": [
    "\n",
    "\n",
    "sample_query = '''\n",
    "SELECT\n",
    "\tdivisionid,\n",
    "\ttimestamputc, --timestamp without tz\n",
    "\tvdsid,\n",
    "\tlane,\n",
    "\tsensoroccupancyds,\n",
    "\tspeedkmhdiv100,\n",
    "\tlengthmeterdiv100\n",
    "FROM vdsvehicledata AS a\n",
    "LEFT JOIN vdsconfig AS b ON \n",
    "    a.vdsid = b.vdsid,\n",
    "    a.divisionid = b.divisionid\n",
    "WHERE\n",
    "    timestamputc >= '2023-06-14 00:00:00'\n",
    "\tAND timestamputc < '2023-06-15 00:00:00'\n",
    "    AND b.sourceid like '%deg';\n",
    "'''\n"
   ]
  },
  {
   "attachments": {},
   "cell_type": "markdown",
   "metadata": {},
   "source": [
    "Found some sensors (zeroed in on vdsid 224, 225) with percentage query have distributions around 3km/h buckets. "
   ]
  }
 ],
 "metadata": {
  "language_info": {
   "name": "python"
  },
  "orig_nbformat": 4
 },
 "nbformat": 4,
 "nbformat_minor": 2
}
