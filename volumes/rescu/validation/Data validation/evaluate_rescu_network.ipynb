{
 "cells": [
  {
   "cell_type": "code",
   "execution_count": 2,
   "id": "f67c265c-678f-4b40-91b6-71344ec1dd4c",
   "metadata": {},
   "outputs": [],
   "source": [
    "import pandas as pd\n",
    "from pathlib import Path\n",
    "import configparser\n",
    "from psycopg2 import connect\n",
    "import datetime\n",
    "CONFIG = configparser.ConfigParser()\n",
    "CONFIG.read(str(Path.home().joinpath('db.cfg'))) #Creates a path to your db.cfg file\n",
    "dbset = CONFIG['DBSETTINGS']\n",
    "con = connect(**dbset)"
   ]
  },
  {
   "cell_type": "markdown",
   "id": "f3b92e80-67a1-47a6-bf01-ca42741aee6e",
   "metadata": {},
   "source": [
    "Identified network wide data outages that have seriously impacted data availability in 2022-2023.  \n",
    "Below you can see examples of outages spanning weeks. "
   ]
  },
  {
   "cell_type": "code",
   "execution_count": 6,
   "id": "3777d2a2-9597-451c-a17e-fa2b37b7e896",
   "metadata": {},
   "outputs": [
    {
     "name": "stdout",
     "output_type": "stream",
     "text": [
      "                                   time_range  duration_days\n",
      "0  [2023-05-12 21:30:00, 2023-05-12 21:45:00]       0.010417\n",
      "1  [2023-05-12 08:00:00, 2023-05-12 08:45:00]       0.031250\n",
      "2  [2023-04-19 04:30:00, 2023-05-08 13:00:00]      19.354167\n",
      "3  [2023-04-17 00:00:00, 2023-04-17 23:45:00]       0.989583\n",
      "4  [2023-04-15 08:15:00, 2023-04-15 10:00:00]       0.072917\n",
      "5  [2023-04-02 06:45:00, 2023-04-12 23:45:00]      10.708333\n",
      "6  [2023-03-22 00:00:00, 2023-03-22 23:45:00]       0.989583\n",
      "7  [2023-03-05 06:45:00, 2023-03-21 16:45:00]      16.416667\n",
      "8  [2023-01-25 01:45:00, 2023-02-22 15:15:00]      28.562500\n",
      "9  [2023-01-22 07:45:00, 2023-01-22 08:30:00]       0.031250\n"
     ]
    }
   ],
   "source": [
    "sql = '''\n",
    "SELECT time_range, duration_days\n",
    "FROM gwolofs.network_outages\n",
    "ORDER BY time_start DESC;'''\n",
    "\n",
    "with con:\n",
    "    my_data = pd.read_sql(sql, con)\n",
    "    print(my_data.head(10))"
   ]
  },
  {
   "cell_type": "markdown",
   "id": "d32324ea-760f-484d-a0e8-fbd47fc6292e",
   "metadata": {},
   "source": [
    "Note data availability in 2022-2023 from network wide outages ALONE.  \n",
    "**2023 percent_active is about 30%**, not 15% (didn't account for ~half year up till now below). "
   ]
  },
  {
   "cell_type": "code",
   "execution_count": 23,
   "id": "6672ef24-957f-408c-bd64-cf9bf154d12a",
   "metadata": {},
   "outputs": [
    {
     "name": "stdout",
     "output_type": "stream",
     "text": [
      "     year  percent_active  days_inactive\n",
      "0  2017.0        0.869121      47.770833\n",
      "1  2018.0        0.896461      37.791667\n",
      "2  2019.0        0.732277      97.718750\n",
      "3  2020.0        0.824686      63.989583\n",
      "4  2021.0        0.844949      56.593750\n",
      "5  2022.0        0.574486     155.312500\n",
      "6  2023.0        0.152140     309.468750\n"
     ]
    }
   ],
   "source": [
    "sql = '''\n",
    "--full list of dates\n",
    "WITH full_dates AS(\n",
    "    SELECT generate_series('2017-01-01 00:00'::timestamp, '2023-05-30 23:45', INTERVAL '15 MINUTES') AS time_bin\n",
    ")\n",
    "\n",
    "SELECT \n",
    "    EXTRACT(YEAR FROM time_bin) AS year, \n",
    "    COUNT(1) / (365 * 24 * 4)::decimal AS percent_active,\n",
    "    (365) - (COUNT(1) / (24 * 4)::decimal) AS days_inactive\n",
    "FROM full_dates AS fd\n",
    "LEFT JOIN gwolofs.network_outages AS ro ON ro.time_range @> fd.time_bin\n",
    "WHERE ro.time_range IS NULL\n",
    "GROUP BY 1;'''\n",
    "\n",
    "with con:\n",
    "    my_data = pd.read_sql(sql, con)\n",
    "    print(my_data.head(20))"
   ]
  },
  {
   "cell_type": "markdown",
   "id": "e1aab3ee-12ab-4b52-ab89-0f66c413a692",
   "metadata": {},
   "source": [
    "Individual detector outages also contribute significantly to lack of data availability. "
   ]
  },
  {
   "cell_type": "code",
   "execution_count": 20,
   "id": "1ab766ed-5e58-4c8a-bd56-f62e5f755868",
   "metadata": {},
   "outputs": [
    {
     "name": "stdout",
     "output_type": "stream",
     "text": [
      "  detector_id  duration_days\n",
      "0   DW0100DWL    1628.781250\n",
      "1   DW0020DWG    1574.375000\n",
      "2   DW0050DWL    1572.541667\n",
      "3   DW0070DEL    1554.947917\n",
      "4   DW0020DEG    1541.718750\n",
      "5   DW0040DER    1526.416667\n",
      "6   DW0030DWL    1525.291667\n",
      "7   DW0030DWR    1517.947917\n",
      "8   DS0040DSR    1339.395833\n",
      "9   DW0070DEG    1333.510417\n"
     ]
    }
   ],
   "source": [
    "sql = '''\n",
    "SELECT \n",
    "    detector_id, \n",
    "    sum(duration_days) - \n",
    "        (SELECT SUM(duration_days) FROM gwolofs.network_outages) --total network outages\n",
    "            AS duration_days\n",
    "FROM gwolofs.rescu_individual_outages\n",
    "GROUP BY 1\n",
    "ORDER BY 2 DESC;'''\n",
    "\n",
    "with con:\n",
    "    my_data = pd.read_sql(sql, con)\n",
    "    print(my_data.head(10))"
   ]
  },
  {
   "cell_type": "code",
   "execution_count": 26,
   "id": "8b123c33-4b3a-4559-a84a-da06e3019fd7",
   "metadata": {},
   "outputs": [
    {
     "name": "stdout",
     "output_type": "stream",
     "text": [
      "Good detectors\n",
      "  detector_id          primary_road      cross_road  bins_active_percent  \\\n",
      "0   DE0020DEG     F G Gardiner Xy E   JARVIS STREET                0.829   \n",
      "1   DE0020DWG     F G Gardiner Xy W   JARVIS STREET                0.829   \n",
      "2   DN0090DND  Don Valley Parkway N    St Dennis Dr                0.996   \n",
      "3   DN0090DSD  Don Valley Parkway S    St Dennis Dr                0.996   \n",
      "4   DN0095DSD  Don Valley Parkway S   Spanbridge Rd                0.829   \n",
      "5   DN0100DND  Don Valley Parkway N    St Dennis Dr                0.835   \n",
      "6   DN0100DSD  Don Valley Parkway S    St Dennis Dr                0.835   \n",
      "7   DN0110DND  Don Valley Parkway N  Eglinton Ave E                0.999   \n",
      "8   DN0120DSD  Don Valley Parkway S      Wynford Dr                0.828   \n",
      "9   DN0125DND  Don Valley Parkway N     LAWRENCE AV                0.821   \n",
      "\n",
      "   bins_active         last_active  \n",
      "0         3195 2023-05-15 14:30:00  \n",
      "1         3195 2023-05-15 14:30:00  \n",
      "2         3839 2023-05-15 14:30:00  \n",
      "3         3839 2023-05-15 14:30:00  \n",
      "4         3195 2023-05-15 14:30:00  \n",
      "5         3217 2023-05-15 14:30:00  \n",
      "6         3217 2023-05-15 14:30:00  \n",
      "7         3851 2023-05-15 14:30:00  \n",
      "8         3190 2023-05-15 14:30:00  \n",
      "9         3163 2023-05-15 14:30:00  \n",
      "Bad (mostly inactive) detectors\n",
      "  detector_id          primary_road             cross_road  \\\n",
      "0   DE0020DWL     Lake Shore Blvd E         JARVIS STREET    \n",
      "1   DE0050DWL     Lake Shore Blvd E  CHERRY STREET (NORTH)   \n",
      "2   DE0060DWG     F G Gardiner Xy W        DON VALLEY PKWY   \n",
      "3   DN0110DSD  Don Valley Parkway S         Eglinton Ave E   \n",
      "4   DN0115DND  Don Valley Parkway N             Wynford Dr   \n",
      "5   DN0115DSD  Don Valley Parkway S             Wynford Dr   \n",
      "6   DN0125DSD  Don Valley Parkway S            LAWRENCE AV   \n",
      "7   DS0035DND  Don Valley Parkway N   RIVERDALE PARK TRAIL   \n",
      "8   DS0035DSD  Don Valley Parkway S   RIVERDALE PARK TRAIL   \n",
      "9   DS0045DND  Don Valley Parkway N  PRINCE EDWARD VIADUCT   \n",
      "\n",
      "   bins_active_percent  bins_active         last_active  \n",
      "0                0.001            2 2023-03-27 12:00:00  \n",
      "1                0.005           19 2023-03-28 07:30:00  \n",
      "2                0.004           15 2023-04-19 02:30:00  \n",
      "3                0.040          155 2023-05-15 08:45:00  \n",
      "4                0.655         2524 2023-04-19 04:15:00  \n",
      "5                0.201          773 2023-04-19 03:30:00  \n",
      "6                0.219          844 2023-05-14 23:00:00  \n",
      "7                0.004           15 2023-04-02 06:30:00  \n",
      "8                0.004           15 2023-04-02 06:30:00  \n",
      "9                0.009           35 2023-03-29 11:30:00  \n",
      "Inactive detectors\n",
      "  detector_id              primary_road                          cross_road  \\\n",
      "0   DE0010DEG         F G Gardiner Xy E                     FREELAND STREET   \n",
      "1   DE0010DWG         F G Gardiner Xy W                     FREELAND STREET   \n",
      "2   DE0010DWL         Lake Shore Blvd E                     FREELAND STREET   \n",
      "3   DE0020DEL         Lake Shore Blvd E  JARVIS STREET ( EB E OF COPPER ST)   \n",
      "4   DE0060DEG         F G Gardiner Xy E                     DON VALLEY PKWY   \n",
      "5   DE0060DEL         Lake Shore Blvd E               CHERRY STREET (SOUTH)   \n",
      "6   DN0010DSA  Allen S Yorkdale Rd Ramp              401 W Yorkdale Rd Ramp   \n",
      "7   DN0020DNA      William R Allen Rd N            Wilson Hs N Allen S Ramp   \n",
      "8   DN0020DSA      William R Allen Rd S             Transit Rd Allen S Ramp   \n",
      "9   DN0020DWR    Allen N Wilson Hs Ramp            Allen N Wilson Hs S Ramp   \n",
      "\n",
      "  bins_active_percent bins_active         last_active  \n",
      "0                None        None 2022-04-11 08:15:00  \n",
      "1                None        None 2022-04-11 02:45:00  \n",
      "2                None        None 2022-04-11 08:15:00  \n",
      "3                None        None 2022-04-11 08:15:00  \n",
      "4                None        None 2021-09-07 07:00:00  \n",
      "5                None        None 2021-10-03 08:30:00  \n",
      "6                None        None 2021-10-03 08:30:00  \n",
      "7                None        None 2021-10-03 08:30:00  \n",
      "8                None        None 2021-10-03 08:30:00  \n",
      "9                None        None 2021-10-03 08:30:00  \n"
     ]
    }
   ],
   "source": [
    "sql = '''\n",
    "SELECT detector_id, primary_road, cross_road, bins_active_percent, bins_active, last_active\n",
    "FROM gwolofs.i0617_rescu_sensor_eval\n",
    "WHERE classify = 'good'\n",
    "'''\n",
    "\n",
    "with con:\n",
    "    my_data = pd.read_sql(sql, con)\n",
    "    print('Good detectors')\n",
    "    print(my_data.head(10))\n",
    "    \n",
    "sql = '''\n",
    "SELECT detector_id, primary_road, cross_road, bins_active_percent, bins_active, last_active\n",
    "FROM gwolofs.i0617_rescu_sensor_eval\n",
    "WHERE classify = 'bad'\n",
    "'''\n",
    "\n",
    "with con:\n",
    "    my_data = pd.read_sql(sql, con)    \n",
    "    print('Bad (mostly inactive) detectors')\n",
    "    print(my_data.head(10))\n",
    "    \n",
    "sql = '''\n",
    "SELECT detector_id, primary_road, cross_road, bins_active_percent, bins_active, last_active\n",
    "FROM gwolofs.i0617_rescu_sensor_eval\n",
    "WHERE classify = 'inactive'\n",
    "'''\n",
    "\n",
    "with con:\n",
    "    my_data = pd.read_sql(sql, con)\n",
    "    print('Inactive detectors')\n",
    "    print(my_data.head(10))"
   ]
  },
  {
   "cell_type": "markdown",
   "id": "29995f59-1fde-4e74-93cd-911e0f181c00",
   "metadata": {},
   "source": [
    "Plotted detectors in QGIS to identify geographic distribution which is lacking. "
   ]
  },
  {
   "cell_type": "code",
   "execution_count": null,
   "id": "d771e1fa-d467-427a-8c43-1af15246b5ab",
   "metadata": {},
   "outputs": [],
   "source": []
  }
 ],
 "metadata": {
  "kernelspec": {
   "display_name": "Python 3",
   "language": "python",
   "name": "python3"
  },
  "language_info": {
   "codemirror_mode": {
    "name": "ipython",
    "version": 3
   },
   "file_extension": ".py",
   "mimetype": "text/x-python",
   "name": "python",
   "nbconvert_exporter": "python",
   "pygments_lexer": "ipython3",
   "version": "3.6.9"
  }
 },
 "nbformat": 4,
 "nbformat_minor": 5
}
