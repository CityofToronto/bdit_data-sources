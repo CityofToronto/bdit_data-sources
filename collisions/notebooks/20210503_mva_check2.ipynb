{
 "cells": [
  {
   "cell_type": "markdown",
   "id": "a4cfa1fd",
   "metadata": {},
   "source": [
    "# Motor Vehicle Accident XML Check Part 2\n",
    "\n",
    "This notebook checks the integrity of the periodic Motor Vehicle Accident (MVA) report XML files we receive into `\\\\tssrv7\\CollisionsProcessed\\AtSceneXmlBackups`, reflecting the fact that we now have access to a mirror of the Oracle database."
   ]
  },
  {
   "cell_type": "code",
   "execution_count": 141,
   "id": "5cfcc93f",
   "metadata": {},
   "outputs": [],
   "source": [
    "%matplotlib inline\n",
    "\n",
    "import os\n",
    "import pandas as pd\n",
    "import matplotlib.pyplot as plt\n",
    "import numpy as np\n",
    "import configparser\n",
    "import pathlib\n",
    "import psycopg2\n",
    "import psycopg2.extras as ppg2extras\n",
    "import cx_Oracle\n",
    "import re\n",
    "\n",
    "# Default mpl colours.\n",
    "prop_cycle = plt.rcParams['axes.prop_cycle']\n",
    "mpl_def_colors = prop_cycle.by_key()['color']"
   ]
  },
  {
   "cell_type": "code",
   "execution_count": 2,
   "id": "fa6c5e88",
   "metadata": {},
   "outputs": [],
   "source": [
    "config = configparser.ConfigParser()\n",
    "config.read(pathlib.Path.home().joinpath('.charlesconfig').as_posix());\n",
    "postgres_settings = config['POSTGRES']\n",
    "oracle_settings = config['ORACLE']"
   ]
  },
  {
   "cell_type": "markdown",
   "id": "87be120f",
   "metadata": {},
   "source": [
    "## Load XML Filenames"
   ]
  },
  {
   "cell_type": "code",
   "execution_count": 13,
   "id": "a63eb13a",
   "metadata": {},
   "outputs": [],
   "source": [
    "rootfolder = '/mnt/ldrive/AtSceneXmlBackups/'\n",
    "xml_folders = os.listdir(rootfolder)\n",
    "filenames = {fn: os.listdir(rootfolder + fn) for fn in xml_folders}"
   ]
  },
  {
   "cell_type": "code",
   "execution_count": 14,
   "id": "70797447",
   "metadata": {},
   "outputs": [],
   "source": [
    "def get_name_info(filename, filepath):\n",
    "    accyear_str, go_number_str = re.split(\"_|-\", filename[:-4])[-2:]\n",
    "    try:\n",
    "        go_number = int(go_number_str)\n",
    "    except Exception:\n",
    "        raise ValueError(\"{0} was converted to {1}, which can't be \"\n",
    "                         \"converted to an integer.\"\n",
    "                         .format(mystr, go_number))\n",
    "\n",
    "    try:\n",
    "        accyear = int(accyear_str[2:])\n",
    "        assert (accyear // 1000 > 1), \"\"\n",
    "    except Exception as exc:\n",
    "        raise ValueError(\"{0} was converted to {1}, which can't be \"\n",
    "                         \"converted to an integer. Error raised:\"\n",
    "                         .format(mystr, accyear, str(exc)))\n",
    "\n",
    "    acc_number = 1000000000 * int(accyear_str[-1]) + go_number\n",
    "    \n",
    "    return {'fullpath': filepath + \"/\" + filename,\n",
    "            'filename': filename,\n",
    "            'accyear': accyear,\n",
    "            'go_number': go_number,\n",
    "            'acc_number': acc_number}\n",
    "\n",
    "coln_xml_r = [get_name_info(x, fn_key)\n",
    "              for fn_key in filenames.keys() for x in filenames[fn_key]\n",
    "              if x[-4:] == '.xml']\n",
    "coln_xml_r = pd.DataFrame(coln_xml_r)"
   ]
  },
  {
   "cell_type": "code",
   "execution_count": 15,
   "id": "89c935d1",
   "metadata": {},
   "outputs": [],
   "source": [
    "coln_xml_r_unique = coln_xml_r.groupby(\n",
    "    ['filename', 'accyear', 'go_number', 'acc_number'])['fullpath'].count()\n",
    "dups = coln_xml_r_unique[coln_xml_r_unique > 1]\n",
    "dups = dups.reset_index()['acc_number'].unique()\n",
    "\n",
    "coln_xml = coln_xml_r[['accyear', 'go_number', 'acc_number']].drop_duplicates()\n",
    "coln_xml.reset_index(drop=True, inplace=True)"
   ]
  },
  {
   "cell_type": "code",
   "execution_count": 16,
   "id": "8924dea5",
   "metadata": {},
   "outputs": [],
   "source": [
    "coln_xml_20152019 = coln_xml.loc[(coln_xml['accyear'] >= 2014) & (coln_xml['accyear'] < 2020), :].copy()"
   ]
  },
  {
   "cell_type": "code",
   "execution_count": 17,
   "id": "fd8653b9",
   "metadata": {},
   "outputs": [
    {
     "data": {
      "text/html": [
       "<div>\n",
       "<style scoped>\n",
       "    .dataframe tbody tr th:only-of-type {\n",
       "        vertical-align: middle;\n",
       "    }\n",
       "\n",
       "    .dataframe tbody tr th {\n",
       "        vertical-align: top;\n",
       "    }\n",
       "\n",
       "    .dataframe thead th {\n",
       "        text-align: right;\n",
       "    }\n",
       "</style>\n",
       "<table border=\"1\" class=\"dataframe\">\n",
       "  <thead>\n",
       "    <tr style=\"text-align: right;\">\n",
       "      <th></th>\n",
       "      <th>accyear</th>\n",
       "      <th>go_number</th>\n",
       "      <th>acc_number</th>\n",
       "    </tr>\n",
       "  </thead>\n",
       "  <tbody>\n",
       "    <tr>\n",
       "      <th>1537</th>\n",
       "      <td>2014</td>\n",
       "      <td>1008236</td>\n",
       "      <td>4001008236</td>\n",
       "    </tr>\n",
       "    <tr>\n",
       "      <th>1538</th>\n",
       "      <td>2014</td>\n",
       "      <td>1057534</td>\n",
       "      <td>4001057534</td>\n",
       "    </tr>\n",
       "    <tr>\n",
       "      <th>1539</th>\n",
       "      <td>2014</td>\n",
       "      <td>1059448</td>\n",
       "      <td>4001059448</td>\n",
       "    </tr>\n",
       "    <tr>\n",
       "      <th>1540</th>\n",
       "      <td>2014</td>\n",
       "      <td>10667333</td>\n",
       "      <td>4010667333</td>\n",
       "    </tr>\n",
       "    <tr>\n",
       "      <th>1541</th>\n",
       "      <td>2014</td>\n",
       "      <td>1071106</td>\n",
       "      <td>4001071106</td>\n",
       "    </tr>\n",
       "    <tr>\n",
       "      <th>...</th>\n",
       "      <td>...</td>\n",
       "      <td>...</td>\n",
       "      <td>...</td>\n",
       "    </tr>\n",
       "    <tr>\n",
       "      <th>93414</th>\n",
       "      <td>2019</td>\n",
       "      <td>651058</td>\n",
       "      <td>9000651058</td>\n",
       "    </tr>\n",
       "    <tr>\n",
       "      <th>93415</th>\n",
       "      <td>2019</td>\n",
       "      <td>798958</td>\n",
       "      <td>9000798958</td>\n",
       "    </tr>\n",
       "    <tr>\n",
       "      <th>93576</th>\n",
       "      <td>2019</td>\n",
       "      <td>212276</td>\n",
       "      <td>9000212276</td>\n",
       "    </tr>\n",
       "    <tr>\n",
       "      <th>93638</th>\n",
       "      <td>2019</td>\n",
       "      <td>1961849</td>\n",
       "      <td>9001961849</td>\n",
       "    </tr>\n",
       "    <tr>\n",
       "      <th>93639</th>\n",
       "      <td>2019</td>\n",
       "      <td>2497348</td>\n",
       "      <td>9002497348</td>\n",
       "    </tr>\n",
       "  </tbody>\n",
       "</table>\n",
       "<p>80818 rows × 3 columns</p>\n",
       "</div>"
      ],
      "text/plain": [
       "       accyear  go_number  acc_number\n",
       "1537      2014    1008236  4001008236\n",
       "1538      2014    1057534  4001057534\n",
       "1539      2014    1059448  4001059448\n",
       "1540      2014   10667333  4010667333\n",
       "1541      2014    1071106  4001071106\n",
       "...        ...        ...         ...\n",
       "93414     2019     651058  9000651058\n",
       "93415     2019     798958  9000798958\n",
       "93576     2019     212276  9000212276\n",
       "93638     2019    1961849  9001961849\n",
       "93639     2019    2497348  9002497348\n",
       "\n",
       "[80818 rows x 3 columns]"
      ]
     },
     "execution_count": 17,
     "metadata": {},
     "output_type": "execute_result"
    }
   ],
   "source": [
    "coln_xml_20152019"
   ]
  },
  {
   "cell_type": "markdown",
   "id": "cb0ea13c",
   "metadata": {},
   "source": [
    "## Load ACC Numbers from Oracle"
   ]
  },
  {
   "cell_type": "code",
   "execution_count": 18,
   "id": "31d2092a",
   "metadata": {},
   "outputs": [],
   "source": [
    "sql_query = \"\"\"SELECT ACCNB,\n",
    "       EXTRACT(YEAR FROM ACCDATE) ACCYEAR,\n",
    "       ACCDATE,\n",
    "       CASE\n",
    "         WHEN ACCNB >= 1000000000 THEN 'TPS'\n",
    "         WHEN ACCNB >= 100000000 THEN 'CRC'\n",
    "         ELSE 'DUNNO'\n",
    "       END data_source\n",
    "FROM TRAFFIC.ACC\n",
    "WHERE accdate BETWEEN TO_DATE('2014-01-01', 'YYYY-MM-DD') AND TO_DATE('2019-12-31', 'YYYY-MM-DD')\n",
    "GROUP BY ACCNB, ACCDATE\"\"\"\n",
    "\n",
    "with cx_Oracle.connect(oracle_settings['user'], oracle_settings['password'],\n",
    "                       \"{host}:{port}/{service_name}\".format(**oracle_settings),\n",
    "                       encoding=\"UTF-8\") as conn:\n",
    "    df_acc = pd.read_sql(sql_query, con=conn)"
   ]
  },
  {
   "cell_type": "code",
   "execution_count": 19,
   "id": "d154b646",
   "metadata": {
    "scrolled": false
   },
   "outputs": [],
   "source": [
    "sql_query = \"\"\"SELECT ACCNB,\n",
    "       EXTRACT(YEAR FROM ACCDATE) ACCYEAR,\n",
    "       ACCDATE,\n",
    "       CASE\n",
    "         WHEN ACCNB >= 1000000000 THEN 'TPS'\n",
    "         WHEN ACCNB >= 100000000 THEN 'CRC'\n",
    "         ELSE 'DUNNO'\n",
    "       END data_source\n",
    "FROM TRAFFIC.ACC_ARCHIVE\n",
    "WHERE accdate BETWEEN TO_DATE('2014-01-01', 'YYYY-MM-DD') AND TO_DATE('2019-12-31', 'YYYY-MM-DD')\n",
    "GROUP BY ACCNB, ACCDATE\"\"\"\n",
    "\n",
    "with cx_Oracle.connect(oracle_settings['user'], oracle_settings['password'],\n",
    "                       \"{host}:{port}/{service_name}\".format(**oracle_settings),\n",
    "                       encoding=\"UTF-8\") as conn:\n",
    "    df_accarchive = pd.read_sql(sql_query, con=conn)"
   ]
  },
  {
   "cell_type": "code",
   "execution_count": 20,
   "id": "6be03e32",
   "metadata": {},
   "outputs": [
    {
     "data": {
      "text/plain": [
       "(343242, 4)"
      ]
     },
     "execution_count": 20,
     "metadata": {},
     "output_type": "execute_result"
    }
   ],
   "source": [
    "df_acc.shape"
   ]
  },
  {
   "cell_type": "code",
   "execution_count": 21,
   "id": "e9e3d074",
   "metadata": {},
   "outputs": [
    {
     "data": {
      "text/plain": [
       "(37801, 4)"
      ]
     },
     "execution_count": 21,
     "metadata": {},
     "output_type": "execute_result"
    }
   ],
   "source": [
    "df_accarchive.shape"
   ]
  },
  {
   "cell_type": "code",
   "execution_count": 23,
   "id": "f11a7e6c",
   "metadata": {},
   "outputs": [],
   "source": [
    "df_acc['TABLE'] = 'ACC'\n",
    "df_accarchive['TABLE'] = 'ACC_ARCHIVE'"
   ]
  },
  {
   "cell_type": "code",
   "execution_count": 36,
   "id": "0e3360af",
   "metadata": {},
   "outputs": [],
   "source": [
    "df_oracle = pd.concat([df_acc, df_accarchive])\n",
    "df_oracle.reset_index(inplace=True, drop=True)\n",
    "df_oracle.columns = ['accnb', 'accyear', 'accdate', 'data_source', 'table']"
   ]
  },
  {
   "cell_type": "code",
   "execution_count": 37,
   "id": "1f2159af",
   "metadata": {},
   "outputs": [
    {
     "data": {
      "text/plain": [
       "data_source  table      \n",
       "CRC          ACC            271303\n",
       "             ACC_ARCHIVE     29015\n",
       "DUNNO        ACC                84\n",
       "             ACC_ARCHIVE         3\n",
       "TPS          ACC             71855\n",
       "             ACC_ARCHIVE      8783\n",
       "Name: accnb, dtype: int64"
      ]
     },
     "execution_count": 37,
     "metadata": {},
     "output_type": "execute_result"
    }
   ],
   "source": [
    "df_oracle.groupby(['data_source', 'table'])['accnb'].count()"
   ]
  },
  {
   "cell_type": "markdown",
   "id": "0a2ac7ca",
   "metadata": {},
   "source": [
    "There's apparently 6 ACCNBs that start with 0. This is the source of a few of our `DUNNO`s."
   ]
  },
  {
   "cell_type": "code",
   "execution_count": 41,
   "id": "ddc325c9",
   "metadata": {},
   "outputs": [
    {
     "data": {
      "text/html": [
       "<div>\n",
       "<style scoped>\n",
       "    .dataframe tbody tr th:only-of-type {\n",
       "        vertical-align: middle;\n",
       "    }\n",
       "\n",
       "    .dataframe tbody tr th {\n",
       "        vertical-align: top;\n",
       "    }\n",
       "\n",
       "    .dataframe thead th {\n",
       "        text-align: right;\n",
       "    }\n",
       "</style>\n",
       "<table border=\"1\" class=\"dataframe\">\n",
       "  <thead>\n",
       "    <tr style=\"text-align: right;\">\n",
       "      <th></th>\n",
       "      <th>accnb</th>\n",
       "      <th>accyear</th>\n",
       "      <th>accdate</th>\n",
       "      <th>data_source</th>\n",
       "      <th>table</th>\n",
       "    </tr>\n",
       "  </thead>\n",
       "  <tbody>\n",
       "    <tr>\n",
       "      <th>0</th>\n",
       "      <td>0000267847</td>\n",
       "      <td>2019</td>\n",
       "      <td>2019-12-31</td>\n",
       "      <td>DUNNO</td>\n",
       "      <td>ACC</td>\n",
       "    </tr>\n",
       "    <tr>\n",
       "      <th>86113</th>\n",
       "      <td>0000599104</td>\n",
       "      <td>2019</td>\n",
       "      <td>2019-11-30</td>\n",
       "      <td>DUNNO</td>\n",
       "      <td>ACC</td>\n",
       "    </tr>\n",
       "    <tr>\n",
       "      <th>193132</th>\n",
       "      <td>0000916740</td>\n",
       "      <td>2017</td>\n",
       "      <td>2017-05-17</td>\n",
       "      <td>DUNNO</td>\n",
       "      <td>ACC</td>\n",
       "    </tr>\n",
       "    <tr>\n",
       "      <th>361151</th>\n",
       "      <td>0000041926</td>\n",
       "      <td>2019</td>\n",
       "      <td>2019-12-22</td>\n",
       "      <td>DUNNO</td>\n",
       "      <td>ACC_ARCHIVE</td>\n",
       "    </tr>\n",
       "    <tr>\n",
       "      <th>371540</th>\n",
       "      <td>0000759795</td>\n",
       "      <td>2019</td>\n",
       "      <td>2019-12-09</td>\n",
       "      <td>DUNNO</td>\n",
       "      <td>ACC_ARCHIVE</td>\n",
       "    </tr>\n",
       "    <tr>\n",
       "      <th>375366</th>\n",
       "      <td>0000036048</td>\n",
       "      <td>2019</td>\n",
       "      <td>2019-12-26</td>\n",
       "      <td>DUNNO</td>\n",
       "      <td>ACC_ARCHIVE</td>\n",
       "    </tr>\n",
       "  </tbody>\n",
       "</table>\n",
       "</div>"
      ],
      "text/plain": [
       "             accnb  accyear    accdate data_source        table\n",
       "0       0000267847     2019 2019-12-31       DUNNO          ACC\n",
       "86113   0000599104     2019 2019-11-30       DUNNO          ACC\n",
       "193132  0000916740     2017 2017-05-17       DUNNO          ACC\n",
       "361151  0000041926     2019 2019-12-22       DUNNO  ACC_ARCHIVE\n",
       "371540  0000759795     2019 2019-12-09       DUNNO  ACC_ARCHIVE\n",
       "375366  0000036048     2019 2019-12-26       DUNNO  ACC_ARCHIVE"
      ]
     },
     "execution_count": 41,
     "metadata": {},
     "output_type": "execute_result"
    }
   ],
   "source": [
    "df_oracle.loc[df_oracle['accnb'].str.startswith('0'), :]"
   ]
  },
  {
   "cell_type": "code",
   "execution_count": 43,
   "id": "886f580c",
   "metadata": {},
   "outputs": [],
   "source": [
    "df_oracle['accnb'] = df_oracle['accnb'].astype(int)"
   ]
  },
  {
   "cell_type": "markdown",
   "id": "484b16a7",
   "metadata": {},
   "source": [
    "## Merge Datasets for Comparison"
   ]
  },
  {
   "cell_type": "code",
   "execution_count": 44,
   "id": "a1772c6e",
   "metadata": {},
   "outputs": [],
   "source": [
    "df_merge = pd.merge(coln_xml_20152019, df_oracle, how='outer',\n",
    "                    left_on='acc_number', right_on='accnb',\n",
    "                    suffixes=('_xml', '_oracle'))"
   ]
  },
  {
   "cell_type": "code",
   "execution_count": 45,
   "id": "f09e1550",
   "metadata": {},
   "outputs": [
    {
     "data": {
      "text/html": [
       "<div>\n",
       "<style scoped>\n",
       "    .dataframe tbody tr th:only-of-type {\n",
       "        vertical-align: middle;\n",
       "    }\n",
       "\n",
       "    .dataframe tbody tr th {\n",
       "        vertical-align: top;\n",
       "    }\n",
       "\n",
       "    .dataframe thead th {\n",
       "        text-align: right;\n",
       "    }\n",
       "</style>\n",
       "<table border=\"1\" class=\"dataframe\">\n",
       "  <thead>\n",
       "    <tr style=\"text-align: right;\">\n",
       "      <th></th>\n",
       "      <th>accyear_xml</th>\n",
       "      <th>go_number</th>\n",
       "      <th>acc_number</th>\n",
       "      <th>accnb</th>\n",
       "      <th>accyear_oracle</th>\n",
       "      <th>accdate</th>\n",
       "      <th>data_source</th>\n",
       "      <th>table</th>\n",
       "    </tr>\n",
       "  </thead>\n",
       "  <tbody>\n",
       "    <tr>\n",
       "      <th>0</th>\n",
       "      <td>2014.0</td>\n",
       "      <td>1008236.0</td>\n",
       "      <td>4.001008e+09</td>\n",
       "      <td>NaN</td>\n",
       "      <td>NaN</td>\n",
       "      <td>NaT</td>\n",
       "      <td>NaN</td>\n",
       "      <td>NaN</td>\n",
       "    </tr>\n",
       "    <tr>\n",
       "      <th>1</th>\n",
       "      <td>2014.0</td>\n",
       "      <td>1057534.0</td>\n",
       "      <td>4.001058e+09</td>\n",
       "      <td>4.001058e+09</td>\n",
       "      <td>2014.0</td>\n",
       "      <td>2014-02-05</td>\n",
       "      <td>TPS</td>\n",
       "      <td>ACC</td>\n",
       "    </tr>\n",
       "    <tr>\n",
       "      <th>2</th>\n",
       "      <td>2014.0</td>\n",
       "      <td>1059448.0</td>\n",
       "      <td>4.001059e+09</td>\n",
       "      <td>4.001059e+09</td>\n",
       "      <td>2014.0</td>\n",
       "      <td>2014-02-19</td>\n",
       "      <td>TPS</td>\n",
       "      <td>ACC</td>\n",
       "    </tr>\n",
       "    <tr>\n",
       "      <th>3</th>\n",
       "      <td>2014.0</td>\n",
       "      <td>10667333.0</td>\n",
       "      <td>4.010667e+09</td>\n",
       "      <td>4.010667e+09</td>\n",
       "      <td>2014.0</td>\n",
       "      <td>2014-03-09</td>\n",
       "      <td>TPS</td>\n",
       "      <td>ACC</td>\n",
       "    </tr>\n",
       "    <tr>\n",
       "      <th>4</th>\n",
       "      <td>2014.0</td>\n",
       "      <td>1071106.0</td>\n",
       "      <td>4.001071e+09</td>\n",
       "      <td>NaN</td>\n",
       "      <td>NaN</td>\n",
       "      <td>NaT</td>\n",
       "      <td>NaN</td>\n",
       "      <td>NaN</td>\n",
       "    </tr>\n",
       "    <tr>\n",
       "      <th>...</th>\n",
       "      <td>...</td>\n",
       "      <td>...</td>\n",
       "      <td>...</td>\n",
       "      <td>...</td>\n",
       "      <td>...</td>\n",
       "      <td>...</td>\n",
       "      <td>...</td>\n",
       "      <td>...</td>\n",
       "    </tr>\n",
       "    <tr>\n",
       "      <th>381489</th>\n",
       "      <td>NaN</td>\n",
       "      <td>NaN</td>\n",
       "      <td>NaN</td>\n",
       "      <td>1.880275e+08</td>\n",
       "      <td>2018.0</td>\n",
       "      <td>2018-05-29</td>\n",
       "      <td>CRC</td>\n",
       "      <td>ACC_ARCHIVE</td>\n",
       "    </tr>\n",
       "    <tr>\n",
       "      <th>381490</th>\n",
       "      <td>NaN</td>\n",
       "      <td>NaN</td>\n",
       "      <td>NaN</td>\n",
       "      <td>1.680237e+08</td>\n",
       "      <td>2016.0</td>\n",
       "      <td>2016-06-08</td>\n",
       "      <td>CRC</td>\n",
       "      <td>ACC_ARCHIVE</td>\n",
       "    </tr>\n",
       "    <tr>\n",
       "      <th>381491</th>\n",
       "      <td>NaN</td>\n",
       "      <td>NaN</td>\n",
       "      <td>NaN</td>\n",
       "      <td>1.680239e+08</td>\n",
       "      <td>2016.0</td>\n",
       "      <td>2016-06-05</td>\n",
       "      <td>CRC</td>\n",
       "      <td>ACC_ARCHIVE</td>\n",
       "    </tr>\n",
       "    <tr>\n",
       "      <th>381492</th>\n",
       "      <td>NaN</td>\n",
       "      <td>NaN</td>\n",
       "      <td>NaN</td>\n",
       "      <td>1.880233e+08</td>\n",
       "      <td>2018.0</td>\n",
       "      <td>2018-05-05</td>\n",
       "      <td>CRC</td>\n",
       "      <td>ACC_ARCHIVE</td>\n",
       "    </tr>\n",
       "    <tr>\n",
       "      <th>381493</th>\n",
       "      <td>NaN</td>\n",
       "      <td>NaN</td>\n",
       "      <td>NaN</td>\n",
       "      <td>1.780299e+08</td>\n",
       "      <td>2017.0</td>\n",
       "      <td>2017-06-29</td>\n",
       "      <td>CRC</td>\n",
       "      <td>ACC_ARCHIVE</td>\n",
       "    </tr>\n",
       "  </tbody>\n",
       "</table>\n",
       "<p>381494 rows × 8 columns</p>\n",
       "</div>"
      ],
      "text/plain": [
       "        accyear_xml   go_number    acc_number         accnb  accyear_oracle  \\\n",
       "0            2014.0   1008236.0  4.001008e+09           NaN             NaN   \n",
       "1            2014.0   1057534.0  4.001058e+09  4.001058e+09          2014.0   \n",
       "2            2014.0   1059448.0  4.001059e+09  4.001059e+09          2014.0   \n",
       "3            2014.0  10667333.0  4.010667e+09  4.010667e+09          2014.0   \n",
       "4            2014.0   1071106.0  4.001071e+09           NaN             NaN   \n",
       "...             ...         ...           ...           ...             ...   \n",
       "381489          NaN         NaN           NaN  1.880275e+08          2018.0   \n",
       "381490          NaN         NaN           NaN  1.680237e+08          2016.0   \n",
       "381491          NaN         NaN           NaN  1.680239e+08          2016.0   \n",
       "381492          NaN         NaN           NaN  1.880233e+08          2018.0   \n",
       "381493          NaN         NaN           NaN  1.780299e+08          2017.0   \n",
       "\n",
       "          accdate data_source        table  \n",
       "0             NaT         NaN          NaN  \n",
       "1      2014-02-05         TPS          ACC  \n",
       "2      2014-02-19         TPS          ACC  \n",
       "3      2014-03-09         TPS          ACC  \n",
       "4             NaT         NaN          NaN  \n",
       "...           ...         ...          ...  \n",
       "381489 2018-05-29         CRC  ACC_ARCHIVE  \n",
       "381490 2016-06-08         CRC  ACC_ARCHIVE  \n",
       "381491 2016-06-05         CRC  ACC_ARCHIVE  \n",
       "381492 2018-05-05         CRC  ACC_ARCHIVE  \n",
       "381493 2017-06-29         CRC  ACC_ARCHIVE  \n",
       "\n",
       "[381494 rows x 8 columns]"
      ]
     },
     "execution_count": 45,
     "metadata": {},
     "output_type": "execute_result"
    }
   ],
   "source": [
    "df_merge"
   ]
  },
  {
   "cell_type": "markdown",
   "id": "cac0df6c",
   "metadata": {},
   "source": [
    "## Analysis"
   ]
  },
  {
   "cell_type": "code",
   "execution_count": 61,
   "id": "c1a6aaac",
   "metadata": {},
   "outputs": [
    {
     "data": {
      "text/plain": [
       "CRC      300318\n",
       "TPS         262\n",
       "DUNNO        87\n",
       "Name: data_source, dtype: int64"
      ]
     },
     "execution_count": 61,
     "metadata": {},
     "output_type": "execute_result"
    }
   ],
   "source": [
    "df_merge.loc[df_merge['accyear_xml'].isna(), 'data_source'].value_counts(dropna=False)"
   ]
  },
  {
   "cell_type": "code",
   "execution_count": 48,
   "id": "299f3196",
   "metadata": {},
   "outputs": [
    {
     "data": {
      "text/plain": [
       "data_source  table      \n",
       "CRC          ACC            271303\n",
       "             ACC_ARCHIVE     29015\n",
       "TPS          ACC               245\n",
       "DUNNO        ACC                84\n",
       "TPS          ACC_ARCHIVE        17\n",
       "DUNNO        ACC_ARCHIVE         3\n",
       "dtype: int64"
      ]
     },
     "execution_count": 48,
     "metadata": {},
     "output_type": "execute_result"
    }
   ],
   "source": [
    "# No NaNs, so we can run a multi-index value count.\n",
    "df_merge.loc[df_merge['accyear_xml'].isna(), ['data_source', 'table']].value_counts()"
   ]
  },
  {
   "cell_type": "markdown",
   "id": "87880bf3",
   "metadata": {},
   "source": [
    "So the `CRC` and `DUNNO` columns are to be expected. As before, there are also 245 TPS collisions unaccounted for in `ACC`, and an additional 17 in `ACC_ARCHIVE`."
   ]
  },
  {
   "cell_type": "code",
   "execution_count": 50,
   "id": "03dbf890",
   "metadata": {},
   "outputs": [
    {
     "data": {
      "text/plain": [
       "accyear_oracle\n",
       "2014.0    15\n",
       "2015.0    14\n",
       "2016.0    53\n",
       "2017.0    60\n",
       "2018.0    63\n",
       "2019.0    57\n",
       "Name: accyear_oracle, dtype: int64"
      ]
     },
     "execution_count": 50,
     "metadata": {},
     "output_type": "execute_result"
    }
   ],
   "source": [
    "(df_merge.loc[df_merge['accyear_xml'].isna() & (df_merge['data_source'] == 'TPS'), :]\n",
    " .groupby('accyear_oracle')['accyear_oracle'].count())"
   ]
  },
  {
   "cell_type": "markdown",
   "id": "9fe56820",
   "metadata": {},
   "source": [
    "Some argument to be made that the number of unaccounted collisions increased substantially starting in 2016, but inconclusive."
   ]
  },
  {
   "cell_type": "code",
   "execution_count": 51,
   "id": "7d6b6329",
   "metadata": {},
   "outputs": [
    {
     "data": {
      "text/plain": [
       "accyear_oracle\n",
       "2016.0    24\n",
       "2017.0    16\n",
       "2018.0    12\n",
       "2019.0    35\n",
       "Name: accyear_oracle, dtype: int64"
      ]
     },
     "execution_count": 51,
     "metadata": {},
     "output_type": "execute_result"
    }
   ],
   "source": [
    "(df_merge.loc[(df_merge['data_source'] == 'DUNNO'), :]\n",
    " .groupby('accyear_oracle')['accyear_oracle'].count())"
   ]
  },
  {
   "cell_type": "markdown",
   "id": "e6913282",
   "metadata": {},
   "source": [
    "This is identical to what we found before (except for the 3 extra collisions from `ACC_ARCHIVE` in 2019). From our previous investigation they're not found in the XML records, so are more likely improperly loaded CRC, or generated by the mail clerks."
   ]
  },
  {
   "cell_type": "code",
   "execution_count": 55,
   "id": "34954107",
   "metadata": {},
   "outputs": [
    {
     "data": {
      "text/plain": [
       "TPS    80376\n",
       "NaN      451\n",
       "Name: data_source, dtype: int64"
      ]
     },
     "execution_count": 55,
     "metadata": {},
     "output_type": "execute_result"
    }
   ],
   "source": [
    "df_merge.loc[~df_merge['accyear_xml'].isna(), 'data_source'].value_counts(dropna=False)"
   ]
  },
  {
   "cell_type": "code",
   "execution_count": 56,
   "id": "84b9b384",
   "metadata": {},
   "outputs": [
    {
     "data": {
      "text/plain": [
       "ACC            71610\n",
       "ACC_ARCHIVE     8766\n",
       "NaN              451\n",
       "Name: table, dtype: int64"
      ]
     },
     "execution_count": 56,
     "metadata": {},
     "output_type": "execute_result"
    }
   ],
   "source": [
    "df_merge.loc[~df_merge['accyear_xml'].isna(), 'table'].value_counts(dropna=False)"
   ]
  },
  {
   "cell_type": "markdown",
   "id": "ae734def",
   "metadata": {},
   "source": [
    "This is an excellent sign - the vast majority of the missing collisions in our original study can be found in `ACC_ARCHIVE` because they were deemed to be on private property by the ACC loader. Exactly *why* they were deemed to be on private property remains a mystery (we'll explore this below).\n",
    "\n",
    "For now, let's focus on the `NaN`s."
   ]
  },
  {
   "cell_type": "code",
   "execution_count": 57,
   "id": "9c7f314d",
   "metadata": {},
   "outputs": [],
   "source": [
    "# Get all ACC numbers missing from Oracle.\n",
    "missing_acc = df_merge.loc[(df_merge['data_source'].isna()), 'acc_number'].astype(int).values"
   ]
  },
  {
   "cell_type": "code",
   "execution_count": 62,
   "id": "5ded24f9",
   "metadata": {},
   "outputs": [],
   "source": [
    "coln_missing_acc = (\n",
    "    coln_xml_r.loc[coln_xml_r['acc_number'].isin(missing_acc), :]\n",
    "    .groupby(['filename', 'accyear', 'go_number', 'acc_number'])['fullpath']\n",
    "    .min()).reset_index()"
   ]
  },
  {
   "cell_type": "code",
   "execution_count": 69,
   "id": "bd031540",
   "metadata": {},
   "outputs": [],
   "source": [
    "import xml.etree.ElementTree as et\n",
    "\n",
    "def extract_accloc(xtree):\n",
    "    accloc_node = (xtree.getroot().getchildren()[0]\n",
    "                   .find('ACCIDENT').getchildren()[0]\n",
    "                   .getchildren()[0].find('AccidentLocation-Box-1'))\n",
    "\n",
    "    if accloc_node is None:\n",
    "        raise ValueError('could not find AccidentLocation-Box-1!')\n",
    "\n",
    "    try:\n",
    "        return int(accloc_node.text)\n",
    "    except Exception:\n",
    "        return -1\n",
    "\n",
    "\n",
    "def extract_occ_yr(xtree):\n",
    "    occyr_node = (xtree.getroot().getchildren()[0]\n",
    "                   .find('OCC_YR'))\n",
    "\n",
    "    if occyr_node is None:\n",
    "        raise ValueError('could not find OCC_YR!')\n",
    "\n",
    "    try:\n",
    "        return int(occyr_node.text)\n",
    "    except Exception:\n",
    "        return -1\n",
    "\n",
    "\n",
    "def extract_xml_row_short(filepath):\n",
    "    xtree = et.parse(filepath)\n",
    "    return {'filepath': filepath,\n",
    "            'accloc': extract_accloc(xtree),\n",
    "            'occ_yr': extract_occ_yr(xtree)}"
   ]
  },
  {
   "cell_type": "code",
   "execution_count": 70,
   "id": "57baf5ec",
   "metadata": {},
   "outputs": [
    {
     "name": "stdout",
     "output_type": "stream",
     "text": [
      "CPU times: user 750 ms, sys: 2.36 s, total: 3.11 s\n",
      "Wall time: 44.3 s\n"
     ]
    }
   ],
   "source": [
    "%%time\n",
    "row_dicts = []\n",
    "for i, row in coln_missing_acc.iterrows():\n",
    "    row_dicts.append(extract_xml_row_short(rootfolder + row['fullpath']))\n",
    "\n",
    "cma_xmlinfo = pd.DataFrame(row_dicts, index=coln_missing_acc.index)"
   ]
  },
  {
   "cell_type": "code",
   "execution_count": 71,
   "id": "baee824f",
   "metadata": {},
   "outputs": [
    {
     "data": {
      "text/plain": [
       " 1     152\n",
       " 10     87\n",
       " 3      61\n",
       " 2      51\n",
       "-1      36\n",
       " 99     31\n",
       " 4      28\n",
       " 98      2\n",
       " 8       1\n",
       " 7       1\n",
       " 5       1\n",
       "Name: accloc, dtype: int64"
      ]
     },
     "execution_count": 71,
     "metadata": {},
     "output_type": "execute_result"
    }
   ],
   "source": [
    "cma_xmlinfo['accloc'].value_counts()"
   ]
  },
  {
   "cell_type": "markdown",
   "id": "22b27542",
   "metadata": {},
   "source": [
    "The plurality of locations are \"Non Intersection\", rather than on private property.\n",
    "\n",
    "Is there a good rule of thumb for what ends up in `ACC_ARCHIVE` and what doesn't?"
   ]
  },
  {
   "cell_type": "code",
   "execution_count": 96,
   "id": "7546c112",
   "metadata": {},
   "outputs": [],
   "source": [
    "sql_query = \"\"\"SELECT PRIVATE_PROPERTY, ACCLOC, LOCCOORD, COUNT(DISTINCT ACCNB) n_events\n",
    "FROM TRAFFIC.ACC\n",
    "WHERE \"ACCDATE\" BETWEEN TO_DATE('2014-01-01', 'YYYY-MM-DD') AND TO_DATE('2019-12-31', 'YYYY-MM-DD')\n",
    "GROUP BY PRIVATE_PROPERTY, ACCLOC, LOCCOORD\n",
    "ORDER BY 1, 2, 3\"\"\"\n",
    "\n",
    "with cx_Oracle.connect(oracle_settings['user'], oracle_settings['password'],\n",
    "                       \"{host}:{port}/{service_name}\".format(**oracle_settings),\n",
    "                       encoding=\"UTF-8\") as conn:\n",
    "    df_acc_coordbreakdown = pd.read_sql(sql_query, con=conn)"
   ]
  },
  {
   "cell_type": "code",
   "execution_count": 98,
   "id": "1f6e2d20",
   "metadata": {},
   "outputs": [],
   "source": [
    "sql_query = \"\"\"SELECT PRIVATE_PROPERTY, ACCLOC, LOCCOORD, COUNT(DISTINCT ACCNB) n_events\n",
    "FROM TRAFFIC.ACC_archive\n",
    "WHERE \"ACCDATE\" BETWEEN TO_DATE('2014-01-01', 'YYYY-MM-DD') AND TO_DATE('2019-12-31', 'YYYY-MM-DD')\n",
    "GROUP BY PRIVATE_PROPERTY, ACCLOC, LOCCOORD\n",
    "ORDER BY 1, 2, 3\"\"\"\n",
    "\n",
    "with cx_Oracle.connect(oracle_settings['user'], oracle_settings['password'],\n",
    "                       \"{host}:{port}/{service_name}\".format(**oracle_settings),\n",
    "                       encoding=\"UTF-8\") as conn:\n",
    "    df_accarchive_coordbreakdown = pd.read_sql(sql_query, con=conn)"
   ]
  },
  {
   "cell_type": "markdown",
   "id": "5d22fd4f",
   "metadata": {},
   "source": [
    "Surely the `PRIVATE_PROPERTY` column is a good first place to start!"
   ]
  },
  {
   "cell_type": "code",
   "execution_count": 100,
   "id": "85985f37",
   "metadata": {},
   "outputs": [
    {
     "data": {
      "text/plain": [
       "PRIVATE_PROPERTY\n",
       "N    285853\n",
       "Y      1809\n",
       "Name: N_EVENTS, dtype: int64"
      ]
     },
     "execution_count": 100,
     "metadata": {},
     "output_type": "execute_result"
    }
   ],
   "source": [
    "df_acc_coordbreakdown.groupby(\"PRIVATE_PROPERTY\")['N_EVENTS'].sum()"
   ]
  },
  {
   "cell_type": "code",
   "execution_count": 101,
   "id": "d7b123c2",
   "metadata": {},
   "outputs": [
    {
     "data": {
      "text/plain": [
       "PRIVATE_PROPERTY\n",
       "N    15805\n",
       "Y    21424\n",
       "Name: N_EVENTS, dtype: int64"
      ]
     },
     "execution_count": 101,
     "metadata": {},
     "output_type": "execute_result"
    }
   ],
   "source": [
    "df_accarchive_coordbreakdown.groupby(\"PRIVATE_PROPERTY\")['N_EVENTS'].sum()"
   ]
  },
  {
   "cell_type": "markdown",
   "id": "919b3f48",
   "metadata": {},
   "source": [
    "Surprisingly no! As expected, most collisions in `ACC_ARCHIVE` are on private property, and most collisions that are in `ACC` are not, but there are exceptions, and there are enough exceptions in `ACC_ARCHIVE` that I don't believe all of them fall outside the city boundaries."
   ]
  },
  {
   "cell_type": "code",
   "execution_count": 102,
   "id": "17b25683",
   "metadata": {},
   "outputs": [
    {
     "data": {
      "text/plain": [
       "ACCLOC\n",
       "00        75\n",
       "01    237869\n",
       "02     40220\n",
       "03     49066\n",
       "04     14863\n",
       "05       118\n",
       "06        89\n",
       "07       140\n",
       "08        35\n",
       "09       100\n",
       "97        95\n",
       "98       137\n",
       "99       161\n",
       "Name: N_EVENTS, dtype: int64"
      ]
     },
     "execution_count": 102,
     "metadata": {},
     "output_type": "execute_result"
    }
   ],
   "source": [
    "df_acc_coordbreakdown.groupby(\"ACCLOC\")['N_EVENTS'].sum()"
   ]
  },
  {
   "cell_type": "code",
   "execution_count": 103,
   "id": "1ccc8f81",
   "metadata": {},
   "outputs": [
    {
     "data": {
      "text/plain": [
       "ACCLOC\n",
       "00       10\n",
       "01      258\n",
       "02       57\n",
       "03       31\n",
       "04     1396\n",
       "05        2\n",
       "06        9\n",
       "07        2\n",
       "08       27\n",
       "09       11\n",
       "10    34911\n",
       "98       58\n",
       "99     1044\n",
       "Name: N_EVENTS, dtype: int64"
      ]
     },
     "execution_count": 103,
     "metadata": {},
     "output_type": "execute_result"
    }
   ],
   "source": [
    "df_accarchive_coordbreakdown.groupby(\"ACCLOC\")['N_EVENTS'].sum()"
   ]
  },
  {
   "cell_type": "markdown",
   "id": "122d44dd",
   "metadata": {},
   "source": [
    "Likewise we definitely see more class 4, 10 and 99 `ACCLOC` in `ACC_ARCHIVE` than in `ACC`, but it's not exclusive. I can only conclude that there's a combination of several factors that divert collisions into the archive.\n",
    "\n",
    "We can perform a more thorough check of `ACC_ARCHIVE` in an attempt to separate out collisions inside and outside of Toronto:"
   ]
  },
  {
   "cell_type": "code",
   "execution_count": 250,
   "id": "45a6b037",
   "metadata": {},
   "outputs": [],
   "source": [
    "sql_query = \"\"\"SELECT DISTINCT ACCNB, PRIVATE_PROPERTY, ACCLOC, LONGITUDE + 0.00021 lon, LATITUDE + 0.000045 lat\n",
    "FROM TRAFFIC.ACC_ARCHIVE\n",
    "WHERE \"ACCDATE\" BETWEEN TO_DATE('2014-01-01', 'YYYY-MM-DD') AND TO_DATE('2019-12-31', 'YYYY-MM-DD')\"\"\"\n",
    "\n",
    "with cx_Oracle.connect(oracle_settings['user'], oracle_settings['password'],\n",
    "                       \"{host}:{port}/{service_name}\".format(**oracle_settings),\n",
    "                       encoding=\"UTF-8\") as conn:\n",
    "    df_accarchive_city = pd.read_sql(sql_query, con=conn)\n",
    "\n",
    "df_accarchive_city = gpd.GeoDataFrame(\n",
    "    df_accarchive_city, geometry=gpd.points_from_xy(df_accarchive_city.LON, df_accarchive_city.LAT))"
   ]
  },
  {
   "cell_type": "markdown",
   "id": "ece6e50f",
   "metadata": {},
   "source": [
    "Irritatingly, neither the CITY nor lon-lat coordinates are error-free measures of location. The city names can get really hairy."
   ]
  },
  {
   "cell_type": "code",
   "execution_count": 251,
   "id": "096df58d",
   "metadata": {},
   "outputs": [],
   "source": [
    "sql_query = \"\"\"SELECT area_name, ST_TRANSFORM(ST_BUFFER(ST_TRANSFORM(geom, 2952), 30), 4326) geom FROM gis.tor_boundary;\"\"\"\n",
    "\n",
    "with psycopg2.connect(**postgres_settings) as db_con:\n",
    "    df_torboundary = gpd.read_postgis(sql_query, db_con)"
   ]
  },
  {
   "cell_type": "code",
   "execution_count": 252,
   "id": "4dd7683d",
   "metadata": {},
   "outputs": [
    {
     "name": "stderr",
     "output_type": "stream",
     "text": [
      "/home/czhu/pythonenv/bditto/lib/python3.6/site-packages/geopandas/tools/sjoin.py:61: UserWarning: CRS of frames being joined does not match!(None != epsg:4326)\n",
      "  \"(%s != %s)\" % (left_df.crs, right_df.crs)\n"
     ]
    }
   ],
   "source": [
    "df_boundcheck = gpd.sjoin(df_accarchive_city.loc[(df_accarchive_city['LON'] < -10.)\n",
    "                                                 & (df_accarchive_city['LAT'] > 43.), :],\n",
    "                          df_torboundary,\n",
    "                          how='left', op='intersects')                          "
   ]
  },
  {
   "cell_type": "code",
   "execution_count": 253,
   "id": "aef1428e",
   "metadata": {},
   "outputs": [],
   "source": [
    "# This is nonsense - CITY is the city which the involved resides in.\n",
    "# def city_in_toronto(item):\n",
    "#     return ((fuzz.ratio(\"TORONTO\", item) > 75)\n",
    "#             | (fuzz.partial_ratio(\"SCARBOROUGH\", item) > 85)\n",
    "#             | (fuzz.ratio(\"ETOBICOKE\", item) > 65)\n",
    "#             | (fuzz.partial_ratio(\"YORK\", item) > 85))\n",
    "\n",
    "# df_boundcheck['CITY_IN_TO'] = df_boundcheck['CITY'].apply(city_in_toronto)"
   ]
  },
  {
   "cell_type": "code",
   "execution_count": 255,
   "id": "6511b16e",
   "metadata": {},
   "outputs": [
    {
     "data": {
      "text/plain": [
       "10     25733\n",
       "04      1362\n",
       "99      1016\n",
       "01       221\n",
       "98        56\n",
       "02        55\n",
       "03        28\n",
       "08        25\n",
       "09        11\n",
       "00        10\n",
       "NaN       10\n",
       "06         9\n",
       "07         2\n",
       "05         2\n",
       "Name: ACCLOC, dtype: int64"
      ]
     },
     "execution_count": 255,
     "metadata": {},
     "output_type": "execute_result"
    }
   ],
   "source": [
    "df_boundcheck.loc[~df_boundcheck['area_name'].isna(), 'ACCLOC'].value_counts(dropna=False)"
   ]
  },
  {
   "cell_type": "code",
   "execution_count": 260,
   "id": "1ebef2a3",
   "metadata": {},
   "outputs": [
    {
     "data": {
      "text/plain": [
       "10    8970\n",
       "04       4\n",
       "01       1\n",
       "99       1\n",
       "Name: ACCLOC, dtype: int64"
      ]
     },
     "execution_count": 260,
     "metadata": {},
     "output_type": "execute_result"
    }
   ],
   "source": [
    "df_boundcheck.loc[df_boundcheck['area_name'].isna(), 'ACCLOC'].value_counts(dropna=False)"
   ]
  },
  {
   "cell_type": "code",
   "execution_count": 257,
   "id": "e1affd4e",
   "metadata": {},
   "outputs": [
    {
     "data": {
      "text/plain": [
       "<matplotlib.axes._subplots.AxesSubplot at 0x7f3be32424a8>"
      ]
     },
     "execution_count": 257,
     "metadata": {},
     "output_type": "execute_result"
    },
    {
     "data": {
      "image/png": "[encoded data removed]",
      "text/plain": [
       "<Figure size 432x288 with 1 Axes>"
      ]
     },
     "metadata": {
      "needs_background": "light"
     },
     "output_type": "display_data"
    }
   ],
   "source": [
    "df_boundcheck.loc[~df_boundcheck['area_name'].isna(), :].plot()"
   ]
  },
  {
   "cell_type": "markdown",
   "id": "c1ba5dfe",
   "metadata": {},
   "source": [
    "So, we've found that it's the collisions that are geographically **WITHIN** Toronto that have a whole bunch of different `ACCLOC` codes, while the collisions that are beyond the bounds of Toronto are almost all on private property!"
   ]
  },
  {
   "cell_type": "markdown",
   "id": "f410eaeb",
   "metadata": {},
   "source": [
    "Create some summary statistics."
   ]
  },
  {
   "cell_type": "code",
   "execution_count": 72,
   "id": "7cc3f429",
   "metadata": {},
   "outputs": [],
   "source": [
    "coln_missing_acc = pd.concat([coln_missing_acc, cma_xmlinfo], axis=1)"
   ]
  },
  {
   "cell_type": "code",
   "execution_count": 74,
   "id": "5a66e70a",
   "metadata": {},
   "outputs": [],
   "source": [
    "df_fulldata = pd.merge(df_merge, coln_missing_acc[['acc_number', 'accloc', 'occ_yr']],\n",
    "                       how='left', left_on='acc_number', right_on='acc_number')"
   ]
  },
  {
   "cell_type": "code",
   "execution_count": 76,
   "id": "6a8cfa49",
   "metadata": {},
   "outputs": [],
   "source": [
    "assert np.all(df_fulldata.loc[~df_fulldata['occ_yr'].isna(), 'accyear_xml']\n",
    "               == df_fulldata.loc[~df_fulldata['occ_yr'].isna(), 'occ_yr']), (\n",
    "    \"XML filenames and occurrence year entries do not match!\")"
   ]
  },
  {
   "cell_type": "code",
   "execution_count": 77,
   "id": "5c807805",
   "metadata": {},
   "outputs": [
    {
     "name": "stderr",
     "output_type": "stream",
     "text": [
      "/home/czhu/pythonenv/bditto/lib/python3.6/site-packages/pandas/core/generic.py:2449: PerformanceWarning: \n",
      "your performance may suffer as PyTables will pickle object types that it cannot\n",
      "map directly to c-types [inferred_type->mixed,key->block2_values] [items->Index(['data_source', 'table'], dtype='object')]\n",
      "\n",
      "  encoding=encoding,\n"
     ]
    }
   ],
   "source": [
    "# df_fulldata.to_hdf('./20210505_mva_check_temp.hdf5', 'table')\n",
    "# df = pd.read_hdf('./20210505_mva_check_temp.hdf5', 'table')\n",
    "# assert df.equals(df_fulldata)\n",
    "# df_fulldata = df"
   ]
  },
  {
   "cell_type": "code",
   "execution_count": 85,
   "id": "fa119b43",
   "metadata": {},
   "outputs": [],
   "source": [
    "all_xml_events = (df_fulldata.loc[~df_fulldata['accyear_xml'].isna(), :]\n",
    "                  .groupby(\"accyear_xml\")['accyear_xml'].count())\n",
    "all_tps_ocl_events = (df_fulldata.loc[df_fulldata['data_source'] == 'TPS', :]\n",
    "                      .groupby(\"accyear_oracle\")['accnb'].count())\n",
    "xml_events_not_in_ocl = (\n",
    "    df_fulldata.loc[~df_fulldata['accyear_xml'].isna()\n",
    "                    & df_fulldata['accnb'].isna(), :].groupby(\"accyear_xml\")['accyear_xml'].count())\n",
    "# Unlike with the first MVA check, there are 60k class 10 events in ACC_ARCHIVE, so we need to\n",
    "# include df_fulldata['accnb'].isna().\n",
    "xml_class10_events_not_in_ocl = (\n",
    "    df_fulldata.loc[~df_fulldata['accyear_xml'].isna()\n",
    "                    & df_fulldata['accnb'].isna()\n",
    "                    & (df_fulldata['accloc'] == 10.), :].groupby(\"accyear_xml\")['accyear_xml'].count())\n",
    "xml_nonclass10_events_not_in_ocl = (\n",
    "    df_fulldata.loc[~df_fulldata['accyear_xml'].isna()\n",
    "                    & df_fulldata['accnb'].isna()\n",
    "                    & (df_fulldata['accloc'] != 10.), :].groupby(\"accyear_xml\")['accyear_xml'].count())\n",
    "xml_public_events_not_in_ocl = (\n",
    "    df_fulldata.loc[~df_fulldata['accyear_xml'].isna()\n",
    "                    & df_fulldata['accnb'].isna()\n",
    "                    & ~df_fulldata['accloc'].isin([4., 10., 98., 99.]), :].groupby(\"accyear_xml\")['accyear_xml'].count())\n",
    "ocl_tps_events_not_in_xml = (\n",
    "    df_fulldata.loc[df_fulldata['accyear_xml'].isna()\n",
    "                    & ~df_fulldata['accnb'].isna()\n",
    "                    & (df_fulldata['data_source'] == 'TPS'), :].groupby(\"accyear_oracle\")['accnb'].count())\n",
    "ocl_dunno_events_not_in_xml = (\n",
    "    df_fulldata.loc[df_fulldata['accyear_xml'].isna()\n",
    "                    & ~df_fulldata['accnb'].isna()\n",
    "                    & (df_fulldata['data_source'] == 'DUNNO'), :].groupby(\"accyear_oracle\")['accnb'].count())"
   ]
  },
  {
   "cell_type": "code",
   "execution_count": 86,
   "id": "0d7784ae",
   "metadata": {},
   "outputs": [
    {
     "data": {
      "text/html": [
       "<div>\n",
       "<style scoped>\n",
       "    .dataframe tbody tr th:only-of-type {\n",
       "        vertical-align: middle;\n",
       "    }\n",
       "\n",
       "    .dataframe tbody tr th {\n",
       "        vertical-align: top;\n",
       "    }\n",
       "\n",
       "    .dataframe thead th {\n",
       "        text-align: right;\n",
       "    }\n",
       "</style>\n",
       "<table border=\"1\" class=\"dataframe\">\n",
       "  <thead>\n",
       "    <tr style=\"text-align: right;\">\n",
       "      <th></th>\n",
       "      <th>all_xml</th>\n",
       "      <th>all_tps_ocl</th>\n",
       "      <th>xml_not_in_ocl</th>\n",
       "      <th>xml_class10_not_in_ocl</th>\n",
       "      <th>xml_nonclass10_not_in_ocl</th>\n",
       "      <th>xml_public_not_in_ocl</th>\n",
       "      <th>ocl_tps_not_in_xml</th>\n",
       "      <th>ocl_dunno_not_in_xml</th>\n",
       "    </tr>\n",
       "  </thead>\n",
       "  <tbody>\n",
       "    <tr>\n",
       "      <th>2014.0</th>\n",
       "      <td>18540</td>\n",
       "      <td>18459</td>\n",
       "      <td>112</td>\n",
       "      <td>11</td>\n",
       "      <td>101</td>\n",
       "      <td>93</td>\n",
       "      <td>15</td>\n",
       "      <td>0.0</td>\n",
       "    </tr>\n",
       "    <tr>\n",
       "      <th>2015.0</th>\n",
       "      <td>16563</td>\n",
       "      <td>16533</td>\n",
       "      <td>42</td>\n",
       "      <td>8</td>\n",
       "      <td>34</td>\n",
       "      <td>27</td>\n",
       "      <td>14</td>\n",
       "      <td>0.0</td>\n",
       "    </tr>\n",
       "    <tr>\n",
       "      <th>2016.0</th>\n",
       "      <td>13063</td>\n",
       "      <td>13036</td>\n",
       "      <td>73</td>\n",
       "      <td>12</td>\n",
       "      <td>61</td>\n",
       "      <td>46</td>\n",
       "      <td>53</td>\n",
       "      <td>24.0</td>\n",
       "    </tr>\n",
       "    <tr>\n",
       "      <th>2017.0</th>\n",
       "      <td>11342</td>\n",
       "      <td>11305</td>\n",
       "      <td>98</td>\n",
       "      <td>26</td>\n",
       "      <td>72</td>\n",
       "      <td>55</td>\n",
       "      <td>60</td>\n",
       "      <td>16.0</td>\n",
       "    </tr>\n",
       "    <tr>\n",
       "      <th>2018.0</th>\n",
       "      <td>10956</td>\n",
       "      <td>10961</td>\n",
       "      <td>55</td>\n",
       "      <td>14</td>\n",
       "      <td>41</td>\n",
       "      <td>37</td>\n",
       "      <td>63</td>\n",
       "      <td>12.0</td>\n",
       "    </tr>\n",
       "    <tr>\n",
       "      <th>2019.0</th>\n",
       "      <td>10363</td>\n",
       "      <td>10344</td>\n",
       "      <td>71</td>\n",
       "      <td>16</td>\n",
       "      <td>55</td>\n",
       "      <td>45</td>\n",
       "      <td>57</td>\n",
       "      <td>35.0</td>\n",
       "    </tr>\n",
       "  </tbody>\n",
       "</table>\n",
       "</div>"
      ],
      "text/plain": [
       "        all_xml  all_tps_ocl  xml_not_in_ocl  xml_class10_not_in_ocl  \\\n",
       "2014.0    18540        18459             112                      11   \n",
       "2015.0    16563        16533              42                       8   \n",
       "2016.0    13063        13036              73                      12   \n",
       "2017.0    11342        11305              98                      26   \n",
       "2018.0    10956        10961              55                      14   \n",
       "2019.0    10363        10344              71                      16   \n",
       "\n",
       "        xml_nonclass10_not_in_ocl  xml_public_not_in_ocl  ocl_tps_not_in_xml  \\\n",
       "2014.0                        101                     93                  15   \n",
       "2015.0                         34                     27                  14   \n",
       "2016.0                         61                     46                  53   \n",
       "2017.0                         72                     55                  60   \n",
       "2018.0                         41                     37                  63   \n",
       "2019.0                         55                     45                  57   \n",
       "\n",
       "        ocl_dunno_not_in_xml  \n",
       "2014.0                   0.0  \n",
       "2015.0                   0.0  \n",
       "2016.0                  24.0  \n",
       "2017.0                  16.0  \n",
       "2018.0                  12.0  \n",
       "2019.0                  35.0  "
      ]
     },
     "execution_count": 86,
     "metadata": {},
     "output_type": "execute_result"
    }
   ],
   "source": [
    "df_summary = pd.concat([all_xml_events,\n",
    "                        all_tps_ocl_events,\n",
    "                        xml_events_not_in_ocl,\n",
    "                        xml_class10_events_not_in_ocl,\n",
    "                        xml_nonclass10_events_not_in_ocl,\n",
    "                        xml_public_events_not_in_ocl,\n",
    "                        ocl_tps_events_not_in_xml,\n",
    "                        ocl_dunno_events_not_in_xml], axis=1).fillna(0.)\n",
    "\n",
    "df_summary.columns = [\n",
    "    'all_xml',\n",
    "    'all_tps_ocl',\n",
    "    'xml_not_in_ocl',\n",
    "    'xml_class10_not_in_ocl',\n",
    "    'xml_nonclass10_not_in_ocl',\n",
    "    'xml_public_not_in_ocl',\n",
    "    'ocl_tps_not_in_xml',\n",
    "    'ocl_dunno_not_in_xml'\n",
    "]\n",
    "\n",
    "df_summary"
   ]
  },
  {
   "cell_type": "code",
   "execution_count": 95,
   "id": "07ee3a3e",
   "metadata": {},
   "outputs": [
    {
     "data": {
      "text/plain": [
       "all_xml                      80827.0\n",
       "all_tps_ocl                  80638.0\n",
       "xml_not_in_ocl                 451.0\n",
       "xml_class10_not_in_ocl          87.0\n",
       "xml_nonclass10_not_in_ocl      364.0\n",
       "xml_public_not_in_ocl          303.0\n",
       "ocl_tps_not_in_xml             262.0\n",
       "ocl_dunno_not_in_xml            87.0\n",
       "dtype: float64"
      ]
     },
     "execution_count": 95,
     "metadata": {},
     "output_type": "execute_result"
    }
   ],
   "source": [
    "df_summary.sum(axis=0)"
   ]
  },
  {
   "cell_type": "markdown",
   "id": "db31371d",
   "metadata": {},
   "source": [
    "Observations :\n",
    "- The difference between the XML dump and combined tables from Oracle is much narrower than before - there are 451 event records in the XMLs that aren't in Oracle, and 262 records in the Oracle that aren't in the XMLs (with an additional 87 unknown collisions that don't seem to correspond to anything). This confirms that the large number of `ACCLOC = 10` collisions missing from `ACC` are instead being inserted into `ACC_ARCHIVE`.\n",
    "- Of the collisions exclusive to the XML files, a plurality of them are \"Non Intersection\", rather than on private property. These could potentially be outside the bounds of the City, but then they should also be in `ACC_ARCHIVE`.\n",
    "- We expect the collisions in `ACC_ARCHIVE` to be either on private property or beyond the boundaries of Toronto. The investigation above shows that is indeed the case - the majority of collisions in `ACC_ARCHIVE` are class 4, 10 or 99, all of which are related to private property, but about 1% of them are not - this translates to around 400 collisions on public land, almost all of which have lon-lats. If we check these lon-lats, almost all of the 400 collisions on public land are *within* the bounds of Toronto, while those beyond are almost all on private property. So clearly there's either more information I'm not considering or there's a failure in whatever process divides collisions between `ACC` and `ACC_ARCHIVE`."
   ]
  },
  {
   "cell_type": "markdown",
   "id": "ddece55e",
   "metadata": {},
   "source": [
    "### Postscript\n",
    "\n",
    "I just realized I didn't account for the occasional case where two collisions will have the same `ACCNB` in the same year, but on different dates. I don't know if these are improperly coded, manual editing errors or something else."
   ]
  }
 ],
 "metadata": {
  "kernelspec": {
   "display_name": "Python 3.6.9 64-bit ('bditto': venv)",
   "language": "python",
   "name": "python36964bitbdittovenvd56842b7ca0c4929925d70f8c4c7f13a"
  },
  "language_info": {
   "codemirror_mode": {
    "name": "ipython",
    "version": 3
   },
   "file_extension": ".py",
   "mimetype": "text/x-python",
   "name": "python",
   "nbconvert_exporter": "python",
   "pygments_lexer": "ipython3",
   "version": "3.6.9"
  }
 },
 "nbformat": 4,
 "nbformat_minor": 5
}
