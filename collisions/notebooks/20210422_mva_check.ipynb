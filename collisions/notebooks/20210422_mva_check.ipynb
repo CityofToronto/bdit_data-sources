{
 "cells": [
  {
   "cell_type": "markdown",
   "id": "eb2cb925",
   "metadata": {},
   "source": [
    "# Motor Vehicle Accident XML Check\n",
    "\n",
    "This notebook checks the integrity of the periodic Motor Vehicle Accident (MVA) report XML files we receive into `\\\\tssrv7\\CollisionsProcessed\\AtSceneXmlBackups`."
   ]
  },
  {
   "cell_type": "code",
   "execution_count": 1,
   "id": "8f097e4d",
   "metadata": {},
   "outputs": [],
   "source": [
    "%matplotlib inline\n",
    "\n",
    "import os\n",
    "import pandas as pd\n",
    "import matplotlib.pyplot as plt\n",
    "import numpy as np\n",
    "import configparser\n",
    "import pathlib\n",
    "import psycopg2\n",
    "import psycopg2.extras as ppg2extras\n",
    "import re\n",
    "\n",
    "# Default mpl colours.\n",
    "prop_cycle = plt.rcParams['axes.prop_cycle']\n",
    "mpl_def_colors = prop_cycle.by_key()['color']"
   ]
  },
  {
   "cell_type": "code",
   "execution_count": 2,
   "id": "bcecfb63",
   "metadata": {},
   "outputs": [],
   "source": [
    "config = configparser.ConfigParser()\n",
    "config.read(pathlib.Path.home().joinpath('.charlesconfig').as_posix());\n",
    "postgres_settings = config['POSTGRES']"
   ]
  },
  {
   "cell_type": "markdown",
   "id": "ca61de34",
   "metadata": {},
   "source": [
    "## Mount Drive\n",
    "\n",
    "Following [this answer](https://superuser.com/a/1261563), mounted drive in WSL using:\n",
    "\n",
    "```\n",
    "sudo mkdir /mnt/ldrive\n",
    "sudo mount -t drvfs L: /mnt/ldrive\n",
    "```\n",
    "\n",
    "Tested\n",
    "\n",
    "```\n",
    "sudo umount -l /mnt/ldrive\n",
    "```\n",
    "\n",
    "for unmounting.\n",
    "\n",
    "## Check File Structure"
   ]
  },
  {
   "cell_type": "code",
   "execution_count": 3,
   "id": "33f49a23",
   "metadata": {},
   "outputs": [],
   "source": [
    "rootfolder = '/mnt/ldrive/AtSceneXmlBackups/'\n",
    "xml_folders = os.listdir(rootfolder)\n",
    "filenames = {fn: os.listdir(rootfolder + fn) for fn in xml_folders}"
   ]
  },
  {
   "cell_type": "markdown",
   "id": "366b1498",
   "metadata": {},
   "source": [
    "To load each XML we use the element tree:"
   ]
  },
  {
   "cell_type": "code",
   "execution_count": 4,
   "id": "7cf38fd5",
   "metadata": {},
   "outputs": [],
   "source": [
    "import xml.etree.ElementTree as et\n",
    "\n",
    "def xmldfs_step(node, row_dict):\n",
    "    if node.text is not None:\n",
    "        if len(node.text.split()):\n",
    "            row_dict[node.tag] = node.text\n",
    "    for child in node.getchildren():\n",
    "        xmldfs_step(child, row_dict)\n",
    "\n",
    "def extract_xml_row(filepath):\n",
    "    xtree = et.parse(filepath)\n",
    "    row_dict = {}\n",
    "    xmldfs_step(xtree.getroot(), row_dict)\n",
    "    return row_dict"
   ]
  },
  {
   "cell_type": "code",
   "execution_count": 5,
   "id": "ab476900",
   "metadata": {},
   "outputs": [
    {
     "name": "stdout",
     "output_type": "stream",
     "text": [
      "CPU times: user 1.38 s, sys: 3.59 s, total: 4.97 s\n",
      "Wall time: 1min 14s\n"
     ]
    }
   ],
   "source": [
    "%%time\n",
    "dicts = [extract_xml_row(rootfolder + '401XmlLoadDir-20160309/' + x)\n",
    "         for x in filenames['401XmlLoadDir-20160309'][:800]]"
   ]
  },
  {
   "cell_type": "markdown",
   "id": "d018fe62",
   "metadata": {},
   "source": [
    "Since there are ~8000 files in that folder it'll take us ~15 min to go through them all, plus the stuff that's been extracted isn't necessarily useful unless we suspect the ACC number has been tampered with."
   ]
  },
  {
   "cell_type": "code",
   "execution_count": 6,
   "id": "ec37e4d5",
   "metadata": {},
   "outputs": [],
   "source": [
    "def extract_accloc(xtree):\n",
    "    accloc_node = (xtree.getroot().getchildren()[0]\n",
    "                   .find('ACCIDENT').getchildren()[0]\n",
    "                   .getchildren()[0].find('AccidentLocation-Box-1'))\n",
    "\n",
    "    if accloc_node is None:\n",
    "        raise ValueError('could not find AccidentLocation-Box-1!')\n",
    "\n",
    "    try:\n",
    "        return int(accloc_node.text)\n",
    "    except Exception:\n",
    "        return -1\n",
    "\n",
    "\n",
    "def extract_occ_yr(xtree):\n",
    "    occyr_node = (xtree.getroot().getchildren()[0]\n",
    "                   .find('OCC_YR'))\n",
    "\n",
    "    if occyr_node is None:\n",
    "        raise ValueError('could not find OCC_YR!')\n",
    "\n",
    "    try:\n",
    "        return int(occyr_node.text)\n",
    "    except Exception:\n",
    "        return -1\n",
    "\n",
    "\n",
    "def extract_xml_row_short(filepath):\n",
    "    xtree = et.parse(filepath)\n",
    "    return {'filepath': filepath,\n",
    "            'accloc': extract_accloc(xtree),\n",
    "            'occ_yr': extract_occ_yr(xtree)}"
   ]
  },
  {
   "cell_type": "code",
   "execution_count": 7,
   "id": "da932a94",
   "metadata": {},
   "outputs": [
    {
     "name": "stdout",
     "output_type": "stream",
     "text": [
      "CPU times: user 1.34 s, sys: 3.05 s, total: 4.39 s\n",
      "Wall time: 1min 13s\n"
     ]
    }
   ],
   "source": [
    "%%time\n",
    "dicts = [extract_xml_row_short(rootfolder + '401XmlLoadDir-20160309/' + x)\n",
    "         for x in filenames['401XmlLoadDir-20160309'][:800]]"
   ]
  },
  {
   "cell_type": "markdown",
   "id": "c96290d7",
   "metadata": {},
   "source": [
    "Ahh okay, so the rate-limiting step is either reading in the files in the first place, or generating the parse tree. That's irritating, since the reasonable solution is to only read in those files whose ACCNBs are missing from ACC."
   ]
  },
  {
   "cell_type": "code",
   "execution_count": 8,
   "id": "f175c46e",
   "metadata": {},
   "outputs": [],
   "source": [
    "def get_name_info(filename, filepath):\n",
    "    accyear_str, go_number_str = re.split(\"_|-\", filename[:-4])[-2:]\n",
    "    try:\n",
    "        go_number = int(go_number_str)\n",
    "    except Exception:\n",
    "        raise ValueError(\"{0} was converted to {1}, which can't be \"\n",
    "                         \"converted to an integer.\"\n",
    "                         .format(mystr, go_number))\n",
    "\n",
    "    try:\n",
    "        accyear = int(accyear_str[2:])\n",
    "        assert (accyear // 1000 > 1), \"\"\n",
    "    except Exception as exc:\n",
    "        raise ValueError(\"{0} was converted to {1}, which can't be \"\n",
    "                         \"converted to an integer. Error raised:\"\n",
    "                         .format(mystr, accyear, str(exc)))\n",
    "\n",
    "    acc_number = 1000000000 * int(accyear_str[-1]) + go_number\n",
    "    \n",
    "    return {'fullpath': filepath + \"/\" + filename,\n",
    "            'filename': filename,\n",
    "            'accyear': accyear,\n",
    "            'go_number': go_number,\n",
    "            'acc_number': acc_number}\n",
    "\n",
    "coln_xml_r = [get_name_info(x, fn_key)\n",
    "              for fn_key in filenames.keys() for x in filenames[fn_key]\n",
    "              if x[-4:] == '.xml']\n",
    "coln_xml_r = pd.DataFrame(coln_xml_r)"
   ]
  },
  {
   "cell_type": "code",
   "execution_count": 9,
   "id": "ceefcbc5",
   "metadata": {},
   "outputs": [],
   "source": [
    "coln_xml_r_unique = coln_xml_r.groupby(\n",
    "    ['filename', 'accyear', 'go_number', 'acc_number'])['fullpath'].count()\n",
    "dups = coln_xml_r_unique[coln_xml_r_unique > 1]\n",
    "dups = dups.reset_index()['acc_number'].unique()"
   ]
  },
  {
   "cell_type": "code",
   "execution_count": 10,
   "id": "644b9d67",
   "metadata": {},
   "outputs": [
    {
     "data": {
      "text/html": [
       "<div>\n",
       "<style scoped>\n",
       "    .dataframe tbody tr th:only-of-type {\n",
       "        vertical-align: middle;\n",
       "    }\n",
       "\n",
       "    .dataframe tbody tr th {\n",
       "        vertical-align: top;\n",
       "    }\n",
       "\n",
       "    .dataframe thead th {\n",
       "        text-align: right;\n",
       "    }\n",
       "</style>\n",
       "<table border=\"1\" class=\"dataframe\">\n",
       "  <thead>\n",
       "    <tr style=\"text-align: right;\">\n",
       "      <th></th>\n",
       "      <th>fullpath</th>\n",
       "      <th>filename</th>\n",
       "      <th>accyear</th>\n",
       "      <th>go_number</th>\n",
       "      <th>acc_number</th>\n",
       "    </tr>\n",
       "  </thead>\n",
       "  <tbody>\n",
       "    <tr>\n",
       "      <th>0</th>\n",
       "      <td>401XmlLoadDir-20151214/MVA_GO_TP2013-1000069.xml</td>\n",
       "      <td>MVA_GO_TP2013-1000069.xml</td>\n",
       "      <td>2013</td>\n",
       "      <td>1000069</td>\n",
       "      <td>3001000069</td>\n",
       "    </tr>\n",
       "    <tr>\n",
       "      <th>309280</th>\n",
       "      <td>401XmlLoadDir-20190403/MVA_GO_TP2013-1000069.xml</td>\n",
       "      <td>MVA_GO_TP2013-1000069.xml</td>\n",
       "      <td>2013</td>\n",
       "      <td>1000069</td>\n",
       "      <td>3001000069</td>\n",
       "    </tr>\n",
       "    <tr>\n",
       "      <th>242874</th>\n",
       "      <td>401XmlLoadDir-20190328/MVA_GO_TP2013-1000069.xml</td>\n",
       "      <td>MVA_GO_TP2013-1000069.xml</td>\n",
       "      <td>2013</td>\n",
       "      <td>1000069</td>\n",
       "      <td>3001000069</td>\n",
       "    </tr>\n",
       "    <tr>\n",
       "      <th>165145</th>\n",
       "      <td>401XmlLoadDir-20180511/MVA_GO_TP2013-1000069.xml</td>\n",
       "      <td>MVA_GO_TP2013-1000069.xml</td>\n",
       "      <td>2013</td>\n",
       "      <td>1000069</td>\n",
       "      <td>3001000069</td>\n",
       "    </tr>\n",
       "    <tr>\n",
       "      <th>101111</th>\n",
       "      <td>401XmlLoadDir-20180416/MVA_GO_TP2013-1000069.xml</td>\n",
       "      <td>MVA_GO_TP2013-1000069.xml</td>\n",
       "      <td>2013</td>\n",
       "      <td>1000069</td>\n",
       "      <td>3001000069</td>\n",
       "    </tr>\n",
       "    <tr>\n",
       "      <th>...</th>\n",
       "      <td>...</td>\n",
       "      <td>...</td>\n",
       "      <td>...</td>\n",
       "      <td>...</td>\n",
       "      <td>...</td>\n",
       "    </tr>\n",
       "    <tr>\n",
       "      <th>437862</th>\n",
       "      <td>401XmlLoadDir-20210204/MVA_GO_TP2021-9746.xml</td>\n",
       "      <td>MVA_GO_TP2021-9746.xml</td>\n",
       "      <td>2021</td>\n",
       "      <td>9746</td>\n",
       "      <td>1000009746</td>\n",
       "    </tr>\n",
       "    <tr>\n",
       "      <th>442571</th>\n",
       "      <td>401XmlLoadDir-20210207/MVA_GO_TP2021-98784.xml</td>\n",
       "      <td>MVA_GO_TP2021-98784.xml</td>\n",
       "      <td>2021</td>\n",
       "      <td>98784</td>\n",
       "      <td>1000098784</td>\n",
       "    </tr>\n",
       "    <tr>\n",
       "      <th>334632</th>\n",
       "      <td>401XmlLoadDir-20210126/MVA_GO_TP2021-98784.xml</td>\n",
       "      <td>MVA_GO_TP2021-98784.xml</td>\n",
       "      <td>2021</td>\n",
       "      <td>98784</td>\n",
       "      <td>1000098784</td>\n",
       "    </tr>\n",
       "    <tr>\n",
       "      <th>437863</th>\n",
       "      <td>401XmlLoadDir-20210204/MVA_GO_TP2021-99618.xml</td>\n",
       "      <td>MVA_GO_TP2021-99618.xml</td>\n",
       "      <td>2021</td>\n",
       "      <td>99618</td>\n",
       "      <td>1000099618</td>\n",
       "    </tr>\n",
       "    <tr>\n",
       "      <th>433782</th>\n",
       "      <td>401XmlLoadDir-20210202/MVA_GO_TP2021-99618.xml</td>\n",
       "      <td>MVA_GO_TP2021-99618.xml</td>\n",
       "      <td>2021</td>\n",
       "      <td>99618</td>\n",
       "      <td>1000099618</td>\n",
       "    </tr>\n",
       "  </tbody>\n",
       "</table>\n",
       "<p>448745 rows × 5 columns</p>\n",
       "</div>"
      ],
      "text/plain": [
       "                                                fullpath  \\\n",
       "0       401XmlLoadDir-20151214/MVA_GO_TP2013-1000069.xml   \n",
       "309280  401XmlLoadDir-20190403/MVA_GO_TP2013-1000069.xml   \n",
       "242874  401XmlLoadDir-20190328/MVA_GO_TP2013-1000069.xml   \n",
       "165145  401XmlLoadDir-20180511/MVA_GO_TP2013-1000069.xml   \n",
       "101111  401XmlLoadDir-20180416/MVA_GO_TP2013-1000069.xml   \n",
       "...                                                  ...   \n",
       "437862     401XmlLoadDir-20210204/MVA_GO_TP2021-9746.xml   \n",
       "442571    401XmlLoadDir-20210207/MVA_GO_TP2021-98784.xml   \n",
       "334632    401XmlLoadDir-20210126/MVA_GO_TP2021-98784.xml   \n",
       "437863    401XmlLoadDir-20210204/MVA_GO_TP2021-99618.xml   \n",
       "433782    401XmlLoadDir-20210202/MVA_GO_TP2021-99618.xml   \n",
       "\n",
       "                         filename  accyear  go_number  acc_number  \n",
       "0       MVA_GO_TP2013-1000069.xml     2013    1000069  3001000069  \n",
       "309280  MVA_GO_TP2013-1000069.xml     2013    1000069  3001000069  \n",
       "242874  MVA_GO_TP2013-1000069.xml     2013    1000069  3001000069  \n",
       "165145  MVA_GO_TP2013-1000069.xml     2013    1000069  3001000069  \n",
       "101111  MVA_GO_TP2013-1000069.xml     2013    1000069  3001000069  \n",
       "...                           ...      ...        ...         ...  \n",
       "437862     MVA_GO_TP2021-9746.xml     2021       9746  1000009746  \n",
       "442571    MVA_GO_TP2021-98784.xml     2021      98784  1000098784  \n",
       "334632    MVA_GO_TP2021-98784.xml     2021      98784  1000098784  \n",
       "437863    MVA_GO_TP2021-99618.xml     2021      99618  1000099618  \n",
       "433782    MVA_GO_TP2021-99618.xml     2021      99618  1000099618  \n",
       "\n",
       "[448745 rows x 5 columns]"
      ]
     },
     "execution_count": 10,
     "metadata": {},
     "output_type": "execute_result"
    }
   ],
   "source": [
    "coln_xml_r.loc[coln_xml_r['acc_number'].isin(dups), :].sort_values('filename')"
   ]
  },
  {
   "cell_type": "markdown",
   "id": "d3ab088c",
   "metadata": {},
   "source": [
    "So there's plenty of cases where MVA reports are sent to us on multiple occasions."
   ]
  },
  {
   "cell_type": "code",
   "execution_count": 11,
   "id": "587b8bbb",
   "metadata": {},
   "outputs": [
    {
     "name": "stdout",
     "output_type": "stream",
     "text": [
      "Files /mnt/ldrive/AtSceneXmlBackups/401XmlLoadDir-20151214/MVA_GO_TP2013-1000069.xml and /mnt/ldrive/AtSceneXmlBackups/401XmlLoadDir-20190328/MVA_GO_TP2013-1000069.xml differ\r\n"
     ]
    }
   ],
   "source": [
    "!diff -q /mnt/ldrive/AtSceneXmlBackups/401XmlLoadDir-20151214/MVA_GO_TP2013-1000069.xml /mnt/ldrive/AtSceneXmlBackups/401XmlLoadDir-20190328/MVA_GO_TP2013-1000069.xml"
   ]
  },
  {
   "cell_type": "code",
   "execution_count": 12,
   "id": "2990b986",
   "metadata": {},
   "outputs": [],
   "source": [
    "# olddict = extract_xml_row('/mnt/ldrive/AtSceneXmlBackups/401XmlLoadDir-20151214/MVA_GO_TP2013-1000069.xml')\n",
    "# newdict = extract_xml_row('/mnt/ldrive/AtSceneXmlBackups/401XmlLoadDir-20190328/MVA_GO_TP2013-1000069.xml')\n",
    "\n",
    "# badkeys = []\n",
    "\n",
    "# for key in olddict.keys():\n",
    "#     if olddict[key] != newdict[key]:\n",
    "#         badkeys.append(key)"
   ]
  },
  {
   "cell_type": "markdown",
   "id": "dc0c64a6",
   "metadata": {},
   "source": [
    "A closer investigation into these two files (which won't be recorded here since these files contain sensitive information) shows that the differences are due to XML syntax changes, like the inclusion of `xmlns=\"\"`. This makes it generally difficult check the half-million files that may have duplicates.\n",
    "\n",
    "If we assume these files are all identical, then we can drop duplicates."
   ]
  },
  {
   "cell_type": "code",
   "execution_count": 13,
   "id": "f23b9f34",
   "metadata": {},
   "outputs": [],
   "source": [
    "coln_xml = coln_xml_r[['accyear', 'go_number', 'acc_number']].drop_duplicates()\n",
    "coln_xml.reset_index(drop=True, inplace=True)"
   ]
  },
  {
   "cell_type": "markdown",
   "id": "0c2cd795",
   "metadata": {},
   "source": [
    "**Restrict analysis to 2014-2019 only** (since we're more certain of completeness in those 6 years)."
   ]
  },
  {
   "cell_type": "code",
   "execution_count": 14,
   "id": "d2b42c2d",
   "metadata": {},
   "outputs": [],
   "source": [
    "coln_xml_20152019 = coln_xml.loc[(coln_xml['accyear'] >= 2014) & (coln_xml['accyear'] < 2020), :].copy()"
   ]
  },
  {
   "cell_type": "markdown",
   "id": "27ccb3da",
   "metadata": {},
   "source": [
    "Obtain corresponding collisions from `collisions.events`. Here we differentiate CRC, TPS and other collision sources using the ACCNB numbering scheme [as described by Jim Millington](https://github.com/CityofToronto/bdit_data-sources/pull/349#issuecomment-803133700)."
   ]
  },
  {
   "cell_type": "code",
   "execution_count": 15,
   "id": "e6882280",
   "metadata": {},
   "outputs": [],
   "source": [
    "sql_query = \"\"\"SELECT collision_no,\n",
    "       accyear,\n",
    "       accnb,\n",
    "       CASE\n",
    "         WHEN accnb >= 1000000000 THEN 'TPS'\n",
    "         WHEN accnb >= 100000000 THEN 'CRC'\n",
    "         ELSE 'DUNNO'\n",
    "       END data_source\n",
    "FROM collisions.events\n",
    "WHERE accdate BETWEEN '2014-01-01' AND '2019-12-31'\"\"\"\n",
    "\n",
    "with psycopg2.connect(**postgres_settings) as db_con:\n",
    "    df_acc = pd.read_sql(sql_query, db_con)\n",
    "    df_acc['accyear'] = df_acc['accyear'].astype(int)"
   ]
  },
  {
   "cell_type": "code",
   "execution_count": 16,
   "id": "2c420645",
   "metadata": {},
   "outputs": [
    {
     "data": {
      "text/plain": [
       "CRC      270936\n",
       "TPS       71812\n",
       "DUNNO        84\n",
       "Name: data_source, dtype: int64"
      ]
     },
     "execution_count": 16,
     "metadata": {},
     "output_type": "execute_result"
    }
   ],
   "source": [
    "df_acc['data_source'].value_counts()"
   ]
  },
  {
   "cell_type": "code",
   "execution_count": 17,
   "id": "6f61019c",
   "metadata": {},
   "outputs": [],
   "source": [
    "df_merge = pd.merge(coln_xml_20152019, df_acc, how='outer',\n",
    "                    left_on='acc_number', right_on='accnb',\n",
    "                    suffixes=('_xml', '_acc'))"
   ]
  },
  {
   "cell_type": "markdown",
   "id": "cf895f62",
   "metadata": {},
   "source": [
    "Most collisions in ACC but not in the XML folders are from the CRC, which is to be expected. 191 have 10-digit ACCNBs, though, suggesting they're from the TPS:"
   ]
  },
  {
   "cell_type": "code",
   "execution_count": 18,
   "id": "286e21c9",
   "metadata": {},
   "outputs": [
    {
     "data": {
      "text/plain": [
       "CRC      270936\n",
       "TPS         245\n",
       "DUNNO        84\n",
       "Name: data_source, dtype: int64"
      ]
     },
     "execution_count": 18,
     "metadata": {},
     "output_type": "execute_result"
    }
   ],
   "source": [
    "df_merge.loc[df_merge['accyear_xml'].isna(), 'data_source'].value_counts(dropna=False)"
   ]
  },
  {
   "cell_type": "markdown",
   "id": "ab6a68b1",
   "metadata": {},
   "source": [
    "Are there any obvious patterns to the ACCNBs and years of these TPS collisions not in the XML files?"
   ]
  },
  {
   "cell_type": "code",
   "execution_count": 19,
   "id": "77bdcf44",
   "metadata": {},
   "outputs": [
    {
     "data": {
      "text/plain": [
       "115173    4000009168\n",
       "115174    4000031625\n",
       "115175    4000047040\n",
       "115176    4000063626\n",
       "115177    4000279522\n",
       "             ...    \n",
       "352078    9002274826\n",
       "352079    9002294353\n",
       "352080    9002389784\n",
       "352081    9002403050\n",
       "352082    9002465950\n",
       "Name: accnb, Length: 245, dtype: int64"
      ]
     },
     "execution_count": 19,
     "metadata": {},
     "output_type": "execute_result"
    }
   ],
   "source": [
    "df_merge.loc[df_merge['accyear_xml'].isna() & (df_merge['data_source'] == 'TPS'), 'accnb'].astype(int)"
   ]
  },
  {
   "cell_type": "code",
   "execution_count": 20,
   "id": "5037ffc0",
   "metadata": {},
   "outputs": [
    {
     "data": {
      "text/plain": [
       "accyear_acc\n",
       "2014.0    12\n",
       "2015.0    11\n",
       "2016.0    49\n",
       "2017.0    54\n",
       "2018.0    62\n",
       "2019.0    57\n",
       "Name: accyear_acc, dtype: int64"
      ]
     },
     "execution_count": 20,
     "metadata": {},
     "output_type": "execute_result"
    }
   ],
   "source": [
    "(df_merge.loc[df_merge['accyear_xml'].isna() & (df_merge['data_source'] == 'TPS'), :]\n",
    " .groupby('accyear_acc')['accyear_acc'].count())"
   ]
  },
  {
   "cell_type": "markdown",
   "id": "d2df38fd",
   "metadata": {},
   "source": [
    "No obvious patterns here - the collisions are distributed over all 5 years. How about the `DUNNO` collisions (ones whose ACCNB number don't suggest either a CRC or TPS source)?"
   ]
  },
  {
   "cell_type": "code",
   "execution_count": 21,
   "id": "9e2e55a1",
   "metadata": {},
   "outputs": [
    {
     "data": {
      "text/plain": [
       "151269          15.0\n",
       "151270       39858.0\n",
       "151271       43490.0\n",
       "151272       45868.0\n",
       "151273      254616.0\n",
       "             ...    \n",
       "297370    19195526.0\n",
       "297371    19802929.0\n",
       "297372    19804751.0\n",
       "297373    19854768.0\n",
       "297374    98003909.0\n",
       "Name: accnb, Length: 84, dtype: float64"
      ]
     },
     "execution_count": 21,
     "metadata": {},
     "output_type": "execute_result"
    }
   ],
   "source": [
    "df_merge.loc[(df_merge['data_source'] == 'DUNNO'), 'accnb']"
   ]
  },
  {
   "cell_type": "code",
   "execution_count": 22,
   "id": "74f2f6ed",
   "metadata": {},
   "outputs": [
    {
     "data": {
      "text/plain": [
       "accyear_acc\n",
       "2016.0    24\n",
       "2017.0    16\n",
       "2018.0    12\n",
       "2019.0    32\n",
       "Name: accyear_acc, dtype: int64"
      ]
     },
     "execution_count": 22,
     "metadata": {},
     "output_type": "execute_result"
    }
   ],
   "source": [
    "(df_merge.loc[(df_merge['data_source'] == 'DUNNO'), :]\n",
    " .groupby('accyear_acc')['accyear_acc'].count())"
   ]
  },
  {
   "cell_type": "markdown",
   "id": "ecb6e513",
   "metadata": {},
   "source": [
    "That's interesting - this looks like a data ingestion problem, since the offending collisions come from only three years. Are any of these collisions in the XML files?"
   ]
  },
  {
   "cell_type": "code",
   "execution_count": 23,
   "id": "ae16767e",
   "metadata": {},
   "outputs": [],
   "source": [
    "sql_query = \"\"\"SELECT collision_no,\n",
    "       accyear,\n",
    "       accnb + 1000000000::bigint * (accyear::integer % 2010) fake_accnb\n",
    "FROM collisions.events\n",
    "WHERE accdate BETWEEN '2014-01-01' AND '2019-12-31'\n",
    "    AND accnb < 100000000\"\"\"\n",
    "\n",
    "with psycopg2.connect(**postgres_settings) as db_con:\n",
    "    df_dunno = pd.read_sql(sql_query, db_con)\n",
    "    df_dunno['accyear'] = df_dunno['accyear'].astype(int)"
   ]
  },
  {
   "cell_type": "code",
   "execution_count": 24,
   "id": "4b39850f",
   "metadata": {},
   "outputs": [
    {
     "data": {
      "text/html": [
       "<div>\n",
       "<style scoped>\n",
       "    .dataframe tbody tr th:only-of-type {\n",
       "        vertical-align: middle;\n",
       "    }\n",
       "\n",
       "    .dataframe tbody tr th {\n",
       "        vertical-align: top;\n",
       "    }\n",
       "\n",
       "    .dataframe thead th {\n",
       "        text-align: right;\n",
       "    }\n",
       "</style>\n",
       "<table border=\"1\" class=\"dataframe\">\n",
       "  <thead>\n",
       "    <tr style=\"text-align: right;\">\n",
       "      <th></th>\n",
       "      <th>accyear_xml</th>\n",
       "      <th>go_number</th>\n",
       "      <th>acc_number</th>\n",
       "      <th>collision_no</th>\n",
       "      <th>accyear_acc</th>\n",
       "      <th>fake_accnb</th>\n",
       "    </tr>\n",
       "  </thead>\n",
       "  <tbody>\n",
       "  </tbody>\n",
       "</table>\n",
       "</div>"
      ],
      "text/plain": [
       "Empty DataFrame\n",
       "Columns: [accyear_xml, go_number, acc_number, collision_no, accyear_acc, fake_accnb]\n",
       "Index: []"
      ]
     },
     "execution_count": 24,
     "metadata": {},
     "output_type": "execute_result"
    }
   ],
   "source": [
    "pd.merge(coln_xml_20152019, df_dunno, how='right',\n",
    "         left_on='acc_number', right_on='fake_accnb',\n",
    "         suffixes=('_xml', '_acc')).dropna()"
   ]
  },
  {
   "cell_type": "markdown",
   "id": "ddd5c5de",
   "metadata": {},
   "source": [
    "So none of the ACCNBs that defy the two naming schemes have obvious corresponding numbers in the XML folders."
   ]
  },
  {
   "cell_type": "markdown",
   "id": "dcd12b45",
   "metadata": {},
   "source": [
    "Meanwhile, all collisions in the XML folders are from TPS, or aren't included in ACC:"
   ]
  },
  {
   "cell_type": "code",
   "execution_count": 25,
   "id": "5696af1b",
   "metadata": {},
   "outputs": [
    {
     "data": {
      "text/plain": [
       "TPS    71567\n",
       "NaN     9251\n",
       "Name: data_source, dtype: int64"
      ]
     },
     "execution_count": 25,
     "metadata": {},
     "output_type": "execute_result"
    }
   ],
   "source": [
    "df_merge.loc[~df_merge['accyear_xml'].isna(), 'data_source'].value_counts(dropna=False)"
   ]
  },
  {
   "cell_type": "code",
   "execution_count": 26,
   "id": "e9a731d7",
   "metadata": {},
   "outputs": [],
   "source": [
    "missing_acc = df_merge.loc[(df_merge['data_source'].isna()), 'acc_number'].astype(int).values"
   ]
  },
  {
   "cell_type": "code",
   "execution_count": 27,
   "id": "591eebfe",
   "metadata": {},
   "outputs": [],
   "source": [
    "coln_missing_acc = (\n",
    "    coln_xml_r.loc[coln_xml_r['acc_number'].isin(missing_acc), :]\n",
    "    .groupby(['filename', 'accyear', 'go_number', 'acc_number'])['fullpath']\n",
    "    .min()).reset_index()"
   ]
  },
  {
   "cell_type": "code",
   "execution_count": 28,
   "id": "5b64d103",
   "metadata": {},
   "outputs": [
    {
     "name": "stdout",
     "output_type": "stream",
     "text": [
      "CPU times: user 16.9 s, sys: 42.5 s, total: 59.4 s\n",
      "Wall time: 15min 53s\n"
     ]
    }
   ],
   "source": [
    "%%time\n",
    "row_dicts = []\n",
    "for i, row in coln_missing_acc.iterrows():\n",
    "    row_dicts.append(extract_xml_row_short(rootfolder + row['fullpath']))\n",
    "\n",
    "cma_xmlinfo = pd.DataFrame(row_dicts, index=coln_missing_acc.index)"
   ]
  },
  {
   "cell_type": "code",
   "execution_count": 29,
   "id": "e886995a",
   "metadata": {},
   "outputs": [
    {
     "data": {
      "text/plain": [
       " 10    6608\n",
       " 99     992\n",
       " 4      835\n",
       " 1      413\n",
       "-1      109\n",
       " 2      108\n",
       " 3      105\n",
       " 98      44\n",
       " 8       26\n",
       " 6        7\n",
       " 7        2\n",
       " 5        1\n",
       " 9        1\n",
       "Name: accloc, dtype: int64"
      ]
     },
     "execution_count": 29,
     "metadata": {},
     "output_type": "execute_result"
    }
   ],
   "source": [
    "cma_xmlinfo['accloc'].value_counts()"
   ]
  },
  {
   "cell_type": "markdown",
   "id": "47c280b0",
   "metadata": {},
   "source": [
    "So most of these are are class 10 (parking lot), 99 (private driveway) or 4 (at/near private drive). All these can be construed as private property, so we would expect to see them in ACC_ARCHIVE (as mentioned in [Evan's spelunking findings](https://www.notion.so/bditto/CRASH-Data-Intake-Scripts-Spelunking-e2bd8895ce3d40eb9e58f24e0c0c2d76#bd6b7a2f1c664248902c41a8cfd5b3c4)). What concerns me is that, for the same timespan, thare are hundreds of class 99 and 4 collisions in ACC itself. There's also approximately 700 collisions that *should* be in ACC but aren't for some reason, since their codes are 1, 2, etc."
   ]
  },
  {
   "cell_type": "code",
   "execution_count": 30,
   "id": "1c581ecf",
   "metadata": {},
   "outputs": [
    {
     "data": {
      "text/html": [
       "<div>\n",
       "<style scoped>\n",
       "    .dataframe tbody tr th:only-of-type {\n",
       "        vertical-align: middle;\n",
       "    }\n",
       "\n",
       "    .dataframe tbody tr th {\n",
       "        vertical-align: top;\n",
       "    }\n",
       "\n",
       "    .dataframe thead th {\n",
       "        text-align: right;\n",
       "    }\n",
       "</style>\n",
       "<table border=\"1\" class=\"dataframe\">\n",
       "  <thead>\n",
       "    <tr style=\"text-align: right;\">\n",
       "      <th></th>\n",
       "      <th>location_type</th>\n",
       "      <th>accloc</th>\n",
       "      <th>n_loctype</th>\n",
       "    </tr>\n",
       "  </thead>\n",
       "  <tbody>\n",
       "    <tr>\n",
       "      <th>0</th>\n",
       "      <td>NON INTERSECTION</td>\n",
       "      <td>01</td>\n",
       "      <td>238462</td>\n",
       "    </tr>\n",
       "    <tr>\n",
       "      <th>1</th>\n",
       "      <td>INTERSECTION RELATED</td>\n",
       "      <td>02</td>\n",
       "      <td>39749</td>\n",
       "    </tr>\n",
       "    <tr>\n",
       "      <th>2</th>\n",
       "      <td>AT INTERSECTION</td>\n",
       "      <td>03</td>\n",
       "      <td>48612</td>\n",
       "    </tr>\n",
       "    <tr>\n",
       "      <th>3</th>\n",
       "      <td>AT/NEAR PRIVATE DRIVE</td>\n",
       "      <td>04</td>\n",
       "      <td>14791</td>\n",
       "    </tr>\n",
       "    <tr>\n",
       "      <th>4</th>\n",
       "      <td>AT RAILWAY CROSSING</td>\n",
       "      <td>05</td>\n",
       "      <td>113</td>\n",
       "    </tr>\n",
       "    <tr>\n",
       "      <th>5</th>\n",
       "      <td>UNDERPASS OR TUNNEL</td>\n",
       "      <td>06</td>\n",
       "      <td>88</td>\n",
       "    </tr>\n",
       "    <tr>\n",
       "      <th>6</th>\n",
       "      <td>OVERPASS OR BRIDGE</td>\n",
       "      <td>07</td>\n",
       "      <td>140</td>\n",
       "    </tr>\n",
       "    <tr>\n",
       "      <th>7</th>\n",
       "      <td>TRAIL</td>\n",
       "      <td>08</td>\n",
       "      <td>36</td>\n",
       "    </tr>\n",
       "    <tr>\n",
       "      <th>8</th>\n",
       "      <td>FROZEN LAKE OR RIVER</td>\n",
       "      <td>09</td>\n",
       "      <td>101</td>\n",
       "    </tr>\n",
       "    <tr>\n",
       "      <th>9</th>\n",
       "      <td>OTHER</td>\n",
       "      <td>97</td>\n",
       "      <td>95</td>\n",
       "    </tr>\n",
       "    <tr>\n",
       "      <th>10</th>\n",
       "      <td>LANEWAY</td>\n",
       "      <td>98</td>\n",
       "      <td>138</td>\n",
       "    </tr>\n",
       "    <tr>\n",
       "      <th>11</th>\n",
       "      <td>PRIVATE DRIVEWAY</td>\n",
       "      <td>99</td>\n",
       "      <td>160</td>\n",
       "    </tr>\n",
       "    <tr>\n",
       "      <th>12</th>\n",
       "      <td>None</td>\n",
       "      <td>None</td>\n",
       "      <td>347</td>\n",
       "    </tr>\n",
       "  </tbody>\n",
       "</table>\n",
       "</div>"
      ],
      "text/plain": [
       "            location_type accloc  n_loctype\n",
       "0        NON INTERSECTION     01     238462\n",
       "1    INTERSECTION RELATED     02      39749\n",
       "2         AT INTERSECTION     03      48612\n",
       "3   AT/NEAR PRIVATE DRIVE     04      14791\n",
       "4     AT RAILWAY CROSSING     05        113\n",
       "5     UNDERPASS OR TUNNEL     06         88\n",
       "6      OVERPASS OR BRIDGE     07        140\n",
       "7                   TRAIL     08         36\n",
       "8    FROZEN LAKE OR RIVER     09        101\n",
       "9                   OTHER     97         95\n",
       "10                LANEWAY     98        138\n",
       "11       PRIVATE DRIVEWAY     99        160\n",
       "12                   None   None        347"
      ]
     },
     "execution_count": 30,
     "metadata": {},
     "output_type": "execute_result"
    }
   ],
   "source": [
    "sql_query = \"\"\"WITH step_1 AS (\n",
    "\tSELECT location_type,\n",
    "\t       COUNT(*) n_loctype\n",
    "\tFROM collisions.events\n",
    "\tWHERE accdate BETWEEN '2014-01-01' AND '2019-12-31'\n",
    "\tGROUP BY location_type\n",
    ")\n",
    "SELECT a.location_type,\n",
    "       b.accloc,\n",
    "       a.n_loctype\n",
    "FROM step_1 a\n",
    "LEFT JOIN collision_factors.accloc b ON a.location_type = UPPER(b.description);\"\"\"\n",
    "\n",
    "with psycopg2.connect(**postgres_settings) as db_con:\n",
    "    df_accloc = pd.read_sql(sql_query, db_con)\n",
    "df_accloc"
   ]
  },
  {
   "cell_type": "code",
   "execution_count": 31,
   "id": "a33ff06b",
   "metadata": {},
   "outputs": [],
   "source": [
    "coln_missing_acc = pd.concat([coln_missing_acc, cma_xmlinfo], axis=1)"
   ]
  },
  {
   "cell_type": "code",
   "execution_count": 32,
   "id": "40420db2",
   "metadata": {},
   "outputs": [
    {
     "data": {
      "text/html": [
       "<div>\n",
       "<style scoped>\n",
       "    .dataframe tbody tr th:only-of-type {\n",
       "        vertical-align: middle;\n",
       "    }\n",
       "\n",
       "    .dataframe tbody tr th {\n",
       "        vertical-align: top;\n",
       "    }\n",
       "\n",
       "    .dataframe thead th {\n",
       "        text-align: right;\n",
       "    }\n",
       "</style>\n",
       "<table border=\"1\" class=\"dataframe\">\n",
       "  <thead>\n",
       "    <tr style=\"text-align: right;\">\n",
       "      <th></th>\n",
       "      <th>acc_number</th>\n",
       "      <th>accloc</th>\n",
       "      <th>occ_yr</th>\n",
       "    </tr>\n",
       "  </thead>\n",
       "  <tbody>\n",
       "    <tr>\n",
       "      <th>0</th>\n",
       "      <td>4001008236</td>\n",
       "      <td>3</td>\n",
       "      <td>2014</td>\n",
       "    </tr>\n",
       "    <tr>\n",
       "      <th>1</th>\n",
       "      <td>4001071106</td>\n",
       "      <td>4</td>\n",
       "      <td>2014</td>\n",
       "    </tr>\n",
       "    <tr>\n",
       "      <th>2</th>\n",
       "      <td>4001099185</td>\n",
       "      <td>1</td>\n",
       "      <td>2014</td>\n",
       "    </tr>\n",
       "    <tr>\n",
       "      <th>3</th>\n",
       "      <td>4001164130</td>\n",
       "      <td>-1</td>\n",
       "      <td>2014</td>\n",
       "    </tr>\n",
       "    <tr>\n",
       "      <th>4</th>\n",
       "      <td>4011790446</td>\n",
       "      <td>10</td>\n",
       "      <td>2014</td>\n",
       "    </tr>\n",
       "    <tr>\n",
       "      <th>...</th>\n",
       "      <td>...</td>\n",
       "      <td>...</td>\n",
       "      <td>...</td>\n",
       "    </tr>\n",
       "    <tr>\n",
       "      <th>9246</th>\n",
       "      <td>9000988877</td>\n",
       "      <td>4</td>\n",
       "      <td>2019</td>\n",
       "    </tr>\n",
       "    <tr>\n",
       "      <th>9247</th>\n",
       "      <td>9000994345</td>\n",
       "      <td>10</td>\n",
       "      <td>2019</td>\n",
       "    </tr>\n",
       "    <tr>\n",
       "      <th>9248</th>\n",
       "      <td>9000995030</td>\n",
       "      <td>10</td>\n",
       "      <td>2019</td>\n",
       "    </tr>\n",
       "    <tr>\n",
       "      <th>9249</th>\n",
       "      <td>9000996365</td>\n",
       "      <td>4</td>\n",
       "      <td>2019</td>\n",
       "    </tr>\n",
       "    <tr>\n",
       "      <th>9250</th>\n",
       "      <td>9000997591</td>\n",
       "      <td>10</td>\n",
       "      <td>2019</td>\n",
       "    </tr>\n",
       "  </tbody>\n",
       "</table>\n",
       "<p>9251 rows × 3 columns</p>\n",
       "</div>"
      ],
      "text/plain": [
       "      acc_number  accloc  occ_yr\n",
       "0     4001008236       3    2014\n",
       "1     4001071106       4    2014\n",
       "2     4001099185       1    2014\n",
       "3     4001164130      -1    2014\n",
       "4     4011790446      10    2014\n",
       "...          ...     ...     ...\n",
       "9246  9000988877       4    2019\n",
       "9247  9000994345      10    2019\n",
       "9248  9000995030      10    2019\n",
       "9249  9000996365       4    2019\n",
       "9250  9000997591      10    2019\n",
       "\n",
       "[9251 rows x 3 columns]"
      ]
     },
     "execution_count": 32,
     "metadata": {},
     "output_type": "execute_result"
    }
   ],
   "source": [
    "coln_missing_acc[['acc_number', 'accloc', 'occ_yr']]"
   ]
  },
  {
   "cell_type": "code",
   "execution_count": 33,
   "id": "7404e241",
   "metadata": {},
   "outputs": [],
   "source": [
    "df_fulldata = pd.merge(df_merge, coln_missing_acc[['acc_number', 'accloc', 'occ_yr']],\n",
    "                       how='left', left_on='acc_number', right_on='acc_number')"
   ]
  },
  {
   "cell_type": "code",
   "execution_count": 34,
   "id": "d3f0d46e",
   "metadata": {},
   "outputs": [],
   "source": [
    "assert np.all(df_fulldata.loc[~df_fulldata['occ_yr'].isna(), 'accyear_xml']\n",
    "               == df_fulldata.loc[~df_fulldata['occ_yr'].isna(), 'occ_yr']), (\n",
    "    \"XML filenames and occurrence year entries do not match!\")"
   ]
  },
  {
   "cell_type": "code",
   "execution_count": 35,
   "id": "d62be9ee",
   "metadata": {},
   "outputs": [],
   "source": [
    "# df_fulldata.to_hdf('./20210422_mva_check_temp.hdf5', 'table')\n",
    "# df = pd.read_hdf('./20210422_mva_check_temp.hdf5', 'table')\n",
    "# assert df.equals(df_fulldata)\n",
    "# df_fulldata = df"
   ]
  },
  {
   "cell_type": "markdown",
   "id": "d5263fa5",
   "metadata": {},
   "source": [
    "Generate some summary statistics:"
   ]
  },
  {
   "cell_type": "code",
   "execution_count": 36,
   "id": "eff44868",
   "metadata": {},
   "outputs": [
    {
     "data": {
      "text/html": [
       "<div>\n",
       "<style scoped>\n",
       "    .dataframe tbody tr th:only-of-type {\n",
       "        vertical-align: middle;\n",
       "    }\n",
       "\n",
       "    .dataframe tbody tr th {\n",
       "        vertical-align: top;\n",
       "    }\n",
       "\n",
       "    .dataframe thead th {\n",
       "        text-align: right;\n",
       "    }\n",
       "</style>\n",
       "<table border=\"1\" class=\"dataframe\">\n",
       "  <thead>\n",
       "    <tr style=\"text-align: right;\">\n",
       "      <th></th>\n",
       "      <th>accyear_xml</th>\n",
       "      <th>go_number</th>\n",
       "      <th>acc_number</th>\n",
       "      <th>collision_no</th>\n",
       "      <th>accyear_acc</th>\n",
       "      <th>accnb</th>\n",
       "      <th>data_source</th>\n",
       "      <th>accloc</th>\n",
       "      <th>occ_yr</th>\n",
       "    </tr>\n",
       "  </thead>\n",
       "  <tbody>\n",
       "    <tr>\n",
       "      <th>0</th>\n",
       "      <td>2014.0</td>\n",
       "      <td>1008236.0</td>\n",
       "      <td>4.001008e+09</td>\n",
       "      <td>NaN</td>\n",
       "      <td>NaN</td>\n",
       "      <td>NaN</td>\n",
       "      <td>NaN</td>\n",
       "      <td>3.0</td>\n",
       "      <td>2014.0</td>\n",
       "    </tr>\n",
       "    <tr>\n",
       "      <th>1</th>\n",
       "      <td>2014.0</td>\n",
       "      <td>1057534.0</td>\n",
       "      <td>4.001058e+09</td>\n",
       "      <td>1533295.0</td>\n",
       "      <td>2014.0</td>\n",
       "      <td>4.001058e+09</td>\n",
       "      <td>TPS</td>\n",
       "      <td>NaN</td>\n",
       "      <td>NaN</td>\n",
       "    </tr>\n",
       "    <tr>\n",
       "      <th>2</th>\n",
       "      <td>2014.0</td>\n",
       "      <td>1059448.0</td>\n",
       "      <td>4.001059e+09</td>\n",
       "      <td>1533296.0</td>\n",
       "      <td>2014.0</td>\n",
       "      <td>4.001059e+09</td>\n",
       "      <td>TPS</td>\n",
       "      <td>NaN</td>\n",
       "      <td>NaN</td>\n",
       "    </tr>\n",
       "    <tr>\n",
       "      <th>3</th>\n",
       "      <td>2014.0</td>\n",
       "      <td>10667333.0</td>\n",
       "      <td>4.010667e+09</td>\n",
       "      <td>1549947.0</td>\n",
       "      <td>2014.0</td>\n",
       "      <td>4.010667e+09</td>\n",
       "      <td>TPS</td>\n",
       "      <td>NaN</td>\n",
       "      <td>NaN</td>\n",
       "    </tr>\n",
       "    <tr>\n",
       "      <th>4</th>\n",
       "      <td>2014.0</td>\n",
       "      <td>1071106.0</td>\n",
       "      <td>4.001071e+09</td>\n",
       "      <td>NaN</td>\n",
       "      <td>NaN</td>\n",
       "      <td>NaN</td>\n",
       "      <td>NaN</td>\n",
       "      <td>4.0</td>\n",
       "      <td>2014.0</td>\n",
       "    </tr>\n",
       "  </tbody>\n",
       "</table>\n",
       "</div>"
      ],
      "text/plain": [
       "   accyear_xml   go_number    acc_number  collision_no  accyear_acc  \\\n",
       "0       2014.0   1008236.0  4.001008e+09           NaN          NaN   \n",
       "1       2014.0   1057534.0  4.001058e+09     1533295.0       2014.0   \n",
       "2       2014.0   1059448.0  4.001059e+09     1533296.0       2014.0   \n",
       "3       2014.0  10667333.0  4.010667e+09     1549947.0       2014.0   \n",
       "4       2014.0   1071106.0  4.001071e+09           NaN          NaN   \n",
       "\n",
       "          accnb data_source  accloc  occ_yr  \n",
       "0           NaN         NaN     3.0  2014.0  \n",
       "1  4.001058e+09         TPS     NaN     NaN  \n",
       "2  4.001059e+09         TPS     NaN     NaN  \n",
       "3  4.010667e+09         TPS     NaN     NaN  \n",
       "4           NaN         NaN     4.0  2014.0  "
      ]
     },
     "execution_count": 36,
     "metadata": {},
     "output_type": "execute_result"
    }
   ],
   "source": [
    "df_fulldata.head()"
   ]
  },
  {
   "cell_type": "code",
   "execution_count": 37,
   "id": "c7f5fb2f",
   "metadata": {},
   "outputs": [],
   "source": [
    "all_xml_events = (df_fulldata.loc[~df_fulldata['accyear_xml'].isna(), :]\n",
    "                  .groupby(\"accyear_xml\")['accyear_xml'].count())\n",
    "all_tps_acc_events = (df_fulldata.loc[df_fulldata['data_source'] == 'TPS', :]\n",
    "                      .groupby(\"accyear_acc\")['accnb'].count())\n",
    "xml_events_not_in_acc = (\n",
    "    df_fulldata.loc[~df_fulldata['accyear_xml'].isna()\n",
    "                    & df_fulldata['accnb'].isna(), :].groupby(\"accyear_xml\")['accyear_xml'].count())\n",
    "# df_fulldata['accnb'].isna() is unnecessary, since there are no class 10 collisions in ACC between 2014-2019.\n",
    "xml_class10_events_not_in_acc = (\n",
    "    df_fulldata.loc[~df_fulldata['accyear_xml'].isna()\n",
    "                    & df_fulldata['accnb'].isna()\n",
    "                    & (df_fulldata['accloc'] == 10.), :].groupby(\"accyear_xml\")['accyear_xml'].count())\n",
    "xml_nonclass10_events_not_in_acc = (\n",
    "    df_fulldata.loc[~df_fulldata['accyear_xml'].isna()\n",
    "                    & df_fulldata['accnb'].isna()\n",
    "                    & (df_fulldata['accloc'] != 10.), :].groupby(\"accyear_xml\")['accyear_xml'].count())\n",
    "xml_public_events_not_in_acc = (\n",
    "    df_fulldata.loc[~df_fulldata['accyear_xml'].isna()\n",
    "                    & df_fulldata['accnb'].isna()\n",
    "                    & ~df_fulldata['accloc'].isin([4., 10., 98., 99.]), :].groupby(\"accyear_xml\")['accyear_xml'].count())\n",
    "acc_tps_events_not_in_xml = (\n",
    "    df_fulldata.loc[df_fulldata['accyear_xml'].isna()\n",
    "                    & ~df_fulldata['accnb'].isna()\n",
    "                    & (df_fulldata['data_source'] == 'TPS'), :].groupby(\"accyear_acc\")['accnb'].count())\n",
    "acc_dunno_events_not_in_xml = (\n",
    "    df_fulldata.loc[df_fulldata['accyear_xml'].isna()\n",
    "                    & ~df_fulldata['accnb'].isna()\n",
    "                    & (df_fulldata['data_source'] == 'DUNNO'), :].groupby(\"accyear_acc\")['accnb'].count())"
   ]
  },
  {
   "cell_type": "code",
   "execution_count": 38,
   "id": "deee448c",
   "metadata": {},
   "outputs": [
    {
     "data": {
      "text/html": [
       "<div>\n",
       "<style scoped>\n",
       "    .dataframe tbody tr th:only-of-type {\n",
       "        vertical-align: middle;\n",
       "    }\n",
       "\n",
       "    .dataframe tbody tr th {\n",
       "        vertical-align: top;\n",
       "    }\n",
       "\n",
       "    .dataframe thead th {\n",
       "        text-align: right;\n",
       "    }\n",
       "</style>\n",
       "<table border=\"1\" class=\"dataframe\">\n",
       "  <thead>\n",
       "    <tr style=\"text-align: right;\">\n",
       "      <th></th>\n",
       "      <th>all_xml</th>\n",
       "      <th>all_tps_acc</th>\n",
       "      <th>xml_not_in_acc</th>\n",
       "      <th>xml_class10_not_in_acc</th>\n",
       "      <th>xml_nonclass10_not_in_acc</th>\n",
       "      <th>xml_public_not_in_acc</th>\n",
       "      <th>acc_tps_not_in_xml</th>\n",
       "      <th>acc_dunno_not_in_xml</th>\n",
       "    </tr>\n",
       "  </thead>\n",
       "  <tbody>\n",
       "    <tr>\n",
       "      <th>2014.0</th>\n",
       "      <td>18539</td>\n",
       "      <td>16729</td>\n",
       "      <td>1836</td>\n",
       "      <td>1341</td>\n",
       "      <td>495</td>\n",
       "      <td>185</td>\n",
       "      <td>12</td>\n",
       "      <td>0.0</td>\n",
       "    </tr>\n",
       "    <tr>\n",
       "      <th>2015.0</th>\n",
       "      <td>16559</td>\n",
       "      <td>14806</td>\n",
       "      <td>1761</td>\n",
       "      <td>1302</td>\n",
       "      <td>459</td>\n",
       "      <td>112</td>\n",
       "      <td>11</td>\n",
       "      <td>0.0</td>\n",
       "    </tr>\n",
       "    <tr>\n",
       "      <th>2016.0</th>\n",
       "      <td>13061</td>\n",
       "      <td>11507</td>\n",
       "      <td>1595</td>\n",
       "      <td>1112</td>\n",
       "      <td>483</td>\n",
       "      <td>129</td>\n",
       "      <td>49</td>\n",
       "      <td>24.0</td>\n",
       "    </tr>\n",
       "    <tr>\n",
       "      <th>2017.0</th>\n",
       "      <td>11342</td>\n",
       "      <td>9923</td>\n",
       "      <td>1472</td>\n",
       "      <td>1012</td>\n",
       "      <td>460</td>\n",
       "      <td>122</td>\n",
       "      <td>54</td>\n",
       "      <td>16.0</td>\n",
       "    </tr>\n",
       "    <tr>\n",
       "      <th>2018.0</th>\n",
       "      <td>10956</td>\n",
       "      <td>9693</td>\n",
       "      <td>1326</td>\n",
       "      <td>973</td>\n",
       "      <td>353</td>\n",
       "      <td>91</td>\n",
       "      <td>62</td>\n",
       "      <td>12.0</td>\n",
       "    </tr>\n",
       "    <tr>\n",
       "      <th>2019.0</th>\n",
       "      <td>10361</td>\n",
       "      <td>9154</td>\n",
       "      <td>1261</td>\n",
       "      <td>868</td>\n",
       "      <td>393</td>\n",
       "      <td>133</td>\n",
       "      <td>57</td>\n",
       "      <td>32.0</td>\n",
       "    </tr>\n",
       "  </tbody>\n",
       "</table>\n",
       "</div>"
      ],
      "text/plain": [
       "        all_xml  all_tps_acc  xml_not_in_acc  xml_class10_not_in_acc  \\\n",
       "2014.0    18539        16729            1836                    1341   \n",
       "2015.0    16559        14806            1761                    1302   \n",
       "2016.0    13061        11507            1595                    1112   \n",
       "2017.0    11342         9923            1472                    1012   \n",
       "2018.0    10956         9693            1326                     973   \n",
       "2019.0    10361         9154            1261                     868   \n",
       "\n",
       "        xml_nonclass10_not_in_acc  xml_public_not_in_acc  acc_tps_not_in_xml  \\\n",
       "2014.0                        495                    185                  12   \n",
       "2015.0                        459                    112                  11   \n",
       "2016.0                        483                    129                  49   \n",
       "2017.0                        460                    122                  54   \n",
       "2018.0                        353                     91                  62   \n",
       "2019.0                        393                    133                  57   \n",
       "\n",
       "        acc_dunno_not_in_xml  \n",
       "2014.0                   0.0  \n",
       "2015.0                   0.0  \n",
       "2016.0                  24.0  \n",
       "2017.0                  16.0  \n",
       "2018.0                  12.0  \n",
       "2019.0                  32.0  "
      ]
     },
     "execution_count": 38,
     "metadata": {},
     "output_type": "execute_result"
    }
   ],
   "source": [
    "df_summary = pd.concat([all_xml_events,\n",
    "                        all_tps_acc_events,\n",
    "                        xml_events_not_in_acc,\n",
    "                        xml_class10_events_not_in_acc,\n",
    "                        xml_nonclass10_events_not_in_acc,\n",
    "                        xml_public_events_not_in_acc,\n",
    "                        acc_tps_events_not_in_xml,\n",
    "                        acc_dunno_events_not_in_xml], axis=1).fillna(0.)\n",
    "\n",
    "df_summary.columns = [\n",
    "    'all_xml',\n",
    "    'all_tps_acc',\n",
    "    'xml_not_in_acc',\n",
    "    'xml_class10_not_in_acc',\n",
    "    'xml_nonclass10_not_in_acc',\n",
    "    'xml_public_not_in_acc',\n",
    "    'acc_tps_not_in_xml',\n",
    "    'acc_dunno_not_in_xml'\n",
    "]\n",
    "\n",
    "df_summary"
   ]
  },
  {
   "cell_type": "markdown",
   "id": "3e882486",
   "metadata": {},
   "source": [
    "Observations (all for 2014-2019 inclusive):\n",
    "- There are 80818 event reports (assuming that two files with the same filename found in different XML folders are different updates to the same collision event) in the XML folders.\n",
    "- There are 71812 events in ACC with 10-digit ACCNBs (which indicates they're derived from TPS MVAs). This leaves 9251 events in the XML folders but not in ACC.\n",
    "- Of these 9251, 6608 have `ACCLOC = 10`, while the others do not. According to [Evan's documentation](https://www.notion.so/bditto/CRASH-Data-Intake-Scripts-Spelunking-e2bd8895ce3d40eb9e58f24e0c0c2d76#bd6b7a2f1c664248902c41a8cfd5b3c4) only those with `ACCLOC = 10` are moved to the `ACC_ARCHIVE` table. However, the `collision_factors.accloc` table suggests that class 4, 98 and 99 could potentially also be on private property. If we remove these, there are still 772 collisions that should be in `ACC` rather than `ACC_ARCHIVE`. Jesse mentions this can come from several sources:\n",
    "  - Some collisions could be outside the bounds of Toronto.\n",
    "  - GO numbers are created from 911 calls, and if TPS doesn't fully consolidate all these calls there could be duplicate records for the same collision.\n",
    "- There are 245 collisions that appear to be from the TPS but aren't in the XML folders.\n",
    "- There are 84 collisions that don't follow the ACCNB naming conventions and don't correspond to any file in the XML folders. These only start appearing in 2016.\n",
    "  - Either of the last two could be due to additional records manually created by the mail clerks to support KSI collisions that have yet to be transferred from TPS's database."
   ]
  }
 ],
 "metadata": {
  "kernelspec": {
   "display_name": "Python 3.6.9 64-bit ('bditto': venv)",
   "language": "python",
   "name": "python36964bitbdittovenvd56842b7ca0c4929925d70f8c4c7f13a"
  },
  "language_info": {
   "codemirror_mode": {
    "name": "ipython",
    "version": 3
   },
   "file_extension": ".py",
   "mimetype": "text/x-python",
   "name": "python",
   "nbconvert_exporter": "python",
   "pygments_lexer": "ipython3",
   "version": "3.6.9"
  }
 },
 "nbformat": 4,
 "nbformat_minor": 5
}
