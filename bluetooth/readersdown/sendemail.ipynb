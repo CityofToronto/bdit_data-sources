{
 "cells": [
  {
   "cell_type": "markdown",
   "metadata": {},
   "source": [
    "Tentative script to send emails. Currently non-functional. "
   ]
  },
  {
   "cell_type": "code",
   "execution_count": null,
   "metadata": {
    "collapsed": true
   },
   "outputs": [],
   "source": [
    "import smtplib\n",
    "\n",
    "TO = 'andrew.louis@toronto.ca'\n",
    "SUBJECT = 'TEST MAIL'\n",
    "TEXT = 'Here is a message from python.'\n",
    "\n",
    "# Gmail Sign In\n",
    "gmail_sender = ''\n",
    "gmail_passwd = ''\n",
    "\n",
    "server = smtplib.SMTP('64.233.184.108')\n",
    "server = smtplib.SMTP(host='smtp.gmail.com', port=587)\n",
    "server.ehlo()\n",
    "server.starttls()\n",
    "server.login(gmail_sender, gmail_passwd)\n",
    "\n",
    "BODY = '\\r\\n'.join(['To: %s' % TO,\n",
    "                    'From: %s' % gmail_sender,\n",
    "                    'Subject: %s' % SUBJECT,\n",
    "                    '', TEXT])\n",
    "\n",
    "try:\n",
    "    server.sendmail(gmail_sender, [TO], BODY)\n",
    "    print ('email sent')\n",
    "except:\n",
    "    print ('error sending mail')\n",
    "\n",
    "server.quit()"
   ]
  }
 ],
 "metadata": {
  "kernelspec": {
   "display_name": "Python 3",
   "language": "python",
   "name": "python3"
  },
  "language_info": {
   "codemirror_mode": {
    "name": "ipython",
    "version": 3
   },
   "file_extension": ".py",
   "mimetype": "text/x-python",
   "name": "python",
   "nbconvert_exporter": "python",
   "pygments_lexer": "ipython3",
   "version": "3.6.3"
  }
 },
 "nbformat": 4,
 "nbformat_minor": 2
}
