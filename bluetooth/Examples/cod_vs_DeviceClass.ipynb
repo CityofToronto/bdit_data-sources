{
 "cells": [
  {
   "cell_type": "markdown",
   "metadata": {},
   "source": [
    "# Exploring relationship between cod & DeviceClass\n",
    "Per [our documentation](https://github.com/CityofToronto/bdit_data-sources/blob/master/bluetooth/README.md#2-table-structure-aakash), the `device_class` field is configured to be a combination of different bit flags depending on the report configuration. Some of these reports are supposed to align with the `cod` field, which represents the Bluetooth Class of Device, in order to identify what is a Bluetooth Device or a WiFi one."
   ]
  },
  {
   "cell_type": "code",
   "execution_count": 1,
   "metadata": {
    "collapsed": true
   },
   "outputs": [],
   "source": [
    "from psycopg2 import connect\n",
    "import psycopg2.sql as pg\n",
    "import configparser\n",
    "import datetime\n",
    "%matplotlib inline\n",
    "import numpy as np\n",
    "import pandas as pd\n",
    "import pandas.io.sql as pandasql\n",
    "import matplotlib.pyplot as plt\n",
    "import matplotlib as mpl\n",
    "import seaborn as sns\n",
    "sns.set(color_codes=True)\n",
    "from IPython.display import HTML\n",
    "def print_table(sql, con):\n",
    "    return HTML(pandasql.read_sql(sql, con).to_html(index=False))"
   ]
  },
  {
   "cell_type": "code",
   "execution_count": 2,
   "metadata": {
    "collapsed": true
   },
   "outputs": [],
   "source": [
    "CONFIG = configparser.ConfigParser()\n",
    "CONFIG.read('../../db.cfg')\n",
    "dbset = CONFIG['DBSETTINGS']\n",
    "con = connect(**dbset)"
   ]
  },
  {
   "cell_type": "markdown",
   "metadata": {},
   "source": [
    "From the `bluetooth.all_analyses` table we can see which set of device classes is used for which routes. \"BT or WiFi\" is used for arterials, including the DT set of routes. 1 is Bluetooth, 2 is WiFi. This is how observations are distributed between the two classes in November 2017 for all those reports"
   ]
  },
  {
   "cell_type": "code",
   "execution_count": 5,
   "metadata": {
    "collapsed": false
   },
   "outputs": [
    {
     "data": {
      "text/html": [
       "<div>\n",
       "<table border=\"1\" class=\"dataframe\">\n",
       "  <thead>\n",
       "    <tr style=\"text-align: right;\">\n",
       "      <th></th>\n",
       "      <th>device_class</th>\n",
       "      <th>count</th>\n",
       "    </tr>\n",
       "  </thead>\n",
       "  <tbody>\n",
       "    <tr>\n",
       "      <th>0</th>\n",
       "      <td>2</td>\n",
       "      <td>13805703</td>\n",
       "    </tr>\n",
       "    <tr>\n",
       "      <th>1</th>\n",
       "      <td>1</td>\n",
       "      <td>5426366</td>\n",
       "    </tr>\n",
       "  </tbody>\n",
       "</table>\n",
       "</div>"
      ],
      "text/plain": [
       "   device_class     count\n",
       "0             2  13805703\n",
       "1             1   5426366"
      ]
     },
     "execution_count": 5,
     "metadata": {},
     "output_type": "execute_result"
    }
   ],
   "source": [
    "sql = '''SELECT device_class, COUNT(1)\n",
    "FROM bluetooth.observations_201711\n",
    "INNER JOIN bluetooth.all_analyses USING (analysis_id)\n",
    "WHERE device_class_set_name = 'BT or WiFi' \n",
    "GROUP BY device_class\n",
    "order by count DESC'''\n",
    "\n",
    "print_table(sql, con)"
   ]
  },
  {
   "cell_type": "markdown",
   "metadata": {},
   "source": [
    "So about **39%** of these observations are from Bluetooth devices, which is in line with previous analysis showing **>60% WiFi** devices on Adelaide. \n",
    "How well do these match up with the class of device reported by Bluetooth devices (I know this is confusing)"
   ]
  },
  {
   "cell_type": "code",
   "execution_count": 10,
   "metadata": {
    "collapsed": false
   },
   "outputs": [
    {
     "data": {
      "text/html": [
       "<table border=\"1\" class=\"dataframe\">\n",
       "  <thead>\n",
       "    <tr style=\"text-align: right;\">\n",
       "      <th>device_class</th>\n",
       "      <th>cod_val</th>\n",
       "      <th>count</th>\n",
       "      <th>Percent of observations</th>\n",
       "    </tr>\n",
       "  </thead>\n",
       "  <tbody>\n",
       "    <tr>\n",
       "      <td>2</td>\n",
       "      <td>WiFi</td>\n",
       "      <td>13805505</td>\n",
       "      <td>71.8%</td>\n",
       "    </tr>\n",
       "    <tr>\n",
       "      <td>1</td>\n",
       "      <td>Bluetooth</td>\n",
       "      <td>5233311</td>\n",
       "      <td>27.2%</td>\n",
       "    </tr>\n",
       "    <tr>\n",
       "      <td>1</td>\n",
       "      <td>WiFi</td>\n",
       "      <td>193055</td>\n",
       "      <td>1.0%</td>\n",
       "    </tr>\n",
       "    <tr>\n",
       "      <td>2</td>\n",
       "      <td>Bluetooth</td>\n",
       "      <td>198</td>\n",
       "      <td>.0%</td>\n",
       "    </tr>\n",
       "  </tbody>\n",
       "</table>"
      ],
      "text/plain": [
       "<IPython.core.display.HTML object>"
      ]
     },
     "execution_count": 10,
     "metadata": {},
     "output_type": "execute_result"
    }
   ],
   "source": [
    "sql = '''WITH total_cnt AS (SELECT COUNT(1) AS total \n",
    "FROM bluetooth.observations_201711\n",
    "INNER JOIN bluetooth.all_analyses USING (analysis_id)\n",
    "WHERE device_class_set_name = 'BT or WiFi' )\n",
    "\n",
    "SELECT device_class, CASE WHEN cod = 0 THEN 'WiFi' ELSE 'Bluetooth' END AS cod_val, COUNT(1),\n",
    "to_char(100.0*COUNT(1)/total, '99.9%') AS \"Percent of observations\"\n",
    "FROM bluetooth.observations_201711\n",
    "INNER JOIN bluetooth.all_analyses USING (analysis_id)\n",
    "CROSS JOIN total_cnt\n",
    "WHERE device_class_set_name = 'BT or WiFi' \n",
    "-- AND cod = 5898764\n",
    "GROUP BY device_class, cod_val, total\n",
    "order by count DESC'''\n",
    "print_table(sql, con)"
   ]
  },
  {
   "cell_type": "markdown",
   "metadata": {},
   "source": [
    "Approximately **1.0%** of all observations on these routes are being misclassified by this filter, or approximately **3%** of observations identified as \"Bluetooth\" by this filter report no cod."
   ]
  },
  {
   "cell_type": "markdown",
   "metadata": {},
   "source": [
    "## Highways\n",
    "Highways mostly have the \"TrafficFlow\" deviceclassset, this is what the bit mapping for that looks like"
   ]
  },
  {
   "cell_type": "code",
   "execution_count": 11,
   "metadata": {
    "collapsed": false
   },
   "outputs": [
    {
     "data": {
      "text/html": [
       "<table border=\"1\" class=\"dataframe\">\n",
       "  <thead>\n",
       "    <tr style=\"text-align: right;\">\n",
       "      <th>deviceClassMask</th>\n",
       "      <th>id</th>\n",
       "      <th>name</th>\n",
       "    </tr>\n",
       "  </thead>\n",
       "  <tbody>\n",
       "    <tr>\n",
       "      <td>16</td>\n",
       "      <td>1390209</td>\n",
       "      <td>BT</td>\n",
       "    </tr>\n",
       "    <tr>\n",
       "      <td>64</td>\n",
       "      <td>1390208</td>\n",
       "      <td>Both</td>\n",
       "    </tr>\n",
       "    <tr>\n",
       "      <td>32</td>\n",
       "      <td>1390210</td>\n",
       "      <td>WiFi</td>\n",
       "    </tr>\n",
       "  </tbody>\n",
       "</table>"
      ],
      "text/plain": [
       "<IPython.core.display.HTML object>"
      ]
     },
     "execution_count": 11,
     "metadata": {},
     "output_type": "execute_result"
    }
   ],
   "source": [
    "sql = '''SELECT x.* FROM bluetooth.all_analyses, json_to_recordset(bluetooth.all_analyses.outcomes) AS x(\"deviceClassMask\" int, id int, name TEXT) \n",
    "WHERE analysis_id = 1390125\n",
    "'''\n",
    "\n",
    "print_table(sql, con)"
   ]
  },
  {
   "cell_type": "markdown",
   "metadata": {},
   "source": [
    "But! This is what those look like in the `observations` table."
   ]
  },
  {
   "cell_type": "code",
   "execution_count": 13,
   "metadata": {
    "collapsed": false
   },
   "outputs": [
    {
     "data": {
      "text/html": [
       "<table border=\"1\" class=\"dataframe\">\n",
       "  <thead>\n",
       "    <tr style=\"text-align: right;\">\n",
       "      <th>device_class</th>\n",
       "      <th>cod_val</th>\n",
       "      <th>count</th>\n",
       "    </tr>\n",
       "  </thead>\n",
       "  <tbody>\n",
       "    <tr>\n",
       "      <td>96</td>\n",
       "      <td>WiFi</td>\n",
       "      <td>1111481</td>\n",
       "    </tr>\n",
       "    <tr>\n",
       "      <td>80</td>\n",
       "      <td>Bluetooth</td>\n",
       "      <td>906246</td>\n",
       "    </tr>\n",
       "    <tr>\n",
       "      <td>98</td>\n",
       "      <td>WiFi</td>\n",
       "      <td>137354</td>\n",
       "    </tr>\n",
       "    <tr>\n",
       "      <td>103</td>\n",
       "      <td>WiFi</td>\n",
       "      <td>103757</td>\n",
       "    </tr>\n",
       "    <tr>\n",
       "      <td>82</td>\n",
       "      <td>Bluetooth</td>\n",
       "      <td>61339</td>\n",
       "    </tr>\n",
       "    <tr>\n",
       "      <td>87</td>\n",
       "      <td>Bluetooth</td>\n",
       "      <td>35813</td>\n",
       "    </tr>\n",
       "    <tr>\n",
       "      <td>97</td>\n",
       "      <td>WiFi</td>\n",
       "      <td>22655</td>\n",
       "    </tr>\n",
       "    <tr>\n",
       "      <td>80</td>\n",
       "      <td>WiFi</td>\n",
       "      <td>18835</td>\n",
       "    </tr>\n",
       "    <tr>\n",
       "      <td>81</td>\n",
       "      <td>Bluetooth</td>\n",
       "      <td>6932</td>\n",
       "    </tr>\n",
       "    <tr>\n",
       "      <td>82</td>\n",
       "      <td>WiFi</td>\n",
       "      <td>1194</td>\n",
       "    </tr>\n",
       "    <tr>\n",
       "      <td>87</td>\n",
       "      <td>WiFi</td>\n",
       "      <td>547</td>\n",
       "    </tr>\n",
       "    <tr>\n",
       "      <td>96</td>\n",
       "      <td>Bluetooth</td>\n",
       "      <td>503</td>\n",
       "    </tr>\n",
       "    <tr>\n",
       "      <td>81</td>\n",
       "      <td>WiFi</td>\n",
       "      <td>126</td>\n",
       "    </tr>\n",
       "    <tr>\n",
       "      <td>98</td>\n",
       "      <td>Bluetooth</td>\n",
       "      <td>46</td>\n",
       "    </tr>\n",
       "    <tr>\n",
       "      <td>103</td>\n",
       "      <td>Bluetooth</td>\n",
       "      <td>45</td>\n",
       "    </tr>\n",
       "    <tr>\n",
       "      <td>97</td>\n",
       "      <td>Bluetooth</td>\n",
       "      <td>17</td>\n",
       "    </tr>\n",
       "  </tbody>\n",
       "</table>"
      ],
      "text/plain": [
       "<IPython.core.display.HTML object>"
      ]
     },
     "execution_count": 13,
     "metadata": {},
     "output_type": "execute_result"
    }
   ],
   "source": [
    "sql= '''SELECT device_class, CASE WHEN cod = 0 THEN 'WiFi' ELSE 'Bluetooth' END AS cod_val, COUNT(1)\n",
    "FROM bluetooth.observations_201710\n",
    "INNER JOIN bluetooth.all_analyses USING (analysis_id)\n",
    "WHERE device_class_set_name = 'TrafficFlow' AND analysis_id!=1388022\n",
    "GROUP BY device_class, cod_val \n",
    "ORDER BY count DESC\n",
    "'''\n",
    "\n",
    "print_table(sql, con)"
   ]
  },
  {
   "cell_type": "markdown",
   "metadata": {},
   "source": [
    "The top two values of 96 and 80 are sums of 64 and 32 and 16 respectively, so the `Both` bit is being set regardless of whether the device is Bluetooth of WiFI.\n",
    "We can also see that there's some crossover, like in the Arterial example above, {80, WiFi}, and {96, Bluetooth} make a _very minor_ appearance"
   ]
  },
  {
   "cell_type": "code",
   "execution_count": null,
   "metadata": {
    "collapsed": true
   },
   "outputs": [],
   "source": []
  }
 ],
 "metadata": {
  "anaconda-cloud": {},
  "kernelspec": {
   "display_name": "Python [Root]",
   "language": "python",
   "name": "Python [Root]"
  },
  "language_info": {
   "codemirror_mode": {
    "name": "ipython",
    "version": 3
   },
   "file_extension": ".py",
   "mimetype": "text/x-python",
   "name": "python",
   "nbconvert_exporter": "python",
   "pygments_lexer": "ipython3",
   "version": "3.5.2"
  }
 },
 "nbformat": 4,
 "nbformat_minor": 0
}
