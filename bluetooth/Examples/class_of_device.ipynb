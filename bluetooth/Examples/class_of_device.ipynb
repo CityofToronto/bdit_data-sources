{
 "cells": [
  {
   "cell_type": "markdown",
   "metadata": {},
   "source": [
    "# Exploring Class of Device\n",
    "This notebook explores the class of device property of Bluetooth devices to try to isolate purely automobile observations relative to other modes (bike, ped, transit)."
   ]
  },
  {
   "cell_type": "code",
   "execution_count": 19,
   "metadata": {
    "collapsed": true
   },
   "outputs": [],
   "source": [
    "from psycopg2 import connect\n",
    "import psycopg2.sql as pg\n",
    "import configparser\n",
    "%matplotlib inline\n",
    "import numpy as np\n",
    "import pandas as pd\n",
    "import pandas.io.sql as pandasql\n",
    "import matplotlib.pyplot as plt\n",
    "import matplotlib as mpl\n",
    "import seaborn as sns\n",
    "sns.set(color_codes=True)\n",
    "from IPython.display import HTML\n",
    "def print_table(sql, con):\n",
    "    return HTML(pandasql.read_sql(sql, con).to_html(index=False))"
   ]
  },
  {
   "cell_type": "code",
   "execution_count": 8,
   "metadata": {
    "collapsed": false
   },
   "outputs": [],
   "source": [
    "CONFIG = configparser.ConfigParser()\n",
    "CONFIG.read('../../db.cfg')\n",
    "dbset = CONFIG['DBSETTINGS']\n",
    "con = connect(**dbset)"
   ]
  },
  {
   "cell_type": "code",
   "execution_count": 18,
   "metadata": {
    "collapsed": false
   },
   "outputs": [
    {
     "data": {
      "text/html": [
       "<table border=\"1\" class=\"dataframe\">\n",
       "  <thead>\n",
       "    <tr style=\"text-align: right;\">\n",
       "      <th>cod</th>\n",
       "      <th>device_type</th>\n",
       "      <th>Number of observations</th>\n",
       "      <th>Proportion of Observations</th>\n",
       "    </tr>\n",
       "  </thead>\n",
       "  <tbody>\n",
       "    <tr>\n",
       "      <td>0</td>\n",
       "      <td>none</td>\n",
       "      <td>105,355,516</td>\n",
       "      <td>43.4%</td>\n",
       "    </tr>\n",
       "    <tr>\n",
       "      <td>7995916</td>\n",
       "      <td>Smart phone</td>\n",
       "      <td>45,302,122</td>\n",
       "      <td>18.7%</td>\n",
       "    </tr>\n",
       "    <tr>\n",
       "      <td>2098184</td>\n",
       "      <td>Hands-free Device</td>\n",
       "      <td>31,757,060</td>\n",
       "      <td>13.1%</td>\n",
       "    </tr>\n",
       "    <tr>\n",
       "      <td>3408904</td>\n",
       "      <td>Hands-free Device</td>\n",
       "      <td>14,333,013</td>\n",
       "      <td>5.9%</td>\n",
       "    </tr>\n",
       "    <tr>\n",
       "      <td>3146760</td>\n",
       "      <td>Hands-free Device</td>\n",
       "      <td>7,517,161</td>\n",
       "      <td>3.1%</td>\n",
       "    </tr>\n",
       "    <tr>\n",
       "      <td>5898756</td>\n",
       "      <td>Cellular</td>\n",
       "      <td>7,463,677</td>\n",
       "      <td>3.1%</td>\n",
       "    </tr>\n",
       "    <tr>\n",
       "      <td>5898764</td>\n",
       "      <td>Smart phone</td>\n",
       "      <td>6,599,647</td>\n",
       "      <td>2.7%</td>\n",
       "    </tr>\n",
       "    <tr>\n",
       "      <td>5767684</td>\n",
       "      <td>Cellular</td>\n",
       "      <td>3,734,775</td>\n",
       "      <td>1.5%</td>\n",
       "    </tr>\n",
       "    <tr>\n",
       "      <td>2360324</td>\n",
       "      <td>Wearable Headset Device</td>\n",
       "      <td>3,324,702</td>\n",
       "      <td>1.4%</td>\n",
       "    </tr>\n",
       "    <tr>\n",
       "      <td>2360328</td>\n",
       "      <td>Hands-free Device</td>\n",
       "      <td>1,842,918</td>\n",
       "      <td>.8%</td>\n",
       "    </tr>\n",
       "  </tbody>\n",
       "</table>"
      ],
      "text/plain": [
       "<IPython.core.display.HTML object>"
      ]
     },
     "execution_count": 18,
     "metadata": {},
     "output_type": "execute_result"
    }
   ],
   "source": [
    "sql = '''WITH total_cnt AS (SELECT sum(count) AS sum_total FROM rdumas.bt_cod_counts)\n",
    "\n",
    "SELECT cod, device_type, to_char(sum(count), '999,999,999') AS \"Number of observations\",\n",
    "to_char(100.0*sum(count)/sum_total, '99.9')||'%' AS \"Proportion of Observations\"\n",
    "FROM rdumas.bt_cod_counts\n",
    "INNER JOIN bluetooth.class_of_device USING (cod)\n",
    "CROSS JOIN total_cnt\n",
    "GROUP BY cod, device_type, sum_total\n",
    "ORDER BY sum(count) DESC\n",
    "LIMIT 10'''\n",
    "print_table(sql, con)"
   ]
  },
  {
   "cell_type": "markdown",
   "metadata": {},
   "source": [
    "`cod == 0` are WiFi devices. We're not entirely sure what they are, but I suspect strongly that they are smart phones with WiFi. [Because Bluetooth and WiFi addresses are different](https://stackoverflow.com/a/32732558/4047679) there's no way of knowing these are the same device (though an examination of timestamps and speeds could probably reveal this). So there may very likely be double-counting of smartphones that have Bluetooth and WiFi enabled."
   ]
  },
  {
   "cell_type": "markdown",
   "metadata": {},
   "source": [
    "Comparing the distribution of device types from the DVP and Adelaide"
   ]
  },
  {
   "cell_type": "code",
   "execution_count": 42,
   "metadata": {
    "collapsed": false
   },
   "outputs": [],
   "source": [
    "sql = pg.SQL('''\n",
    "WITH total_cnt AS (\n",
    "    SELECT start_road, sum(count) AS sum_total FROM rdumas.bt_cod_counts \n",
    "    INNER JOIN bluetooth.ref_segments USING (analysis_id)\n",
    "    WHERE ARRAY[start_road::TEXT] <@ {road_names}\n",
    "    GROUP BY start_road\n",
    ") \n",
    "SELECT start_road AS \"Route\", device_type, 100.0*SUM(count)/sum_total AS \"Proportion of Observations\"\n",
    "FROM rdumas.bt_cod_counts\n",
    "INNER JOIN bluetooth.class_of_device USING (cod)\n",
    "INNER JOIN bluetooth.ref_segments USING (analysis_id)\n",
    "INNER JOIN total_cnt USING (start_road)\n",
    "GROUP BY  \"Route\", device_type, sum_total\n",
    "ORDER BY 100.0*SUM(count)/sum_total DESC\n",
    "LIMIT 10''')\n",
    "\n",
    "dvp_adelaide = pandasql.read_sql(sql.format(road_names = pg.Literal(['DVP','Adelaide'])), con)\n"
   ]
  },
  {
   "cell_type": "code",
   "execution_count": 44,
   "metadata": {
    "collapsed": false
   },
   "outputs": [
    {
     "data": {
      "text/plain": [
       "<matplotlib.text.Text at 0xbd59208>"
      ]
     },
     "execution_count": 44,
     "metadata": {},
     "output_type": "execute_result"
    },
    {
     "data": {
      "image/png": "[encoded data removed]",
      "text/plain": [
       "<matplotlib.figure.Figure at 0xbe0dc50>"
      ]
     },
     "metadata": {},
     "output_type": "display_data"
    }
   ],
   "source": [
    "ax = sns.barplot(x='device_type', y=\"Proportion of Observations\", hue='Route', data=dvp_adelaide)\n",
    "ax.set_ylabel('Proportion of Observations')"
   ]
  },
  {
   "cell_type": "markdown",
   "metadata": {},
   "source": [
    "The chart above shows a much greater proportion of WIFI devices on Adelaide --a major arterial with a protected bike-lane-- than on the DVP --a major expressway--. We can infer then that people travelling in non-car modes are more likely to have  WIFI devices enabled than a smart phone or cell phone with Bluetooth enabled. "
   ]
  },
  {
   "cell_type": "code",
   "execution_count": null,
   "metadata": {
    "collapsed": true
   },
   "outputs": [],
   "source": []
  }
 ],
 "metadata": {
  "kernelspec": {
   "display_name": "Python [Root]",
   "language": "python",
   "name": "Python [Root]"
  },
  "language_info": {
   "codemirror_mode": {
    "name": "ipython",
    "version": 3
   },
   "file_extension": ".py",
   "mimetype": "text/x-python",
   "name": "python",
   "nbconvert_exporter": "python",
   "pygments_lexer": "ipython3",
   "version": "3.5.2"
  }
 },
 "nbformat": 4,
 "nbformat_minor": 0
}
