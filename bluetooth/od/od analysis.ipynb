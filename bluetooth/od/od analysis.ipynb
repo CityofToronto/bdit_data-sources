{
 "cells": [
  {
   "cell_type": "markdown",
   "metadata": {},
   "source": [
    "# Comparative Analysis of BT Segment and OD Data\n",
    "***\n",
    "<br>\n",
    "We wish to conduct a commparitive analysis of OD Data and Bluetooth Segment data. \n",
    "\n",
    "<br>\n",
    "## *Objectives*:\n",
    "\n",
    "<br>\n",
    "* **Discover which dataset is more comprehensive**\n",
    "\n",
    "<br>\n",
    "* **Investigate the discrepancies between the dataset**\n",
    "\n",
    "\n",
    "\n",
    "\n",
    "\n"
   ]
  },
  {
   "cell_type": "markdown",
   "metadata": {},
   "source": [
    "## First Steps\n",
    "***\n",
    "We grab the necessary data. We will be working with Bluetooth Segment Data from January 1st, and Origin Destination Data from the same date. \n",
    "\n",
    "<br>\n",
    "Firstly, two CSV's are grabbed from BlipTrack `BlipTrack Toronto_DT_OD_Start_End_Multiple_Outcomes_ut_20180101-20180102.csv` and `BlipTrack-Toronto_DT_OD_Others_Multiple_Outcomes_ut_20180101-20180102.csv`. The first is a binary containing data for the start of a route and the end of a route, with a 1 or 0 corresponding to whether or not that intersection was chosen as a start/end or not. The second is a table containing a particular route a vehicle has taken, with 1's and 0's corresponding to whether or not they passed a respective intersection on that route. \n",
    "\n",
    "<br>\n",
    "With regards ot Bluetooth Data, we simply pull our columns of interest and date range from a preexisting schema in the database. \n",
    "\n",
    "<br>\n",
    "We import the two OD datasets into the alouis2 schema, under the names `startend_raw` and `others_raw`. We now have the OD Data we need, and we can begin filtering the datasets and creating necessary tables. "
   ]
  },
  {
   "cell_type": "markdown",
   "metadata": {},
   "source": [
    "## Creating our Primary Tables\n",
    "***\n",
    "\n",
    "<br>\n",
    "We extract relevant data we will be working with by selecting only the columns we need. Below are the queries used to create `others_path` and `startend_path`, two tables containing relevant information from their raw counterparts. "
   ]
  },
  {
   "cell_type": "code",
   "execution_count": 1,
   "metadata": {},
   "outputs": [
    {
     "name": "stderr",
     "output_type": "stream",
     "text": [
      "C:\\Users\\alouis2\\AppData\\Local\\Continuum\\anaconda3\\lib\\site-packages\\IPython\\config.py:13: ShimWarning: The `IPython.config` package has been deprecated since IPython 4.0. You should import from traitlets.config instead.\n",
      "  \"You should import from traitlets.config instead.\", ShimWarning)\n",
      "C:\\Users\\alouis2\\AppData\\Local\\Continuum\\anaconda3\\lib\\site-packages\\sql\\magic.py:4: UserWarning: IPython.utils.traitlets has moved to a top-level traitlets package.\n",
      "  from IPython.utils.traitlets import Bool, Int, Unicode\n"
     ]
    },
    {
     "data": {
      "text/plain": [
       "'Connected: alouis2@bigdata'"
      ]
     },
     "execution_count": 1,
     "metadata": {},
     "output_type": "execute_result"
    }
   ],
   "source": [
    "%load_ext sql\n",
    "import matplotlib.pyplot as plt\n",
    "import pandas as pd\n",
    "import configparser\n",
    "from psycopg2 import connect\n",
    "import psycopg2.sql as pg\n",
    "import pandas.io.sql as pandasql\n",
    "from sqlalchemy import create_engine\n",
    "import io\n",
    "\n",
    "\n",
    "CONFIG = configparser.ConfigParser()\n",
    "CONFIG.read(r'C:\\Users\\alouis2\\Documents\\Python Scripts\\db.cfg')\n",
    "dbset = CONFIG['DBSETTINGS']\n",
    "con = connect(**dbset)\n",
    "    \n",
    "\n",
    "x = open('C:\\\\Users\\\\alouis2\\\\Documents\\\\Python Scripts\\\\andrew.txt', 'r')\n",
    "x = x.readlines()[0]\n",
    "%sql $x"
   ]
  },
  {
   "cell_type": "code",
   "execution_count": 2,
   "metadata": {},
   "outputs": [
    {
     "name": "stdout",
     "output_type": "stream",
     "text": [
      "(psycopg2.ProgrammingError) relation \"others_path\" already exists\n",
      " [SQL: 'CREATE TABLE others_path\\n(\\n  datetime_bin timestamp without time zone,\\n  userid bigint,  co_ba integer,  co_un integer,  co_pa integer,  du_ro integer,  du_df integer,\\n  du_ba integer,  du_sp integer,  du_un integer,  du_yo integer,  du_ja integer,  du_pa integer,\\n  qu_ro integer,  qu_df integer,  qu_st integer,  qu_ba integer,  qu_sp integer,  qu_un integer,\\n  qu_yo integer,  qu_ja integer,  qu_pa integer,  qu_bv integer,  rm_ba integer,  rm_sp integer,\\n  rm_un integer,  rm_yo integer,  rm_ja integer,  rm_pa integer,  ad_ba integer,  ad_sp integer,\\n  ad_un integer,  ad_yo integer,  ad_ja integer,  ad_pa integer,  kn_df integer,  kn_st integer,\\n  kn_ba integer,  kn_sp integer,  kn_un integer,  kn_yo integer,  kn_ja integer,  kn_pa integer,\\n  we_bj integer,  we_un integer,  we_yo integer,  fr_ba integer,  fr_sp integer,  fr_un integer,\\n  fr_yo integer,  fr_ja integer,  fr_pa integer,  fb_ba integer,  fb_sp integer,  fb_yk integer,\\n  ea_bv integer,  path_total integer\\n)\\nWITH (\\n  OIDS=FALSE\\n);']\n"
     ]
    }
   ],
   "source": [
    "%%sql\n",
    "CREATE TABLE others_path\n",
    "(\n",
    "  datetime_bin timestamp without time zone,\n",
    "  userid bigint,  co_ba integer,  co_un integer,  co_pa integer,  du_ro integer,  du_df integer,\n",
    "  du_ba integer,  du_sp integer,  du_un integer,  du_yo integer,  du_ja integer,  du_pa integer,\n",
    "  qu_ro integer,  qu_df integer,  qu_st integer,  qu_ba integer,  qu_sp integer,  qu_un integer,\n",
    "  qu_yo integer,  qu_ja integer,  qu_pa integer,  qu_bv integer,  rm_ba integer,  rm_sp integer,\n",
    "  rm_un integer,  rm_yo integer,  rm_ja integer,  rm_pa integer,  ad_ba integer,  ad_sp integer,\n",
    "  ad_un integer,  ad_yo integer,  ad_ja integer,  ad_pa integer,  kn_df integer,  kn_st integer,\n",
    "  kn_ba integer,  kn_sp integer,  kn_un integer,  kn_yo integer,  kn_ja integer,  kn_pa integer,\n",
    "  we_bj integer,  we_un integer,  we_yo integer,  fr_ba integer,  fr_sp integer,  fr_un integer,\n",
    "  fr_yo integer,  fr_ja integer,  fr_pa integer,  fb_ba integer,  fb_sp integer,  fb_yk integer,\n",
    "  ea_bv integer,  path_total integer\n",
    ")\n",
    "WITH (\n",
    "  OIDS=FALSE\n",
    ");\n",
    "ALTER TABLE others_path\n",
    "  OWNER TO alouis2;\n"
   ]
  },
  {
   "cell_type": "code",
   "execution_count": 3,
   "metadata": {},
   "outputs": [
    {
     "name": "stdout",
     "output_type": "stream",
     "text": [
      "(psycopg2.ProgrammingError) relation \"startend_path\" already exists\n",
      " [SQL: 'CREATE TABLE startend_path\\n(\\n  datetime_bin timestamp without time zone,\\n  userid bigint,\\n  s_co_ba integer,  s_co_un integer,  s_co_pa integer,  s_du_ro integer,  s_du_df integer,\\n  s_du_ba integer,  s_du_sp integer,  s_du_un integer,  s_du_yo integer,  s_du_ja integer,\\n  s_du_pa integer,  s_qu_ro integer,  s_qu_df integer,  s_qu_st integer,  s_qu_ba integer,\\n  s_qu_sp integer,  s_qu_un integer,  s_qu_yo integer,  s_qu_ja integer,  s_qu_pa integer,\\n  s_qu_bv integer,  s_rm_ba integer,  s_rm_sp integer,  s_rm_un integer,  s_rm_yo integer,\\n  s_rm_ja integer,  s_rm_pa integer,  s_ad_ba integer,  s_ad_sp integer,  s_ad_un integer,\\n  s_ad_yo integer,  s_ad_ja integer,  s_ad_pa integer,  s_kn_df integer,  s_kn_st integer,\\n  s_kn_ba integer,  s_kn_sp integer,  s_kn_un integer,  s_kn_yo integer,  s_kn_ja integer,\\n  s_kn_pa integer,  s_we_bj integer,  s_we_un integer,  s_we_yo integer,  s_fr_ba integer,\\n  s_fr_sp integer,  s_fr_un integer,  s_fr_yo integer,  s_fr_ja integer,  s_fr_pa integer,\\n  s_fb_ba integer,  s_fb_sp integer,  s_fb_yk integer,  s_ea_bv integer,  e_co_ba integer,\\n  e_co_un integer,  e_co_pa integer,  e_du_ro integer,  e_du_df integer,  e_du_ba integer,\\n  e_du_sp integer,  e_du_un integer,  e_du_yo integer,  e_du_ja integer,  e_du_pa integer,\\n  e_qu_ro integer,  e_qu_df integer,  e_qu_st integer,  e_qu_ba integer,  e_qu_sp integer,\\n  e_qu_un integer,  e_qu_yo integer,  e_qu_ja integer,  e_qu_pa integer,  e_qu_bv integer,\\n  e_rm_ba integer,  e_rm_sp integer,  e_rm_un integer,  e_rm_yo integer,  e_rm_ja integer,\\n  e_rm_pa integer,  e_ad_ba integer,  e_ad_sp integer,  e_ad_un integer,  e_ad_yo integer,\\n  e_ad_ja integer,  e_ad_pa integer,  e_kn_df integer,  e_kn_st integer,  e_kn_ba integer,\\n  e_kn_sp integer,  e_kn_un integer,  e_kn_yo integer,  e_kn_ja integer,  e_kn_pa integer,\\n  e_we_bj integer,  e_we_un integer,  e_we_yo integer,  e_fr_ba integer,  e_fr_sp integer,\\n  e_fr_un integer,  e_fr_yo integer,  e_fr_ja integer,  e_fr_pa integer,  e_fb_ba integer,\\n  e_fb_sp integer,  e_fb_yk integer,  e_ea_bv integer\\n)\\nWITH (\\n  OIDS=FALSE\\n);']\n"
     ]
    }
   ],
   "source": [
    "%%sql \n",
    "CREATE TABLE startend_path\n",
    "(\n",
    "  datetime_bin timestamp without time zone,\n",
    "  userid bigint,\n",
    "  s_co_ba integer,  s_co_un integer,  s_co_pa integer,  s_du_ro integer,  s_du_df integer,\n",
    "  s_du_ba integer,  s_du_sp integer,  s_du_un integer,  s_du_yo integer,  s_du_ja integer,\n",
    "  s_du_pa integer,  s_qu_ro integer,  s_qu_df integer,  s_qu_st integer,  s_qu_ba integer,\n",
    "  s_qu_sp integer,  s_qu_un integer,  s_qu_yo integer,  s_qu_ja integer,  s_qu_pa integer,\n",
    "  s_qu_bv integer,  s_rm_ba integer,  s_rm_sp integer,  s_rm_un integer,  s_rm_yo integer,\n",
    "  s_rm_ja integer,  s_rm_pa integer,  s_ad_ba integer,  s_ad_sp integer,  s_ad_un integer,\n",
    "  s_ad_yo integer,  s_ad_ja integer,  s_ad_pa integer,  s_kn_df integer,  s_kn_st integer,\n",
    "  s_kn_ba integer,  s_kn_sp integer,  s_kn_un integer,  s_kn_yo integer,  s_kn_ja integer,\n",
    "  s_kn_pa integer,  s_we_bj integer,  s_we_un integer,  s_we_yo integer,  s_fr_ba integer,\n",
    "  s_fr_sp integer,  s_fr_un integer,  s_fr_yo integer,  s_fr_ja integer,  s_fr_pa integer,\n",
    "  s_fb_ba integer,  s_fb_sp integer,  s_fb_yk integer,  s_ea_bv integer,  e_co_ba integer,\n",
    "  e_co_un integer,  e_co_pa integer,  e_du_ro integer,  e_du_df integer,  e_du_ba integer,\n",
    "  e_du_sp integer,  e_du_un integer,  e_du_yo integer,  e_du_ja integer,  e_du_pa integer,\n",
    "  e_qu_ro integer,  e_qu_df integer,  e_qu_st integer,  e_qu_ba integer,  e_qu_sp integer,\n",
    "  e_qu_un integer,  e_qu_yo integer,  e_qu_ja integer,  e_qu_pa integer,  e_qu_bv integer,\n",
    "  e_rm_ba integer,  e_rm_sp integer,  e_rm_un integer,  e_rm_yo integer,  e_rm_ja integer,\n",
    "  e_rm_pa integer,  e_ad_ba integer,  e_ad_sp integer,  e_ad_un integer,  e_ad_yo integer,\n",
    "  e_ad_ja integer,  e_ad_pa integer,  e_kn_df integer,  e_kn_st integer,  e_kn_ba integer,\n",
    "  e_kn_sp integer,  e_kn_un integer,  e_kn_yo integer,  e_kn_ja integer,  e_kn_pa integer,\n",
    "  e_we_bj integer,  e_we_un integer,  e_we_yo integer,  e_fr_ba integer,  e_fr_sp integer,\n",
    "  e_fr_un integer,  e_fr_yo integer,  e_fr_ja integer,  e_fr_pa integer,  e_fb_ba integer,\n",
    "  e_fb_sp integer,  e_fb_yk integer,  e_ea_bv integer\n",
    ")\n",
    "WITH (\n",
    "  OIDS=FALSE\n",
    ");\n",
    "ALTER TABLE startend_path\n",
    "  OWNER TO alouis2;\n"
   ]
  },
  {
   "cell_type": "markdown",
   "metadata": {},
   "source": [
    "We now have the data we need to conduct our comparative analysis. Now that we have only relevant information, queries will be easier to run."
   ]
  },
  {
   "cell_type": "markdown",
   "metadata": {},
   "source": [
    "## Creating Path Totals and Eliminating Path Totals of 1\n",
    "***\n",
    "<br>\n",
    "We first create a column `path_total` for our table `others_path` so we now how many interections were passed for each particular route. \n",
    "\n",
    "<br>\n",
    "Notice the discrepancy between the path data and the startend data, i.e. 21205 vs 14667 rows. This is because there are many datapoints in `others_raw` with a path total of 1. To eliminate this discrepancy, we have to eliminate all `path_total` values of 1. We do this with the following code:"
   ]
  },
  {
   "cell_type": "code",
   "execution_count": 19,
   "metadata": {
    "scrolled": true
   },
   "outputs": [
    {
     "name": "stdout",
     "output_type": "stream",
     "text": [
      "0 rows affected.\n"
     ]
    },
    {
     "data": {
      "text/plain": [
       "[]"
      ]
     },
     "execution_count": 19,
     "metadata": {},
     "output_type": "execute_result"
    }
   ],
   "source": [
    "%%sql DELETE FROM alouis2.others_path\n",
    "WHERE path_total = 1;"
   ]
  },
  {
   "cell_type": "code",
   "execution_count": 20,
   "metadata": {},
   "outputs": [
    {
     "name": "stdout",
     "output_type": "stream",
     "text": [
      "1 rows affected.\n"
     ]
    },
    {
     "data": {
      "text/html": [
       "<table>\n",
       "    <tr>\n",
       "        <th>count</th>\n",
       "    </tr>\n",
       "    <tr>\n",
       "        <td>14667</td>\n",
       "    </tr>\n",
       "</table>"
      ],
      "text/plain": [
       "[(14667,)]"
      ]
     },
     "execution_count": 20,
     "metadata": {},
     "output_type": "execute_result"
    }
   ],
   "source": [
    "%sql select count(datetime_bin)from startend_path"
   ]
  },
  {
   "cell_type": "code",
   "execution_count": 21,
   "metadata": {},
   "outputs": [
    {
     "name": "stdout",
     "output_type": "stream",
     "text": [
      "1 rows affected.\n"
     ]
    },
    {
     "data": {
      "text/html": [
       "<table>\n",
       "    <tr>\n",
       "        <th>count</th>\n",
       "    </tr>\n",
       "    <tr>\n",
       "        <td>14667</td>\n",
       "    </tr>\n",
       "</table>"
      ],
      "text/plain": [
       "[(14667,)]"
      ]
     },
     "execution_count": 21,
     "metadata": {},
     "output_type": "execute_result"
    }
   ],
   "source": [
    "%sql select count(datetime_bin)from others_path"
   ]
  },
  {
   "cell_type": "markdown",
   "metadata": {},
   "source": [
    "As seen above, after deleting all rows with 1 path totals, the row counts are the same. Now we have for each datetime stamp and user id, an origin, destination, and path."
   ]
  },
  {
   "cell_type": "markdown",
   "metadata": {},
   "source": [
    "## Pivoting Start/End Data\n",
    "\n",
    "<br>\n",
    "Currently, our information is split accross our two tables, `others_path` and `startend_path`. We wish to combine them to facilitate analysis.\n",
    "\n",
    "Firstly, we need to pivot `startend_path`. What do we mean by pivot? We want to create a `start` and `end` column, containing a text representing the origin and destination of a vehicle. Essentially we will convert the binary table to a much more easier to read start/end table.\n",
    "\n",
    "<br> \n",
    "Please refer to the `pivot.ipynb` to see how this was done. We now have a new table, `startend_pivot`. A few rows are selected below: "
   ]
  },
  {
   "cell_type": "code",
   "execution_count": 2,
   "metadata": {
    "scrolled": true
   },
   "outputs": [
    {
     "name": "stdout",
     "output_type": "stream",
     "text": [
      "5 rows affected.\n"
     ]
    },
    {
     "data": {
      "text/html": [
       "<table>\n",
       "    <tr>\n",
       "        <th>datetime_bin</th>\n",
       "        <th>userid</th>\n",
       "        <th>start</th>\n",
       "        <th>end</th>\n",
       "    </tr>\n",
       "    <tr>\n",
       "        <td>2018-01-01 00:00:17</td>\n",
       "        <td>-4109236477481291089</td>\n",
       "        <td>du_yo</td>\n",
       "        <td>du_ja</td>\n",
       "    </tr>\n",
       "    <tr>\n",
       "        <td>2018-01-01 00:01:08</td>\n",
       "        <td>-1672501126208601408</td>\n",
       "        <td>du_pa</td>\n",
       "        <td>qu_bv</td>\n",
       "    </tr>\n",
       "    <tr>\n",
       "        <td>2018-01-01 00:01:11</td>\n",
       "        <td>-5833274664015405017</td>\n",
       "        <td>du_ja</td>\n",
       "        <td>du_yo</td>\n",
       "    </tr>\n",
       "    <tr>\n",
       "        <td>2018-01-01 00:02:08</td>\n",
       "        <td>8147950039115731659</td>\n",
       "        <td>du_pa</td>\n",
       "        <td>du_ja</td>\n",
       "    </tr>\n",
       "    <tr>\n",
       "        <td>2018-01-01 00:02:11</td>\n",
       "        <td>2538540623439968621</td>\n",
       "        <td>kn_df</td>\n",
       "        <td>du_df</td>\n",
       "    </tr>\n",
       "</table>"
      ],
      "text/plain": [
       "[(datetime.datetime(2018, 1, 1, 0, 0, 17), -4109236477481291089, 'du_yo', 'du_ja'),\n",
       " (datetime.datetime(2018, 1, 1, 0, 1, 8), -1672501126208601408, 'du_pa', 'qu_bv'),\n",
       " (datetime.datetime(2018, 1, 1, 0, 1, 11), -5833274664015405017, 'du_ja', 'du_yo'),\n",
       " (datetime.datetime(2018, 1, 1, 0, 2, 8), 8147950039115731659, 'du_pa', 'du_ja'),\n",
       " (datetime.datetime(2018, 1, 1, 0, 2, 11), 2538540623439968621, 'kn_df', 'du_df')]"
      ]
     },
     "execution_count": 2,
     "metadata": {},
     "output_type": "execute_result"
    }
   ],
   "source": [
    "%sql select * from alouis2.startend_pivot limit 5"
   ]
  },
  {
   "cell_type": "markdown",
   "metadata": {},
   "source": [
    "This is much easier to read. Now we create a view to join `startend_pivot` and `others_path` to create a complete table summarizing our OD Data. "
   ]
  },
  {
   "cell_type": "code",
   "execution_count": 3,
   "metadata": {},
   "outputs": [
    {
     "name": "stdout",
     "output_type": "stream",
     "text": [
      "5 rows affected.\n"
     ]
    },
    {
     "data": {
      "text/html": [
       "<table>\n",
       "    <tr>\n",
       "        <th>datetime_bin</th>\n",
       "        <th>userid</th>\n",
       "        <th>start</th>\n",
       "        <th>end</th>\n",
       "        <th>co_ba</th>\n",
       "        <th>co_un</th>\n",
       "        <th>co_pa</th>\n",
       "        <th>du_ro</th>\n",
       "        <th>du_df</th>\n",
       "        <th>du_ba</th>\n",
       "        <th>du_sp</th>\n",
       "        <th>du_un</th>\n",
       "        <th>du_yo</th>\n",
       "        <th>du_ja</th>\n",
       "        <th>du_pa</th>\n",
       "        <th>qu_ro</th>\n",
       "        <th>qu_df</th>\n",
       "        <th>qu_st</th>\n",
       "        <th>qu_ba</th>\n",
       "        <th>qu_sp</th>\n",
       "        <th>qu_un</th>\n",
       "        <th>qu_yo</th>\n",
       "        <th>qu_ja</th>\n",
       "        <th>qu_pa</th>\n",
       "        <th>qu_bv</th>\n",
       "        <th>rm_ba</th>\n",
       "        <th>rm_sp</th>\n",
       "        <th>rm_un</th>\n",
       "        <th>rm_yo</th>\n",
       "        <th>rm_ja</th>\n",
       "        <th>rm_pa</th>\n",
       "        <th>ad_ba</th>\n",
       "        <th>ad_sp</th>\n",
       "        <th>ad_un</th>\n",
       "        <th>ad_yo</th>\n",
       "        <th>ad_ja</th>\n",
       "        <th>ad_pa</th>\n",
       "        <th>kn_df</th>\n",
       "        <th>kn_st</th>\n",
       "        <th>kn_ba</th>\n",
       "        <th>kn_sp</th>\n",
       "        <th>kn_un</th>\n",
       "        <th>kn_yo</th>\n",
       "        <th>kn_ja</th>\n",
       "        <th>kn_pa</th>\n",
       "        <th>we_bj</th>\n",
       "        <th>we_un</th>\n",
       "        <th>we_yo</th>\n",
       "        <th>fr_ba</th>\n",
       "        <th>fr_sp</th>\n",
       "        <th>fr_un</th>\n",
       "        <th>fr_yo</th>\n",
       "        <th>fr_ja</th>\n",
       "        <th>fr_pa</th>\n",
       "        <th>fb_ba</th>\n",
       "        <th>fb_sp</th>\n",
       "        <th>fb_yk</th>\n",
       "        <th>ea_bv</th>\n",
       "        <th>path_total</th>\n",
       "    </tr>\n",
       "    <tr>\n",
       "        <td>2018-01-01 00:00:17</td>\n",
       "        <td>-4109236477481291089</td>\n",
       "        <td>du_yo</td>\n",
       "        <td>du_ja</td>\n",
       "        <td>0</td>\n",
       "        <td>0</td>\n",
       "        <td>0</td>\n",
       "        <td>0</td>\n",
       "        <td>0</td>\n",
       "        <td>0</td>\n",
       "        <td>0</td>\n",
       "        <td>0</td>\n",
       "        <td>1</td>\n",
       "        <td>1</td>\n",
       "        <td>0</td>\n",
       "        <td>0</td>\n",
       "        <td>0</td>\n",
       "        <td>0</td>\n",
       "        <td>0</td>\n",
       "        <td>0</td>\n",
       "        <td>0</td>\n",
       "        <td>0</td>\n",
       "        <td>0</td>\n",
       "        <td>0</td>\n",
       "        <td>0</td>\n",
       "        <td>0</td>\n",
       "        <td>0</td>\n",
       "        <td>0</td>\n",
       "        <td>0</td>\n",
       "        <td>0</td>\n",
       "        <td>0</td>\n",
       "        <td>0</td>\n",
       "        <td>0</td>\n",
       "        <td>0</td>\n",
       "        <td>0</td>\n",
       "        <td>0</td>\n",
       "        <td>0</td>\n",
       "        <td>0</td>\n",
       "        <td>0</td>\n",
       "        <td>0</td>\n",
       "        <td>0</td>\n",
       "        <td>0</td>\n",
       "        <td>0</td>\n",
       "        <td>0</td>\n",
       "        <td>0</td>\n",
       "        <td>0</td>\n",
       "        <td>0</td>\n",
       "        <td>0</td>\n",
       "        <td>0</td>\n",
       "        <td>0</td>\n",
       "        <td>0</td>\n",
       "        <td>0</td>\n",
       "        <td>0</td>\n",
       "        <td>0</td>\n",
       "        <td>0</td>\n",
       "        <td>0</td>\n",
       "        <td>0</td>\n",
       "        <td>0</td>\n",
       "        <td>2</td>\n",
       "    </tr>\n",
       "    <tr>\n",
       "        <td>2018-01-01 00:01:08</td>\n",
       "        <td>-1672501126208601408</td>\n",
       "        <td>du_pa</td>\n",
       "        <td>qu_bv</td>\n",
       "        <td>0</td>\n",
       "        <td>0</td>\n",
       "        <td>0</td>\n",
       "        <td>0</td>\n",
       "        <td>0</td>\n",
       "        <td>0</td>\n",
       "        <td>0</td>\n",
       "        <td>0</td>\n",
       "        <td>0</td>\n",
       "        <td>0</td>\n",
       "        <td>1</td>\n",
       "        <td>0</td>\n",
       "        <td>0</td>\n",
       "        <td>0</td>\n",
       "        <td>0</td>\n",
       "        <td>0</td>\n",
       "        <td>0</td>\n",
       "        <td>0</td>\n",
       "        <td>0</td>\n",
       "        <td>0</td>\n",
       "        <td>1</td>\n",
       "        <td>0</td>\n",
       "        <td>0</td>\n",
       "        <td>0</td>\n",
       "        <td>0</td>\n",
       "        <td>0</td>\n",
       "        <td>0</td>\n",
       "        <td>0</td>\n",
       "        <td>0</td>\n",
       "        <td>0</td>\n",
       "        <td>0</td>\n",
       "        <td>0</td>\n",
       "        <td>0</td>\n",
       "        <td>0</td>\n",
       "        <td>0</td>\n",
       "        <td>0</td>\n",
       "        <td>0</td>\n",
       "        <td>0</td>\n",
       "        <td>0</td>\n",
       "        <td>0</td>\n",
       "        <td>0</td>\n",
       "        <td>0</td>\n",
       "        <td>0</td>\n",
       "        <td>0</td>\n",
       "        <td>0</td>\n",
       "        <td>0</td>\n",
       "        <td>0</td>\n",
       "        <td>0</td>\n",
       "        <td>0</td>\n",
       "        <td>0</td>\n",
       "        <td>0</td>\n",
       "        <td>0</td>\n",
       "        <td>0</td>\n",
       "        <td>0</td>\n",
       "        <td>2</td>\n",
       "    </tr>\n",
       "    <tr>\n",
       "        <td>2018-01-01 00:01:11</td>\n",
       "        <td>-5833274664015405017</td>\n",
       "        <td>du_ja</td>\n",
       "        <td>du_yo</td>\n",
       "        <td>0</td>\n",
       "        <td>0</td>\n",
       "        <td>0</td>\n",
       "        <td>0</td>\n",
       "        <td>0</td>\n",
       "        <td>0</td>\n",
       "        <td>0</td>\n",
       "        <td>0</td>\n",
       "        <td>1</td>\n",
       "        <td>1</td>\n",
       "        <td>0</td>\n",
       "        <td>0</td>\n",
       "        <td>0</td>\n",
       "        <td>0</td>\n",
       "        <td>0</td>\n",
       "        <td>0</td>\n",
       "        <td>0</td>\n",
       "        <td>0</td>\n",
       "        <td>0</td>\n",
       "        <td>0</td>\n",
       "        <td>0</td>\n",
       "        <td>0</td>\n",
       "        <td>0</td>\n",
       "        <td>0</td>\n",
       "        <td>0</td>\n",
       "        <td>0</td>\n",
       "        <td>0</td>\n",
       "        <td>0</td>\n",
       "        <td>0</td>\n",
       "        <td>0</td>\n",
       "        <td>0</td>\n",
       "        <td>0</td>\n",
       "        <td>0</td>\n",
       "        <td>0</td>\n",
       "        <td>0</td>\n",
       "        <td>0</td>\n",
       "        <td>0</td>\n",
       "        <td>0</td>\n",
       "        <td>0</td>\n",
       "        <td>0</td>\n",
       "        <td>0</td>\n",
       "        <td>0</td>\n",
       "        <td>0</td>\n",
       "        <td>0</td>\n",
       "        <td>0</td>\n",
       "        <td>0</td>\n",
       "        <td>0</td>\n",
       "        <td>0</td>\n",
       "        <td>0</td>\n",
       "        <td>0</td>\n",
       "        <td>0</td>\n",
       "        <td>0</td>\n",
       "        <td>0</td>\n",
       "        <td>0</td>\n",
       "        <td>2</td>\n",
       "    </tr>\n",
       "    <tr>\n",
       "        <td>2018-01-01 00:02:08</td>\n",
       "        <td>8147950039115731659</td>\n",
       "        <td>du_pa</td>\n",
       "        <td>du_ja</td>\n",
       "        <td>0</td>\n",
       "        <td>0</td>\n",
       "        <td>0</td>\n",
       "        <td>0</td>\n",
       "        <td>0</td>\n",
       "        <td>0</td>\n",
       "        <td>0</td>\n",
       "        <td>0</td>\n",
       "        <td>0</td>\n",
       "        <td>1</td>\n",
       "        <td>1</td>\n",
       "        <td>0</td>\n",
       "        <td>0</td>\n",
       "        <td>0</td>\n",
       "        <td>0</td>\n",
       "        <td>0</td>\n",
       "        <td>0</td>\n",
       "        <td>0</td>\n",
       "        <td>0</td>\n",
       "        <td>0</td>\n",
       "        <td>0</td>\n",
       "        <td>0</td>\n",
       "        <td>0</td>\n",
       "        <td>0</td>\n",
       "        <td>0</td>\n",
       "        <td>0</td>\n",
       "        <td>0</td>\n",
       "        <td>0</td>\n",
       "        <td>0</td>\n",
       "        <td>0</td>\n",
       "        <td>0</td>\n",
       "        <td>0</td>\n",
       "        <td>0</td>\n",
       "        <td>0</td>\n",
       "        <td>0</td>\n",
       "        <td>0</td>\n",
       "        <td>0</td>\n",
       "        <td>0</td>\n",
       "        <td>0</td>\n",
       "        <td>0</td>\n",
       "        <td>0</td>\n",
       "        <td>0</td>\n",
       "        <td>0</td>\n",
       "        <td>0</td>\n",
       "        <td>0</td>\n",
       "        <td>0</td>\n",
       "        <td>0</td>\n",
       "        <td>0</td>\n",
       "        <td>0</td>\n",
       "        <td>0</td>\n",
       "        <td>0</td>\n",
       "        <td>0</td>\n",
       "        <td>0</td>\n",
       "        <td>0</td>\n",
       "        <td>2</td>\n",
       "    </tr>\n",
       "    <tr>\n",
       "        <td>2018-01-01 00:02:11</td>\n",
       "        <td>2538540623439968621</td>\n",
       "        <td>kn_df</td>\n",
       "        <td>du_df</td>\n",
       "        <td>0</td>\n",
       "        <td>0</td>\n",
       "        <td>0</td>\n",
       "        <td>0</td>\n",
       "        <td>1</td>\n",
       "        <td>0</td>\n",
       "        <td>0</td>\n",
       "        <td>0</td>\n",
       "        <td>0</td>\n",
       "        <td>0</td>\n",
       "        <td>0</td>\n",
       "        <td>0</td>\n",
       "        <td>0</td>\n",
       "        <td>0</td>\n",
       "        <td>0</td>\n",
       "        <td>0</td>\n",
       "        <td>0</td>\n",
       "        <td>0</td>\n",
       "        <td>0</td>\n",
       "        <td>0</td>\n",
       "        <td>0</td>\n",
       "        <td>0</td>\n",
       "        <td>0</td>\n",
       "        <td>0</td>\n",
       "        <td>0</td>\n",
       "        <td>0</td>\n",
       "        <td>0</td>\n",
       "        <td>0</td>\n",
       "        <td>0</td>\n",
       "        <td>0</td>\n",
       "        <td>0</td>\n",
       "        <td>0</td>\n",
       "        <td>0</td>\n",
       "        <td>1</td>\n",
       "        <td>0</td>\n",
       "        <td>0</td>\n",
       "        <td>0</td>\n",
       "        <td>0</td>\n",
       "        <td>0</td>\n",
       "        <td>0</td>\n",
       "        <td>0</td>\n",
       "        <td>0</td>\n",
       "        <td>0</td>\n",
       "        <td>0</td>\n",
       "        <td>0</td>\n",
       "        <td>0</td>\n",
       "        <td>0</td>\n",
       "        <td>0</td>\n",
       "        <td>0</td>\n",
       "        <td>0</td>\n",
       "        <td>0</td>\n",
       "        <td>0</td>\n",
       "        <td>0</td>\n",
       "        <td>0</td>\n",
       "        <td>2</td>\n",
       "    </tr>\n",
       "</table>"
      ],
      "text/plain": [
       "[(datetime.datetime(2018, 1, 1, 0, 0, 17), -4109236477481291089, 'du_yo', 'du_ja', 0, 0, 0, 0, 0, 0, 0, 0, 1, 1, 0, 0, 0, 0, 0, 0, 0, 0, 0, 0, 0, 0, 0, 0, 0, 0, 0, 0, 0, 0, 0, 0, 0, 0, 0, 0, 0, 0, 0, 0, 0, 0, 0, 0, 0, 0, 0, 0, 0, 0, 0, 0, 0, 0, 2),\n",
       " (datetime.datetime(2018, 1, 1, 0, 1, 8), -1672501126208601408, 'du_pa', 'qu_bv', 0, 0, 0, 0, 0, 0, 0, 0, 0, 0, 1, 0, 0, 0, 0, 0, 0, 0, 0, 0, 1, 0, 0, 0, 0, 0, 0, 0, 0, 0, 0, 0, 0, 0, 0, 0, 0, 0, 0, 0, 0, 0, 0, 0, 0, 0, 0, 0, 0, 0, 0, 0, 0, 0, 2),\n",
       " (datetime.datetime(2018, 1, 1, 0, 1, 11), -5833274664015405017, 'du_ja', 'du_yo', 0, 0, 0, 0, 0, 0, 0, 0, 1, 1, 0, 0, 0, 0, 0, 0, 0, 0, 0, 0, 0, 0, 0, 0, 0, 0, 0, 0, 0, 0, 0, 0, 0, 0, 0, 0, 0, 0, 0, 0, 0, 0, 0, 0, 0, 0, 0, 0, 0, 0, 0, 0, 0, 0, 2),\n",
       " (datetime.datetime(2018, 1, 1, 0, 2, 8), 8147950039115731659, 'du_pa', 'du_ja', 0, 0, 0, 0, 0, 0, 0, 0, 0, 1, 1, 0, 0, 0, 0, 0, 0, 0, 0, 0, 0, 0, 0, 0, 0, 0, 0, 0, 0, 0, 0, 0, 0, 0, 0, 0, 0, 0, 0, 0, 0, 0, 0, 0, 0, 0, 0, 0, 0, 0, 0, 0, 0, 0, 2),\n",
       " (datetime.datetime(2018, 1, 1, 0, 2, 11), 2538540623439968621, 'kn_df', 'du_df', 0, 0, 0, 0, 1, 0, 0, 0, 0, 0, 0, 0, 0, 0, 0, 0, 0, 0, 0, 0, 0, 0, 0, 0, 0, 0, 0, 0, 0, 0, 0, 0, 0, 1, 0, 0, 0, 0, 0, 0, 0, 0, 0, 0, 0, 0, 0, 0, 0, 0, 0, 0, 0, 0, 2)]"
      ]
     },
     "execution_count": 3,
     "metadata": {},
     "output_type": "execute_result"
    }
   ],
   "source": [
    "%sql select * from complete limit 5;"
   ]
  },
  {
   "cell_type": "markdown",
   "metadata": {},
   "source": [
    "Now we have a table with a date, userid, start, end, and binary representation of a path. This will be very useful and it will be our primary table when analyzing discrepancies in our OD data. "
   ]
  },
  {
   "cell_type": "markdown",
   "metadata": {},
   "source": [
    "# Comparing OD Data and Segment Data\n",
    "***\n",
    "We wish to start comparing segment data with OD data. In order to do this, we need relevant segment data. The observation schema is huge, so it's important to only select the parameters and columns we want. \n",
    "\n",
    "<br>\n",
    "In our case, we are only interested in date on `2018-01-01`, as this is the date relevant to our OD Data. Moreover, we are only interested in the `startpoint` and `endpoint` columns, as they tell us the beginning and end of a segment that we can compare with origin/destination values. \n",
    "\n",
    "<br>\n",
    "Most importantly, we only need segments relevant to our date. In the bluetooth schema, there are a tonne of arterial and other roads that are not related to our OD analyis. For this reason, we filter out the `observations_201801` data according to relevant analysis id's. We obtain these analysis id's via the `bt_segments` table. From this, we create the following view:"
   ]
  },
  {
   "cell_type": "code",
   "execution_count": 4,
   "metadata": {},
   "outputs": [
    {
     "name": "stdout",
     "output_type": "stream",
     "text": [
      "5 rows affected.\n"
     ]
    },
    {
     "data": {
      "text/html": [
       "<table>\n",
       "    <tr>\n",
       "        <th>userid</th>\n",
       "        <th>datetime_bin</th>\n",
       "        <th>startpoint_name</th>\n",
       "        <th>endpoint_name</th>\n",
       "    </tr>\n",
       "    <tr>\n",
       "        <td>-9221220690800223438</td>\n",
       "        <td>2018-01-01 10:24:08</td>\n",
       "        <td>FB_YK</td>\n",
       "        <td>FR_UN</td>\n",
       "    </tr>\n",
       "    <tr>\n",
       "        <td>-9219933307520670431</td>\n",
       "        <td>2018-01-01 10:22:01</td>\n",
       "        <td>FB_BA</td>\n",
       "        <td>FR_BA</td>\n",
       "    </tr>\n",
       "    <tr>\n",
       "        <td>-9219806034649301548</td>\n",
       "        <td>2018-01-01 10:24:05</td>\n",
       "        <td>CO_BA</td>\n",
       "        <td>CO_UN</td>\n",
       "    </tr>\n",
       "    <tr>\n",
       "        <td>-9219806034649301548</td>\n",
       "        <td>2018-01-01 00:46:13</td>\n",
       "        <td>CO_UN</td>\n",
       "        <td>CO_BA</td>\n",
       "    </tr>\n",
       "    <tr>\n",
       "        <td>-9216702922520912820</td>\n",
       "        <td>2018-01-01 16:03:31</td>\n",
       "        <td>QU_JA</td>\n",
       "        <td>QU_YO</td>\n",
       "    </tr>\n",
       "</table>"
      ],
      "text/plain": [
       "[(-9221220690800223438, datetime.datetime(2018, 1, 1, 10, 24, 8), 'FB_YK', 'FR_UN'),\n",
       " (-9219933307520670431, datetime.datetime(2018, 1, 1, 10, 22, 1), 'FB_BA', 'FR_BA'),\n",
       " (-9219806034649301548, datetime.datetime(2018, 1, 1, 10, 24, 5), 'CO_BA', 'CO_UN'),\n",
       " (-9219806034649301548, datetime.datetime(2018, 1, 1, 0, 46, 13), 'CO_UN', 'CO_BA'),\n",
       " (-9216702922520912820, datetime.datetime(2018, 1, 1, 16, 3, 31), 'QU_JA', 'QU_YO')]"
      ]
     },
     "execution_count": 4,
     "metadata": {},
     "output_type": "execute_result"
    }
   ],
   "source": [
    "%sql select * from segs limit 5;"
   ]
  },
  {
   "cell_type": "markdown",
   "metadata": {},
   "source": [
    "## A Simple Aggregate Comparison\n",
    "\n",
    "<br>\n",
    "To definitively establish which dataset is more comprehensive, let us simply compare the count of `segs` and the path_total sum of `others_path`, i.e. comparing the number of BT Segments in our analysis with the sum of all paths in the OD dataset. "
   ]
  },
  {
   "cell_type": "code",
   "execution_count": 16,
   "metadata": {},
   "outputs": [
    {
     "name": "stdout",
     "output_type": "stream",
     "text": [
      "2 rows affected.\n"
     ]
    },
    {
     "data": {
      "text/html": [
       "<table>\n",
       "    <tr>\n",
       "        <th>count</th>\n",
       "    </tr>\n",
       "    <tr>\n",
       "        <td>34920</td>\n",
       "    </tr>\n",
       "    <tr>\n",
       "        <td>50281</td>\n",
       "    </tr>\n",
       "</table>"
      ],
      "text/plain": [
       "[(34920,), (50281,)]"
      ]
     },
     "execution_count": 16,
     "metadata": {},
     "output_type": "execute_result"
    }
   ],
   "source": [
    "%%sql \n",
    "\n",
    "select count(*) from segs\n",
    "\n",
    "UNION\n",
    "\n",
    "select sum(path_total-1)  from others_path where path_total >= 2; "
   ]
  },
  {
   "cell_type": "markdown",
   "metadata": {},
   "source": [
    "Therefore there are **34920** BT segments, and **50281** OD path points in total. \n",
    "\n",
    "<br>\n",
    "Now we join the two views, `segs` and `complete`. "
   ]
  },
  {
   "cell_type": "code",
   "execution_count": 27,
   "metadata": {},
   "outputs": [
    {
     "name": "stdout",
     "output_type": "stream",
     "text": [
      "5 rows affected.\n"
     ]
    },
    {
     "data": {
      "text/html": [
       "<table>\n",
       "    <tr>\n",
       "        <th>datetime_bin</th>\n",
       "        <th>userid</th>\n",
       "        <th>origin</th>\n",
       "        <th>destination</th>\n",
       "        <th>path_total</th>\n",
       "        <th>segment_start</th>\n",
       "        <th>segment_end</th>\n",
       "    </tr>\n",
       "    <tr>\n",
       "        <td>2018-01-01 10:26:25</td>\n",
       "        <td>-9221220690800223438</td>\n",
       "        <td>fb_yk</td>\n",
       "        <td>fr_un</td>\n",
       "        <td>2</td>\n",
       "        <td>FB_YK</td>\n",
       "        <td>FR_UN</td>\n",
       "    </tr>\n",
       "    <tr>\n",
       "        <td>2018-01-01 10:22:01</td>\n",
       "        <td>-9219933307520670431</td>\n",
       "        <td>fb_ba</td>\n",
       "        <td>fr_ba</td>\n",
       "        <td>2</td>\n",
       "        <td>FB_BA</td>\n",
       "        <td>FR_BA</td>\n",
       "    </tr>\n",
       "    <tr>\n",
       "        <td>2018-01-01 00:46:13</td>\n",
       "        <td>-9219806034649301548</td>\n",
       "        <td>co_un</td>\n",
       "        <td>co_ba</td>\n",
       "        <td>2</td>\n",
       "        <td>CO_BA</td>\n",
       "        <td>CO_UN</td>\n",
       "    </tr>\n",
       "    <tr>\n",
       "        <td>2018-01-01 10:24:05</td>\n",
       "        <td>-9219806034649301548</td>\n",
       "        <td>co_ba</td>\n",
       "        <td>co_un</td>\n",
       "        <td>2</td>\n",
       "        <td>CO_BA</td>\n",
       "        <td>CO_UN</td>\n",
       "    </tr>\n",
       "    <tr>\n",
       "        <td>2018-01-01 00:46:13</td>\n",
       "        <td>-9219806034649301548</td>\n",
       "        <td>co_un</td>\n",
       "        <td>co_ba</td>\n",
       "        <td>2</td>\n",
       "        <td>CO_UN</td>\n",
       "        <td>CO_BA</td>\n",
       "    </tr>\n",
       "</table>"
      ],
      "text/plain": [
       "[(datetime.datetime(2018, 1, 1, 10, 26, 25), -9221220690800223438, 'fb_yk', 'fr_un', 2, 'FB_YK', 'FR_UN'),\n",
       " (datetime.datetime(2018, 1, 1, 10, 22, 1), -9219933307520670431, 'fb_ba', 'fr_ba', 2, 'FB_BA', 'FR_BA'),\n",
       " (datetime.datetime(2018, 1, 1, 0, 46, 13), -9219806034649301548, 'co_un', 'co_ba', 2, 'CO_BA', 'CO_UN'),\n",
       " (datetime.datetime(2018, 1, 1, 10, 24, 5), -9219806034649301548, 'co_ba', 'co_un', 2, 'CO_BA', 'CO_UN'),\n",
       " (datetime.datetime(2018, 1, 1, 0, 46, 13), -9219806034649301548, 'co_un', 'co_ba', 2, 'CO_UN', 'CO_BA')]"
      ]
     },
     "execution_count": 27,
     "metadata": {},
     "output_type": "execute_result"
    }
   ],
   "source": [
    "%%sql\n",
    "SELECT complete.datetime_bin, complete.userid, complete.start as origin, complete.end as destination, complete.path_total, startpoint_name as segment_start, endpoint_name as segment_end\n",
    "FROM segs\n",
    "LEFT JOIN alouis2.complete\n",
    "ON segs.datetime_bin::date = complete.datetime_bin::date\n",
    "AND segs.userid = complete.userid\n",
    "LIMIT 5"
   ]
  },
  {
   "cell_type": "markdown",
   "metadata": {},
   "source": [
    "## Verifying Start/End Timestamp\n",
    "\n",
    "<br>\n",
    "Now we have OD information, a column for path total, and two columns representing the start and end of the corresponding segment. \n",
    "\n",
    "<br>\n",
    "Before we begin investigating discrepancies, let's verify whether the timestamps for OD Data are start or end timestamps. To do this, we select an arbitrary user id from `complete` and `segs`. If the time stamp from `complete` is equivalent to the last time stamp in `segs` for our userid, then the time stamp is an end time. Conversely, if the time stamp from `complete` is equivalent to the first time stamp in `segs` for our userid, then the time stamp is a start time."
   ]
  },
  {
   "cell_type": "code",
   "execution_count": 6,
   "metadata": {},
   "outputs": [
    {
     "name": "stdout",
     "output_type": "stream",
     "text": [
      "3 rows affected.\n"
     ]
    },
    {
     "data": {
      "text/html": [
       "<table>\n",
       "    <tr>\n",
       "        <th>userid</th>\n",
       "        <th>datetime_bin</th>\n",
       "        <th>startpoint_name</th>\n",
       "        <th>endpoint_name</th>\n",
       "    </tr>\n",
       "    <tr>\n",
       "        <td>-8424651304893524140</td>\n",
       "        <td>2018-01-01 00:06:32</td>\n",
       "        <td>DU_SP</td>\n",
       "        <td>QU_SP</td>\n",
       "    </tr>\n",
       "    <tr>\n",
       "        <td>-8424651304893524140</td>\n",
       "        <td>2018-01-01 00:09:12</td>\n",
       "        <td>QU_SP</td>\n",
       "        <td>QU_BA</td>\n",
       "    </tr>\n",
       "    <tr>\n",
       "        <td>-8424651304893524140</td>\n",
       "        <td>2018-01-01 00:10:45</td>\n",
       "        <td>QU_BA</td>\n",
       "        <td>QU_ST</td>\n",
       "    </tr>\n",
       "</table>"
      ],
      "text/plain": [
       "[(-8424651304893524140, datetime.datetime(2018, 1, 1, 0, 6, 32), 'DU_SP', 'QU_SP'),\n",
       " (-8424651304893524140, datetime.datetime(2018, 1, 1, 0, 9, 12), 'QU_SP', 'QU_BA'),\n",
       " (-8424651304893524140, datetime.datetime(2018, 1, 1, 0, 10, 45), 'QU_BA', 'QU_ST')]"
      ]
     },
     "execution_count": 6,
     "metadata": {},
     "output_type": "execute_result"
    }
   ],
   "source": [
    "%%sql\n",
    "\n",
    "SELECT * FROM segs\n",
    "WHERE userid = -8424651304893524140\n",
    "ORDER BY datetime_bin"
   ]
  },
  {
   "cell_type": "code",
   "execution_count": 7,
   "metadata": {},
   "outputs": [
    {
     "name": "stdout",
     "output_type": "stream",
     "text": [
      "1 rows affected.\n"
     ]
    },
    {
     "data": {
      "text/html": [
       "<table>\n",
       "    <tr>\n",
       "        <th>datetime_bin</th>\n",
       "        <th>userid</th>\n",
       "        <th>start</th>\n",
       "        <th>end</th>\n",
       "    </tr>\n",
       "    <tr>\n",
       "        <td>2018-01-01 00:10:45</td>\n",
       "        <td>-8424651304893524140</td>\n",
       "        <td>du_sp</td>\n",
       "        <td>qu_st</td>\n",
       "    </tr>\n",
       "</table>"
      ],
      "text/plain": [
       "[(datetime.datetime(2018, 1, 1, 0, 10, 45), -8424651304893524140, 'du_sp', 'qu_st')]"
      ]
     },
     "execution_count": 7,
     "metadata": {},
     "output_type": "execute_result"
    }
   ],
   "source": [
    "%%sql \n",
    "\n",
    "SELECT datetime_bin, userid, complete.start, complete.end FROM complete\n",
    "WHERE userid = -8424651304893524140; "
   ]
  },
  {
   "cell_type": "markdown",
   "metadata": {},
   "source": [
    "We can see from the above queries that the last time stamp from `segs` is the same as the time stamp from `complete`. Therefore, for our OD Data, we can conclude that the timestamps are ***End Times***. "
   ]
  },
  {
   "cell_type": "markdown",
   "metadata": {},
   "source": [
    "# Investigating Discrepancies\n",
    "***\n",
    "\n",
    "Now we are interested in seeing discrepancies between the number of segments per path vs the path total. Ideally, for each path of $x$ points, we would have $x-1$ segments, because each segment contains two points. \n",
    "\n",
    "\n",
    "<br> Let's investigate this by counting the segments per path via a group by clause. "
   ]
  },
  {
   "cell_type": "code",
   "execution_count": null,
   "metadata": {
    "collapsed": true
   },
   "outputs": [],
   "source": [
    "%%sql \n",
    "\n",
    "WITH final as(\n",
    "SELECT complete.datetime_bin, complete.userid, complete.start as origin, complete.end as destination, complete.path_total, startpoint_name as segment_start, endpoint_name as segment_end\n",
    "FROM segs\n",
    "LEFT JOIN alouis2.complete\n",
    "ON segs.datetime_bin::date = complete.datetime_bin::date\n",
    "AND segs.userid = complete.userid\n",
    "WHERE path_total > 1)\n",
    "\n",
    "SELECT datetime_bin, userid, count(distinct(final.*)) as segment_total, origin, destination, path_total\n",
    "FROM final\n",
    "GROUP BY datetime_bin, userid, origin, destination, path_total\n",
    "LIMIT 5"
   ]
  },
  {
   "cell_type": "markdown",
   "metadata": {},
   "source": [
    "Just from this sample of 20 rows from our group by query, we can see that discrepancies between segment data and OD data exist. Let's see what percentage of these segment/od combinations are ideal, i.e for a OD path with path total $x$, the segment total is $x-1$. \n",
    "\n",
    "<br>\n",
    "Note that we have **13115** `userid` and `datetime_bin` combinations. "
   ]
  },
  {
   "cell_type": "code",
   "execution_count": 8,
   "metadata": {},
   "outputs": [
    {
     "name": "stdout",
     "output_type": "stream",
     "text": [
      "1 rows affected.\n"
     ]
    },
    {
     "data": {
      "text/html": [
       "<table>\n",
       "    <tr>\n",
       "        <th>count</th>\n",
       "    </tr>\n",
       "    <tr>\n",
       "        <td>3191</td>\n",
       "    </tr>\n",
       "</table>"
      ],
      "text/plain": [
       "[(3191,)]"
      ]
     },
     "execution_count": 8,
     "metadata": {},
     "output_type": "execute_result"
    }
   ],
   "source": [
    "%%sql\n",
    "WITH ideals as (WITH final as(\n",
    "SELECT complete.datetime_bin, complete.userid, complete.start as origin, complete.end as destination, complete.path_total, startpoint_name as segment_start, endpoint_name as segment_end\n",
    "FROM segs\n",
    "LEFT JOIN alouis2.complete\n",
    "ON segs.datetime_bin::date = complete.datetime_bin::date\n",
    "AND segs.userid = complete.userid\n",
    "WHERE path_total > 1)\n",
    "\n",
    "                \n",
    "SELECT datetime_bin, userid, count(distinct(final.*)) as segment_total, origin, destination, path_total\n",
    "FROM final\n",
    "GROUP BY datetime_bin, userid, origin, destination, path_total\n",
    "having count(distinct(final.*)) = path_total -1)  \n",
    "\n",
    "select count(*) from ideals; "
   ]
  },
  {
   "cell_type": "markdown",
   "metadata": {},
   "source": [
    "Let's call these 'ideal' combos perfect paths. This means that of 13115 paths, 3191 are perfect. \n",
    "\n",
    "<br>\n",
    "Therefore approximately **24.3**% of Origin/Destination Paths can be represented via Bluetooth Segment data. "
   ]
  },
  {
   "cell_type": "markdown",
   "metadata": {},
   "source": [
    "What about bluetooth segments that are missing 1 segment per path? Or 2 segments per path? Or have more segments than path points?\n",
    "\n",
    "We define our discrepancy to be `segment_total` - `path_total`. We wish to investigate discrepancies that are not -1, i.e. those that are imperfect"
   ]
  },
  {
   "cell_type": "code",
   "execution_count": 10,
   "metadata": {},
   "outputs": [
    {
     "name": "stderr",
     "output_type": "stream",
     "text": [
      "C:\\Users\\alouis2\\AppData\\Local\\Continuum\\anaconda3\\lib\\site-packages\\IPython\\core\\interactiveshell.py:2862: FutureWarning: \n",
      "mpl_style had been deprecated and will be removed in a future version.\n",
      "Use `matplotlib.pyplot.style.use` instead.\n",
      "\n",
      "  exec(code_obj, self.user_global_ns, self.user_ns)\n"
     ]
    },
    {
     "data": {
      "image/png": "[encoded data removed]",
      "text/plain": [
       "<matplotlib.figure.Figure at 0xad6d400>"
      ]
     },
     "metadata": {},
     "output_type": "display_data"
    }
   ],
   "source": [
    "y = [562, 548, 102, 126, 108, 162, 196, 210, 260, 369, 455, 577, 935, 1479, 3191, 1739, 1290, 559, 161, 86]\n",
    "x = [13, 12, 11, 10, 9, 8, 7, 6, 5, 4, 3, 2, 1, 0, -1, -2, -3, -4, -5, -6]\n",
    "labels = [str(i) for i in x]\n",
    "labels[1] = '12-20'\n",
    "labels[0] = '>20'\n",
    "labels[(len(labels)-1)] = '<-6'\n",
    "\n",
    "plt.figure(figsize = (15,7))\n",
    "plt.xticks(x, labels)\n",
    "pd.options.display.mpl_style = 'default'\n",
    "plt.bar(x, y, align='center', alpha=0.5)\n",
    "plt.rc('xtick', labelsize=20) \n",
    "plt.rc('ytick', labelsize=20) \n",
    "plt.title(\"Number of Discrepancies vs Discrepancy Size\", fontsize = 25)\n",
    "plt.tight_layout()\n",
    "plt.show()\n"
   ]
  },
  {
   "cell_type": "markdown",
   "metadata": {},
   "source": [
    "From the above graph, it seems as though as `segment_total` appraches `path_total`, the count increases. More interestingly, as there is an increasing positive difference between `segment_total` and `path_total`, the count decreases. Note that we excluded individual results for discrepancies of size 12 and onwards for the sake space. "
   ]
  },
  {
   "cell_type": "markdown",
   "metadata": {
    "collapsed": true
   },
   "source": [
    "# Digging Deeper- Changing Time Intervals\n",
    "***\n",
    "\n",
    "The above analysis gives us a good rough idea of what is going on with the data. Clearly not all bluetooth segments represent OD paths, and discrepancies between these data sets can vary depending on other elements in the date (i.e. path total). \n",
    "\n",
    "<br>\n",
    "#### *Joining on Date may cause underrepresentation*\n",
    "\n",
    "<br>\n",
    "Notice how we are joining OD and segment data on two variables: date, and userid. We join on date as the time stamps for the data sets vary greatly. Now consider the following scenario:\n",
    "A car its path at 1 AM on a Monday. The bluetooth segment data shows segments with timestamps at 11:40 PM Sunday, 12:30 AM Monday, and 1 AM Monday. By joining on date, in this scenario, the Sunday segment would be missing on the join.\n",
    "\n",
    "<br> \n",
    "We hypothesize that this may be a reason for the under representation of segment data. To mitigate this, we will perform the join on a smaller time interval. Determining the interval will require some investigation. "
   ]
  },
  {
   "cell_type": "markdown",
   "metadata": {},
   "source": [
    "The logic of determining the interval is as follows:\n",
    "\n",
    "* We Left join `segments` and `complete` on `datetime_bin` and `userid`, only for userid's with multiple timestamps. \n",
    "* We look for nulls in the above query. We find userid's with a large amount of null values that also contain a joined timestamp and userid from `complete`. \n",
    "* We look at the beginning of the nulls and the end, then we calculate the difference. This will give us an appropriate interval for our interest. \n",
    "\n",
    "<br>\n",
    "We complete the join of interest by creating a view called `joined`. A sample of the first few rows can be seen below."
   ]
  },
  {
   "cell_type": "code",
   "execution_count": 11,
   "metadata": {
    "scrolled": true
   },
   "outputs": [
    {
     "name": "stdout",
     "output_type": "stream",
     "text": [
      "5 rows affected.\n"
     ]
    },
    {
     "data": {
      "text/html": [
       "<table>\n",
       "    <tr>\n",
       "        <th>userid</th>\n",
       "        <th>datetime_bin</th>\n",
       "        <th>startpoint_name</th>\n",
       "        <th>endpoint_name</th>\n",
       "        <th>cdatetime_bin</th>\n",
       "        <th>cuserid</th>\n",
       "    </tr>\n",
       "    <tr>\n",
       "        <td>-9219806034649301548</td>\n",
       "        <td>2018-01-01 00:46:13</td>\n",
       "        <td>CO_UN</td>\n",
       "        <td>CO_BA</td>\n",
       "        <td>2018-01-01 00:46:13</td>\n",
       "        <td>-9219806034649301548</td>\n",
       "    </tr>\n",
       "    <tr>\n",
       "        <td>-9219806034649301548</td>\n",
       "        <td>2018-01-01 10:24:05</td>\n",
       "        <td>CO_BA</td>\n",
       "        <td>CO_UN</td>\n",
       "        <td>2018-01-01 10:24:05</td>\n",
       "        <td>-9219806034649301548</td>\n",
       "    </tr>\n",
       "    <tr>\n",
       "        <td>-9216702922520912820</td>\n",
       "        <td>2018-01-01 16:03:31</td>\n",
       "        <td>QU_JA</td>\n",
       "        <td>QU_YO</td>\n",
       "        <td>None</td>\n",
       "        <td>None</td>\n",
       "    </tr>\n",
       "    <tr>\n",
       "        <td>-9216702922520912820</td>\n",
       "        <td>2018-01-01 16:09:26</td>\n",
       "        <td>QU_YO</td>\n",
       "        <td>QU_UN</td>\n",
       "        <td>None</td>\n",
       "        <td>None</td>\n",
       "    </tr>\n",
       "    <tr>\n",
       "        <td>-9214166793301162557</td>\n",
       "        <td>2018-01-01 23:27:13</td>\n",
       "        <td>FB_SP</td>\n",
       "        <td>FR_SP</td>\n",
       "        <td>None</td>\n",
       "        <td>None</td>\n",
       "    </tr>\n",
       "</table>"
      ],
      "text/plain": [
       "[(-9219806034649301548, datetime.datetime(2018, 1, 1, 0, 46, 13), 'CO_UN', 'CO_BA', datetime.datetime(2018, 1, 1, 0, 46, 13), -9219806034649301548),\n",
       " (-9219806034649301548, datetime.datetime(2018, 1, 1, 10, 24, 5), 'CO_BA', 'CO_UN', datetime.datetime(2018, 1, 1, 10, 24, 5), -9219806034649301548),\n",
       " (-9216702922520912820, datetime.datetime(2018, 1, 1, 16, 3, 31), 'QU_JA', 'QU_YO', None, None),\n",
       " (-9216702922520912820, datetime.datetime(2018, 1, 1, 16, 9, 26), 'QU_YO', 'QU_UN', None, None),\n",
       " (-9214166793301162557, datetime.datetime(2018, 1, 1, 23, 27, 13), 'FB_SP', 'FR_SP', None, None)]"
      ]
     },
     "execution_count": 11,
     "metadata": {},
     "output_type": "execute_result"
    }
   ],
   "source": [
    "%%sql\n",
    "\n",
    "select * from joined limit 5; "
   ]
  },
  {
   "cell_type": "markdown",
   "metadata": {},
   "source": [
    "We find the userid's with the most nulls by  executing the following query: "
   ]
  },
  {
   "cell_type": "code",
   "execution_count": 12,
   "metadata": {},
   "outputs": [
    {
     "name": "stdout",
     "output_type": "stream",
     "text": [
      "5 rows affected.\n"
     ]
    },
    {
     "data": {
      "text/html": [
       "<table>\n",
       "    <tr>\n",
       "        <th>userid</th>\n",
       "        <th>c</th>\n",
       "    </tr>\n",
       "    <tr>\n",
       "        <td>1983310123336577193</td>\n",
       "        <td>167</td>\n",
       "    </tr>\n",
       "    <tr>\n",
       "        <td>1207754401363453046</td>\n",
       "        <td>149</td>\n",
       "    </tr>\n",
       "    <tr>\n",
       "        <td>6673949081404878332</td>\n",
       "        <td>125</td>\n",
       "    </tr>\n",
       "    <tr>\n",
       "        <td>-5399468081705131680</td>\n",
       "        <td>94</td>\n",
       "    </tr>\n",
       "    <tr>\n",
       "        <td>-6043027741035473340</td>\n",
       "        <td>93</td>\n",
       "    </tr>\n",
       "</table>"
      ],
      "text/plain": [
       "[(1983310123336577193, 167),\n",
       " (1207754401363453046, 149),\n",
       " (6673949081404878332, 125),\n",
       " (-5399468081705131680, 94),\n",
       " (-6043027741035473340, 93)]"
      ]
     },
     "execution_count": 12,
     "metadata": {},
     "output_type": "execute_result"
    }
   ],
   "source": [
    "%%sql \n",
    "select userid, count(userid) as c\n",
    "from joined\n",
    "where cuserid is null\n",
    "group by userid\n",
    "order by c desc\n",
    "limit 5"
   ]
  },
  {
   "cell_type": "markdown",
   "metadata": {},
   "source": [
    "The first three are likely to be taxis. We find the userid with a count of 94. "
   ]
  },
  {
   "cell_type": "markdown",
   "metadata": {},
   "source": [
    "Upon investigation of `joined` where userid = -5399468081705131680, it seems the interval (2018-01-01 03:25:03, 2018-01-01 05:04:08) has relatively smooth and continuous timestamps inbetween. The interval length is approximately 1.5 hours. We choose 1.5 hours as hour interval for analysis. "
   ]
  },
  {
   "cell_type": "code",
   "execution_count": 24,
   "metadata": {
    "scrolled": true
   },
   "outputs": [
    {
     "name": "stdout",
     "output_type": "stream",
     "text": [
      "5 rows affected.\n"
     ]
    },
    {
     "data": {
      "text/html": [
       "<table>\n",
       "    <tr>\n",
       "        <th>datetime_bin</th>\n",
       "        <th>userid</th>\n",
       "        <th>segment_total</th>\n",
       "        <th>origin</th>\n",
       "        <th>destination</th>\n",
       "        <th>path_total</th>\n",
       "    </tr>\n",
       "    <tr>\n",
       "        <td>2018-01-01 00:00:17</td>\n",
       "        <td>-4109236477481291089</td>\n",
       "        <td>1</td>\n",
       "        <td>du_yo</td>\n",
       "        <td>du_ja</td>\n",
       "        <td>2</td>\n",
       "    </tr>\n",
       "    <tr>\n",
       "        <td>2018-01-01 00:01:11</td>\n",
       "        <td>-5833274664015405017</td>\n",
       "        <td>1</td>\n",
       "        <td>du_ja</td>\n",
       "        <td>du_yo</td>\n",
       "        <td>2</td>\n",
       "    </tr>\n",
       "    <tr>\n",
       "        <td>2018-01-01 00:02:08</td>\n",
       "        <td>8147950039115731659</td>\n",
       "        <td>1</td>\n",
       "        <td>du_pa</td>\n",
       "        <td>du_ja</td>\n",
       "        <td>2</td>\n",
       "    </tr>\n",
       "    <tr>\n",
       "        <td>2018-01-01 00:02:47</td>\n",
       "        <td>1200906276903573645</td>\n",
       "        <td>1</td>\n",
       "        <td>fr_ja</td>\n",
       "        <td>du_ja</td>\n",
       "        <td>5</td>\n",
       "    </tr>\n",
       "    <tr>\n",
       "        <td>2018-01-01 00:02:59</td>\n",
       "        <td>-4164760066955224419</td>\n",
       "        <td>2</td>\n",
       "        <td>du_df</td>\n",
       "        <td>qu_ro</td>\n",
       "        <td>3</td>\n",
       "    </tr>\n",
       "</table>"
      ],
      "text/plain": [
       "[(datetime.datetime(2018, 1, 1, 0, 0, 17), -4109236477481291089, 1, 'du_yo', 'du_ja', 2),\n",
       " (datetime.datetime(2018, 1, 1, 0, 1, 11), -5833274664015405017, 1, 'du_ja', 'du_yo', 2),\n",
       " (datetime.datetime(2018, 1, 1, 0, 2, 8), 8147950039115731659, 1, 'du_pa', 'du_ja', 2),\n",
       " (datetime.datetime(2018, 1, 1, 0, 2, 47), 1200906276903573645, 1, 'fr_ja', 'du_ja', 5),\n",
       " (datetime.datetime(2018, 1, 1, 0, 2, 59), -4164760066955224419, 2, 'du_df', 'qu_ro', 3)]"
      ]
     },
     "execution_count": 24,
     "metadata": {},
     "output_type": "execute_result"
    }
   ],
   "source": [
    "%%sql\n",
    "\n",
    "WITH final as(\n",
    "SELECT complete.datetime_bin, complete.userid, complete.start as origin, complete.end as destination, complete.path_total, startpoint_name as segment_start, endpoint_name as segment_end\n",
    "FROM segs\n",
    "LEFT JOIN alouis2.complete\n",
    "ON segs.datetime_bin > complete.datetime_bin - INTERVAL '1.5 hour'\n",
    "AND segs.datetime_bin <= complete.datetime_bin\n",
    "AND segs.userid = complete.userid\n",
    "WHERE path_total > 1)\n",
    "\n",
    "SELECT datetime_bin, userid, count(distinct(final.*)) as segment_total, origin, destination, path_total\n",
    "FROM final\n",
    "GROUP BY datetime_bin, userid, origin, destination, path_total\n",
    "LIMIT 5"
   ]
  },
  {
   "cell_type": "markdown",
   "metadata": {},
   "source": [
    "There are 12205 rows in this table (less than when we joined by date, which makes sense). We find the combos that are a perfect match. \n"
   ]
  },
  {
   "cell_type": "code",
   "execution_count": 60,
   "metadata": {},
   "outputs": [
    {
     "name": "stdout",
     "output_type": "stream",
     "text": [
      "1 rows affected.\n"
     ]
    },
    {
     "data": {
      "text/html": [
       "<table>\n",
       "    <tr>\n",
       "        <th>count</th>\n",
       "    </tr>\n",
       "    <tr>\n",
       "        <td>4261</td>\n",
       "    </tr>\n",
       "</table>"
      ],
      "text/plain": [
       "[(4261,)]"
      ]
     },
     "execution_count": 60,
     "metadata": {},
     "output_type": "execute_result"
    }
   ],
   "source": [
    "%%sql\n",
    "WITH ideals as (WITH final as(\n",
    "SELECT complete.datetime_bin, complete.userid, complete.start as origin, complete.end as destination, complete.path_total, startpoint_name as segment_start, endpoint_name as segment_end\n",
    "FROM segs\n",
    "LEFT JOIN alouis2.complete\n",
    "ON segs.datetime_bin > complete.datetime_bin - INTERVAL '1.5 hour'\n",
    "AND segs.datetime_bin <= complete.datetime_bin\n",
    "AND segs.userid = complete.userid\n",
    "WHERE path_total > 1)\n",
    "\n",
    "                \n",
    "SELECT datetime_bin, userid, count(distinct(final.*)) as segment_total, origin, destination, path_total\n",
    "FROM final\n",
    "GROUP BY datetime_bin, userid, origin, destination, path_total\n",
    "having count(distinct(final.*)) = path_total -1)  \n",
    "\n",
    "select count(*) from ideals; "
   ]
  },
  {
   "cell_type": "markdown",
   "metadata": {},
   "source": [
    "There are 4261 rows in this table. 4261/12205 = 35%. This is 10% higher than our previous data. \n",
    "\n",
    "\n",
    "<br>\n",
    "This is a good improvement from our previous query. Using our new query, we will investigate the perfect matches, i.e. the segments that perfectly represent an OD Path. "
   ]
  },
  {
   "cell_type": "markdown",
   "metadata": {},
   "source": [
    "We rerun discrepancy size vs number of discrepancies with our newly selected time interval. \n"
   ]
  },
  {
   "cell_type": "code",
   "execution_count": 14,
   "metadata": {},
   "outputs": [
    {
     "name": "stderr",
     "output_type": "stream",
     "text": [
      "C:\\Users\\alouis2\\AppData\\Local\\Continuum\\anaconda3\\lib\\site-packages\\IPython\\core\\interactiveshell.py:2862: FutureWarning: \n",
      "mpl_style had been deprecated and will be removed in a future version.\n",
      "Use `matplotlib.pyplot.style.use` instead.\n",
      "\n",
      "  exec(code_obj, self.user_global_ns, self.user_ns)\n"
     ]
    },
    {
     "data": {
      "image/png": "[encoded data removed]",
      "text/plain": [
       "<matplotlib.figure.Figure at 0xb5dcf60>"
      ]
     },
     "metadata": {},
     "output_type": "display_data"
    }
   ],
   "source": [
    "y = [1, 9, 8, 14, 8, 20, 24, 42, 67, 91,  141, 190, 325, 657, 4261, 2452, 2165, 1095, 373, 261]\n",
    "x = [13, 12, 11, 10, 9, 8, 7, 6, 5, 4, 3, 2, 1, 0, -1, -2, -3, -4, -5, -6]\n",
    "\n",
    "labels = [str(i) for i in x]\n",
    "labels[1] = '12-20'\n",
    "labels[0] = '>20'\n",
    "labels[(len(labels)-1)] = '<-5'\n",
    "\n",
    "plt.figure(figsize = (15,7))\n",
    "plt.xticks(x, labels)\n",
    "pd.options.display.mpl_style = 'default'\n",
    "plt.bar(x, y, align='center', alpha=0.5)\n",
    "plt.rc('xtick', labelsize=20) \n",
    "plt.rc('ytick', labelsize=20) \n",
    "plt.title(\"Number of Discrepancies vs Discrepancy Size\", fontsize = 25)\n",
    "plt.xlabel(\"Discrepancy Size\")\n",
    "plt.ylabel(\"Number of Discrepancies\")\n",
    "plt.tight_layout()\n",
    "plt.show()"
   ]
  },
  {
   "cell_type": "markdown",
   "metadata": {},
   "source": [
    "This graph is much different than our previous time interval. The drop from -1 to 0 is extremely sharp, and overall there are are fewer positive discrepancy sizes, i.e. where `segment_total` $>$ `path_total`. \n",
    "\n",
    "<br>\n",
    "We hypothesize that as path total increases, the percentage of segment data that represents OD data decreases. Let's graph this: "
   ]
  },
  {
   "cell_type": "code",
   "execution_count": 15,
   "metadata": {},
   "outputs": [
    {
     "name": "stderr",
     "output_type": "stream",
     "text": [
      "C:\\Users\\alouis2\\AppData\\Local\\Continuum\\anaconda3\\lib\\site-packages\\IPython\\core\\interactiveshell.py:2862: FutureWarning: \n",
      "mpl_style had been deprecated and will be removed in a future version.\n",
      "Use `matplotlib.pyplot.style.use` instead.\n",
      "\n",
      "  exec(code_obj, self.user_global_ns, self.user_ns)\n"
     ]
    },
    {
     "data": {
      "image/png": "[encoded data removed]",
      "text/plain": [
       "<matplotlib.figure.Figure at 0xaab82b0>"
      ]
     },
     "metadata": {},
     "output_type": "display_data"
    }
   ],
   "source": [
    "\n",
    "y = [2475/2952, 927/2276,  371/1737, 179/1463,  98/1245, 64/781, 37/552, 29/313, 16/208, 65/678]\n",
    "x = [2, 3, 4, 5, 6, 7, 8, 9, 10, 11]\n",
    "plt.figure(figsize = (15,7))\n",
    "pd.options.display.mpl_style = 'default'\n",
    "plt.bar(x, y, align='center', alpha=0.5, color = 'red')\n",
    "labels = [str(i) for i in x]\n",
    "labels[len(labels)-1] = '>10' \n",
    "plt.rc('xtick', labelsize=20) \n",
    "plt.rc('ytick', labelsize=20) \n",
    "plt.xticks(x, labels)\n",
    "plt.xlabel(\"Path Total\")\n",
    "plt.ylabel(\"Percentage of Segment Data Representing OD Data\")\n",
    "plt.title(\"Percentage of Segment Data Representing OD Data vs Path Totals\", fontsize = 25)\n",
    "#plt.tight_layout()\n",
    "plt.show()\n"
   ]
  },
  {
   "cell_type": "markdown",
   "metadata": {},
   "source": [
    "It seems as though our hypothesis is correct- as path total increases, i.e. a path becomes more complex, the percentage of bluetooth segment data that accurately represents OD data decreases. "
   ]
  },
  {
   "cell_type": "markdown",
   "metadata": {},
   "source": [
    "## ***High-Level Summary (With Interval Change)***\n",
    "\n",
    "<br>\n",
    "Changing the time interval on which BT Segment and OD data match changed the results of our analysis significantly: \n",
    "\n",
    "<br>\n",
    "* 35% of OD Data can be potentially represented via Bluetooth Segments: i.e. for a path total of x, there are x-1 segments. \n",
    "\n",
    "<br>\n",
    "* With regards to the 65% that do not match, a majority of this are just missing 1-2 segments. However, there are paths that are missing 5 or more BT segments\n",
    "\n",
    "<br>\n",
    "* For a simple 'A to B' path, 84% of data are accurately represented. However, for path lengths of 3 (i.e. simply one interesection more than an A to B path), this number drops to around 40%. \n",
    "\n",
    "<br>\n",
    "* As path totals become more complicated, the percentage of BT Segments representing OD Data drecreses. \n"
   ]
  },
  {
   "cell_type": "markdown",
   "metadata": {},
   "source": [
    "# Investigating Matches\n",
    "***\n",
    "\n",
    "Before we begin to analyze perfect segment/od data points, we summarize the matches we have in a view in sql. We create three views to help with this, and we primarily use the view `perfectcombos` to analyze our matches. Here's what `perfectcombos` looks like: "
   ]
  },
  {
   "cell_type": "code",
   "execution_count": 43,
   "metadata": {
    "scrolled": true
   },
   "outputs": [
    {
     "name": "stdout",
     "output_type": "stream",
     "text": [
      "5 rows affected.\n"
     ]
    },
    {
     "data": {
      "text/html": [
       "<table>\n",
       "    <tr>\n",
       "        <th>datetime_bin</th>\n",
       "        <th>userid</th>\n",
       "        <th>origin</th>\n",
       "        <th>destination</th>\n",
       "        <th>path_total</th>\n",
       "        <th>segment_start</th>\n",
       "        <th>segment_end</th>\n",
       "    </tr>\n",
       "    <tr>\n",
       "        <td>2018-01-01 10:26:25</td>\n",
       "        <td>-9221220690800223438</td>\n",
       "        <td>fb_yk</td>\n",
       "        <td>fr_un</td>\n",
       "        <td>2</td>\n",
       "        <td>FB_YK</td>\n",
       "        <td>FR_UN</td>\n",
       "    </tr>\n",
       "    <tr>\n",
       "        <td>2018-01-01 10:22:01</td>\n",
       "        <td>-9219933307520670431</td>\n",
       "        <td>fb_ba</td>\n",
       "        <td>fr_ba</td>\n",
       "        <td>2</td>\n",
       "        <td>FB_BA</td>\n",
       "        <td>FR_BA</td>\n",
       "    </tr>\n",
       "    <tr>\n",
       "        <td>2018-01-01 10:24:05</td>\n",
       "        <td>-9219806034649301548</td>\n",
       "        <td>co_ba</td>\n",
       "        <td>co_un</td>\n",
       "        <td>2</td>\n",
       "        <td>CO_BA</td>\n",
       "        <td>CO_UN</td>\n",
       "    </tr>\n",
       "    <tr>\n",
       "        <td>2018-01-01 00:46:13</td>\n",
       "        <td>-9219806034649301548</td>\n",
       "        <td>co_un</td>\n",
       "        <td>co_ba</td>\n",
       "        <td>2</td>\n",
       "        <td>CO_UN</td>\n",
       "        <td>CO_BA</td>\n",
       "    </tr>\n",
       "    <tr>\n",
       "        <td>2018-01-01 16:09:44</td>\n",
       "        <td>-9216702922520912820</td>\n",
       "        <td>qu_ja</td>\n",
       "        <td>qu_un</td>\n",
       "        <td>3</td>\n",
       "        <td>QU_YO</td>\n",
       "        <td>QU_UN</td>\n",
       "    </tr>\n",
       "</table>"
      ],
      "text/plain": [
       "[(datetime.datetime(2018, 1, 1, 10, 26, 25), -9221220690800223438, 'fb_yk', 'fr_un', 2, 'FB_YK', 'FR_UN'),\n",
       " (datetime.datetime(2018, 1, 1, 10, 22, 1), -9219933307520670431, 'fb_ba', 'fr_ba', 2, 'FB_BA', 'FR_BA'),\n",
       " (datetime.datetime(2018, 1, 1, 10, 24, 5), -9219806034649301548, 'co_ba', 'co_un', 2, 'CO_BA', 'CO_UN'),\n",
       " (datetime.datetime(2018, 1, 1, 0, 46, 13), -9219806034649301548, 'co_un', 'co_ba', 2, 'CO_UN', 'CO_BA'),\n",
       " (datetime.datetime(2018, 1, 1, 16, 9, 44), -9216702922520912820, 'qu_ja', 'qu_un', 3, 'QU_YO', 'QU_UN')]"
      ]
     },
     "execution_count": 43,
     "metadata": {},
     "output_type": "execute_result"
    }
   ],
   "source": [
    "%%sql\n",
    "\n",
    "select * from perfectcombos limit 5; "
   ]
  },
  {
   "cell_type": "markdown",
   "metadata": {},
   "source": [
    "Essentially, this view is a table containing every OD pair that matches with bluetooth segment data, i.e. $x-1$ segment combos for each path_total $x$. Along with this is the end timestmap and userid. "
   ]
  },
  {
   "cell_type": "markdown",
   "metadata": {},
   "source": [
    "Our general goal is to see whether these segments correspond to the path the vehicle took in our OD data. Are they the same? If not, how big is the discrepancy? Before we answer such questions, we need to pivot our table `others_path`, as the binary matrix is extremely difficult to read. We pivot it by creating a new column `path` containing a list of strings of all the points the vehicle passes along the path. The code for this can be found in the `pivot.ipynb`. Here is our resulting table, which we call `others_pivot`. "
   ]
  },
  {
   "cell_type": "code",
   "execution_count": 44,
   "metadata": {
    "scrolled": true
   },
   "outputs": [
    {
     "name": "stdout",
     "output_type": "stream",
     "text": [
      "5 rows affected.\n"
     ]
    },
    {
     "data": {
      "text/html": [
       "<table>\n",
       "    <tr>\n",
       "        <th>datetime_bin</th>\n",
       "        <th>userid</th>\n",
       "        <th>start</th>\n",
       "        <th>end</th>\n",
       "        <th>path</th>\n",
       "        <th>path_total</th>\n",
       "    </tr>\n",
       "    <tr>\n",
       "        <td>2018-01-01 00:00:17</td>\n",
       "        <td>-4109236477481291089</td>\n",
       "        <td>du_yo</td>\n",
       "        <td>du_ja</td>\n",
       "        <td>[&#x27;du_yo&#x27;, &#x27;du_ja&#x27;]</td>\n",
       "        <td>2</td>\n",
       "    </tr>\n",
       "    <tr>\n",
       "        <td>2018-01-01 00:01:08</td>\n",
       "        <td>-1672501126208601408</td>\n",
       "        <td>du_pa</td>\n",
       "        <td>qu_bv</td>\n",
       "        <td>[&#x27;du_pa&#x27;, &#x27;qu_bv&#x27;]</td>\n",
       "        <td>2</td>\n",
       "    </tr>\n",
       "    <tr>\n",
       "        <td>2018-01-01 00:01:11</td>\n",
       "        <td>-5833274664015405017</td>\n",
       "        <td>du_ja</td>\n",
       "        <td>du_yo</td>\n",
       "        <td>[&#x27;du_ja&#x27;, &#x27;du_yo&#x27;]</td>\n",
       "        <td>2</td>\n",
       "    </tr>\n",
       "    <tr>\n",
       "        <td>2018-01-01 00:02:08</td>\n",
       "        <td>8147950039115731659</td>\n",
       "        <td>du_pa</td>\n",
       "        <td>du_ja</td>\n",
       "        <td>[&#x27;du_pa&#x27;, &#x27;du_ja&#x27;]</td>\n",
       "        <td>2</td>\n",
       "    </tr>\n",
       "    <tr>\n",
       "        <td>2018-01-01 00:02:11</td>\n",
       "        <td>2538540623439968621</td>\n",
       "        <td>kn_df</td>\n",
       "        <td>du_df</td>\n",
       "        <td>[&#x27;kn_df&#x27;, &#x27;du_df&#x27;]</td>\n",
       "        <td>2</td>\n",
       "    </tr>\n",
       "</table>"
      ],
      "text/plain": [
       "[(datetime.datetime(2018, 1, 1, 0, 0, 17), -4109236477481291089, 'du_yo', 'du_ja', \"['du_yo', 'du_ja']\", 2),\n",
       " (datetime.datetime(2018, 1, 1, 0, 1, 8), -1672501126208601408, 'du_pa', 'qu_bv', \"['du_pa', 'qu_bv']\", 2),\n",
       " (datetime.datetime(2018, 1, 1, 0, 1, 11), -5833274664015405017, 'du_ja', 'du_yo', \"['du_ja', 'du_yo']\", 2),\n",
       " (datetime.datetime(2018, 1, 1, 0, 2, 8), 8147950039115731659, 'du_pa', 'du_ja', \"['du_pa', 'du_ja']\", 2),\n",
       " (datetime.datetime(2018, 1, 1, 0, 2, 11), 2538540623439968621, 'kn_df', 'du_df', \"['kn_df', 'du_df']\", 2)]"
      ]
     },
     "execution_count": 44,
     "metadata": {},
     "output_type": "execute_result"
    }
   ],
   "source": [
    "%%sql\n",
    "select * from others_pivot limit 5;"
   ]
  },
  {
   "cell_type": "markdown",
   "metadata": {},
   "source": [
    "Much better. The data is much more easier to read. Now, we join this data with our view with matches, `perfectcombos`. We will read this into a pandas dataframe as we will use pandas to analyze this join. "
   ]
  },
  {
   "cell_type": "code",
   "execution_count": 45,
   "metadata": {
    "scrolled": true
   },
   "outputs": [
    {
     "data": {
      "text/html": [
       "<div>\n",
       "<style>\n",
       "    .dataframe thead tr:only-child th {\n",
       "        text-align: right;\n",
       "    }\n",
       "\n",
       "    .dataframe thead th {\n",
       "        text-align: left;\n",
       "    }\n",
       "\n",
       "    .dataframe tbody tr th {\n",
       "        vertical-align: top;\n",
       "    }\n",
       "</style>\n",
       "<table border=\"1\" class=\"dataframe\">\n",
       "  <thead>\n",
       "    <tr style=\"text-align: right;\">\n",
       "      <th></th>\n",
       "      <th>datetime_bin</th>\n",
       "      <th>userid</th>\n",
       "      <th>path_total</th>\n",
       "      <th>origin</th>\n",
       "      <th>destination</th>\n",
       "      <th>segment_start</th>\n",
       "      <th>segment_end</th>\n",
       "      <th>start</th>\n",
       "      <th>end</th>\n",
       "      <th>path</th>\n",
       "    </tr>\n",
       "  </thead>\n",
       "  <tbody>\n",
       "    <tr>\n",
       "      <th>0</th>\n",
       "      <td>2018-01-01 10:26:25</td>\n",
       "      <td>-9221220690800223438</td>\n",
       "      <td>2</td>\n",
       "      <td>fb_yk</td>\n",
       "      <td>fr_un</td>\n",
       "      <td>FB_YK</td>\n",
       "      <td>FR_UN</td>\n",
       "      <td>fb_yk</td>\n",
       "      <td>fr_un</td>\n",
       "      <td>['fb_yk', 'fr_un']</td>\n",
       "    </tr>\n",
       "    <tr>\n",
       "      <th>1</th>\n",
       "      <td>2018-01-01 10:22:01</td>\n",
       "      <td>-9219933307520670431</td>\n",
       "      <td>2</td>\n",
       "      <td>fb_ba</td>\n",
       "      <td>fr_ba</td>\n",
       "      <td>FB_BA</td>\n",
       "      <td>FR_BA</td>\n",
       "      <td>fb_ba</td>\n",
       "      <td>fr_ba</td>\n",
       "      <td>['fb_ba', 'fr_ba']</td>\n",
       "    </tr>\n",
       "    <tr>\n",
       "      <th>2</th>\n",
       "      <td>2018-01-01 10:24:05</td>\n",
       "      <td>-9219806034649301548</td>\n",
       "      <td>2</td>\n",
       "      <td>co_ba</td>\n",
       "      <td>co_un</td>\n",
       "      <td>CO_BA</td>\n",
       "      <td>CO_UN</td>\n",
       "      <td>co_ba</td>\n",
       "      <td>co_un</td>\n",
       "      <td>['co_ba', 'co_un']</td>\n",
       "    </tr>\n",
       "    <tr>\n",
       "      <th>3</th>\n",
       "      <td>2018-01-01 00:46:13</td>\n",
       "      <td>-9219806034649301548</td>\n",
       "      <td>2</td>\n",
       "      <td>co_un</td>\n",
       "      <td>co_ba</td>\n",
       "      <td>CO_UN</td>\n",
       "      <td>CO_BA</td>\n",
       "      <td>co_un</td>\n",
       "      <td>co_ba</td>\n",
       "      <td>['co_un', 'co_ba']</td>\n",
       "    </tr>\n",
       "    <tr>\n",
       "      <th>4</th>\n",
       "      <td>2018-01-01 16:09:44</td>\n",
       "      <td>-9216702922520912820</td>\n",
       "      <td>3</td>\n",
       "      <td>qu_ja</td>\n",
       "      <td>qu_un</td>\n",
       "      <td>QU_YO</td>\n",
       "      <td>QU_UN</td>\n",
       "      <td>qu_ja</td>\n",
       "      <td>qu_un</td>\n",
       "      <td>['qu_ja', 'qu_yo', 'qu_un']</td>\n",
       "    </tr>\n",
       "  </tbody>\n",
       "</table>\n",
       "</div>"
      ],
      "text/plain": [
       "         datetime_bin               userid  path_total origin destination  \\\n",
       "0 2018-01-01 10:26:25 -9221220690800223438           2  fb_yk       fr_un   \n",
       "1 2018-01-01 10:22:01 -9219933307520670431           2  fb_ba       fr_ba   \n",
       "2 2018-01-01 10:24:05 -9219806034649301548           2  co_ba       co_un   \n",
       "3 2018-01-01 00:46:13 -9219806034649301548           2  co_un       co_ba   \n",
       "4 2018-01-01 16:09:44 -9216702922520912820           3  qu_ja       qu_un   \n",
       "\n",
       "  segment_start segment_end  start    end                         path  \n",
       "0         FB_YK       FR_UN  fb_yk  fr_un           ['fb_yk', 'fr_un']  \n",
       "1         FB_BA       FR_BA  fb_ba  fr_ba           ['fb_ba', 'fr_ba']  \n",
       "2         CO_BA       CO_UN  co_ba  co_un           ['co_ba', 'co_un']  \n",
       "3         CO_UN       CO_BA  co_un  co_ba           ['co_un', 'co_ba']  \n",
       "4         QU_YO       QU_UN  qu_ja  qu_un  ['qu_ja', 'qu_yo', 'qu_un']  "
      ]
     },
     "execution_count": 45,
     "metadata": {},
     "output_type": "execute_result"
    }
   ],
   "source": [
    "string = '''SELECT * FROM alouis2.perfectcombos \n",
    "            NATURAL JOIN others_pivot'''\n",
    "df = pandasql.read_sql(pg.SQL(string), con)\n",
    "df.head(5)"
   ]
  },
  {
   "cell_type": "markdown",
   "metadata": {},
   "source": [
    "Now what we wish to see is whether for every segment pair, does the segment_start and segment_end fall in our path list. We suspect that for path_totals of two, this is absolutely true. Let's verify this result:"
   ]
  },
  {
   "cell_type": "code",
   "execution_count": 46,
   "metadata": {},
   "outputs": [
    {
     "data": {
      "text/plain": [
       "7.118385991625428"
      ]
     },
     "execution_count": 46,
     "metadata": {},
     "output_type": "execute_result"
    }
   ],
   "source": [
    "string = '''SELECT datetime_bin, userid, path_total, origin, destination, \n",
    "            segment_start, segment_end, path FROM \n",
    "            (SELECT * FROM perfectcombos\n",
    "            NATURAL JOIN others_pivot \n",
    "            WHERE path_total = 2) f'''\n",
    "twoonly = pandasql.read_sql(pg.SQL(string), con)\n",
    "\n",
    "def find_2(df):\n",
    "    l = []\n",
    "    for i in range(len(df)): \n",
    "        if df['segment_start'].values[i].lower() not in df['path'].values[i] or df['segment_end'].values[i].lower() not in df['path'].values[i]:\n",
    "            l.append(df.loc[i,])\n",
    "    return l\n",
    "    \n",
    "len(find_2(twoonly))/len(twoonly) * 100 "
   ]
  },
  {
   "cell_type": "markdown",
   "metadata": {},
   "source": [
    "Not what we were expecting. For path totals of 2, 7.12% of the segments do not match. We will put the list generated by `find(df)` in to a dataframe to analyze later. "
   ]
  },
  {
   "cell_type": "code",
   "execution_count": 47,
   "metadata": {},
   "outputs": [
    {
     "data": {
      "text/html": [
       "<div>\n",
       "<style>\n",
       "    .dataframe thead tr:only-child th {\n",
       "        text-align: right;\n",
       "    }\n",
       "\n",
       "    .dataframe thead th {\n",
       "        text-align: left;\n",
       "    }\n",
       "\n",
       "    .dataframe tbody tr th {\n",
       "        vertical-align: top;\n",
       "    }\n",
       "</style>\n",
       "<table border=\"1\" class=\"dataframe\">\n",
       "  <thead>\n",
       "    <tr style=\"text-align: right;\">\n",
       "      <th></th>\n",
       "      <th>datetime_bin</th>\n",
       "      <th>userid</th>\n",
       "      <th>path_total</th>\n",
       "      <th>origin</th>\n",
       "      <th>destination</th>\n",
       "      <th>segment_start</th>\n",
       "      <th>segment_end</th>\n",
       "      <th>path</th>\n",
       "    </tr>\n",
       "  </thead>\n",
       "  <tbody>\n",
       "    <tr>\n",
       "      <th>0</th>\n",
       "      <td>2018-01-01 19:40:30</td>\n",
       "      <td>-9120335971942659923</td>\n",
       "      <td>2</td>\n",
       "      <td>fb_sp</td>\n",
       "      <td>fb_sp</td>\n",
       "      <td>FB_SP</td>\n",
       "      <td>FB_YK</td>\n",
       "      <td>['fb_sp', 'fb_sp']</td>\n",
       "    </tr>\n",
       "    <tr>\n",
       "      <th>1</th>\n",
       "      <td>2018-01-01 11:29:45</td>\n",
       "      <td>-9118201504088476968</td>\n",
       "      <td>2</td>\n",
       "      <td>fr_un</td>\n",
       "      <td>fb_sp</td>\n",
       "      <td>FR_YO</td>\n",
       "      <td>FR_UN</td>\n",
       "      <td>['fr_un', 'fb_sp']</td>\n",
       "    </tr>\n",
       "    <tr>\n",
       "      <th>2</th>\n",
       "      <td>2018-01-01 19:38:02</td>\n",
       "      <td>-8971740012410652059</td>\n",
       "      <td>2</td>\n",
       "      <td>qu_pa</td>\n",
       "      <td>qu_pa</td>\n",
       "      <td>QU_BV</td>\n",
       "      <td>QU_PA</td>\n",
       "      <td>['qu_pa', 'qu_pa']</td>\n",
       "    </tr>\n",
       "  </tbody>\n",
       "</table>\n",
       "</div>"
      ],
      "text/plain": [
       "         datetime_bin               userid  path_total origin destination  \\\n",
       "0 2018-01-01 19:40:30 -9120335971942659923           2  fb_sp       fb_sp   \n",
       "1 2018-01-01 11:29:45 -9118201504088476968           2  fr_un       fb_sp   \n",
       "2 2018-01-01 19:38:02 -8971740012410652059           2  qu_pa       qu_pa   \n",
       "\n",
       "  segment_start segment_end                path  \n",
       "0         FB_SP       FB_YK  ['fb_sp', 'fb_sp']  \n",
       "1         FR_YO       FR_UN  ['fr_un', 'fb_sp']  \n",
       "2         QU_BV       QU_PA  ['qu_pa', 'qu_pa']  "
      ]
     },
     "execution_count": 47,
     "metadata": {},
     "output_type": "execute_result"
    }
   ],
   "source": [
    "notmatching_2 = pd.DataFrame.from_records(find_2(twoonly), columns=('datetime_bin', 'userid', 'path_total', 'origin', 'destination', 'segment_start', 'segment_end', 'path'))\n",
    "notmatching_2.head(3)"
   ]
  },
  {
   "cell_type": "markdown",
   "metadata": {},
   "source": [
    "Given this discrepancy exists for path totals of 2, i.e. a car going from Point A to Point B, we now have some reason to believe that this discrepancy exists for more complex paths, and may even increase. We will make a function that finds the rows where not all segments fall in our path list. "
   ]
  },
  {
   "cell_type": "code",
   "execution_count": 48,
   "metadata": {
    "scrolled": true
   },
   "outputs": [
    {
     "data": {
      "text/plain": [
       "[datetime_bin                                   2018-01-01 10:51:16\n",
       " userid                                        -9191093230214430340\n",
       " path_total                                                       7\n",
       " origin                                                       co_ba\n",
       " destination                                                  we_bj\n",
       " segment_start                                                DU_DF\n",
       " segment_end                                                  DU_BA\n",
       " path             ['co_ba', 'du_ba', 'qu_ba', 'rm_ba', 'ad_ba', ...\n",
       " Name: 4, dtype: object,\n",
       " datetime_bin                                   2018-01-01 10:51:16\n",
       " userid                                        -9191093230214430340\n",
       " path_total                                                       7\n",
       " origin                                                       co_ba\n",
       " destination                                                  we_bj\n",
       " segment_start                                                QU_DF\n",
       " segment_end                                                  DU_DF\n",
       " path             ['co_ba', 'du_ba', 'qu_ba', 'rm_ba', 'ad_ba', ...\n",
       " Name: 7, dtype: object,\n",
       " datetime_bin                                   2018-01-01 10:51:16\n",
       " userid                                        -9191093230214430340\n",
       " path_total                                                       7\n",
       " origin                                                       co_ba\n",
       " destination                                                  we_bj\n",
       " segment_start                                                KN_DF\n",
       " segment_end                                                  QU_DF\n",
       " path             ['co_ba', 'du_ba', 'qu_ba', 'rm_ba', 'ad_ba', ...\n",
       " Name: 8, dtype: object]"
      ]
     },
     "execution_count": 48,
     "metadata": {},
     "output_type": "execute_result"
    }
   ],
   "source": [
    "string = '''SELECT datetime_bin, userid, path_total, origin, destination, \n",
    "            segment_start, segment_end, path FROM \n",
    "            (SELECT * FROM perfectcombos\n",
    "            NATURAL JOIN others_pivot \n",
    "            WHERE path_total != 2) f'''\n",
    "df = pandasql.read_sql(pg.SQL(string), con)\n",
    "def find(df): \n",
    "    l = []\n",
    "    i = 0 \n",
    "    while i < len(df)-1: \n",
    "        if df['datetime_bin'].values[i] == df['datetime_bin'].values[i+1]:\n",
    "            if df['segment_start'].values[i].lower() not in df['path'].values[i] or df['segment_end'].values[i].lower() not in df['path'].values[i]:\n",
    "                l.append(df.loc[i,])\n",
    "                i += 1\n",
    "            else:\n",
    "                i += 1\n",
    "        else:\n",
    "            i += 1\n",
    "    return l \n",
    "\n",
    "find(df)[0:3]"
   ]
  },
  {
   "cell_type": "markdown",
   "metadata": {},
   "source": [
    "We put this list into a dataframe called `notmatching`. This dataframe can be seen below: "
   ]
  },
  {
   "cell_type": "code",
   "execution_count": 49,
   "metadata": {
    "scrolled": true
   },
   "outputs": [
    {
     "data": {
      "text/html": [
       "<div>\n",
       "<style>\n",
       "    .dataframe thead tr:only-child th {\n",
       "        text-align: right;\n",
       "    }\n",
       "\n",
       "    .dataframe thead th {\n",
       "        text-align: left;\n",
       "    }\n",
       "\n",
       "    .dataframe tbody tr th {\n",
       "        vertical-align: top;\n",
       "    }\n",
       "</style>\n",
       "<table border=\"1\" class=\"dataframe\">\n",
       "  <thead>\n",
       "    <tr style=\"text-align: right;\">\n",
       "      <th></th>\n",
       "      <th>datetime_bin</th>\n",
       "      <th>userid</th>\n",
       "      <th>path_total</th>\n",
       "      <th>origin</th>\n",
       "      <th>destination</th>\n",
       "      <th>segment_start</th>\n",
       "      <th>segment_end</th>\n",
       "      <th>path</th>\n",
       "    </tr>\n",
       "  </thead>\n",
       "  <tbody>\n",
       "    <tr>\n",
       "      <th>0</th>\n",
       "      <td>2018-01-01 10:51:16</td>\n",
       "      <td>-9191093230214430340</td>\n",
       "      <td>7</td>\n",
       "      <td>co_ba</td>\n",
       "      <td>we_bj</td>\n",
       "      <td>DU_DF</td>\n",
       "      <td>DU_BA</td>\n",
       "      <td>['co_ba', 'du_ba', 'qu_ba', 'rm_ba', 'ad_ba', ...</td>\n",
       "    </tr>\n",
       "    <tr>\n",
       "      <th>1</th>\n",
       "      <td>2018-01-01 10:51:16</td>\n",
       "      <td>-9191093230214430340</td>\n",
       "      <td>7</td>\n",
       "      <td>co_ba</td>\n",
       "      <td>we_bj</td>\n",
       "      <td>QU_DF</td>\n",
       "      <td>DU_DF</td>\n",
       "      <td>['co_ba', 'du_ba', 'qu_ba', 'rm_ba', 'ad_ba', ...</td>\n",
       "    </tr>\n",
       "    <tr>\n",
       "      <th>2</th>\n",
       "      <td>2018-01-01 10:51:16</td>\n",
       "      <td>-9191093230214430340</td>\n",
       "      <td>7</td>\n",
       "      <td>co_ba</td>\n",
       "      <td>we_bj</td>\n",
       "      <td>KN_DF</td>\n",
       "      <td>QU_DF</td>\n",
       "      <td>['co_ba', 'du_ba', 'qu_ba', 'rm_ba', 'ad_ba', ...</td>\n",
       "    </tr>\n",
       "  </tbody>\n",
       "</table>\n",
       "</div>"
      ],
      "text/plain": [
       "         datetime_bin               userid  path_total origin destination  \\\n",
       "0 2018-01-01 10:51:16 -9191093230214430340           7  co_ba       we_bj   \n",
       "1 2018-01-01 10:51:16 -9191093230214430340           7  co_ba       we_bj   \n",
       "2 2018-01-01 10:51:16 -9191093230214430340           7  co_ba       we_bj   \n",
       "\n",
       "  segment_start segment_end                                               path  \n",
       "0         DU_DF       DU_BA  ['co_ba', 'du_ba', 'qu_ba', 'rm_ba', 'ad_ba', ...  \n",
       "1         QU_DF       DU_DF  ['co_ba', 'du_ba', 'qu_ba', 'rm_ba', 'ad_ba', ...  \n",
       "2         KN_DF       QU_DF  ['co_ba', 'du_ba', 'qu_ba', 'rm_ba', 'ad_ba', ...  "
      ]
     },
     "execution_count": 49,
     "metadata": {},
     "output_type": "execute_result"
    }
   ],
   "source": [
    "notmatching = pd.DataFrame.from_records(find(df), columns=('datetime_bin', 'userid', 'path_total', 'origin', 'destination', 'segment_start', 'segment_end', 'path'))\n",
    "notmatching.head(3)"
   ]
  },
  {
   "cell_type": "code",
   "execution_count": 50,
   "metadata": {},
   "outputs": [
    {
     "data": {
      "text/plain": [
       "11.900826446280991"
      ]
     },
     "execution_count": 50,
     "metadata": {},
     "output_type": "execute_result"
    }
   ],
   "source": [
    "string = '''SELECT distinct(datetime_bin, userid) FROM \n",
    "            (SELECT * FROM perfectcombos\n",
    "            NATURAL JOIN others_pivot\n",
    "            WHERE path_total != 2) f; '''\n",
    "df = pandasql.read_sql(pg.SQL(string), con)\n",
    "\n",
    "len(notmatching.groupby(['datetime_bin', 'userid']).count())/len(df) * 100\n"
   ]
  },
  {
   "cell_type": "markdown",
   "metadata": {},
   "source": [
    "So the percentage of non matching segments for path totals > 2 is **11.9%**. \n",
    "\n",
    "<br>\n",
    "We combine `nonmatching_2` with `nonmatching`, to get a complete dataframe containing all non matching paths and segments. First, we find a grand total percentage of non-matching segments.  We then put this dataframe into sql. "
   ]
  },
  {
   "cell_type": "code",
   "execution_count": 51,
   "metadata": {},
   "outputs": [
    {
     "data": {
      "text/html": [
       "<div>\n",
       "<style>\n",
       "    .dataframe thead tr:only-child th {\n",
       "        text-align: right;\n",
       "    }\n",
       "\n",
       "    .dataframe thead th {\n",
       "        text-align: left;\n",
       "    }\n",
       "\n",
       "    .dataframe tbody tr th {\n",
       "        vertical-align: top;\n",
       "    }\n",
       "</style>\n",
       "<table border=\"1\" class=\"dataframe\">\n",
       "  <thead>\n",
       "    <tr style=\"text-align: right;\">\n",
       "      <th></th>\n",
       "      <th>datetime_bin</th>\n",
       "      <th>userid</th>\n",
       "      <th>path_total</th>\n",
       "      <th>origin</th>\n",
       "      <th>destination</th>\n",
       "      <th>segment_start</th>\n",
       "      <th>segment_end</th>\n",
       "      <th>path</th>\n",
       "    </tr>\n",
       "  </thead>\n",
       "  <tbody>\n",
       "    <tr>\n",
       "      <th>0</th>\n",
       "      <td>2018-01-01 19:40:30</td>\n",
       "      <td>-9120335971942659923</td>\n",
       "      <td>2</td>\n",
       "      <td>fb_sp</td>\n",
       "      <td>fb_sp</td>\n",
       "      <td>FB_SP</td>\n",
       "      <td>FB_YK</td>\n",
       "      <td>['fb_sp', 'fb_sp']</td>\n",
       "    </tr>\n",
       "    <tr>\n",
       "      <th>1</th>\n",
       "      <td>2018-01-01 11:29:45</td>\n",
       "      <td>-9118201504088476968</td>\n",
       "      <td>2</td>\n",
       "      <td>fr_un</td>\n",
       "      <td>fb_sp</td>\n",
       "      <td>FR_YO</td>\n",
       "      <td>FR_UN</td>\n",
       "      <td>['fr_un', 'fb_sp']</td>\n",
       "    </tr>\n",
       "    <tr>\n",
       "      <th>2</th>\n",
       "      <td>2018-01-01 19:38:02</td>\n",
       "      <td>-8971740012410652059</td>\n",
       "      <td>2</td>\n",
       "      <td>qu_pa</td>\n",
       "      <td>qu_pa</td>\n",
       "      <td>QU_BV</td>\n",
       "      <td>QU_PA</td>\n",
       "      <td>['qu_pa', 'qu_pa']</td>\n",
       "    </tr>\n",
       "    <tr>\n",
       "      <th>3</th>\n",
       "      <td>2018-01-01 11:42:19</td>\n",
       "      <td>-8876820604301638763</td>\n",
       "      <td>2</td>\n",
       "      <td>fr_ja</td>\n",
       "      <td>fr_ja</td>\n",
       "      <td>FR_JA</td>\n",
       "      <td>KN_JA</td>\n",
       "      <td>['fr_ja', 'fr_ja']</td>\n",
       "    </tr>\n",
       "    <tr>\n",
       "      <th>4</th>\n",
       "      <td>2018-01-01 10:41:12</td>\n",
       "      <td>-8832865037004904890</td>\n",
       "      <td>2</td>\n",
       "      <td>fr_ba</td>\n",
       "      <td>co_ba</td>\n",
       "      <td>FR_SP</td>\n",
       "      <td>FR_BA</td>\n",
       "      <td>['fr_ba', 'co_ba']</td>\n",
       "    </tr>\n",
       "  </tbody>\n",
       "</table>\n",
       "</div>"
      ],
      "text/plain": [
       "         datetime_bin               userid  path_total origin destination  \\\n",
       "0 2018-01-01 19:40:30 -9120335971942659923           2  fb_sp       fb_sp   \n",
       "1 2018-01-01 11:29:45 -9118201504088476968           2  fr_un       fb_sp   \n",
       "2 2018-01-01 19:38:02 -8971740012410652059           2  qu_pa       qu_pa   \n",
       "3 2018-01-01 11:42:19 -8876820604301638763           2  fr_ja       fr_ja   \n",
       "4 2018-01-01 10:41:12 -8832865037004904890           2  fr_ba       co_ba   \n",
       "\n",
       "  segment_start segment_end                path  \n",
       "0         FB_SP       FB_YK  ['fb_sp', 'fb_sp']  \n",
       "1         FR_YO       FR_UN  ['fr_un', 'fb_sp']  \n",
       "2         QU_BV       QU_PA  ['qu_pa', 'qu_pa']  \n",
       "3         FR_JA       KN_JA  ['fr_ja', 'fr_ja']  \n",
       "4         FR_SP       FR_BA  ['fr_ba', 'co_ba']  "
      ]
     },
     "execution_count": 51,
     "metadata": {},
     "output_type": "execute_result"
    }
   ],
   "source": [
    "notmatching = notmatching_2.append(notmatching)\n",
    "notmatching.head(5)"
   ]
  },
  {
   "cell_type": "code",
   "execution_count": 52,
   "metadata": {},
   "outputs": [
    {
     "data": {
      "text/plain": [
       "8.639108221086856"
      ]
     },
     "execution_count": 52,
     "metadata": {},
     "output_type": "execute_result"
    }
   ],
   "source": [
    "string = '''SELECT distinct(datetime_bin, userid) FROM \n",
    "            (SELECT * FROM perfectcombos\n",
    "            NATURAL JOIN others_pivot) f; '''\n",
    "df = pandasql.read_sql(pg.SQL(string), con)\n",
    "len(notmatching.groupby(['datetime_bin', 'userid']))/len(df) * 100"
   ]
  },
  {
   "cell_type": "markdown",
   "metadata": {},
   "source": [
    "So the total percentage of segments that do not fall into corresponding paths is **8.64%.** "
   ]
  },
  {
   "cell_type": "code",
   "execution_count": 53,
   "metadata": {
    "collapsed": true
   },
   "outputs": [],
   "source": [
    "CONFIG.read(r'C:\\Users\\alouis2\\Documents\\Python Scripts\\engine.cfg')\n",
    "engine = create_engine(CONFIG['engine']['e'])\n",
    "conn=engine.raw_connection()\n",
    "cur = conn.cursor()\n",
    "output = io.StringIO()\n",
    "notmatching.to_csv(output, sep='\\t', header=False, index=False)\n",
    "output.seek(0)\n",
    "contents = output.getvalue()\n",
    "cur.copy_from(output, 'alouis2.nonmatching_segs', null=\"\") #null values become ''   \n",
    "conn.commit()"
   ]
  },
  {
   "cell_type": "markdown",
   "metadata": {},
   "source": [
    "We summarize our results with the following graph: "
   ]
  },
  {
   "cell_type": "code",
   "execution_count": 54,
   "metadata": {
    "scrolled": false
   },
   "outputs": [
    {
     "name": "stderr",
     "output_type": "stream",
     "text": [
      "C:\\Users\\alouis2\\AppData\\Local\\Continuum\\anaconda3\\lib\\site-packages\\IPython\\core\\interactiveshell.py:2862: FutureWarning: \n",
      "mpl_style had been deprecated and will be removed in a future version.\n",
      "Use `matplotlib.pyplot.style.use` instead.\n",
      "\n",
      "  exec(code_obj, self.user_global_ns, self.user_ns)\n"
     ]
    },
    {
     "data": {
      "image/png": "[encoded data removed]",
      "text/plain": [
       "<matplotlib.figure.Figure at 0xe19e908>"
      ]
     },
     "metadata": {},
     "output_type": "display_data"
    }
   ],
   "source": [
    "string = '''SELECT * FROM alouis2.perfectcombos \n",
    "            NATURAL JOIN others_pivot'''\n",
    "df = pandasql.read_sql(pg.SQL(string), con)\n",
    "\n",
    "x = [[2, len(notmatching.loc[notmatching['path_total'] == 2])/len(df.loc[df['path_total'] ==2])], \n",
    "     [3, len(notmatching.loc[notmatching['path_total'] == 3].groupby(['datetime_bin', 'userid']))/len(df.loc[df['path_total'] ==3].groupby(['datetime_bin', 'userid']))],\n",
    "     [4, len(notmatching.loc[notmatching['path_total'] == 4].groupby(['datetime_bin', 'userid']))/len(df.loc[df['path_total'] ==4].groupby(['datetime_bin', 'userid']))],\n",
    "     [5, len(notmatching.loc[notmatching['path_total'] == 5].groupby(['datetime_bin', 'userid']))/len(df.loc[df['path_total'] ==5].groupby(['datetime_bin', 'userid']))],\n",
    "     [6, len(notmatching.loc[notmatching['path_total'] == 6].groupby(['datetime_bin', 'userid']))/len(df.loc[df['path_total'] ==6].groupby(['datetime_bin', 'userid']))],\n",
    "     [7, len(notmatching.loc[notmatching['path_total'] == 7].groupby(['datetime_bin', 'userid']))/len(df.loc[df['path_total'] ==7].groupby(['datetime_bin', 'userid']))],\n",
    "     [8, len(notmatching.loc[notmatching['path_total'] == 8].groupby(['datetime_bin', 'userid']))/len(df.loc[df['path_total'] ==8].groupby(['datetime_bin', 'userid']))],\n",
    "     [9, len(notmatching.loc[notmatching['path_total'] == 9].groupby(['datetime_bin', 'userid']))/len(df.loc[df['path_total'] ==9].groupby(['datetime_bin', 'userid']))],\n",
    "     [10, len(notmatching.loc[notmatching['path_total'] == 10].groupby(['datetime_bin', 'userid']))/len(df.loc[df['path_total'] ==10].groupby(['datetime_bin', 'userid']))],\n",
    "     [11, len(notmatching.loc[notmatching['path_total'] == 11].groupby(['datetime_bin', 'userid']))/len(df.loc[df['path_total'] ==11].groupby(['datetime_bin', 'userid']))],\n",
    "     [12, len(notmatching.loc[notmatching['path_total'] > 11].groupby(['datetime_bin', 'userid']))/len(df.loc[df['path_total']  > 11].groupby(['datetime_bin', 'userid']))]]\n",
    "summary = pd.DataFrame(x, columns = ['Path Total', 'Non-Matching Segments %'])\n",
    "labels = list(summary['Path Total'])\n",
    "labels = [str(i) for i in labels]\n",
    "labels[8] = '10'\n",
    "labels[9] = '11'\n",
    "labels[10] = '>11'\n",
    "\n",
    "pd.options.display.mpl_style = 'default'\n",
    "plt.figure(figsize = (15,7))\n",
    "plt.bar((summary['Path Total']), summary['Non-Matching Segments %'], align='center', alpha=0.5)\n",
    "plt.xticks(list(summary['Path Total']), labels)\n",
    "plt.rc('ytick', labelsize=20) \n",
    "plt.title(\"Non-Matching Segments %\", fontsize = 22)\n",
    "plt.xlabel(\"Path Total\")\n",
    "plt.ylabel(\"Percentage of Non-Matching Segments\")\n",
    "plt.show()"
   ]
  },
  {
   "cell_type": "markdown",
   "metadata": {},
   "source": [
    "From the above, we see a pattern: as the path total increases (i.e. the path becomes more complex), the percentage of non-matching segments increases. \n",
    "\n",
    "<br>\n",
    "\n",
    "Below are a few examples of missing segments, in addition to corresponding timestamps for the time segments. "
   ]
  },
  {
   "cell_type": "markdown",
   "metadata": {},
   "source": [
    "### Example 1\n",
    "\n",
    "<br>\n",
    "In this example, we can see that for all `startpoint_name` and `endpoint_name` values fall into our path list except for one: `WE_YO`. "
   ]
  },
  {
   "cell_type": "code",
   "execution_count": 55,
   "metadata": {},
   "outputs": [
    {
     "name": "stdout",
     "output_type": "stream",
     "text": [
      "5 rows affected.\n"
     ]
    },
    {
     "data": {
      "text/html": [
       "<table>\n",
       "    <tr>\n",
       "        <th>userid</th>\n",
       "        <th>endtime</th>\n",
       "        <th>timestamp</th>\n",
       "        <th>origin</th>\n",
       "        <th>destination</th>\n",
       "        <th>startpoint_name</th>\n",
       "        <th>endpoint_name</th>\n",
       "        <th>path</th>\n",
       "        <th>path_total</th>\n",
       "    </tr>\n",
       "    <tr>\n",
       "        <td>-9158546835467209628</td>\n",
       "        <td>2018-01-01 23:21:59</td>\n",
       "        <td>2018-01-01 22:12:39</td>\n",
       "        <td>fb_sp</td>\n",
       "        <td>fb_yk</td>\n",
       "        <td>WE_YO</td>\n",
       "        <td>WE_UN</td>\n",
       "        <td>[&#x27;fb_sp&#x27;, &#x27;we_bj&#x27;, &#x27;kn_un&#x27;, &#x27;we_un&#x27;, &#x27;fr_un&#x27;, &#x27;fb_yk&#x27;]</td>\n",
       "        <td>6</td>\n",
       "    </tr>\n",
       "    <tr>\n",
       "        <td>-9158546835467209628</td>\n",
       "        <td>2018-01-01 23:21:59</td>\n",
       "        <td>2018-01-01 22:17:38</td>\n",
       "        <td>fb_sp</td>\n",
       "        <td>fb_yk</td>\n",
       "        <td>WE_UN</td>\n",
       "        <td>WE_BJ</td>\n",
       "        <td>[&#x27;fb_sp&#x27;, &#x27;we_bj&#x27;, &#x27;kn_un&#x27;, &#x27;we_un&#x27;, &#x27;fr_un&#x27;, &#x27;fb_yk&#x27;]</td>\n",
       "        <td>6</td>\n",
       "    </tr>\n",
       "    <tr>\n",
       "        <td>-9158546835467209628</td>\n",
       "        <td>2018-01-01 23:21:59</td>\n",
       "        <td>2018-01-01 23:21:12</td>\n",
       "        <td>fb_sp</td>\n",
       "        <td>fb_yk</td>\n",
       "        <td>KN_UN</td>\n",
       "        <td>FR_UN</td>\n",
       "        <td>[&#x27;fb_sp&#x27;, &#x27;we_bj&#x27;, &#x27;kn_un&#x27;, &#x27;we_un&#x27;, &#x27;fr_un&#x27;, &#x27;fb_yk&#x27;]</td>\n",
       "        <td>6</td>\n",
       "    </tr>\n",
       "    <tr>\n",
       "        <td>-9158546835467209628</td>\n",
       "        <td>2018-01-01 23:21:59</td>\n",
       "        <td>2018-01-01 23:21:59</td>\n",
       "        <td>fb_sp</td>\n",
       "        <td>fb_yk</td>\n",
       "        <td>FB_SP</td>\n",
       "        <td>FB_YK</td>\n",
       "        <td>[&#x27;fb_sp&#x27;, &#x27;we_bj&#x27;, &#x27;kn_un&#x27;, &#x27;we_un&#x27;, &#x27;fr_un&#x27;, &#x27;fb_yk&#x27;]</td>\n",
       "        <td>6</td>\n",
       "    </tr>\n",
       "    <tr>\n",
       "        <td>-9158546835467209628</td>\n",
       "        <td>2018-01-01 23:21:59</td>\n",
       "        <td>2018-01-01 23:21:59</td>\n",
       "        <td>fb_sp</td>\n",
       "        <td>fb_yk</td>\n",
       "        <td>FR_UN</td>\n",
       "        <td>FB_YK</td>\n",
       "        <td>[&#x27;fb_sp&#x27;, &#x27;we_bj&#x27;, &#x27;kn_un&#x27;, &#x27;we_un&#x27;, &#x27;fr_un&#x27;, &#x27;fb_yk&#x27;]</td>\n",
       "        <td>6</td>\n",
       "    </tr>\n",
       "</table>"
      ],
      "text/plain": [
       "[(-9158546835467209628, datetime.datetime(2018, 1, 1, 23, 21, 59), datetime.datetime(2018, 1, 1, 22, 12, 39), 'fb_sp', 'fb_yk', 'WE_YO', 'WE_UN', \"['fb_sp', 'we_bj', 'kn_un', 'we_un', 'fr_un', 'fb_yk']\", 6),\n",
       " (-9158546835467209628, datetime.datetime(2018, 1, 1, 23, 21, 59), datetime.datetime(2018, 1, 1, 22, 17, 38), 'fb_sp', 'fb_yk', 'WE_UN', 'WE_BJ', \"['fb_sp', 'we_bj', 'kn_un', 'we_un', 'fr_un', 'fb_yk']\", 6),\n",
       " (-9158546835467209628, datetime.datetime(2018, 1, 1, 23, 21, 59), datetime.datetime(2018, 1, 1, 23, 21, 12), 'fb_sp', 'fb_yk', 'KN_UN', 'FR_UN', \"['fb_sp', 'we_bj', 'kn_un', 'we_un', 'fr_un', 'fb_yk']\", 6),\n",
       " (-9158546835467209628, datetime.datetime(2018, 1, 1, 23, 21, 59), datetime.datetime(2018, 1, 1, 23, 21, 59), 'fb_sp', 'fb_yk', 'FB_SP', 'FB_YK', \"['fb_sp', 'we_bj', 'kn_un', 'we_un', 'fr_un', 'fb_yk']\", 6),\n",
       " (-9158546835467209628, datetime.datetime(2018, 1, 1, 23, 21, 59), datetime.datetime(2018, 1, 1, 23, 21, 59), 'fb_sp', 'fb_yk', 'FR_UN', 'FB_YK', \"['fb_sp', 'we_bj', 'kn_un', 'we_un', 'fr_un', 'fb_yk']\", 6)]"
      ]
     },
     "execution_count": 55,
     "metadata": {},
     "output_type": "execute_result"
    }
   ],
   "source": [
    "%%sql \n",
    "\n",
    "with example as (select * from perfectcombos \n",
    "natural join others_pivot\n",
    "where path_total = 6\n",
    "and userid = -9158546835467209628)\n",
    "\n",
    "select segs.userid, example.datetime_bin as endtime,  segs.datetime_bin as timestamp, example.origin, example.destination,  segs.startpoint_name, segs.endpoint_name, example.path, example.path_total  from segs\n",
    "inner join example on example.userid = segs.userid and example.segment_start = segs.startpoint_name and example.segment_end = segs.endpoint_name\n",
    "where segs.userid = -9158546835467209628\n",
    "order by segs.datetime_bin; "
   ]
  },
  {
   "cell_type": "markdown",
   "metadata": {},
   "source": [
    "### Example 2\n",
    "\n",
    "<br>\n",
    "Here are a few paths of path totals of 2. For the first path, `FR_SP` is missing, and for the second path `FR_YO` is missing. "
   ]
  },
  {
   "cell_type": "code",
   "execution_count": 15,
   "metadata": {},
   "outputs": [
    {
     "name": "stdout",
     "output_type": "stream",
     "text": [
      "2 rows affected.\n"
     ]
    },
    {
     "data": {
      "text/html": [
       "<table>\n",
       "    <tr>\n",
       "        <th>userid</th>\n",
       "        <th>endtime</th>\n",
       "        <th>timestamp</th>\n",
       "        <th>origin</th>\n",
       "        <th>destination</th>\n",
       "        <th>startpoint_name</th>\n",
       "        <th>endpoint_name</th>\n",
       "        <th>path</th>\n",
       "        <th>path_total</th>\n",
       "    </tr>\n",
       "    <tr>\n",
       "        <td>-8832865037004904890</td>\n",
       "        <td>2018-01-01 10:41:12</td>\n",
       "        <td>2018-01-01 10:38:15</td>\n",
       "        <td>fr_ba</td>\n",
       "        <td>co_ba</td>\n",
       "        <td>FR_SP</td>\n",
       "        <td>FR_BA</td>\n",
       "        <td>[&#x27;fr_ba&#x27;, &#x27;co_ba&#x27;]</td>\n",
       "        <td>2</td>\n",
       "    </tr>\n",
       "    <tr>\n",
       "        <td>-9118201504088476968</td>\n",
       "        <td>2018-01-01 11:29:45</td>\n",
       "        <td>2018-01-01 11:26:07</td>\n",
       "        <td>fr_un</td>\n",
       "        <td>fb_sp</td>\n",
       "        <td>FR_YO</td>\n",
       "        <td>FR_UN</td>\n",
       "        <td>[&#x27;fr_un&#x27;, &#x27;fb_sp&#x27;]</td>\n",
       "        <td>2</td>\n",
       "    </tr>\n",
       "</table>"
      ],
      "text/plain": [
       "[(-8832865037004904890, datetime.datetime(2018, 1, 1, 10, 41, 12), datetime.datetime(2018, 1, 1, 10, 38, 15), 'fr_ba', 'co_ba', 'FR_SP', 'FR_BA', \"['fr_ba', 'co_ba']\", 2),\n",
       " (-9118201504088476968, datetime.datetime(2018, 1, 1, 11, 29, 45), datetime.datetime(2018, 1, 1, 11, 26, 7), 'fr_un', 'fb_sp', 'FR_YO', 'FR_UN', \"['fr_un', 'fb_sp']\", 2)]"
      ]
     },
     "execution_count": 15,
     "metadata": {},
     "output_type": "execute_result"
    }
   ],
   "source": [
    "%%sql \n",
    "\n",
    "with example as (select * from perfectcombos \n",
    "natural join others_pivot\n",
    "where path_total = 2\n",
    "and userid in (-9118201504088476968,-8832865037004904890)\n",
    ")\n",
    "\n",
    "select segs.userid,example.datetime_bin as endtime,  segs.datetime_bin as timestamp, example.origin, example.destination,  segs.startpoint_name, segs.endpoint_name, example.path, example.path_total  from segs\n",
    "inner join example on example.userid = segs.userid and example.segment_start = segs.startpoint_name and example.segment_end = segs.endpoint_name\n",
    "where segs.userid in (-9118201504088476968,-8832865037004904890)\n",
    "order by segs.datetime_bin; \n"
   ]
  },
  {
   "cell_type": "markdown",
   "metadata": {},
   "source": [
    "### Example 3\n",
    "\n",
    "<br>\n",
    "Below is a more complex path. `CO_PA`, `CO_UN`, `CO_BA` do not fall into the path list. "
   ]
  },
  {
   "cell_type": "code",
   "execution_count": 14,
   "metadata": {
    "scrolled": true
   },
   "outputs": [
    {
     "name": "stdout",
     "output_type": "stream",
     "text": [
      "9 rows affected.\n"
     ]
    },
    {
     "data": {
      "text/html": [
       "<table>\n",
       "    <tr>\n",
       "        <th>userid</th>\n",
       "        <th>endtime</th>\n",
       "        <th>timestamp</th>\n",
       "        <th>origin</th>\n",
       "        <th>destination</th>\n",
       "        <th>startpoint_name</th>\n",
       "        <th>endpoint_name</th>\n",
       "        <th>path</th>\n",
       "        <th>path_total</th>\n",
       "    </tr>\n",
       "    <tr>\n",
       "        <td>-8980809001129171111</td>\n",
       "        <td>2018-01-01 01:28:40</td>\n",
       "        <td>2018-01-01 00:11:00</td>\n",
       "        <td>du_un</td>\n",
       "        <td>rm_sp</td>\n",
       "        <td>CO_PA</td>\n",
       "        <td>CO_UN</td>\n",
       "        <td>[&#x27;du_un&#x27;, &#x27;qu_un&#x27;, &#x27;rm_un&#x27;, &#x27;fb_sp&#x27;, &#x27;fb_ba&#x27;, &#x27;fr_ba&#x27;, &#x27;qu_ba&#x27;, &#x27;ad_sp&#x27;, &#x27;qu_sp&#x27;, &#x27;rm_sp&#x27;]</td>\n",
       "        <td>10</td>\n",
       "    </tr>\n",
       "    <tr>\n",
       "        <td>-8980809001129171111</td>\n",
       "        <td>2018-01-01 01:28:40</td>\n",
       "        <td>2018-01-01 00:16:22</td>\n",
       "        <td>du_un</td>\n",
       "        <td>rm_sp</td>\n",
       "        <td>CO_UN</td>\n",
       "        <td>CO_BA</td>\n",
       "        <td>[&#x27;du_un&#x27;, &#x27;qu_un&#x27;, &#x27;rm_un&#x27;, &#x27;fb_sp&#x27;, &#x27;fb_ba&#x27;, &#x27;fr_ba&#x27;, &#x27;qu_ba&#x27;, &#x27;ad_sp&#x27;, &#x27;qu_sp&#x27;, &#x27;rm_sp&#x27;]</td>\n",
       "        <td>10</td>\n",
       "    </tr>\n",
       "    <tr>\n",
       "        <td>-8980809001129171111</td>\n",
       "        <td>2018-01-01 01:28:40</td>\n",
       "        <td>2018-01-01 00:59:34</td>\n",
       "        <td>du_un</td>\n",
       "        <td>rm_sp</td>\n",
       "        <td>CO_UN</td>\n",
       "        <td>DU_UN</td>\n",
       "        <td>[&#x27;du_un&#x27;, &#x27;qu_un&#x27;, &#x27;rm_un&#x27;, &#x27;fb_sp&#x27;, &#x27;fb_ba&#x27;, &#x27;fr_ba&#x27;, &#x27;qu_ba&#x27;, &#x27;ad_sp&#x27;, &#x27;qu_sp&#x27;, &#x27;rm_sp&#x27;]</td>\n",
       "        <td>10</td>\n",
       "    </tr>\n",
       "    <tr>\n",
       "        <td>-8980809001129171111</td>\n",
       "        <td>2018-01-01 01:28:40</td>\n",
       "        <td>2018-01-01 01:00:49</td>\n",
       "        <td>du_un</td>\n",
       "        <td>rm_sp</td>\n",
       "        <td>DU_UN</td>\n",
       "        <td>QU_UN</td>\n",
       "        <td>[&#x27;du_un&#x27;, &#x27;qu_un&#x27;, &#x27;rm_un&#x27;, &#x27;fb_sp&#x27;, &#x27;fb_ba&#x27;, &#x27;fr_ba&#x27;, &#x27;qu_ba&#x27;, &#x27;ad_sp&#x27;, &#x27;qu_sp&#x27;, &#x27;rm_sp&#x27;]</td>\n",
       "        <td>10</td>\n",
       "    </tr>\n",
       "    <tr>\n",
       "        <td>-8980809001129171111</td>\n",
       "        <td>2018-01-01 01:28:40</td>\n",
       "        <td>2018-01-01 01:06:47</td>\n",
       "        <td>du_un</td>\n",
       "        <td>rm_sp</td>\n",
       "        <td>QU_UN</td>\n",
       "        <td>QU_SP</td>\n",
       "        <td>[&#x27;du_un&#x27;, &#x27;qu_un&#x27;, &#x27;rm_un&#x27;, &#x27;fb_sp&#x27;, &#x27;fb_ba&#x27;, &#x27;fr_ba&#x27;, &#x27;qu_ba&#x27;, &#x27;ad_sp&#x27;, &#x27;qu_sp&#x27;, &#x27;rm_sp&#x27;]</td>\n",
       "        <td>10</td>\n",
       "    </tr>\n",
       "    <tr>\n",
       "        <td>-8980809001129171111</td>\n",
       "        <td>2018-01-01 01:28:40</td>\n",
       "        <td>2018-01-01 01:09:46</td>\n",
       "        <td>du_un</td>\n",
       "        <td>rm_sp</td>\n",
       "        <td>QU_SP</td>\n",
       "        <td>QU_BA</td>\n",
       "        <td>[&#x27;du_un&#x27;, &#x27;qu_un&#x27;, &#x27;rm_un&#x27;, &#x27;fb_sp&#x27;, &#x27;fb_ba&#x27;, &#x27;fr_ba&#x27;, &#x27;qu_ba&#x27;, &#x27;ad_sp&#x27;, &#x27;qu_sp&#x27;, &#x27;rm_sp&#x27;]</td>\n",
       "        <td>10</td>\n",
       "    </tr>\n",
       "    <tr>\n",
       "        <td>-8980809001129171111</td>\n",
       "        <td>2018-01-01 01:28:40</td>\n",
       "        <td>2018-01-01 01:16:38</td>\n",
       "        <td>du_un</td>\n",
       "        <td>rm_sp</td>\n",
       "        <td>FR_BA</td>\n",
       "        <td>FB_BA</td>\n",
       "        <td>[&#x27;du_un&#x27;, &#x27;qu_un&#x27;, &#x27;rm_un&#x27;, &#x27;fb_sp&#x27;, &#x27;fb_ba&#x27;, &#x27;fr_ba&#x27;, &#x27;qu_ba&#x27;, &#x27;ad_sp&#x27;, &#x27;qu_sp&#x27;, &#x27;rm_sp&#x27;]</td>\n",
       "        <td>10</td>\n",
       "    </tr>\n",
       "    <tr>\n",
       "        <td>-8980809001129171111</td>\n",
       "        <td>2018-01-01 01:28:40</td>\n",
       "        <td>2018-01-01 01:25:56</td>\n",
       "        <td>du_un</td>\n",
       "        <td>rm_sp</td>\n",
       "        <td>FB_BA</td>\n",
       "        <td>FB_SP</td>\n",
       "        <td>[&#x27;du_un&#x27;, &#x27;qu_un&#x27;, &#x27;rm_un&#x27;, &#x27;fb_sp&#x27;, &#x27;fb_ba&#x27;, &#x27;fr_ba&#x27;, &#x27;qu_ba&#x27;, &#x27;ad_sp&#x27;, &#x27;qu_sp&#x27;, &#x27;rm_sp&#x27;]</td>\n",
       "        <td>10</td>\n",
       "    </tr>\n",
       "    <tr>\n",
       "        <td>-8980809001129171111</td>\n",
       "        <td>2018-01-01 01:28:40</td>\n",
       "        <td>2018-01-01 01:28:40</td>\n",
       "        <td>du_un</td>\n",
       "        <td>rm_sp</td>\n",
       "        <td>RM_UN</td>\n",
       "        <td>RM_SP</td>\n",
       "        <td>[&#x27;du_un&#x27;, &#x27;qu_un&#x27;, &#x27;rm_un&#x27;, &#x27;fb_sp&#x27;, &#x27;fb_ba&#x27;, &#x27;fr_ba&#x27;, &#x27;qu_ba&#x27;, &#x27;ad_sp&#x27;, &#x27;qu_sp&#x27;, &#x27;rm_sp&#x27;]</td>\n",
       "        <td>10</td>\n",
       "    </tr>\n",
       "</table>"
      ],
      "text/plain": [
       "[(-8980809001129171111, datetime.datetime(2018, 1, 1, 1, 28, 40), datetime.datetime(2018, 1, 1, 0, 11), 'du_un', 'rm_sp', 'CO_PA', 'CO_UN', \"['du_un', 'qu_un', 'rm_un', 'fb_sp', 'fb_ba', 'fr_ba', 'qu_ba', 'ad_sp', 'qu_sp', 'rm_sp']\", 10),\n",
       " (-8980809001129171111, datetime.datetime(2018, 1, 1, 1, 28, 40), datetime.datetime(2018, 1, 1, 0, 16, 22), 'du_un', 'rm_sp', 'CO_UN', 'CO_BA', \"['du_un', 'qu_un', 'rm_un', 'fb_sp', 'fb_ba', 'fr_ba', 'qu_ba', 'ad_sp', 'qu_sp', 'rm_sp']\", 10),\n",
       " (-8980809001129171111, datetime.datetime(2018, 1, 1, 1, 28, 40), datetime.datetime(2018, 1, 1, 0, 59, 34), 'du_un', 'rm_sp', 'CO_UN', 'DU_UN', \"['du_un', 'qu_un', 'rm_un', 'fb_sp', 'fb_ba', 'fr_ba', 'qu_ba', 'ad_sp', 'qu_sp', 'rm_sp']\", 10),\n",
       " (-8980809001129171111, datetime.datetime(2018, 1, 1, 1, 28, 40), datetime.datetime(2018, 1, 1, 1, 0, 49), 'du_un', 'rm_sp', 'DU_UN', 'QU_UN', \"['du_un', 'qu_un', 'rm_un', 'fb_sp', 'fb_ba', 'fr_ba', 'qu_ba', 'ad_sp', 'qu_sp', 'rm_sp']\", 10),\n",
       " (-8980809001129171111, datetime.datetime(2018, 1, 1, 1, 28, 40), datetime.datetime(2018, 1, 1, 1, 6, 47), 'du_un', 'rm_sp', 'QU_UN', 'QU_SP', \"['du_un', 'qu_un', 'rm_un', 'fb_sp', 'fb_ba', 'fr_ba', 'qu_ba', 'ad_sp', 'qu_sp', 'rm_sp']\", 10),\n",
       " (-8980809001129171111, datetime.datetime(2018, 1, 1, 1, 28, 40), datetime.datetime(2018, 1, 1, 1, 9, 46), 'du_un', 'rm_sp', 'QU_SP', 'QU_BA', \"['du_un', 'qu_un', 'rm_un', 'fb_sp', 'fb_ba', 'fr_ba', 'qu_ba', 'ad_sp', 'qu_sp', 'rm_sp']\", 10),\n",
       " (-8980809001129171111, datetime.datetime(2018, 1, 1, 1, 28, 40), datetime.datetime(2018, 1, 1, 1, 16, 38), 'du_un', 'rm_sp', 'FR_BA', 'FB_BA', \"['du_un', 'qu_un', 'rm_un', 'fb_sp', 'fb_ba', 'fr_ba', 'qu_ba', 'ad_sp', 'qu_sp', 'rm_sp']\", 10),\n",
       " (-8980809001129171111, datetime.datetime(2018, 1, 1, 1, 28, 40), datetime.datetime(2018, 1, 1, 1, 25, 56), 'du_un', 'rm_sp', 'FB_BA', 'FB_SP', \"['du_un', 'qu_un', 'rm_un', 'fb_sp', 'fb_ba', 'fr_ba', 'qu_ba', 'ad_sp', 'qu_sp', 'rm_sp']\", 10),\n",
       " (-8980809001129171111, datetime.datetime(2018, 1, 1, 1, 28, 40), datetime.datetime(2018, 1, 1, 1, 28, 40), 'du_un', 'rm_sp', 'RM_UN', 'RM_SP', \"['du_un', 'qu_un', 'rm_un', 'fb_sp', 'fb_ba', 'fr_ba', 'qu_ba', 'ad_sp', 'qu_sp', 'rm_sp']\", 10)]"
      ]
     },
     "execution_count": 14,
     "metadata": {},
     "output_type": "execute_result"
    }
   ],
   "source": [
    "%%sql\n",
    "\n",
    "with example as (select * from perfectcombos \n",
    "natural join others_pivot\n",
    "\n",
    "where userid = -8980809001129171111)\n",
    "\n",
    "select segs.userid, example.datetime_bin as endtime, segs.datetime_bin as timestamp,  example.origin, example.destination,  segs.startpoint_name, segs.endpoint_name, example.path, example.path_total  from segs\n",
    "inner join example on example.userid = segs.userid and example.segment_start = segs.startpoint_name and example.segment_end = segs.endpoint_name\n",
    "where segs.userid = -8980809001129171111\n",
    "order by segs.datetime_bin"
   ]
  },
  {
   "cell_type": "markdown",
   "metadata": {},
   "source": [
    "## ***High Level Summary of Matching Segment Discrepancies***\n",
    "\n",
    "<br>\n",
    "Here is a brief summary for what was found with respect to matching segments, i.e. segments who appear to correspond with a particular path, but the segments **may not** fall in the path list. \n",
    "\n",
    "<br>\n",
    "* **7.11%** of segments don't match with their corresponding paths\n",
    "\n",
    "<br>\n",
    "* **8.64%** of segments don't match with their corresponding paths with path total = 2\n",
    "\n",
    "<br>\n",
    "* **11.9%** of segments don't match with their corresponding paths with path total > 2\n",
    "\n",
    "<br>\n",
    "* As path total increases, the percentage of segments that do not match with their corresponding paths increases as well. "
   ]
  },
  {
   "cell_type": "markdown",
   "metadata": {
    "collapsed": true
   },
   "source": [
    "# Investigating Non-Matches \n",
    "***\n",
    "Previously, we estimated that 35% of OD data can be represented by segment data (excluding the discrepancies found above). We now wish to investigate the other 65%. "
   ]
  }
 ],
 "metadata": {
  "kernelspec": {
   "display_name": "Python 3",
   "language": "python",
   "name": "python3"
  },
  "language_info": {
   "codemirror_mode": {
    "name": "ipython",
    "version": 3
   },
   "file_extension": ".py",
   "mimetype": "text/x-python",
   "name": "python",
   "nbconvert_exporter": "python",
   "pygments_lexer": "ipython3",
   "version": "3.6.3"
  }
 },
 "nbformat": 4,
 "nbformat_minor": 2
}
